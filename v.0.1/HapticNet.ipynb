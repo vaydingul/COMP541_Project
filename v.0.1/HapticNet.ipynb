{
 "cells": [
  {
   "cell_type": "code",
   "execution_count": 1,
   "metadata": {},
   "outputs": [],
   "source": [
    "include(\"../src/modules/TUM69.jl\")\n",
    "include(\"../src/modules/Preprocess.jl\")\n",
    "include(\"../src/modules/Network.jl\")\n",
    "include(\"../src/modules/Utils.jl\")\n",
    "\n",
    "## Third party packages\n",
    "using PyPlot: plot, specgram, subplot, xlabel, ylabel, title, legend\n",
    "using Images\n",
    "using ImageView: imshow\n",
    "using Knet: minibatch\n",
    "\n",
    "## Handwritten modules\n",
    "using .TUM69: load_accel_data, load_image_data   # Data reading\n",
    "using .Preprocess: process_accel_signal, process_image # Preprocessing on the data\n",
    "using .Network: Conv, Dense, VisualNet, train!, accuracy # Construction of custom network\n",
    "using .Utils: plot_spectrogram, extract_PCA"
   ]
  },
  {
   "cell_type": "code",
   "execution_count": 2,
   "metadata": {},
   "outputs": [
    {
     "data": {
      "text/plain": [
       "\"./../data/new\""
      ]
     },
     "execution_count": 2,
     "metadata": {},
     "output_type": "execute_result"
    }
   ],
   "source": [
    "DATA_PATH = \"./../data/new\" "
   ]
  },
  {
   "cell_type": "code",
   "execution_count": 3,
   "metadata": {},
   "outputs": [
    {
     "name": "stdout",
     "output_type": "stream",
     "text": [
      "Train accel data is being loaded!\n",
      "Test accel data is being loaded!\n"
     ]
    }
   ],
   "source": [
    "X_accel_train, y_accel_train,\n",
    "X_accel_test, y_accel_test, \n",
    "material_dict = load_accel_data(DATA_PATH; mode = \"normal\"); "
   ]
  },
  {
   "cell_type": "code",
   "execution_count": 4,
   "metadata": {},
   "outputs": [
    {
     "name": "stdout",
     "output_type": "stream",
     "text": [
      "X_accel_train = 690-element Array{Array{Float32,1},1}\n",
      "y_accel_train = 690-element Array{Int8,1}\n",
      "X_accel_test  = 690-element Array{Array{Float32,1},1}\n",
      "y_accel_test  = 690-element Array{Int8,1}\n",
      "material_dict = Dict{String,Int8} with 69 entries\n"
     ]
    }
   ],
   "source": [
    "println(\"X_accel_train = \", summary(X_accel_train))\n",
    "println(\"y_accel_train = \", summary(y_accel_train))\n",
    "println(\"X_accel_test  = \", summary(X_accel_test))\n",
    "println(\"y_accel_test  = \", summary(y_accel_test))\n",
    "println(\"material_dict = \", summary(material_dict))"
   ]
  },
  {
   "cell_type": "code",
   "execution_count": 5,
   "metadata": {
    "scrolled": true
   },
   "outputs": [
    {
     "name": "stdout",
     "output_type": "stream",
     "text": [
      " 30.480571 seconds (6.88 M allocations: 6.301 GiB, 3.08% gc time)\n",
      " 21.575204 seconds (310.56 k allocations: 3.917 GiB, 3.66% gc time)\n"
     ]
    }
   ],
   "source": [
    "@time X_accel_train_modified, y_accel_train_modified = process_accel_signal(X_accel_train, y_accel_train);\n",
    "@time X_accel_test_modified, y_accel_test_modified = process_accel_signal(X_accel_test, y_accel_test);"
   ]
  },
  {
   "cell_type": "code",
   "execution_count": 6,
   "metadata": {},
   "outputs": [
    {
     "name": "stdout",
     "output_type": "stream",
     "text": [
      "X_accel_train = 50×300×1×4494 Array{Float32,4}\n",
      "y_accel_train = 4494-element Array{Int8,1}\n",
      "X_accel_test  = 50×300×1×2325 Array{Float32,4}\n",
      "y_accel_test  = 2325-element Array{Int8,1}\n",
      "material_dict = Dict{String,Int8} with 69 entries\n"
     ]
    }
   ],
   "source": [
    "println(\"X_accel_train = \", summary(X_accel_train_modified))\n",
    "println(\"y_accel_train = \", summary(y_accel_train_modified))\n",
    "println(\"X_accel_test  = \", summary(X_accel_test_modified))\n",
    "println(\"y_accel_test  = \", summary(y_accel_test_modified))\n",
    "println(\"material_dict = \", summary(material_dict))"
   ]
  }
 ],
 "metadata": {
  "@webio": {
   "lastCommId": null,
   "lastKernelId": null
  },
  "kernelspec": {
   "display_name": "Julia 1.5.2",
   "language": "julia",
   "name": "julia-1.5"
  },
  "language_info": {
   "file_extension": ".jl",
   "mimetype": "application/julia",
   "name": "julia",
   "version": "1.5.2"
  }
 },
 "nbformat": 4,
 "nbformat_minor": 4
}
