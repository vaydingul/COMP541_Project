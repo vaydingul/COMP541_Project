{
 "cells": [
  {
   "cell_type": "code",
   "execution_count": null,
   "metadata": {
    "scrolled": true
   },
   "outputs": [],
   "source": [
    "using Pkg; \n",
    "packages = [\"Knet\", \"AutoGrad\", \"Random\", \"Test\", \"MLDatasets\", \"CUDA\", \"Plots\", \"GR\",\"Statistics\",\n",
    "            \"IterTools\", \"StatsBase\", \"DSP\", \"Images\", \"DelimitedFiles\", \"MultivariateStats\", \"PyPlot\", \"PyCall\"];\n",
    "Pkg.add(packages);"
   ]
  },
  {
   "cell_type": "code",
   "execution_count": 1,
   "metadata": {},
   "outputs": [],
   "source": [
    "include(\"../src/modules/TUM69.jl\")\n",
    "include(\"../src/modules/Preprocess.jl\")\n",
    "include(\"../src/modules/Network.jl\")\n",
    "include(\"../src/modules/Utils.jl\")\n",
    "\n",
    "## Third party packages\n",
    "using Knet: KnetArray, adam, relu, minibatch\n",
    "using CUDA: CuArray\n",
    "import CUDA\n",
    "using AutoGrad\n",
    "\n",
    "## Handwritten modules\n",
    "using .TUM69: load_accel_data   # Data reading\n",
    "using .Preprocess: process_accel_signal # Preprocessing on the data\n",
    "using .Network: GeneriCONV, train_summarize!, accuracy4 # Construction of custom network\n",
    "using .Utils: notify"
   ]
  },
  {
   "cell_type": "code",
   "execution_count": 2,
   "metadata": {},
   "outputs": [
    {
     "data": {
      "text/plain": [
       "default_gc (generic function with 1 method)"
      ]
     },
     "execution_count": 2,
     "metadata": {},
     "output_type": "execute_result"
    }
   ],
   "source": [
    "AutoGrad.set_gc_function(AutoGrad.default_gc)"
   ]
  },
  {
   "cell_type": "code",
   "execution_count": 3,
   "metadata": {},
   "outputs": [],
   "source": [
    "# Trick from Deniz Hoca to deal with this issue: https://github.com/denizyuret/Knet.jl/issues/524\n",
    "#=\n",
    "using Knet\n",
    "function Knet.KnetArray(x::CuArray{T,N}) where {T,N}\n",
    "    p = Base.bitcast(Knet.Cptr, pointer(x))\n",
    "    k = Knet.KnetPtr(p, sizeof(x), Int(CUDA.device().handle), x)\n",
    "    KnetArray{T,N}(k, size(x))\n",
    "end\n",
    "=#"
   ]
  },
  {
   "cell_type": "code",
   "execution_count": 4,
   "metadata": {},
   "outputs": [
    {
     "data": {
      "text/plain": [
       "a_type (generic function with 1 method)"
      ]
     },
     "execution_count": 4,
     "metadata": {},
     "output_type": "execute_result"
    }
   ],
   "source": [
    "# Array type setting for GPU usage\n",
    "a_type() = (CUDA.functional() ? KnetArray{Float32} : Array{Float32})"
   ]
  },
  {
   "cell_type": "code",
   "execution_count": 5,
   "metadata": {},
   "outputs": [
    {
     "data": {
      "text/plain": [
       "CuDevice(0): Tesla T4"
      ]
     },
     "execution_count": 5,
     "metadata": {},
     "output_type": "execute_result"
    }
   ],
   "source": [
    "# CUDA information\n",
    "GC.gc(true)\n",
    "CUDA.device()"
   ]
  },
  {
   "cell_type": "code",
   "execution_count": 6,
   "metadata": {},
   "outputs": [
    {
     "data": {
      "text/plain": [
       "\"/userfiles/vaydingul20/data/new/\""
      ]
     },
     "execution_count": 6,
     "metadata": {},
     "output_type": "execute_result"
    }
   ],
   "source": [
    "path = \"/userfiles/vaydingul20/data/new/\" # path of the main data\n",
    "DATA_PATH = isdir(path) && path"
   ]
  },
  {
   "cell_type": "code",
   "execution_count": 7,
   "metadata": {},
   "outputs": [
    {
     "name": "stdout",
     "output_type": "stream",
     "text": [
      "Train accel data is being loaded!\n",
      "Test accel data is being loaded!\n",
      " 81.722035 seconds (732.60 M allocations: 24.039 GiB, 2.89% gc time)\n"
     ]
    }
   ],
   "source": [
    "X_train, y_train,\n",
    "X_test, y_test, \n",
    "material_dict = @time load_accel_data(DATA_PATH; mode = \"normal\");  # Data loading routine"
   ]
  },
  {
   "cell_type": "code",
   "execution_count": 8,
   "metadata": {},
   "outputs": [
    {
     "name": "stdout",
     "output_type": "stream",
     "text": [
      "X_train = 690-element Array{Array{Float32,1},1}\n",
      "y_train = 690-element Array{Int8,1}\n",
      "X_test  = 690-element Array{Array{Float32,1},1}\n",
      "y_test  = 690-element Array{Int8,1}\n",
      "material_dict = Dict{String,Int8} with 69 entries\n"
     ]
    }
   ],
   "source": [
    "println(\"X_train = \", summary(X_train))\n",
    "println(\"y_train = \", summary(y_train))\n",
    "println(\"X_test  = \", summary(X_test))\n",
    "println(\"y_test  = \", summary(y_test))\n",
    "println(\"material_dict = \", summary(material_dict))"
   ]
  },
  {
   "cell_type": "code",
   "execution_count": 9,
   "metadata": {
    "scrolled": true
   },
   "outputs": [
    {
     "name": "stdout",
     "output_type": "stream",
     "text": [
      " 13.172702 seconds (6.89 M allocations: 6.301 GiB, 3.38% gc time)\n",
      "  7.362199 seconds (310.55 k allocations: 3.894 GiB, 4.93% gc time)\n"
     ]
    }
   ],
   "source": [
    "#Preprocessing on the acceleration data\n",
    "@time X_train_modified, y_train_modified = process_accel_signal(X_train, y_train);\n",
    "@time X_test_modified, y_test_modified = process_accel_signal(X_test, y_test);"
   ]
  },
  {
   "cell_type": "code",
   "execution_count": 10,
   "metadata": {
    "scrolled": true
   },
   "outputs": [
    {
     "name": "stdout",
     "output_type": "stream",
     "text": [
      "X_train = 50×300×1×4489 Array{Float32,4}\n",
      "y_train = 4489-element Array{Int8,1}\n",
      "X_test  = 50×300×1×2223 Array{Float32,4}\n",
      "y_test  = 2223-element Array{Int8,1}\n",
      "material_dict = Dict{String,Int8} with 69 entries\n"
     ]
    }
   ],
   "source": [
    "println(\"X_train = \", summary(X_train_modified))\n",
    "println(\"y_train = \", summary(y_train_modified))\n",
    "println(\"X_test  = \", summary(X_test_modified))\n",
    "println(\"y_test  = \", summary(y_test_modified))\n",
    "println(\"material_dict = \", summary(material_dict))"
   ]
  },
  {
   "cell_type": "code",
   "execution_count": 11,
   "metadata": {},
   "outputs": [],
   "source": [
    "# Some constants that will be used in the network model\n",
    "MINIBATCH_SIZE = 10\n",
    "INPUT_SIZE = size(X_test_modified)[1:3]\n",
    "OUTPUT_SIZE = size(collect(keys(material_dict)))[1];"
   ]
  },
  {
   "cell_type": "code",
   "execution_count": 12,
   "metadata": {},
   "outputs": [],
   "source": [
    "# Minibatching\n",
    "dtrn = minibatch(X_train_modified, y_train_modified, MINIBATCH_SIZE; xtype = a_type())\n",
    "dtst = minibatch(X_test_modified, y_test_modified, MINIBATCH_SIZE; xtype = a_type());"
   ]
  },
  {
   "cell_type": "code",
   "execution_count": 13,
   "metadata": {},
   "outputs": [],
   "source": [
    "# Generic model construction routine\n",
    "hn = GeneriCONV(INPUT_SIZE, 0.0, [(3, 3, 50, true), (3, 3, 100, true), (3, 3, 150, true),\n",
    "            (3, 3, 200, true), (3, 12, 400, false), (1, 1, 250, false), (1, 1, OUTPUT_SIZE, false)];\n",
    "            hidden = [], f = relu, a_type = a_type(), pdrop = 0.5, \n",
    "            optimizer_type = adam, lr = 1e-4);"
   ]
  },
  {
   "cell_type": "code",
   "execution_count": null,
   "metadata": {
    "scrolled": true
   },
   "outputs": [
    {
     "name": "stderr",
     "output_type": "stream",
     "text": [
      "┣████████████▉       ┫ [64.96%, 29104/44800, 25:02/38:32, 32.38i/s] "
     ]
    }
   ],
   "source": [
    "# Training routine\n",
    "# Currently, the model is not working due to the issue mentioned in: https://github.com/denizyuret/Knet.jl/issues/624#\n",
    "# As soon as it is solved, I hope the model will be accurately working.\n",
    "res = train_summarize!(hn, dtrn, dtst; \n",
    "                       train_type = \"epoch\", fig = true, info = true, \n",
    "                       epoch = 100, conv_epoch = 50, max_conv_cycle = 20)"
   ]
  },
  {
   "cell_type": "code",
   "execution_count": null,
   "metadata": {},
   "outputs": [],
   "source": [
    "notify(\"DONE!\")"
   ]
  },
  {
   "cell_type": "code",
   "execution_count": null,
   "metadata": {},
   "outputs": [],
   "source": []
  }
 ],
 "metadata": {
  "@webio": {
   "lastCommId": null,
   "lastKernelId": null
  },
  "kernelspec": {
   "display_name": "Julia 1.5.2",
   "language": "julia",
   "name": "julia-1.5"
  },
  "language_info": {
   "file_extension": ".jl",
   "mimetype": "application/julia",
   "name": "julia",
   "version": "1.5.2"
  }
 },
 "nbformat": 4,
 "nbformat_minor": 4
}
