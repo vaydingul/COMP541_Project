{
 "cells": [
  {
   "cell_type": "code",
   "execution_count": 1,
   "metadata": {},
   "outputs": [],
   "source": [
    "include(\"../src/modules/TUM69.jl\")\n",
    "include(\"../src/modules/Preprocess.jl\")\n",
    "include(\"../src/modules/Network.jl\")\n",
    "include(\"../src/modules/Utils.jl\")\n",
    "\n",
    "## Third party packages\n",
    "using PyPlot: plot, specgram, subplot, xlabel, ylabel, title, legend\n",
    "using Images\n",
    "using ImageView: imshow\n",
    "using Knet: minibatch\n",
    "\n",
    "## Handwritten modules\n",
    "using .TUM69: load_accel_data, load_image_data   # Data reading\n",
    "using .Preprocess: process_accel_signal, process_image # Preprocessing on the data\n",
    "using .Network: Conv, Dense, VisualNet, train!, accuracy # Construction of custom network\n",
    "using .Utils: plot_spectrogram "
   ]
  },
  {
   "cell_type": "code",
   "execution_count": 2,
   "metadata": {},
   "outputs": [
    {
     "data": {
      "text/plain": [
       "\"./../data/trial\""
      ]
     },
     "execution_count": 2,
     "metadata": {},
     "output_type": "execute_result"
    }
   ],
   "source": [
    "data_path = \"./../data/trial\" "
   ]
  },
  {
   "cell_type": "code",
   "execution_count": 3,
   "metadata": {},
   "outputs": [
    {
     "name": "stdout",
     "output_type": "stream",
     "text": [
      "Train accel data is being loaded!\n",
      "Test accel data is being loaded!\n"
     ]
    }
   ],
   "source": [
    "X_accel_train, y_accel_train,\n",
    "X_accel_test, y_accel_test, \n",
    "material_dict = load_accel_data(data_path; mode = \"baseline\" ); "
   ]
  },
  {
   "cell_type": "code",
   "execution_count": 4,
   "metadata": {},
   "outputs": [
    {
     "name": "stdout",
     "output_type": "stream",
     "text": [
      "Train image data is being loaded!\n",
      "Test image data is being loaded!\n"
     ]
    }
   ],
   "source": [
    "X_image_train, y_image_train, \n",
    "X_image_test, y_image_test,\n",
    "material_dict = load_image_data(data_path; mode = \"baseline\" ); "
   ]
  },
  {
   "cell_type": "code",
   "execution_count": 5,
   "metadata": {},
   "outputs": [
    {
     "name": "stdout",
     "output_type": "stream",
     "text": [
      "X_accel_train = 3-element Array{Array{Float32,1},1}\n",
      "y_accel_train = 3-element Array{Int8,1}\n",
      "X_accel_test  = 3-element Array{Array{Float32,1},1}\n",
      "y_accel_test  = 3-element Array{Int8,1}\n",
      "X_image_train = 3-element Array{Array{RGB{Normed{UInt8,8}},2},1}\n",
      "y_image_train = 3-element Array{Int8,1}\n",
      "X_image_test  = 3-element Array{Array{RGB{Normed{UInt8,8}},2},1}\n",
      "y_image_test  = 3-element Array{Int8,1}\n",
      "material_dict = Dict{String,Int8} with 3 entries\n"
     ]
    }
   ],
   "source": [
    "println(\"X_accel_train = \", summary(X_accel_train))\n",
    "println(\"y_accel_train = \", summary(y_accel_train))\n",
    "println(\"X_accel_test  = \", summary(X_accel_test))\n",
    "println(\"y_accel_test  = \", summary(y_accel_test))\n",
    "println(\"X_image_train = \", summary(X_image_train))\n",
    "println(\"y_image_train = \", summary(y_image_train))\n",
    "println(\"X_image_test  = \", summary(X_image_test))\n",
    "println(\"y_image_test  = \", summary(y_image_test))\n",
    "println(\"material_dict = \", summary(material_dict))"
   ]
  },
  {
   "cell_type": "code",
   "execution_count": 6,
   "metadata": {},
   "outputs": [],
   "source": [
    "X_accel_train = process_accel_signal.(X_accel_train);\n",
    "X_accel_test = process_accel_signal.(X_accel_test);"
   ]
  },
  {
   "cell_type": "code",
   "execution_count": 7,
   "metadata": {},
   "outputs": [],
   "source": [
    "X_image_train = process_image.(X_image_train);\n",
    "X_image_test = process_image.(X_image_test);"
   ]
  },
  {
   "cell_type": "code",
   "execution_count": 8,
   "metadata": {},
   "outputs": [
    {
     "data": {
      "text/plain": [
       "3-element Array{Int8,1}:\n",
       " 1\n",
       " 2\n",
       " 3"
      ]
     },
     "execution_count": 8,
     "metadata": {},
     "output_type": "execute_result"
    }
   ],
   "source": [
    "X_image_train = cat(X_image_train..., dims = 4); y_image_train .+= 1;\n",
    "X_image_test = cat(X_image_test..., dims = 4); y_image_test .+= 1;\n",
    "X_accel_train = cat(X_accel_train..., dims = 4); y_accel_train .+= 1;\n",
    "X_accel_test = cat(X_accel_test..., dims = 4); y_accel_test .+= 1|"
   ]
  },
  {
   "cell_type": "code",
   "execution_count": null,
   "metadata": {},
   "outputs": [],
   "source": []
  },
  {
   "cell_type": "code",
   "execution_count": null,
   "metadata": {},
   "outputs": [],
   "source": []
  },
  {
   "cell_type": "code",
   "execution_count": null,
   "metadata": {},
   "outputs": [],
   "source": []
  },
  {
   "cell_type": "code",
   "execution_count": null,
   "metadata": {},
   "outputs": [],
   "source": []
  },
  {
   "cell_type": "code",
   "execution_count": null,
   "metadata": {},
   "outputs": [],
   "source": []
  },
  {
   "cell_type": "code",
   "execution_count": null,
   "metadata": {},
   "outputs": [],
   "source": []
  },
  {
   "cell_type": "code",
   "execution_count": null,
   "metadata": {},
   "outputs": [],
   "source": []
  },
  {
   "cell_type": "code",
   "execution_count": null,
   "metadata": {},
   "outputs": [],
   "source": []
  },
  {
   "cell_type": "code",
   "execution_count": null,
   "metadata": {},
   "outputs": [],
   "source": []
  },
  {
   "cell_type": "code",
   "execution_count": null,
   "metadata": {},
   "outputs": [],
   "source": []
  },
  {
   "cell_type": "code",
   "execution_count": null,
   "metadata": {},
   "outputs": [],
   "source": []
  }
 ],
 "metadata": {
  "@webio": {
   "lastCommId": null,
   "lastKernelId": null
  },
  "kernelspec": {
   "display_name": "Julia 1.5.2",
   "language": "julia",
   "name": "julia-1.5"
  },
  "language_info": {
   "file_extension": ".jl",
   "mimetype": "application/julia",
   "name": "julia",
   "version": "1.5.2"
  }
 },
 "nbformat": 4,
 "nbformat_minor": 4
}
