{
 "cells": [
  {
   "cell_type": "code",
   "execution_count": null,
   "metadata": {},
   "outputs": [],
   "source": [
    "include(\"../src/modules/TUM69.jl\")\n",
    "include(\"../src/modules/Preprocess.jl\")\n",
    "include(\"../src/modules/Network.jl\")\n",
    "include(\"../src/modules/Utils.jl\")\n",
    "\n",
    "## Third party packages\n",
    "using PyPlot: plot, specgram, subplot, xlabel, ylabel, title, legend\n",
    "using Images\n",
    "using ImageView: imshow\n",
    "using Knet: minibatch\n",
    "\n",
    "## Handwritten modules\n",
    "using .TUM69: load_accel_data, load_image_data   # Data reading\n",
    "using .Preprocess: process_accel_signal, process_image # Preprocessing on the data\n",
    "using .Network: Conv, Dense, VisualNet, train!, accuracy # Construction of custom network\n",
    "using .Utils: plot_spectrogram, extract_PCA"
   ]
  },
  {
   "cell_type": "code",
   "execution_count": null,
   "metadata": {},
   "outputs": [],
   "source": [
    "DATA_PATH = \"./../data/trial\" "
   ]
  },
  {
   "cell_type": "code",
   "execution_count": null,
   "metadata": {},
   "outputs": [],
   "source": [
    "X_accel_train, y_accel_train,\n",
    "X_accel_test, y_accel_test, \n",
    "material_dict = load_accel_data(DATA_PATH; mode = \"baseline\"); "
   ]
  },
  {
   "cell_type": "code",
   "execution_count": null,
   "metadata": {},
   "outputs": [],
   "source": [
    "println(\"X_accel_train = \", summary(X_accel_train))\n",
    "println(\"y_accel_train = \", summary(y_accel_train))\n",
    "println(\"X_accel_test  = \", summary(X_accel_test))\n",
    "println(\"y_accel_test  = \", summary(y_accel_test))\n",
    "println(\"material_dict = \", summary(material_dict))"
   ]
  },
  {
   "cell_type": "raw",
   "metadata": {},
   "source": [
    "X_accel_train, y_accel_train = process_accel_signal(X_accel_train, y_accel_train);\n",
    "X_accel_test, y_accel_test = process_accel_signal(X_accel_test, y_accel_test);"
   ]
  },
  {
   "cell_type": "code",
   "execution_count": 6,
   "metadata": {
    "scrolled": true
   },
   "outputs": [
    {
     "ename": "LoadError",
     "evalue": "syntax: incomplete: premature end of input",
     "output_type": "error",
     "traceback": [
      "syntax: incomplete: premature end of input",
      "",
      "Stacktrace:",
      " [1] top-level scope at In[6]:2",
      " [2] include_string(::Function, ::Module, ::String, ::String) at .\\loading.jl:1091",
      " [3] execute_code(::String, ::String) at C:\\Users\\volkan\\.julia\\packages\\IJulia\\rWZ9e\\src\\execute_request.jl:27",
      " [4] execute_request(::ZMQ.Socket, ::IJulia.Msg) at C:\\Users\\volkan\\.julia\\packages\\IJulia\\rWZ9e\\src\\execute_request.jl:86",
      " [5] #invokelatest#1 at .\\essentials.jl:710 [inlined]",
      " [6] invokelatest at .\\essentials.jl:709 [inlined]",
      " [7] eventloop(::ZMQ.Socket) at C:\\Users\\volkan\\.julia\\packages\\IJulia\\rWZ9e\\src\\eventloop.jl:8",
      " [8] (::IJulia.var\"#15#18\")() at .\\task.jl:356"
     ]
    }
   ],
   "source": [
    "X_accel_train = cat(X_accel_train..., dims = 4); y_accel_train .+= 1;"
   ]
  },
  {
   "cell_type": "code",
   "execution_count": null,
   "metadata": {},
   "outputs": [],
   "source": [
    "X_accel_test = cat(X_accel_test..., dims = 4); y_accel_test .+= 1;"
   ]
  },
  {
   "cell_type": "code",
   "execution_count": 9,
   "metadata": {},
   "outputs": [
    {
     "name": "stdout",
     "output_type": "stream",
     "text": [
      "X_accel_train = 50×1000×1×690 Array{Float32,4}\n",
      "y_accel_train = 690-element Array{Int8,1}\n",
      "X_accel_test  = 50×1000×1×690 Array{Float32,4}\n",
      "y_accel_test  = 690-element Array{Int8,1}\n",
      "material_dict = Dict{String,Int8} with 69 entries\n"
     ]
    }
   ],
   "source": [
    "println(\"X_accel_train = \", summary(X_accel_train))\n",
    "println(\"y_accel_train = \", summary(y_accel_train))\n",
    "println(\"X_accel_test  = \", summary(X_accel_test))\n",
    "println(\"y_accel_test  = \", summary(y_accel_test))\n",
    "println(\"material_dict = \", summary(material_dict))"
   ]
  },
  {
   "cell_type": "code",
   "execution_count": null,
   "metadata": {},
   "outputs": [],
   "source": []
  },
  {
   "cell_type": "code",
   "execution_count": null,
   "metadata": {},
   "outputs": [],
   "source": []
  },
  {
   "cell_type": "code",
   "execution_count": null,
   "metadata": {},
   "outputs": [],
   "source": []
  },
  {
   "cell_type": "code",
   "execution_count": null,
   "metadata": {},
   "outputs": [],
   "source": []
  },
  {
   "cell_type": "code",
   "execution_count": null,
   "metadata": {},
   "outputs": [],
   "source": []
  },
  {
   "cell_type": "code",
   "execution_count": null,
   "metadata": {},
   "outputs": [],
   "source": []
  },
  {
   "cell_type": "code",
   "execution_count": null,
   "metadata": {},
   "outputs": [],
   "source": []
  },
  {
   "cell_type": "code",
   "execution_count": null,
   "metadata": {},
   "outputs": [],
   "source": []
  },
  {
   "cell_type": "code",
   "execution_count": null,
   "metadata": {},
   "outputs": [],
   "source": []
  },
  {
   "cell_type": "code",
   "execution_count": null,
   "metadata": {},
   "outputs": [],
   "source": []
  }
 ],
 "metadata": {
  "@webio": {
   "lastCommId": null,
   "lastKernelId": null
  },
  "kernelspec": {
   "display_name": "Julia 1.5.2",
   "language": "julia",
   "name": "julia-1.5"
  },
  "language_info": {
   "file_extension": ".jl",
   "mimetype": "application/julia",
   "name": "julia",
   "version": "1.5.2"
  }
 },
 "nbformat": 4,
 "nbformat_minor": 4
}
