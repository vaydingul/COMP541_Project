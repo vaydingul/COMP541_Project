{
 "cells": [
  {
   "cell_type": "code",
   "execution_count": 1,
   "metadata": {},
   "outputs": [],
   "source": [
    "include(\"../src/modules/TUM69.jl\")\n",
    "include(\"../src/modules/Preprocess.jl\")\n",
    "include(\"../src/modules/Network.jl\")\n",
    "include(\"../src/modules/Utils.jl\")\n",
    "\n",
    "## Third party packages\n",
    "using PyPlot: plot, specgram, subplot, xlabel, ylabel, title, legend\n",
    "using Images\n",
    "using ImageView: imshow\n",
    "using Knet: minibatch\n",
    "\n",
    "## Handwritten modules\n",
    "using .TUM69: load_accel_data, load_image_data   # Data reading\n",
    "using .Preprocess: process_accel_signal, process_image # Preprocessing on the data\n",
    "using .Network: Conv, Dense, VisualNet, train!, accuracy # Construction of custom network\n",
    "using .Utils: plot_spectrogram "
   ]
  },
  {
   "cell_type": "code",
   "execution_count": 2,
   "metadata": {},
   "outputs": [
    {
     "data": {
      "text/plain": [
       "\"./../data/new\""
      ]
     },
     "execution_count": 2,
     "metadata": {},
     "output_type": "execute_result"
    }
   ],
   "source": [
    "data_path = \"./../data/trial\" "
   ]
  },
  {
   "cell_type": "code",
   "execution_count": null,
   "metadata": {},
   "outputs": [
    {
     "name": "stdout",
     "output_type": "stream",
     "text": [
      "Train image data is being loaded!\n",
      "Test image data is being loaded!\n"
     ]
    },
    {
     "name": "stderr",
     "output_type": "stream",
     "text": [
      "Error encountered while loading \"C:\\\\Users\\\\volkan\\\\Desktop\\\\Graduate\\\\Graduate_Era\\\\Courses\\\\COMP_541\\\\Project\\\\COMP541_Project\\\\data\\\\new\\\\test\\\\image\\\\G2StoneTileVersion1\\\\IMG_6896.jpg\".\n",
      "\n",
      "Fatal error:\n"
     ]
    }
   ],
   "source": [
    "X_train, y_train, \n",
    "X_test, y_test,\n",
    "material_dict = load_image_data(data_path; mode = \"baseline\"); "
   ]
  },
  {
   "cell_type": "code",
   "execution_count": null,
   "metadata": {},
   "outputs": [],
   "source": [
    "println(\"X_train = \", summary(X_train))\n",
    "println(\"y_train = \", summary(y_train))\n",
    "println(\"X_test  = \", summary(X_test))\n",
    "println(\"y_test  = \", summary(y_test))\n",
    "println(\"material_dict = \", summary(material_dict))"
   ]
  },
  {
   "cell_type": "code",
   "execution_count": null,
   "metadata": {},
   "outputs": [],
   "source": [
    "X_accel_train = process_accel_signal.(X_accel_train);\n",
    "X_accel_test = process_accel_signal.(X_accel_test);"
   ]
  },
  {
   "cell_type": "code",
   "execution_count": null,
   "metadata": {},
   "outputs": [],
   "source": [
    "X_train = process_image.(X_train);\n",
    "X_test = process_image.(X_test);"
   ]
  },
  {
   "cell_type": "code",
   "execution_count": null,
   "metadata": {},
   "outputs": [],
   "source": [
    "X_train = cat(X_train..., dims = 4); y_train .+= 1;\n",
    "X_test = cat(X_test..., dims = 4); y_test .+= 1;\n",
    "X_accel_train = cat(X_accel_train..., dims = 4); y_accel_train .+= 1;\n",
    "X_accel_test = cat(X_accel_test..., dims = 4); y_accel_test .+= 1|"
   ]
  },
  {
   "cell_type": "code",
   "execution_count": null,
   "metadata": {},
   "outputs": [],
   "source": []
  },
  {
   "cell_type": "code",
   "execution_count": null,
   "metadata": {},
   "outputs": [],
   "source": []
  },
  {
   "cell_type": "code",
   "execution_count": null,
   "metadata": {},
   "outputs": [],
   "source": []
  },
  {
   "cell_type": "code",
   "execution_count": null,
   "metadata": {},
   "outputs": [],
   "source": []
  },
  {
   "cell_type": "code",
   "execution_count": null,
   "metadata": {},
   "outputs": [],
   "source": []
  },
  {
   "cell_type": "code",
   "execution_count": null,
   "metadata": {},
   "outputs": [],
   "source": []
  },
  {
   "cell_type": "code",
   "execution_count": null,
   "metadata": {},
   "outputs": [],
   "source": []
  },
  {
   "cell_type": "code",
   "execution_count": null,
   "metadata": {},
   "outputs": [],
   "source": []
  },
  {
   "cell_type": "code",
   "execution_count": null,
   "metadata": {},
   "outputs": [],
   "source": []
  },
  {
   "cell_type": "code",
   "execution_count": null,
   "metadata": {},
   "outputs": [],
   "source": []
  },
  {
   "cell_type": "code",
   "execution_count": null,
   "metadata": {},
   "outputs": [],
   "source": []
  }
 ],
 "metadata": {
  "@webio": {
   "lastCommId": null,
   "lastKernelId": null
  },
  "kernelspec": {
   "display_name": "Julia 1.5.2",
   "language": "julia",
   "name": "julia-1.5"
  },
  "language_info": {
   "file_extension": ".jl",
   "mimetype": "application/julia",
   "name": "julia",
   "version": "1.5.2"
  }
 },
 "nbformat": 4,
 "nbformat_minor": 4
}
