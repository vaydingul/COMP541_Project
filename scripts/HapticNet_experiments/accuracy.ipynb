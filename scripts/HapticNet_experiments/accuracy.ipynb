{
 "cells": [
  {
   "cell_type": "code",
   "execution_count": 1,
   "metadata": {},
   "outputs": [
    {
     "name": "stderr",
     "output_type": "stream",
     "text": [
      "  % Total    % Received % Xferd  Average Speed   Time    Time     Time  Current\n",
      "                                 Dload  Upload   Total   Spent    Left  Speed\n",
      "  0     0    0     0    0     0      0      0 --:--:--  0:00:01 --:--:--     0"
     ]
    },
    {
     "name": "stdout",
     "output_type": "stream",
     "text": [
      "{}"
     ]
    },
    {
     "name": "stderr",
     "output_type": "stream",
     "text": [
      "\r",
      " 91    23    0     0  100    21      0     11  0:00:01  0:00:01 --:--:--    11\r",
      "100    23  100     2  100    21      1     11  0:00:02  0:00:01  0:00:01    12\n"
     ]
    },
    {
     "data": {
      "text/plain": [
       "Any[]"
      ]
     },
     "execution_count": 1,
     "metadata": {},
     "output_type": "execute_result"
    }
   ],
   "source": [
    "using Distributed\n",
    "# @everywhere used for the implementation of the modules across multiple workers\n",
    "# Without it, the code does not run\n",
    "\n",
    "# Add the modules to the ´read´ path of the Julia\n",
    "@everywhere push!(LOAD_PATH, \"/scratch/users/vaydingul20/workfolder/COMP541_Project/src/modules/\")\n",
    "# Custom modules\n",
    "@everywhere using Model: HapticNet, VisualNet, train_epoch!, save_as_jld2\n",
    "@everywhere using TUM69: load_accel_data, load_image_data\n",
    "@everywhere using Preprocess: process_accel_signal, process_image, augment_image\n",
    "@everywhere using Utils: kfold, notify!, a_type\n",
    "@everywhere using Metrics: confusion_matrix, visualize, confusion_params, accuracy_score\n",
    "# Ready-to-use modules \n",
    "using JLD2, Random\n",
    "using CUDA\n",
    "\n",
    "notify!(\"Script started! -- hn\")\n",
    "\n",
    "# Set path\n",
    "path = CUDA.functional() ? \"/userfiles/vaydingul20/data/new\" : \"data/new\" \n",
    "DATA_PATH = isdir(path) && path\n",
    "\n",
    "#=\n",
    "notify!(\"Data reading started! -- hn\")\n",
    "# Load data\n",
    "X_train, y_train, _, _, material_dict = load_accel_data(DATA_PATH; mode = \"normal\")\n",
    "\n",
    "notify!(\"Preprocessing started! -- hn\")\n",
    "# Apply preprocessing on the accelaration data\n",
    "X_train, y_train = process_accel_signal(X_train, y_train)\n",
    "# Seperate into 3 folds for training\n",
    "kf = kfold(X_train, y_train; fold = 3, atype = a_type(Float32))\n",
    "=#\n",
    "# Initialization of the results vector that will be saved at the end of the training\n",
    "results = []\n"
   ]
  },
  {
   "cell_type": "code",
   "execution_count": 2,
   "metadata": {},
   "outputs": [
    {
     "name": "stderr",
     "output_type": "stream",
     "text": [
      "  % Total    % Received % Xferd  Average Speed   Time    Time     Time  Current\n",
      "                                 Dload  Upload   Total   Spent    Left  Speed\n",
      "100    23    0     0  100    23      0      0 --:--:-- --:--:-- --:--:--     0  15  0:00:01  0:00:01 --:--:--    15"
     ]
    },
    {
     "name": "stdout",
     "output_type": "stream",
     "text": [
      "{}"
     ]
    },
    {
     "name": "stderr",
     "output_type": "stream",
     "text": [
      "\r",
      "100    25  100     2  100    23      1     12  0:00:02  0:00:01  0:00:01    13\n"
     ]
    },
    {
     "data": {
      "text/plain": [
       "4-element Knet.Train20.Data{Tuple{Knet.KnetArrays.KnetArray{Float32,N} where N,Array{Int8,N} where N}}"
      ]
     },
     "execution_count": 2,
     "metadata": {},
     "output_type": "execute_result"
    }
   ],
   "source": [
    "JLD2.@load \"/scratch/users/vaydingul20/workfolder/COMP541_Project/scripts/HapticNet_experiments/10fold.jld2\" kf\n",
    "\n",
    "notify!(\"Training started! -- hn\")\n",
    "dtst1 = kf.folds[1][2] \n",
    "dtst2 = kf.folds[2][2]\n",
    "dtst3 = kf.folds[3][2]\n",
    "dtst4 = kf.folds[4][2]\n",
    "dtst5 = kf.folds[5][2]\n",
    "dtst6 = kf.folds[6][2]\n",
    "dtst7 = kf.folds[7][2]\n",
    "dtst8 = kf.folds[8][2]\n",
    "dtst9 = kf.folds[9][2]\n",
    "dtst10 = kf.folds[10][2]"
   ]
  },
  {
   "cell_type": "code",
   "execution_count": 3,
   "metadata": {},
   "outputs": [
    {
     "data": {
      "text/plain": [
       "HapticNet(Model.GCN((Model.Conv(P(Knet.KnetArrays.KnetArray{Float32,4}(3,3,1,50)), P(Knet.KnetArrays.KnetArray{Float32,4}(1,1,50,1)), Knet.Ops20.relu, 0, (1, 1), (1, 1), (2, 2), (2, 2), false, Knet.KnetArrays.KnetArray{Float32,N} where N), Model.Conv(P(Knet.KnetArrays.KnetArray{Float32,4}(3,3,50,100)), P(Knet.KnetArrays.KnetArray{Float32,4}(1,1,100,1)), Knet.Ops20.relu, 0, (1, 1), (1, 1), (2, 2), (2, 2), false, Knet.KnetArrays.KnetArray{Float32,N} where N), Model.Conv(P(Knet.KnetArrays.KnetArray{Float32,4}(3,3,100,150)), P(Knet.KnetArrays.KnetArray{Float32,4}(1,1,150,1)), Knet.Ops20.relu, 0, (1, 1), (1, 1), (2, 2), (2, 2), false, Knet.KnetArrays.KnetArray{Float32,N} where N), Model.Conv(P(Knet.KnetArrays.KnetArray{Float32,4}(3,3,150,200)), P(Knet.KnetArrays.KnetArray{Float32,4}(1,1,200,1)), Knet.Ops20.relu, 0, (1, 1), (1, 1), (2, 2), (2, 2), false, Knet.KnetArrays.KnetArray{Float32,N} where N), Model.Conv(P(Knet.KnetArrays.KnetArray{Float32,4}(4,12,200,400)), P(Knet.KnetArrays.KnetArray{Float32,4}(1,1,400,1)), Knet.Ops20.relu, 0, (1, 0), (1, 1), (1, 1), (1, 1), false, Knet.KnetArrays.KnetArray{Float32,N} where N), Model.Conv(P(Knet.KnetArrays.KnetArray{Float32,4}(1,1,400,250)), P(Knet.KnetArrays.KnetArray{Float32,4}(1,1,250,1)), Knet.Ops20.relu, 0, (0, 0), (1, 1), (1, 1), (1, 1), false, Knet.KnetArrays.KnetArray{Float32,N} where N), Model.Conv(P(Knet.KnetArrays.KnetArray{Float32,4}(1,1,250,69)), P(Knet.KnetArrays.KnetArray{Float32,4}(1,1,69,1)), Knet.Ops20.relu, 0, (0, 0), (1, 1), (1, 1), (1, 1), false, Knet.KnetArrays.KnetArray{Float32,N} where N)), Knet.Train20.adam, 0.0001, Model.nll4, Model.accuracy4, 0.0, 0.0005))"
      ]
     },
     "execution_count": 3,
     "metadata": {},
     "output_type": "execute_result"
    }
   ],
   "source": [
    "# Reset model\n",
    "#hn = HapticNet(; atype = a_type(Float32), lrn = false)\n",
    "hn1 = HapticNet(\"/scratch/users/vaydingul20/workfolder/hn-1-7.jld2\")\n",
    "hn2 = HapticNet(\"/scratch/users/vaydingul20/workfolder/hn-2-7.jld2\")\n",
    "hn3 = HapticNet(\"/scratch/users/vaydingul20/workfolder/hn-3-7.jld2\")\n",
    "hn4 = HapticNet(\"/scratch/users/vaydingul20/workfolder/hn-4-7.jld2\")\n",
    "hn5 = HapticNet(\"/scratch/users/vaydingul20/workfolder/hn-5-7.jld2\")\n",
    "hn6 = HapticNet(\"/scratch/users/vaydingul20/workfolder/hn-6-7.jld2\")\n",
    "hn7 = HapticNet(\"/scratch/users/vaydingul20/workfolder/hn-7-7.jld2\")\n",
    "hn8 = HapticNet(\"/scratch/users/vaydingul20/workfolder/hn-8-7.jld2\")\n",
    "hn9 = HapticNet(\"/scratch/users/vaydingul20/workfolder/hn-9-7.jld2\")\n",
    "hn10 = HapticNet(\"/scratch/users/vaydingul20/workfolder/hn-10-7.jld2\")\n"
   ]
  },
  {
   "cell_type": "code",
   "execution_count": 4,
   "metadata": {},
   "outputs": [
    {
     "data": {
      "text/plain": [
       "max_vote_ (generic function with 1 method)"
      ]
     },
     "execution_count": 4,
     "metadata": {},
     "output_type": "execute_result"
    }
   ],
   "source": [
    "using Knet: Data, mat\n",
    "function _predict4(x)\n",
    "    #= \n",
    "    This function execute following processes:\n",
    "        - It calculates accuracy of the model for given x and y value\n",
    "        - If average == true, then it gives directly the accuracy,\n",
    "            if it is not, then it gives correct number of predictions and total count as \n",
    "            2-element Tuple.\n",
    "      \n",
    "    Usage:\n",
    "        _accuracy4(x, y)\n",
    "\n",
    "    Input:\n",
    "        x = Output of the network, dense prediction as 4D tensor\n",
    "        y = True label of the corresponding x\n",
    "    \n",
    "\n",
    "    Output:\n",
    "        _accuracy = Calculated accuracy\n",
    "        or\n",
    "        (correct_pred, total_count) = Number of correct predictions and total count as \n",
    "            2-element Tuple. =#\n",
    "\n",
    "    x = permutedims(x, (3, 1, 2, 4))\n",
    "    sc, sx, sy, sn = size(x)\n",
    "    pred = vcat([max_vote_(mat(x[:,:,:,k], dims=1)) for k in 1:sn]...)\n",
    "\n",
    "end\n",
    "\n",
    "\n",
    "\n",
    "function predict4(model; data::Data)\n",
    "\n",
    "    #= \n",
    "    This function execute following processes:\n",
    "        - It calculates accuracy of the model per batch for given model and Data object\n",
    "        - \n",
    "    Usage:\n",
    "        accuracy4(model; data = test_set)\n",
    "\n",
    "    Input:\n",
    "        model = Network model to be evaluated\n",
    "        data = Batch to be processed in model\n",
    "    \n",
    "\n",
    "    Output:\n",
    "        accuracy = Calculated accuracy =#\n",
    "    \n",
    "\n",
    "\n",
    "    preds = vcat([_predict4(model(x)) for (x, _) in data]...)\n",
    "   \n",
    "\n",
    "\n",
    "    return preds\n",
    "end\n",
    "\n",
    "function max_vote_(y)\n",
    "    y = getindex.(argmax(y, dims=1), 1)\n",
    "    u = unique(y)\n",
    "    d = Dict([(i, count(x -> x == i, y)) for i in u])\n",
    "    argmax(d)\n",
    "    \n",
    "    # mode(y)\n",
    "end\n",
    "\n",
    "\n"
   ]
  },
  {
   "cell_type": "code",
   "execution_count": 5,
   "metadata": {
    "scrolled": false
   },
   "outputs": [
    {
     "name": "stderr",
     "output_type": "stream",
     "text": [
      "┌ Warning: No labels provided, constructing a label set by union of the unique elements in Expected and Predicted arrays\n",
      "└ @ Metrics /scratch/users/vaydingul20/workfolder/COMP541_Project/src/modules/metrics/metric_ops.jl:188\n",
      "┌ Warning: There are elements of value 0 in the true positives array. This may lead to false values for some functions\n",
      "└ @ Metrics /scratch/users/vaydingul20/workfolder/COMP541_Project/src/modules/metrics/metric_ops.jl:207\n",
      "┌ Warning: There are elements of value 0 in the false positives array. This may lead to false values for some functions\n",
      "└ @ Metrics /scratch/users/vaydingul20/workfolder/COMP541_Project/src/modules/metrics/metric_ops.jl:213\n",
      "┌ Warning: There are elements of value 0 in the false negatives array. This may lead to false values for some functions\n",
      "└ @ Metrics /scratch/users/vaydingul20/workfolder/COMP541_Project/src/modules/metrics/metric_ops.jl:216\n",
      "┌ Warning: No labels provided, constructing a label set by union of the unique elements in Expected and Predicted arrays\n",
      "└ @ Metrics /scratch/users/vaydingul20/workfolder/COMP541_Project/src/modules/metrics/metric_ops.jl:188\n",
      "┌ Warning: There are elements of value 0 in the true positives array. This may lead to false values for some functions\n",
      "└ @ Metrics /scratch/users/vaydingul20/workfolder/COMP541_Project/src/modules/metrics/metric_ops.jl:207\n",
      "┌ Warning: There are elements of value 0 in the false positives array. This may lead to false values for some functions\n",
      "└ @ Metrics /scratch/users/vaydingul20/workfolder/COMP541_Project/src/modules/metrics/metric_ops.jl:213\n",
      "┌ Warning: There are elements of value 0 in the false negatives array. This may lead to false values for some functions\n",
      "└ @ Metrics /scratch/users/vaydingul20/workfolder/COMP541_Project/src/modules/metrics/metric_ops.jl:216\n",
      "┌ Warning: No labels provided, constructing a label set by union of the unique elements in Expected and Predicted arrays\n",
      "└ @ Metrics /scratch/users/vaydingul20/workfolder/COMP541_Project/src/modules/metrics/metric_ops.jl:188\n",
      "┌ Warning: There are elements of value 0 in the true positives array. This may lead to false values for some functions\n",
      "└ @ Metrics /scratch/users/vaydingul20/workfolder/COMP541_Project/src/modules/metrics/metric_ops.jl:207\n",
      "┌ Warning: There are elements of value 0 in the false positives array. This may lead to false values for some functions\n",
      "└ @ Metrics /scratch/users/vaydingul20/workfolder/COMP541_Project/src/modules/metrics/metric_ops.jl:213\n",
      "┌ Warning: There are elements of value 0 in the false negatives array. This may lead to false values for some functions\n",
      "└ @ Metrics /scratch/users/vaydingul20/workfolder/COMP541_Project/src/modules/metrics/metric_ops.jl:216\n",
      "┌ Warning: No labels provided, constructing a label set by union of the unique elements in Expected and Predicted arrays\n",
      "└ @ Metrics /scratch/users/vaydingul20/workfolder/COMP541_Project/src/modules/metrics/metric_ops.jl:188\n",
      "┌ Warning: There are elements of value 0 in the true positives array. This may lead to false values for some functions\n",
      "└ @ Metrics /scratch/users/vaydingul20/workfolder/COMP541_Project/src/modules/metrics/metric_ops.jl:207\n",
      "┌ Warning: There are elements of value 0 in the false positives array. This may lead to false values for some functions\n",
      "└ @ Metrics /scratch/users/vaydingul20/workfolder/COMP541_Project/src/modules/metrics/metric_ops.jl:213\n",
      "┌ Warning: There are elements of value 0 in the false negatives array. This may lead to false values for some functions\n",
      "└ @ Metrics /scratch/users/vaydingul20/workfolder/COMP541_Project/src/modules/metrics/metric_ops.jl:216\n",
      "┌ Warning: No labels provided, constructing a label set by union of the unique elements in Expected and Predicted arrays\n",
      "└ @ Metrics /scratch/users/vaydingul20/workfolder/COMP541_Project/src/modules/metrics/metric_ops.jl:188\n",
      "┌ Warning: There are elements of value 0 in the true positives array. This may lead to false values for some functions\n",
      "└ @ Metrics /scratch/users/vaydingul20/workfolder/COMP541_Project/src/modules/metrics/metric_ops.jl:207\n",
      "┌ Warning: There are elements of value 0 in the false positives array. This may lead to false values for some functions\n",
      "└ @ Metrics /scratch/users/vaydingul20/workfolder/COMP541_Project/src/modules/metrics/metric_ops.jl:213\n",
      "┌ Warning: There are elements of value 0 in the false negatives array. This may lead to false values for some functions\n",
      "└ @ Metrics /scratch/users/vaydingul20/workfolder/COMP541_Project/src/modules/metrics/metric_ops.jl:216\n",
      "┌ Warning: No labels provided, constructing a label set by union of the unique elements in Expected and Predicted arrays\n",
      "└ @ Metrics /scratch/users/vaydingul20/workfolder/COMP541_Project/src/modules/metrics/metric_ops.jl:188\n",
      "┌ Warning: There are elements of value 0 in the true positives array. This may lead to false values for some functions\n",
      "└ @ Metrics /scratch/users/vaydingul20/workfolder/COMP541_Project/src/modules/metrics/metric_ops.jl:207\n",
      "┌ Warning: There are elements of value 0 in the false positives array. This may lead to false values for some functions\n",
      "└ @ Metrics /scratch/users/vaydingul20/workfolder/COMP541_Project/src/modules/metrics/metric_ops.jl:213\n",
      "┌ Warning: There are elements of value 0 in the false negatives array. This may lead to false values for some functions\n",
      "└ @ Metrics /scratch/users/vaydingul20/workfolder/COMP541_Project/src/modules/metrics/metric_ops.jl:216\n",
      "┌ Warning: No labels provided, constructing a label set by union of the unique elements in Expected and Predicted arrays\n",
      "└ @ Metrics /scratch/users/vaydingul20/workfolder/COMP541_Project/src/modules/metrics/metric_ops.jl:188\n",
      "┌ Warning: There are elements of value 0 in the true positives array. This may lead to false values for some functions\n",
      "└ @ Metrics /scratch/users/vaydingul20/workfolder/COMP541_Project/src/modules/metrics/metric_ops.jl:207\n",
      "┌ Warning: There are elements of value 0 in the false positives array. This may lead to false values for some functions\n",
      "└ @ Metrics /scratch/users/vaydingul20/workfolder/COMP541_Project/src/modules/metrics/metric_ops.jl:213\n",
      "┌ Warning: There are elements of value 0 in the false negatives array. This may lead to false values for some functions\n",
      "└ @ Metrics /scratch/users/vaydingul20/workfolder/COMP541_Project/src/modules/metrics/metric_ops.jl:216\n",
      "┌ Warning: No labels provided, constructing a label set by union of the unique elements in Expected and Predicted arrays\n",
      "└ @ Metrics /scratch/users/vaydingul20/workfolder/COMP541_Project/src/modules/metrics/metric_ops.jl:188\n",
      "┌ Warning: There are elements of value 0 in the true positives array. This may lead to false values for some functions\n",
      "└ @ Metrics /scratch/users/vaydingul20/workfolder/COMP541_Project/src/modules/metrics/metric_ops.jl:207\n",
      "┌ Warning: There are elements of value 0 in the false positives array. This may lead to false values for some functions\n",
      "└ @ Metrics /scratch/users/vaydingul20/workfolder/COMP541_Project/src/modules/metrics/metric_ops.jl:213\n",
      "┌ Warning: There are elements of value 0 in the false negatives array. This may lead to false values for some functions\n",
      "└ @ Metrics /scratch/users/vaydingul20/workfolder/COMP541_Project/src/modules/metrics/metric_ops.jl:216\n",
      "┌ Warning: No labels provided, constructing a label set by union of the unique elements in Expected and Predicted arrays\n",
      "└ @ Metrics /scratch/users/vaydingul20/workfolder/COMP541_Project/src/modules/metrics/metric_ops.jl:188\n",
      "┌ Warning: There are elements of value 0 in the true positives array. This may lead to false values for some functions\n",
      "└ @ Metrics /scratch/users/vaydingul20/workfolder/COMP541_Project/src/modules/metrics/metric_ops.jl:207\n",
      "┌ Warning: There are elements of value 0 in the false positives array. This may lead to false values for some functions\n",
      "└ @ Metrics /scratch/users/vaydingul20/workfolder/COMP541_Project/src/modules/metrics/metric_ops.jl:213\n",
      "┌ Warning: There are elements of value 0 in the false negatives array. This may lead to false values for some functions\n",
      "└ @ Metrics /scratch/users/vaydingul20/workfolder/COMP541_Project/src/modules/metrics/metric_ops.jl:216\n",
      "┌ Warning: No labels provided, constructing a label set by union of the unique elements in Expected and Predicted arrays\n",
      "└ @ Metrics /scratch/users/vaydingul20/workfolder/COMP541_Project/src/modules/metrics/metric_ops.jl:188\n",
      "┌ Warning: There are elements of value 0 in the true positives array. This may lead to false values for some functions\n",
      "└ @ Metrics /scratch/users/vaydingul20/workfolder/COMP541_Project/src/modules/metrics/metric_ops.jl:207\n",
      "┌ Warning: There are elements of value 0 in the false positives array. This may lead to false values for some functions\n",
      "└ @ Metrics /scratch/users/vaydingul20/workfolder/COMP541_Project/src/modules/metrics/metric_ops.jl:213\n",
      "┌ Warning: There are elements of value 0 in the false negatives array. This may lead to false values for some functions\n",
      "└ @ Metrics /scratch/users/vaydingul20/workfolder/COMP541_Project/src/modules/metrics/metric_ops.jl:216\n"
     ]
    },
    {
     "name": "stderr",
     "output_type": "stream",
     "text": [
      "┌ Warning: No labels provided, constructing a label set by union of the unique elements in Expected and Predicted arrays\n",
      "└ @ Metrics /scratch/users/vaydingul20/workfolder/COMP541_Project/src/modules/metrics/metric_ops.jl:188\n",
      "┌ Warning: There are elements of value 0 in the true positives array. This may lead to false values for some functions\n",
      "└ @ Metrics /scratch/users/vaydingul20/workfolder/COMP541_Project/src/modules/metrics/metric_ops.jl:207\n",
      "┌ Warning: There are elements of value 0 in the false positives array. This may lead to false values for some functions\n",
      "└ @ Metrics /scratch/users/vaydingul20/workfolder/COMP541_Project/src/modules/metrics/metric_ops.jl:213\n",
      "┌ Warning: There are elements of value 0 in the false negatives array. This may lead to false values for some functions\n",
      "└ @ Metrics /scratch/users/vaydingul20/workfolder/COMP541_Project/src/modules/metrics/metric_ops.jl:216\n",
      "┌ Warning: No labels provided, constructing a label set by union of the unique elements in Expected and Predicted arrays\n",
      "└ @ Metrics /scratch/users/vaydingul20/workfolder/COMP541_Project/src/modules/metrics/metric_ops.jl:188\n",
      "┌ Warning: There are elements of value 0 in the true positives array. This may lead to false values for some functions\n",
      "└ @ Metrics /scratch/users/vaydingul20/workfolder/COMP541_Project/src/modules/metrics/metric_ops.jl:207\n",
      "┌ Warning: There are elements of value 0 in the false positives array. This may lead to false values for some functions\n",
      "└ @ Metrics /scratch/users/vaydingul20/workfolder/COMP541_Project/src/modules/metrics/metric_ops.jl:213\n",
      "┌ Warning: There are elements of value 0 in the false negatives array. This may lead to false values for some functions\n",
      "└ @ Metrics /scratch/users/vaydingul20/workfolder/COMP541_Project/src/modules/metrics/metric_ops.jl:216\n",
      "┌ Warning: No labels provided, constructing a label set by union of the unique elements in Expected and Predicted arrays\n",
      "└ @ Metrics /scratch/users/vaydingul20/workfolder/COMP541_Project/src/modules/metrics/metric_ops.jl:188\n",
      "┌ Warning: There are elements of value 0 in the true positives array. This may lead to false values for some functions\n",
      "└ @ Metrics /scratch/users/vaydingul20/workfolder/COMP541_Project/src/modules/metrics/metric_ops.jl:207\n",
      "┌ Warning: There are elements of value 0 in the false positives array. This may lead to false values for some functions\n",
      "└ @ Metrics /scratch/users/vaydingul20/workfolder/COMP541_Project/src/modules/metrics/metric_ops.jl:213\n",
      "┌ Warning: There are elements of value 0 in the false negatives array. This may lead to false values for some functions\n",
      "└ @ Metrics /scratch/users/vaydingul20/workfolder/COMP541_Project/src/modules/metrics/metric_ops.jl:216\n",
      "┌ Warning: No labels provided, constructing a label set by union of the unique elements in Expected and Predicted arrays\n",
      "└ @ Metrics /scratch/users/vaydingul20/workfolder/COMP541_Project/src/modules/metrics/metric_ops.jl:188\n",
      "┌ Warning: There are elements of value 0 in the true positives array. This may lead to false values for some functions\n",
      "└ @ Metrics /scratch/users/vaydingul20/workfolder/COMP541_Project/src/modules/metrics/metric_ops.jl:207\n",
      "┌ Warning: There are elements of value 0 in the false positives array. This may lead to false values for some functions\n",
      "└ @ Metrics /scratch/users/vaydingul20/workfolder/COMP541_Project/src/modules/metrics/metric_ops.jl:213\n",
      "┌ Warning: There are elements of value 0 in the false negatives array. This may lead to false values for some functions\n",
      "└ @ Metrics /scratch/users/vaydingul20/workfolder/COMP541_Project/src/modules/metrics/metric_ops.jl:216\n",
      "┌ Warning: No labels provided, constructing a label set by union of the unique elements in Expected and Predicted arrays\n",
      "└ @ Metrics /scratch/users/vaydingul20/workfolder/COMP541_Project/src/modules/metrics/metric_ops.jl:188\n",
      "┌ Warning: There are elements of value 0 in the true positives array. This may lead to false values for some functions\n",
      "└ @ Metrics /scratch/users/vaydingul20/workfolder/COMP541_Project/src/modules/metrics/metric_ops.jl:207\n",
      "┌ Warning: There are elements of value 0 in the false positives array. This may lead to false values for some functions\n",
      "└ @ Metrics /scratch/users/vaydingul20/workfolder/COMP541_Project/src/modules/metrics/metric_ops.jl:213\n",
      "┌ Warning: There are elements of value 0 in the false negatives array. This may lead to false values for some functions\n",
      "└ @ Metrics /scratch/users/vaydingul20/workfolder/COMP541_Project/src/modules/metrics/metric_ops.jl:216\n",
      "┌ Warning: No labels provided, constructing a label set by union of the unique elements in Expected and Predicted arrays\n",
      "└ @ Metrics /scratch/users/vaydingul20/workfolder/COMP541_Project/src/modules/metrics/metric_ops.jl:188\n",
      "┌ Warning: There are elements of value 0 in the true positives array. This may lead to false values for some functions\n",
      "└ @ Metrics /scratch/users/vaydingul20/workfolder/COMP541_Project/src/modules/metrics/metric_ops.jl:207\n",
      "┌ Warning: There are elements of value 0 in the false positives array. This may lead to false values for some functions\n",
      "└ @ Metrics /scratch/users/vaydingul20/workfolder/COMP541_Project/src/modules/metrics/metric_ops.jl:213\n",
      "┌ Warning: There are elements of value 0 in the false negatives array. This may lead to false values for some functions\n",
      "└ @ Metrics /scratch/users/vaydingul20/workfolder/COMP541_Project/src/modules/metrics/metric_ops.jl:216\n",
      "┌ Warning: No labels provided, constructing a label set by union of the unique elements in Expected and Predicted arrays\n",
      "└ @ Metrics /scratch/users/vaydingul20/workfolder/COMP541_Project/src/modules/metrics/metric_ops.jl:188\n",
      "┌ Warning: There are elements of value 0 in the true positives array. This may lead to false values for some functions\n",
      "└ @ Metrics /scratch/users/vaydingul20/workfolder/COMP541_Project/src/modules/metrics/metric_ops.jl:207\n",
      "┌ Warning: There are elements of value 0 in the false positives array. This may lead to false values for some functions\n",
      "└ @ Metrics /scratch/users/vaydingul20/workfolder/COMP541_Project/src/modules/metrics/metric_ops.jl:213\n",
      "┌ Warning: There are elements of value 0 in the false negatives array. This may lead to false values for some functions\n",
      "└ @ Metrics /scratch/users/vaydingul20/workfolder/COMP541_Project/src/modules/metrics/metric_ops.jl:216\n",
      "┌ Warning: No labels provided, constructing a label set by union of the unique elements in Expected and Predicted arrays\n",
      "└ @ Metrics /scratch/users/vaydingul20/workfolder/COMP541_Project/src/modules/metrics/metric_ops.jl:188\n",
      "┌ Warning: There are elements of value 0 in the true positives array. This may lead to false values for some functions\n",
      "└ @ Metrics /scratch/users/vaydingul20/workfolder/COMP541_Project/src/modules/metrics/metric_ops.jl:207\n",
      "┌ Warning: There are elements of value 0 in the false positives array. This may lead to false values for some functions\n",
      "└ @ Metrics /scratch/users/vaydingul20/workfolder/COMP541_Project/src/modules/metrics/metric_ops.jl:213\n",
      "┌ Warning: There are elements of value 0 in the false negatives array. This may lead to false values for some functions\n",
      "└ @ Metrics /scratch/users/vaydingul20/workfolder/COMP541_Project/src/modules/metrics/metric_ops.jl:216\n"
     ]
    },
    {
     "data": {
      "text/plain": [
       "69×69 Array{Float64,2}:\n",
       " 40.0   1.0   4.0   3.0   1.0   5.0  …   1.0   9.0   7.0   4.0   4.0   1.0\n",
       "  0.0  41.0   0.0   0.0   0.0   0.0      0.0   0.0   3.0   0.0   1.0   0.0\n",
       "  5.0   0.0  47.0   0.0   1.0   0.0      0.0   0.0   0.0   0.0   0.0   0.0\n",
       "  0.0   1.0   0.0  23.0   0.0   0.0      0.0   2.0   1.0   1.0   0.0   1.0\n",
       "  1.0   0.0   0.0   0.0  28.0   5.0      0.0   0.0   0.0   0.0   0.0   1.0\n",
       "  5.0   0.0   0.0   0.0   6.0  25.0  …   0.0   0.0   0.0   1.0   0.0   0.0\n",
       "  0.0   0.0   0.0   0.0   1.0   0.0      0.0   0.0   0.0   0.0   0.0   1.0\n",
       "  0.0   0.0   0.0   0.0   0.0   0.0      0.0   0.0   0.0   0.0   0.0   0.0\n",
       "  1.0   0.0   0.0   0.0   0.0   3.0      0.0   0.0   2.0   0.0   1.0   2.0\n",
       "  0.0   0.0   0.0   0.0   0.0   0.0      0.0   0.0   0.0   0.0   0.0   0.0\n",
       "  0.0   0.0   0.0   0.0   0.0   0.0  …   0.0   0.0   0.0   0.0   0.0   0.0\n",
       "  0.0   0.0   0.0   0.0   0.0   0.0      0.0   0.0   0.0   0.0   0.0   0.0\n",
       "  0.0   0.0   0.0   0.0   0.0   0.0      0.0   0.0   0.0   0.0   0.0   0.0\n",
       "  ⋮                             ⋮    ⋱               ⋮                \n",
       "  0.0   0.0   0.0   0.0   0.0   0.0      0.0   0.0   0.0   0.0   0.0   0.0\n",
       "  0.0   1.0   0.0   0.0   0.0   1.0      0.0   0.0   1.0   0.0   4.0   2.0\n",
       "  0.0   1.0   2.0   0.0   0.0   0.0      0.0   0.0   1.0   0.0   0.0   0.0\n",
       "  0.0   0.0   0.0   0.0   0.0   0.0  …   0.0   0.0   1.0   0.0   2.0   1.0\n",
       "  0.0   0.0   0.0   3.0   0.0   0.0      0.0   2.0   1.0   0.0   0.0   0.0\n",
       "  0.0   0.0   0.0   0.0   0.0   0.0      1.0   0.0   0.0   1.0   2.0   0.0\n",
       "  0.0   0.0   0.0   0.0   0.0   0.0     31.0   0.0   0.0   0.0   0.0   0.0\n",
       "  1.0   0.0   0.0   0.0   0.0   0.0      0.0  13.0   0.0   0.0   3.0   0.0\n",
       "  1.0   2.0   0.0   2.0   0.0   1.0  …   0.0   0.0  32.0   0.0   0.0   5.0\n",
       "  0.0   1.0   0.0   0.0   1.0   1.0      0.0   3.0   0.0  34.0   0.0   0.0\n",
       "  0.0   0.0   0.0   0.0   0.0   0.0      0.0   1.0   0.0   0.0  25.0   1.0\n",
       "  2.0   1.0   0.0   0.0   0.0   1.0      0.0   1.0   3.0   0.0   0.0  37.0"
      ]
     },
     "execution_count": 5,
     "metadata": {},
     "output_type": "execute_result"
    }
   ],
   "source": [
    "cms = zeros(69,69)    \n",
    "\n",
    "pred = []\n",
    "    ygold = []\n",
    "    for (x,y) in dtst1\n",
    "        push!(pred, _predict4(hn1.model(x)))\n",
    "        push!(ygold, y)\n",
    "    end\n",
    "    pred = convert(Array{Int},vcat(pred...))\n",
    "    ygold = convert(Array{Int},vcat(ygold...))\n",
    "cms .+= size(confusion_matrix(pred, ygold).matrix) != (68,68) ? confusion_matrix(pred, ygold).matrix : zeros(69,69)\n",
    "\n",
    "pred = []\n",
    "    ygold = []\n",
    "for (x,y) in dtst2\n",
    "        push!(pred, _predict4(hn2.model(x)))\n",
    "        push!(ygold, y)\n",
    "    end\n",
    "    pred = convert(Array{Int},vcat(pred...))\n",
    "    ygold = convert(Array{Int},vcat(ygold...))\n",
    "\n",
    "cms .+= size(confusion_matrix(pred, ygold).matrix) != (68,68) ? confusion_matrix(pred, ygold).matrix : zeros(69,69)\n",
    "\n",
    "pred = []\n",
    "    ygold = []\n",
    "for (x,y) in dtst3\n",
    "        push!(pred, _predict4(hn3.model(x)))\n",
    "        push!(ygold, y)\n",
    "    end\n",
    "    pred = convert(Array{Int},vcat(pred...))\n",
    "    ygold = convert(Array{Int},vcat(ygold...))\n",
    "cms .+= size(confusion_matrix(pred, ygold).matrix) != (68,68) ? confusion_matrix(pred, ygold).matrix : zeros(69,69)\n",
    "pred = []\n",
    "    ygold = []\n",
    "for (x,y) in dtst4\n",
    "        push!(pred, _predict4(hn4.model(x)))\n",
    "        push!(ygold, y)\n",
    "    end\n",
    "    pred = convert(Array{Int},vcat(pred...))\n",
    "    ygold = convert(Array{Int},vcat(ygold...))\n",
    "cms .+= size(confusion_matrix(pred, ygold).matrix) != (68,68) ? confusion_matrix(pred, ygold).matrix : zeros(69,69)\n",
    "pred = []\n",
    "    ygold = []\n",
    "for (x,y) in dtst6\n",
    "        push!(pred, _predict4(hn6.model(x)))\n",
    "        push!(ygold, y)\n",
    "    end\n",
    "    pred = convert(Array{Int},vcat(pred...))\n",
    "    ygold = convert(Array{Int},vcat(ygold...))\n",
    "cms .+= size(confusion_matrix(pred, ygold).matrix) != (68,68) ? confusion_matrix(pred, ygold).matrix : zeros(69,69)\n",
    "pred = []\n",
    "    ygold = []\n",
    "for (x,y) in dtst7\n",
    "        push!(pred, _predict4(hn7.model(x)))\n",
    "        push!(ygold, y)\n",
    "    end\n",
    "    pred = convert(Array{Int},vcat(pred...))\n",
    "    ygold = convert(Array{Int},vcat(ygold...))\n",
    "cms .+= size(confusion_matrix(pred, ygold).matrix) != (68,68) ? confusion_matrix(pred, ygold).matrix : zeros(69,69)\n",
    "pred = []\n",
    "    ygold = []\n",
    "for (x,y) in dtst8\n",
    "        push!(pred, _predict4(hn8.model(x)))\n",
    "        push!(ygold, y)\n",
    "    end\n",
    "    pred = convert(Array{Int},vcat(pred...))\n",
    "    ygold = convert(Array{Int},vcat(ygold...))\n",
    "cms .+= size(confusion_matrix(pred, ygold).matrix) != (68,68) ? confusion_matrix(pred, ygold).matrix : zeros(69,69)\n",
    "pred = []\n",
    "    ygold = []\n",
    "for (x,y) in dtst9\n",
    "        push!(pred, _predict4(hn9.model(x)))\n",
    "        push!(ygold, y)\n",
    "    end\n",
    "    pred = convert(Array{Int},vcat(pred...))\n",
    "    ygold = convert(Array{Int},vcat(ygold...))\n",
    "cms .+= size(confusion_matrix(pred, ygold).matrix) != (68,68) ? confusion_matrix(pred, ygold).matrix : zeros(69,69)\n",
    "\n",
    "    pred = []\n",
    "    ygold = []\n",
    "    for (x,y) in dtst10\n",
    "        push!(pred, _predict4(hn10.model(x)))\n",
    "        push!(ygold, y)\n",
    "    end\n",
    "    pred = convert(Array{Int},vcat(pred...))\n",
    "    ygold = convert(Array{Int},vcat(ygold...))\n",
    "cms .+= size(confusion_matrix(pred, ygold).matrix) != (68,68) ? confusion_matrix(pred, ygold).matrix : zeros(69,69)\n"
   ]
  },
  {
   "cell_type": "code",
   "execution_count": 59,
   "metadata": {
    "scrolled": true
   },
   "outputs": [
    {
     "data": {
      "text/plain": [
       "69×69 Array{Float64,2}:\n",
       " 1.6  0.2  0.1  0.1  0.0  0.3  0.0  0.0  …  0.1  0.0  0.5  0.2  0.1  0.2  0.0\n",
       " 0.0  2.0  0.0  0.0  0.0  0.0  0.0  0.0     0.0  0.0  0.0  0.0  0.0  0.0  0.0\n",
       " 0.1  0.0  3.0  0.0  0.0  0.0  0.0  0.0     0.0  0.0  0.0  0.1  0.0  0.0  0.0\n",
       " 0.0  0.0  0.0  0.7  0.0  0.0  0.0  0.0     0.0  0.0  0.0  0.1  0.0  0.0  0.1\n",
       " 0.1  0.0  0.0  0.0  1.1  0.2  0.0  0.0     0.0  0.0  0.0  0.0  0.0  0.0  0.1\n",
       " 0.1  0.0  0.0  0.0  0.0  1.1  0.0  0.0  …  0.0  0.0  0.0  0.0  0.0  0.0  0.0\n",
       " 0.0  0.0  0.0  0.0  0.1  0.0  1.1  0.0     0.0  0.0  0.0  0.0  0.0  0.0  0.0\n",
       " 0.0  0.0  0.0  0.0  0.0  0.0  0.0  2.1     0.0  0.0  0.0  0.0  0.0  0.0  0.0\n",
       " 0.0  0.0  0.0  0.0  0.0  0.2  0.0  0.0     0.0  0.0  0.0  0.1  0.0  0.0  0.0\n",
       " 0.0  0.0  0.0  0.0  0.0  0.0  0.0  0.1     0.0  0.0  0.0  0.0  0.0  0.0  0.0\n",
       " 0.0  0.0  0.0  0.0  0.0  0.0  0.0  0.0  …  0.0  0.0  0.1  0.0  0.0  0.0  0.0\n",
       " 0.0  0.0  0.0  0.0  0.0  0.0  0.0  0.0     0.0  0.0  0.0  0.0  0.0  0.0  0.0\n",
       " 0.0  0.0  0.0  0.0  0.0  0.0  0.0  0.0     0.0  0.0  0.0  0.0  0.0  0.0  0.0\n",
       " ⋮                        ⋮              ⋱                 ⋮              \n",
       " 0.0  0.0  0.0  0.0  0.0  0.0  0.0  0.0     0.0  0.0  0.0  0.0  0.0  0.0  0.0\n",
       " 0.1  0.0  0.0  0.1  0.0  0.1  0.0  0.0     0.0  0.0  0.0  0.0  0.0  0.2  0.0\n",
       " 0.0  0.1  0.1  0.0  0.0  0.0  0.0  0.0     0.0  0.0  0.0  0.0  0.0  0.0  0.0\n",
       " 0.0  0.0  0.0  0.0  0.0  0.0  0.0  0.0  …  0.0  0.0  0.0  0.0  0.0  0.1  0.0\n",
       " 0.0  0.0  0.0  0.6  0.0  0.0  0.0  0.1     0.0  0.0  0.1  0.0  0.0  0.0  0.0\n",
       " 0.0  0.0  0.0  0.0  0.0  0.0  0.1  0.0     1.2  0.0  0.0  0.0  0.1  0.1  0.0\n",
       " 0.0  0.0  0.0  0.0  0.0  0.0  0.0  0.0     0.1  1.4  0.0  0.0  0.0  0.0  0.0\n",
       " 0.0  0.0  0.0  0.0  0.0  0.0  0.0  0.0     0.0  0.0  0.8  0.0  0.0  0.1  0.0\n",
       " 0.0  0.1  0.1  0.1  0.0  0.0  0.0  0.0  …  0.0  0.0  0.0  1.6  0.1  0.0  0.1\n",
       " 0.0  0.1  0.0  0.0  0.0  0.0  0.2  0.0     0.0  0.0  0.1  0.0  2.0  0.0  0.0\n",
       " 0.0  0.0  0.0  0.0  0.0  0.0  0.2  0.0     0.0  0.0  0.2  0.0  0.0  1.2  0.1\n",
       " 0.0  0.1  0.0  0.0  0.0  0.0  0.2  0.0     0.0  0.0  0.1  0.2  0.0  0.0  2.2"
      ]
     },
     "execution_count": 59,
     "metadata": {},
     "output_type": "execute_result"
    }
   ],
   "source": [
    "cms = cms./10"
   ]
  },
  {
   "cell_type": "code",
   "execution_count": 63,
   "metadata": {},
   "outputs": [
    {
     "data": {
      "text/plain": [
       "69×69 Array{Int64,2}:\n",
       " 40   1   3   2   3   4   5   4  10  …   2   2   3   0  10   9   3   5   0\n",
       "  0  41   0   0   0   0   0   0   0      0   0   0   1   0   2   0   0   0\n",
       "  2   0  53   0   1   0   0   0   0      0   0   0   0   0   1   0   0   0\n",
       "  0   1   0  19   0   0   0   0   0      0   2   0   0   1   3   2   0   1\n",
       "  1   0   0   0  31   3   1   0   0      0   0   0   0   0   0   0   0   1\n",
       "  2   0   0   0   6  23   0   0   2  …   0   0   0   0   0   0   0   0   0\n",
       "  0   0   0   1   1   0  15   0   0      0   1   1   0   0   0   0   0   0\n",
       "  0   0   0   0   0   0   0  46   0      0   0   0   0   0   0   0   0   0\n",
       "  0   0   0   0   0   3   0   0  25      0   0   0   0   0   1   0   0   1\n",
       "  0   0   0   1   0   0   0   3   0      0   1   0   0   0   0   0   0   0\n",
       "  0   0   0   0   0   0   0   0   0  …   0   0   0   0   1   0   0   0   0\n",
       "  0   0   0   0   0   0   0   1   0      0   0   0   0   0   0   0   0   0\n",
       "  0   0   0   0   0   0   0   0   0      0   0   0   0   0   0   0   0   0\n",
       "  ⋮                   ⋮              ⋱   ⋮                   ⋮          \n",
       "  0   0   0   0   0   0   0   0   0      0   0   0   0   0   0   0   0   0\n",
       "  2   0   0   1   0   1   0   0   0      0   0   0   0   0   0   0   3   2\n",
       "  0   2   1   0   0   0   0   0   0      0   0   0   0   0   1   0   0   0\n",
       "  0   0   0   0   0   0   0   0   0  …  25   0   3   1   0   2   1   2   2\n",
       "  0   0   0   8   0   0   3   1   1      0  39   0   0   2   0   0   0   0\n",
       "  0   0   0   0   0   0   1   0   0      0   0  16   0   0   0   1   2   1\n",
       "  0   0   0   0   0   0   0   0   0      1   0   3  30   0   0   0   1   0\n",
       "  0   0   0   1   0   0   0   0   0      0   0   0   0  14   0   0   1   0\n",
       "  1   3   3   1   0   0   0   0   1  …   0   0   0   0   0  35   1   0   4\n",
       "  0   1   0   0   0   0   2   0   0      1   0   0   0   0   0  32   0   0\n",
       "  0   0   0   0   0   0   2   0   0      0   0   0   0   2   0   0  21   1\n",
       "  0   1   0   0   0   0   1   0   1      2   2   0   0   1   2   0   0  37"
      ]
     },
     "execution_count": 63,
     "metadata": {},
     "output_type": "execute_result"
    }
   ],
   "source": [
    "cms = ceil.(Int, cms)"
   ]
  },
  {
   "cell_type": "code",
   "execution_count": 6,
   "metadata": {
    "scrolled": true
   },
   "outputs": [
    {
     "data": {
      "text/plain": [
       "                                                                                                                                                                                                                                                                               Expected\n",
       "\n",
       "       1       2       3       4       5       6       7       8       9      10      11      12      13      14      15      16      17      18      19      20      21      22      23      24      25      26      27      28      29      30      31      32      33      34      35      36      37      38      39      40      41      42      43      44      45      46      47      48      49      50      51      52      53      54      55      56      57      58      59      60      61      62      63      64      65      66      67      68      69\n",
       "________________________________________________________________________________________________________________________________________________________________________________________________________________________________________________________________________________________________________________________________________________________________________________________________________________________________________________________________________________________________________________________________________________________________________\n",
       "    40.0     1.0     4.0     3.0     1.0     5.0     2.0     5.0    10.0     7.0     2.0     1.0     4.0     6.0     0.0     1.0    11.0     9.0     0.0     8.0     6.0     1.0    13.0     3.0     3.0     2.0     0.0     9.0     7.0     0.0     2.0     5.0     0.0     6.0     5.0     5.0     4.0     2.0     2.0     4.0     0.0     3.0     4.0     2.0     1.0     4.0     3.0     2.0    12.0     8.0     2.0     3.0     2.0     0.0     6.0     4.0     7.0    15.0     8.0     1.0     2.0     3.0     6.0     1.0     9.0     7.0     4.0     4.0     1.0   │1 \n",
       "     0.0    41.0     0.0     0.0     0.0     0.0     0.0     0.0     0.0     0.0     0.0     0.0     0.0     0.0     0.0     0.0     0.0     0.0     0.0     0.0     0.0     0.0     0.0     0.0     0.0     0.0     0.0     0.0     0.0     0.0     0.0     2.0     3.0     2.0     0.0     2.0     1.0     0.0     1.0     0.0     0.0     0.0     0.0     0.0     1.0     0.0     0.0     0.0     0.0     2.0     0.0     0.0     0.0     0.0     0.0     0.0     0.0     0.0     0.0     0.0     0.0     0.0     0.0     0.0     0.0     3.0     0.0     1.0     0.0   │2 \n",
       "     5.0     0.0    47.0     0.0     1.0     0.0     0.0     0.0     0.0     0.0     0.0     0.0     0.0     0.0     0.0     0.0     0.0     0.0     0.0     0.0     0.0     0.0     0.0     0.0     1.0     1.0     0.0     0.0     0.0     0.0     0.0     0.0     2.0     0.0     0.0     5.0     1.0     0.0     0.0     0.0     0.0     0.0     0.0     0.0     5.0     0.0     0.0     0.0     0.0     0.0     0.0     0.0     0.0     0.0     4.0     0.0     0.0     0.0     1.0     5.0     0.0     0.0     0.0     0.0     0.0     0.0     0.0     0.0     0.0   │3 \n",
       "     0.0     1.0     0.0    23.0     0.0     0.0     0.0     0.0     0.0     0.0     1.0     0.0     0.0     0.0     0.0     0.0     0.0     0.0     0.0     0.0     1.0     0.0     0.0     3.0     1.0     2.0     0.0     0.0     0.0     0.0     0.0     0.0     0.0     1.0     1.0     0.0     1.0     0.0     0.0     0.0     0.0     0.0     0.0     0.0     0.0     0.0     0.0     0.0     0.0     1.0     1.0     1.0     0.0     0.0     0.0     2.0     2.0     0.0     0.0     0.0     0.0     1.0     0.0     0.0     2.0     1.0     1.0     0.0     1.0   │4 \n",
       "     1.0     0.0     0.0     0.0    28.0     5.0     0.0     0.0     1.0     0.0     0.0     0.0     0.0     0.0     0.0     0.0     0.0     0.0     0.0     0.0     0.0     0.0     0.0     1.0     0.0     0.0     0.0     0.0     0.0     0.0     0.0     0.0     0.0     0.0     0.0     0.0     3.0     0.0     1.0     0.0     0.0     0.0     0.0     0.0     2.0     0.0     0.0     0.0     0.0     0.0     0.0     1.0     0.0     0.0     0.0     0.0     0.0     0.0     1.0     0.0     0.0     0.0     0.0     0.0     0.0     0.0     0.0     0.0     1.0   │5 \n",
       "     5.0     0.0     0.0     0.0     6.0    25.0     1.0     0.0     1.0     0.0     0.0     0.0     0.0     0.0     0.0     0.0     0.0     0.0     0.0     0.0     0.0     0.0     1.0     0.0     0.0     1.0     0.0     1.0     0.0     1.0     1.0     2.0     1.0     2.0     2.0     0.0     1.0     0.0     1.0     0.0     0.0     0.0     0.0     0.0     1.0     0.0     0.0     0.0     0.0     0.0     0.0     1.0     0.0     0.0     0.0     0.0     0.0     0.0     0.0     0.0     0.0     0.0     0.0     0.0     0.0     0.0     1.0     0.0     0.0   │6 \n",
       "     0.0     0.0     0.0     0.0     1.0     0.0    18.0     0.0     0.0     0.0     0.0     0.0     0.0     0.0     0.0     0.0     0.0     0.0     0.0     0.0     0.0     0.0     0.0     0.0     0.0     0.0     0.0     0.0     0.0     0.0     0.0     0.0     1.0     0.0     0.0     0.0     0.0     0.0     0.0     3.0     0.0     0.0     0.0     0.0     3.0     0.0     0.0     0.0     0.0     0.0     0.0     0.0     0.0     0.0     1.0     1.0     0.0     0.0     0.0     1.0     0.0     1.0     0.0     0.0     0.0     0.0     0.0     0.0     1.0   │7 \n",
       "     0.0     0.0     0.0     0.0     0.0     0.0     0.0    45.0     0.0     2.0     0.0     0.0     1.0     3.0     1.0     4.0     0.0     0.0     0.0     0.0     0.0     0.0     0.0     1.0     1.0     0.0     0.0     2.0     1.0     1.0     1.0     0.0     0.0     0.0     0.0     0.0     0.0     0.0     0.0     0.0     0.0     0.0     0.0     0.0     0.0     0.0     0.0     0.0     0.0     0.0     0.0     0.0     0.0     0.0     0.0     0.0     0.0     0.0     0.0     0.0     0.0     0.0     0.0     0.0     0.0     0.0     0.0     0.0     0.0   │8 \n",
       "     1.0     0.0     0.0     0.0     0.0     3.0     1.0     0.0    29.0     0.0     0.0     0.0     0.0     0.0     0.0     0.0     0.0     0.0     0.0     0.0     0.0     0.0     0.0     0.0     0.0     0.0     0.0     0.0     0.0     0.0     0.0     0.0     0.0     0.0     0.0     0.0     1.0     1.0     0.0     0.0     0.0     4.0     0.0     0.0     0.0     0.0     0.0     0.0     0.0     0.0     0.0     0.0     0.0     0.0     0.0     0.0     0.0     1.0     0.0     0.0     0.0     0.0     0.0     0.0     0.0     2.0     0.0     1.0     2.0   │9 \n",
       "     0.0     0.0     0.0     0.0     0.0     0.0     0.0     1.0     0.0    35.0     1.0     2.0     0.0     1.0     1.0     3.0     0.0     0.0     0.0     0.0     0.0     1.0     0.0     0.0     0.0     0.0     1.0     0.0     0.0     0.0     0.0     0.0     0.0     0.0     0.0     0.0     0.0     0.0     0.0     0.0     0.0     0.0     0.0     0.0     0.0     0.0     0.0     0.0     0.0     0.0     0.0     0.0     0.0     0.0     0.0     0.0     1.0     0.0     0.0     0.0     0.0     1.0     0.0     0.0     0.0     0.0     0.0     0.0     0.0   │10 \n",
       "     0.0     0.0     0.0     0.0     0.0     0.0     0.0     0.0     0.0     2.0    31.0     2.0     0.0     1.0     1.0     2.0     0.0     0.0     2.0     1.0     0.0     0.0     2.0     0.0     0.0     0.0     1.0     0.0     0.0     1.0     2.0     0.0     0.0     0.0     0.0     0.0     0.0     0.0     0.0     0.0     0.0     0.0     0.0     0.0     0.0     0.0     0.0     0.0     0.0     0.0     0.0     0.0     0.0     0.0     0.0     0.0     0.0     0.0     0.0     0.0     0.0     0.0     0.0     0.0     0.0     0.0     0.0     0.0     0.0   │11 \n",
       "     0.0     0.0     0.0     0.0     0.0     0.0     0.0     1.0     0.0     0.0     0.0    21.0     2.0     0.0     4.0     2.0     0.0     0.0     0.0     0.0     0.0     0.0     1.0     0.0     0.0     0.0     0.0     1.0     0.0     1.0     0.0     0.0     0.0     0.0     0.0     0.0     0.0     0.0     0.0     0.0     0.0     0.0     0.0     0.0     0.0     0.0     0.0     0.0     0.0     0.0     0.0     0.0     0.0     0.0     0.0     0.0     0.0     0.0     0.0     0.0     0.0     0.0     0.0     0.0     0.0     0.0     0.0     0.0     0.0   │12 \n",
       "     0.0     0.0     0.0     0.0     0.0     0.0     0.0     0.0     0.0     0.0     1.0     2.0    19.0     1.0     1.0     2.0     0.0     0.0     0.0     0.0     0.0     0.0     0.0     0.0     0.0     0.0     1.0     1.0     0.0     0.0     3.0     0.0     0.0     0.0     0.0     0.0     0.0     0.0     0.0     0.0     0.0     0.0     0.0     0.0     0.0     0.0     0.0     0.0     0.0     0.0     0.0     0.0     0.0     0.0     0.0     0.0     1.0     0.0     0.0     0.0     0.0     0.0     0.0     0.0     0.0     0.0     0.0     0.0     0.0   │13 \n",
       "     0.0     0.0     0.0     0.0     0.0     0.0     0.0     0.0     0.0     2.0     0.0     0.0     0.0    38.0     1.0     1.0     0.0     1.0     0.0     0.0     0.0     0.0     0.0     1.0     0.0     0.0     0.0     1.0     0.0     0.0     0.0     0.0     0.0     0.0     0.0     0.0     0.0     0.0     0.0     0.0     0.0     0.0     0.0     0.0     0.0     0.0     0.0     0.0     0.0     0.0     0.0     0.0     0.0     0.0     0.0     0.0     0.0     0.0     0.0     0.0     0.0     0.0     0.0     0.0     0.0     0.0     0.0     0.0     0.0   │14 \n",
       "     0.0     0.0     0.0     0.0     0.0     0.0     0.0     0.0     0.0     0.0     1.0     6.0     5.0     3.0    24.0     1.0     0.0     0.0     1.0     0.0     0.0     0.0     2.0     0.0     0.0     0.0     0.0     0.0     0.0     2.0     0.0     0.0     0.0     0.0     0.0     0.0     0.0     0.0     0.0     0.0     0.0     0.0     0.0     0.0     0.0     0.0     0.0     0.0     0.0     0.0     0.0     0.0     0.0     0.0     0.0     0.0     1.0     0.0     0.0     0.0     0.0     0.0     0.0     0.0     0.0     0.0     0.0     0.0     0.0   │15 \n",
       "     0.0     0.0     0.0     0.0     0.0     0.0     0.0     4.0     0.0     5.0     2.0     4.0     2.0     3.0     4.0    44.0     0.0     0.0     3.0     0.0     1.0     1.0     2.0     0.0     0.0     0.0     1.0     2.0     0.0     1.0     1.0     0.0     0.0     0.0     0.0     0.0     0.0     0.0     0.0     0.0     0.0     0.0     0.0     0.0     0.0     0.0     0.0     0.0     0.0     0.0     0.0     0.0     0.0     0.0     0.0     0.0     0.0     0.0     0.0     0.0     0.0     0.0     0.0     0.0     0.0     0.0     0.0     0.0     0.0   │16 \n",
       "     0.0     0.0     0.0     0.0     0.0     0.0     0.0     0.0     0.0     0.0     0.0     0.0     0.0     0.0     0.0     0.0    22.0     2.0     0.0     6.0     3.0     1.0     0.0     0.0     0.0     0.0     0.0     0.0     0.0     0.0     2.0     0.0     0.0     1.0     0.0     0.0     0.0     0.0     0.0     0.0     0.0     0.0     0.0     0.0     0.0     0.0     0.0     0.0     0.0     0.0     0.0     0.0     0.0     0.0     0.0     0.0     0.0     0.0     0.0     0.0     0.0     0.0     0.0     0.0     0.0     0.0     0.0     0.0     0.0   │17 \n",
       "     0.0     0.0     0.0     0.0     0.0     0.0     0.0     0.0     0.0     0.0     0.0     0.0     0.0     0.0     1.0     0.0     0.0    37.0     0.0     0.0     1.0     1.0     0.0     0.0     0.0     0.0     1.0     2.0     1.0     0.0     0.0     1.0     0.0     0.0     0.0     0.0     0.0     0.0     0.0     0.0     0.0     0.0     0.0     0.0     0.0     0.0     0.0     0.0     0.0     0.0     0.0     0.0     0.0     0.0     0.0     0.0     3.0     0.0     0.0     0.0     0.0     0.0     0.0     0.0     0.0     0.0     0.0     0.0     0.0   │18 \n",
       "     0.0     0.0     0.0     0.0     0.0     0.0     0.0     0.0     0.0     2.0     5.0     1.0     2.0     0.0     0.0     0.0     0.0     0.0    39.0     0.0     0.0     0.0     0.0     0.0     0.0     0.0     3.0     0.0     0.0     0.0     1.0     0.0     0.0     0.0     0.0     1.0     0.0     0.0     0.0     0.0     0.0     0.0     0.0     0.0     0.0     0.0     0.0     0.0     0.0     0.0     0.0     0.0     0.0     0.0     0.0     0.0     9.0     0.0     0.0     0.0     0.0     0.0     0.0     0.0     0.0     0.0     0.0     0.0     0.0   │19 \n",
       "     0.0     0.0     0.0     0.0     0.0     0.0     0.0     0.0     0.0     0.0     0.0     0.0     0.0     0.0     0.0     0.0     7.0     0.0     0.0    25.0     4.0     1.0     0.0     0.0     0.0     0.0     0.0     0.0     0.0     0.0     0.0     2.0     0.0     0.0     0.0     0.0     0.0     0.0     0.0     0.0     0.0     0.0     0.0     0.0     0.0     0.0     0.0     0.0     1.0     0.0     0.0     0.0     0.0     0.0     0.0     0.0     0.0     0.0     1.0     0.0     0.0     0.0     0.0     0.0     0.0     0.0     0.0     0.0     0.0   │20 \n",
       "     0.0     0.0     0.0     0.0     0.0     0.0     0.0     0.0     0.0     0.0     0.0     1.0     1.0     0.0     0.0     0.0     0.0     1.0     0.0     0.0    12.0     2.0     0.0     0.0     0.0     0.0     0.0     0.0     0.0     1.0     0.0     1.0     0.0     0.0     0.0     0.0     1.0     0.0     0.0     0.0     0.0     0.0     0.0     0.0     0.0     0.0     0.0     0.0     0.0     0.0     1.0     1.0     0.0     0.0     0.0     1.0     0.0     0.0     0.0     0.0     0.0     0.0     1.0     0.0     0.0     0.0     0.0     0.0     0.0   │21 \n",
       "     0.0     0.0     0.0     0.0     0.0     0.0     0.0     0.0     0.0     0.0     1.0     0.0     1.0     0.0     0.0     0.0     1.0     2.0     0.0     0.0     0.0    35.0     0.0     0.0     0.0     0.0     0.0     0.0     0.0     0.0     0.0     0.0     0.0     0.0     0.0     0.0     0.0     0.0     0.0     0.0     0.0     0.0     0.0     0.0     0.0     0.0     0.0     0.0     0.0     0.0     0.0     0.0     0.0     0.0     0.0     1.0     0.0     0.0     0.0     0.0     0.0     0.0     0.0     0.0     0.0     0.0     0.0     0.0     0.0   │22 \n",
       "     0.0     0.0     0.0     0.0     0.0     0.0     0.0     1.0     0.0     0.0     2.0     1.0     0.0     1.0     0.0     1.0     0.0     0.0     0.0     0.0     0.0     2.0    18.0     0.0     1.0     0.0     1.0     1.0     0.0     4.0     0.0     0.0     0.0     1.0     0.0     0.0     0.0     0.0     0.0     0.0     0.0     0.0     0.0     0.0     0.0     0.0     0.0     0.0     0.0     0.0     0.0     0.0     0.0     0.0     0.0     0.0     0.0     0.0     0.0     0.0     0.0     0.0     0.0     0.0     0.0     0.0     0.0     0.0     0.0   │23 \n",
       "     1.0     0.0     0.0     2.0     0.0     0.0     1.0     1.0     1.0     0.0     0.0     0.0     0.0     0.0     0.0     1.0     0.0     0.0     0.0     0.0     0.0     0.0     0.0    27.0     1.0     0.0     0.0     0.0     0.0     1.0     1.0     0.0     0.0     0.0     0.0     0.0     0.0     0.0     1.0     0.0     0.0     0.0     0.0     0.0     0.0     0.0     0.0     0.0     0.0     0.0     0.0     0.0     0.0     0.0     0.0     0.0     0.0     3.0     0.0     0.0     0.0     1.0     0.0     0.0     2.0     0.0     0.0     0.0     2.0   │24 \n",
       "     1.0     0.0     0.0     1.0     1.0     2.0     1.0     2.0     0.0     0.0     0.0     0.0     0.0     2.0     0.0     0.0     0.0     0.0     0.0     0.0     0.0     0.0     0.0     4.0    44.0     1.0     0.0     1.0     0.0     1.0     1.0     0.0     0.0     0.0     0.0     0.0     1.0     1.0     0.0     0.0     0.0     0.0     0.0     0.0     1.0     0.0     0.0     0.0     0.0     0.0     1.0     0.0     0.0     0.0     0.0     0.0     0.0     0.0     1.0     0.0     0.0     0.0     0.0     0.0     1.0     1.0     0.0     0.0     0.0   │25 \n",
       "     2.0     0.0     1.0     0.0     1.0     1.0     3.0     0.0     0.0     0.0     0.0     0.0     0.0     0.0     0.0     0.0     0.0     0.0     0.0     0.0     0.0     0.0     0.0     1.0     1.0    25.0     0.0     0.0     0.0     0.0     1.0     0.0     6.0     3.0     3.0     1.0     0.0     0.0     1.0     0.0     0.0     2.0     0.0     0.0     0.0     0.0     0.0     0.0     0.0     0.0     0.0     0.0     0.0     0.0     1.0     0.0     0.0     0.0     0.0     0.0     1.0     4.0     0.0     0.0     0.0     0.0     1.0     0.0     3.0   │26 \n",
       "     0.0     0.0     0.0     0.0     0.0     0.0     0.0     2.0     0.0     3.0     0.0     0.0     1.0     2.0     0.0     0.0     0.0     0.0     2.0     0.0     0.0     0.0     0.0     1.0     0.0     0.0    47.0     0.0     1.0     0.0     0.0     0.0     0.0     0.0     0.0     0.0     0.0     0.0     0.0     0.0     0.0     0.0     0.0     0.0     0.0     0.0     0.0     0.0     0.0     0.0     0.0     0.0     0.0     0.0     0.0     0.0     0.0     0.0     0.0     0.0     0.0     0.0     0.0     0.0     1.0     0.0     0.0     0.0     0.0   │27 \n",
       "     0.0     0.0     0.0     0.0     0.0     0.0     0.0     1.0     0.0     0.0     0.0     0.0     1.0     1.0     0.0     0.0     0.0     1.0     0.0     0.0     0.0     0.0     0.0     0.0     1.0     0.0     0.0    41.0     0.0     1.0     0.0     0.0     0.0     0.0     0.0     0.0     0.0     0.0     1.0     0.0     0.0     0.0     0.0     0.0     0.0     0.0     0.0     0.0     0.0     0.0     0.0     0.0     0.0     0.0     0.0     0.0     0.0     0.0     0.0     0.0     0.0     0.0     0.0     0.0     0.0     0.0     0.0     0.0     0.0   │28 \n",
       "     0.0     0.0     0.0     0.0     0.0     0.0     0.0     0.0     0.0     0.0     0.0     0.0     0.0     1.0     0.0     0.0     0.0     0.0     0.0     0.0     0.0     0.0     2.0     1.0     0.0     0.0     2.0     0.0    44.0     0.0     0.0     0.0     0.0     0.0     0.0     0.0     0.0     0.0     0.0     0.0     0.0     0.0     0.0     0.0     0.0     0.0     0.0     0.0     0.0     0.0     0.0     0.0     0.0     0.0     0.0     0.0     1.0     0.0     0.0     0.0     0.0     0.0     0.0     0.0     2.0     0.0     0.0     0.0     0.0   │29 \n",
       "     0.0     0.0     0.0     0.0     0.0     0.0     0.0     0.0     0.0     0.0     0.0     1.0     0.0     2.0     3.0     0.0     1.0     0.0     0.0     0.0     2.0     0.0     4.0     2.0     0.0     0.0     0.0     0.0     5.0    35.0     0.0     0.0     0.0     0.0     0.0     0.0     0.0     0.0     0.0     0.0     0.0     0.0     0.0     0.0     0.0     0.0     0.0     0.0     0.0     0.0     0.0     0.0     0.0     0.0     0.0     3.0     0.0     0.0     0.0     0.0     0.0     0.0     0.0     0.0     1.0     0.0     0.0     0.0     0.0   │30 \n",
       "     0.0     0.0     0.0     0.0     1.0     1.0     0.0     0.0     2.0     0.0     0.0     0.0     1.0     1.0     0.0     2.0     0.0     0.0     0.0     0.0     1.0     2.0     0.0     2.0     1.0     0.0     1.0     0.0     0.0     0.0    48.0     0.0     0.0     2.0     0.0     0.0     1.0     0.0     0.0     0.0     0.0     1.0     0.0     0.0     0.0     0.0     0.0     0.0     0.0     0.0     0.0     0.0     0.0     0.0     0.0     1.0     0.0     0.0     0.0     0.0     0.0     0.0     0.0     0.0     0.0     0.0     0.0     0.0     2.0   │31 \n",
       "     0.0     0.0     0.0     0.0     0.0     0.0     0.0     0.0     0.0     0.0     0.0     0.0     0.0     0.0     0.0     0.0     1.0     0.0     0.0     0.0     1.0     0.0     0.0     0.0     0.0     0.0     0.0     0.0     0.0     0.0     0.0    23.0     0.0     0.0     0.0     0.0     0.0     1.0     0.0     0.0     0.0     0.0     0.0     0.0     0.0     0.0     0.0     0.0     0.0     0.0     0.0     0.0     0.0     0.0     0.0     2.0     1.0     1.0     0.0     0.0     0.0     0.0     0.0     0.0     4.0     0.0     1.0     0.0     0.0   │32 \n",
       "     1.0     1.0     2.0     1.0     0.0     0.0     8.0     0.0     0.0     0.0     0.0     0.0     0.0     0.0     0.0     0.0     0.0     0.0     0.0     0.0     0.0     0.0     0.0     0.0     2.0     4.0     0.0     0.0     0.0     0.0     0.0     1.0    22.0     0.0     0.0     0.0     1.0     0.0     1.0     0.0     0.0     0.0     0.0     0.0     0.0     0.0     0.0     0.0     0.0     0.0     0.0     0.0     0.0     0.0     2.0     0.0     0.0     0.0     0.0     1.0     0.0     0.0     1.0     0.0     0.0     0.0     2.0     0.0     0.0   │33 \n",
       "     1.0     0.0     0.0     1.0     0.0     0.0     0.0     0.0     1.0     0.0     0.0     0.0     0.0     0.0     0.0     0.0     0.0     0.0     0.0     0.0     0.0     0.0     0.0     0.0     0.0     0.0     0.0     0.0     0.0     0.0     0.0     2.0     0.0    13.0     0.0     0.0     1.0     0.0     1.0     0.0     0.0     1.0     0.0     0.0     1.0     0.0     1.0     0.0     0.0     0.0     0.0     0.0     0.0     0.0     0.0     1.0     0.0     0.0     0.0     1.0     0.0     0.0     0.0     0.0     0.0     1.0     0.0     2.0     1.0   │34 \n",
       "     0.0     2.0     0.0     0.0     0.0     1.0     0.0     0.0     0.0     0.0     0.0     0.0     0.0     0.0     0.0     0.0     0.0     0.0     0.0     0.0     1.0     0.0     1.0     2.0     0.0     2.0     0.0     0.0     0.0     0.0     0.0     0.0     0.0     0.0    19.0     0.0     0.0     0.0     0.0     0.0     0.0     0.0     0.0     1.0     0.0     0.0     1.0     0.0     1.0     0.0     2.0     1.0     0.0     0.0     0.0     0.0     0.0     0.0     2.0     0.0     1.0     0.0     0.0     0.0     0.0     0.0     0.0     2.0     1.0   │35\tPredicted\n",
       "     0.0     1.0     0.0     0.0     0.0     0.0     0.0     0.0     0.0     0.0     0.0     0.0     0.0     0.0     0.0     0.0     0.0     0.0     0.0     0.0     0.0     0.0     0.0     0.0     0.0     0.0     0.0     0.0     0.0     0.0     0.0     0.0     0.0     0.0     0.0    16.0     0.0     0.0     0.0     2.0     0.0     0.0     0.0     0.0     0.0     0.0     0.0     0.0     0.0     0.0     0.0     0.0     0.0     0.0     0.0     0.0     0.0     0.0     0.0     0.0     0.0     0.0     0.0     0.0     0.0     0.0     0.0     0.0     0.0   │36 \n",
       "     1.0     0.0     0.0     1.0     3.0     1.0     0.0     0.0     1.0     0.0     0.0     0.0     0.0     0.0     0.0     0.0     0.0     0.0     0.0     0.0     0.0     0.0     0.0     0.0     0.0     1.0     0.0     2.0     0.0     1.0     0.0     0.0     0.0     0.0     0.0     2.0    19.0     0.0     1.0     0.0     0.0     0.0     0.0     0.0     0.0     0.0     0.0     0.0     0.0     1.0     0.0     0.0     1.0     0.0     1.0     0.0     0.0     1.0     0.0     0.0     1.0     0.0     0.0     1.0     0.0     2.0     1.0     0.0     1.0   │37 \n",
       "     0.0     0.0     0.0     0.0     0.0     1.0     0.0     0.0     0.0     1.0     0.0     0.0     0.0     0.0     0.0     0.0     0.0     0.0     0.0     0.0     0.0     0.0     0.0     0.0     1.0     0.0     0.0     0.0     0.0     0.0     0.0     0.0     0.0     2.0     0.0     1.0     2.0    51.0     2.0     1.0     0.0     0.0     0.0     0.0     1.0     1.0     0.0     0.0     1.0     7.0     0.0     0.0     0.0     0.0     0.0     0.0     0.0     0.0     0.0     0.0     0.0     0.0     1.0     0.0     1.0     0.0     0.0     0.0     0.0   │38 \n",
       "     2.0     1.0     0.0     0.0     0.0     1.0     0.0     0.0     0.0     0.0     0.0     0.0     0.0     0.0     0.0     0.0     0.0     0.0     0.0     0.0     0.0     0.0     0.0     0.0     0.0     0.0     0.0     0.0     0.0     0.0     0.0     0.0     0.0     0.0     0.0     0.0     0.0     1.0    22.0     1.0     0.0     0.0     0.0     0.0     0.0     0.0     0.0     0.0     0.0     2.0     0.0     1.0     0.0     0.0     0.0     0.0     0.0     0.0     1.0     0.0     1.0     0.0     1.0     0.0     0.0     0.0     0.0     1.0     1.0   │39 \n",
       "     1.0     0.0     0.0     0.0     0.0     0.0     1.0     0.0     0.0     0.0     0.0     0.0     0.0     0.0     0.0     0.0     0.0     0.0     0.0     0.0     0.0     0.0     0.0     0.0     0.0     0.0     0.0     0.0     0.0     0.0     0.0     0.0     0.0     1.0     0.0     2.0     0.0     0.0     2.0    16.0     3.0     0.0     1.0     0.0     0.0     0.0     0.0     1.0     0.0     2.0     0.0     0.0     0.0     0.0     0.0     0.0     0.0     0.0     0.0     0.0     0.0     0.0     1.0     0.0     0.0     0.0     0.0     0.0     0.0   │40 \n",
       "     0.0     1.0     0.0     0.0     0.0     0.0     0.0     0.0     0.0     0.0     0.0     0.0     0.0     0.0     0.0     0.0     0.0     0.0     0.0     0.0     0.0     0.0     0.0     0.0     0.0     0.0     0.0     0.0     0.0     0.0     0.0     0.0     0.0     0.0     0.0     1.0     0.0     1.0     2.0     2.0    54.0     0.0     7.0     1.0     0.0     1.0     1.0     1.0     0.0     0.0     0.0     0.0     1.0     5.0     0.0     0.0     1.0     0.0     0.0     1.0     0.0     1.0     0.0     0.0     0.0     0.0     0.0     0.0     0.0   │41 \n",
       "     1.0     0.0     0.0     0.0     1.0     0.0     0.0     0.0     3.0     0.0     0.0     0.0     0.0     0.0     0.0     0.0     1.0     0.0     0.0     0.0     0.0     0.0     0.0     0.0     0.0     0.0     0.0     0.0     0.0     0.0     1.0     1.0     0.0     0.0     0.0     0.0     1.0     0.0     1.0     0.0     0.0    37.0     0.0     0.0     1.0     0.0     0.0     0.0     0.0     0.0     0.0     0.0     0.0     0.0     0.0     0.0     0.0     0.0     0.0     0.0     0.0     0.0     0.0     0.0     0.0     0.0     0.0     0.0     0.0   │42 \n",
       "     0.0     0.0     0.0     0.0     0.0     0.0     0.0     0.0     0.0     0.0     0.0     0.0     0.0     0.0     0.0     0.0     0.0     0.0     0.0     0.0     0.0     0.0     0.0     0.0     0.0     0.0     0.0     0.0     0.0     0.0     0.0     0.0     0.0     0.0     0.0     0.0     0.0     0.0     2.0     1.0     1.0     0.0    23.0     0.0     0.0     0.0     1.0     0.0     0.0     0.0     0.0     0.0     0.0     1.0     0.0     0.0     0.0     0.0     0.0     0.0     1.0     0.0     2.0     0.0     0.0     0.0     1.0     0.0     0.0   │43 \n",
       "     0.0     1.0     0.0     0.0     0.0     0.0     0.0     0.0     0.0     0.0     0.0     0.0     0.0     0.0     0.0     0.0     0.0     0.0     0.0     0.0     0.0     0.0     0.0     0.0     0.0     0.0     0.0     0.0     0.0     0.0     0.0     0.0     0.0     0.0     0.0     0.0     0.0     0.0     0.0     0.0     0.0     0.0     3.0    15.0     0.0     0.0     0.0     0.0     1.0     0.0     0.0     0.0     2.0     1.0     0.0     0.0     0.0     0.0     0.0     1.0     0.0     0.0     0.0     1.0     0.0     0.0     0.0     1.0     0.0   │44 \n",
       "     0.0     0.0     5.0     2.0     3.0     0.0     1.0     0.0     1.0     0.0     0.0     0.0     0.0     0.0     0.0     0.0     0.0     0.0     0.0     0.0     0.0     0.0     0.0     0.0     0.0     2.0     0.0     0.0     0.0     0.0     0.0     0.0     3.0     1.0     0.0     4.0     0.0     0.0     0.0     1.0     0.0     0.0     0.0     0.0    26.0     0.0     0.0     0.0     0.0     1.0     0.0     0.0     0.0     1.0     1.0     0.0     0.0     0.0     0.0     1.0     0.0     0.0     0.0     0.0     0.0     2.0     0.0     0.0     0.0   │45 \n",
       "     0.0     0.0     0.0     0.0     0.0     0.0     0.0     0.0     0.0     0.0     0.0     0.0     0.0     0.0     0.0     0.0     0.0     0.0     0.0     0.0     1.0     0.0     0.0     0.0     0.0     0.0     0.0     0.0     0.0     0.0     0.0     0.0     0.0     0.0     0.0     0.0     0.0     0.0     0.0     0.0     0.0     0.0     0.0     0.0     0.0    31.0     2.0     0.0     0.0     0.0     0.0     0.0     0.0     0.0     0.0     0.0     0.0     5.0     0.0     0.0     2.0     0.0     0.0     2.0     0.0     0.0     0.0     0.0     0.0   │46 \n",
       "     0.0     2.0     0.0     0.0     0.0     1.0     0.0     0.0     0.0     0.0     0.0     0.0     0.0     0.0     0.0     0.0     0.0     0.0     0.0     0.0     1.0     0.0     0.0     0.0     0.0     0.0     0.0     0.0     0.0     0.0     0.0     0.0     1.0     0.0     1.0     0.0     0.0     0.0     0.0     0.0     0.0     0.0     0.0     0.0     0.0     3.0    47.0     2.0     0.0     0.0     1.0     0.0     0.0     0.0     0.0     0.0     0.0     1.0     1.0     0.0     2.0     0.0     0.0     0.0     0.0     0.0     0.0     4.0     0.0   │47 \n",
       "     0.0     0.0     0.0     0.0     0.0     0.0     0.0     0.0     0.0     0.0     0.0     0.0     0.0     0.0     0.0     0.0     0.0     0.0     0.0     0.0     0.0     1.0     0.0     0.0     0.0     0.0     0.0     0.0     0.0     0.0     0.0     0.0     0.0     1.0     0.0     0.0     0.0     0.0     0.0     3.0     0.0     0.0     2.0     1.0     0.0     2.0     0.0    15.0     0.0     0.0     0.0     0.0     0.0     0.0     0.0     0.0     0.0     0.0     0.0     0.0     3.0     0.0     3.0     4.0     0.0     0.0     0.0     0.0     0.0   │48 \n",
       "     0.0     1.0     0.0     0.0     0.0     0.0     0.0     0.0     0.0     0.0     0.0     0.0     0.0     0.0     0.0     0.0     0.0     0.0     0.0     0.0     0.0     0.0     0.0     0.0     0.0     0.0     0.0     0.0     0.0     0.0     0.0     0.0     0.0     0.0     0.0     0.0     1.0     0.0     0.0     0.0     0.0     0.0     0.0     0.0     0.0     0.0     0.0     0.0    27.0     0.0     0.0     2.0     0.0     0.0     0.0     1.0     0.0     1.0     0.0     0.0     0.0     0.0     0.0     0.0     0.0     0.0     0.0     0.0     0.0   │49 \n",
       "     0.0     0.0     0.0     0.0     0.0     0.0     0.0     0.0     0.0     0.0     0.0     0.0     0.0     0.0     0.0     0.0     0.0     0.0     0.0     0.0     0.0     0.0     0.0     0.0     0.0     0.0     0.0     0.0     0.0     0.0     0.0     0.0     0.0     0.0     0.0     0.0     0.0     3.0     1.0     0.0     0.0     0.0     1.0     0.0     0.0     0.0     0.0     0.0     0.0    13.0     0.0     0.0     0.0     0.0     0.0     0.0     0.0     0.0     0.0     0.0     0.0     0.0     0.0     0.0     0.0     1.0     0.0     0.0     1.0   │50 \n",
       "     0.0     2.0     0.0     1.0     0.0     0.0     0.0     0.0     0.0     0.0     0.0     0.0     0.0     0.0     0.0     0.0     0.0     0.0     0.0     0.0     0.0     0.0     0.0     0.0     0.0     0.0     0.0     0.0     0.0     0.0     0.0     1.0     1.0     0.0     0.0     1.0     0.0     0.0     0.0     1.0     0.0     0.0     1.0     4.0     0.0     0.0     3.0     0.0     1.0     0.0    38.0     0.0     0.0     1.0     0.0     1.0     0.0     0.0     0.0     1.0     0.0     0.0     0.0     0.0     0.0     0.0     0.0     1.0     0.0   │51 \n",
       "     0.0     1.0     0.0     1.0     0.0     0.0     0.0     0.0     0.0     0.0     0.0     0.0     0.0     0.0     0.0     0.0     0.0     0.0     0.0     0.0     1.0     0.0     0.0     0.0     0.0     0.0     0.0     0.0     0.0     0.0     0.0     0.0     0.0     0.0     4.0     0.0     0.0     0.0     0.0     0.0     0.0     0.0     0.0     0.0     0.0     0.0     0.0     0.0     6.0     0.0     1.0    32.0     0.0     0.0     1.0     0.0     0.0     0.0     2.0     0.0     1.0     0.0     0.0     0.0     0.0     0.0     0.0     0.0     0.0   │52 \n",
       "     0.0     0.0     0.0     0.0     0.0     0.0     0.0     0.0     0.0     0.0     0.0     0.0     0.0     0.0     0.0     0.0     0.0     0.0     0.0     0.0     0.0     0.0     0.0     0.0     0.0     0.0     0.0     0.0     0.0     0.0     0.0     0.0     0.0     0.0     0.0     2.0     1.0     0.0     0.0     1.0     1.0     0.0     2.0     0.0     0.0     0.0     0.0     0.0     1.0     0.0     1.0     0.0    38.0     1.0     0.0     1.0     0.0     0.0     0.0     1.0     0.0     0.0     0.0     0.0     1.0     0.0     3.0     0.0     0.0   │53 \n",
       "     0.0     1.0     0.0     0.0     0.0     0.0     0.0     0.0     0.0     0.0     0.0     0.0     1.0     0.0     0.0     0.0     0.0     0.0     0.0     0.0     0.0     0.0     0.0     0.0     0.0     0.0     0.0     0.0     0.0     0.0     0.0     0.0     0.0     0.0     0.0     1.0     2.0     0.0     2.0     2.0     3.0     0.0     1.0     3.0     1.0     0.0     1.0     0.0     0.0     1.0     3.0     0.0     1.0    52.0     1.0     0.0     2.0     0.0     0.0     2.0     0.0     0.0     0.0     0.0     0.0     0.0     0.0     0.0     0.0   │54 \n",
       "     0.0     0.0     1.0     0.0     0.0     0.0     0.0     0.0     0.0     0.0     0.0     0.0     0.0     0.0     0.0     0.0     0.0     0.0     1.0     0.0     0.0     0.0     0.0     0.0     0.0     0.0     0.0     0.0     0.0     0.0     0.0     0.0     0.0     0.0     0.0     1.0     0.0     0.0     0.0     0.0     1.0     0.0     0.0     0.0     0.0     0.0     0.0     0.0     0.0     0.0     0.0     1.0     0.0     1.0    29.0     0.0     0.0     0.0     0.0     0.0     0.0     0.0     0.0     0.0     0.0     0.0     0.0     0.0     0.0   │55 \n",
       "     1.0     0.0     0.0     2.0     0.0     0.0     1.0     0.0     0.0     0.0     0.0     0.0     0.0     1.0     0.0     0.0     0.0     2.0     0.0     0.0     1.0     2.0     0.0     1.0     0.0     0.0     0.0     0.0     0.0     1.0     0.0     0.0     1.0     1.0     1.0     0.0     0.0     0.0     0.0     0.0     0.0     0.0     0.0     0.0     0.0     0.0     0.0     0.0     0.0     0.0     0.0     0.0     0.0     0.0     0.0    26.0     0.0     1.0     1.0     0.0     0.0     0.0     0.0     0.0     2.0     0.0     0.0     0.0     0.0   │56 \n",
       "     0.0     0.0     0.0     2.0     0.0     0.0     0.0     0.0     0.0     0.0     1.0     1.0     1.0     0.0     0.0     0.0     0.0     5.0     0.0     0.0     0.0     0.0     0.0     0.0     0.0     0.0     0.0     0.0     1.0     0.0     0.0     0.0     0.0     0.0     0.0     0.0     0.0     0.0     0.0     0.0     0.0     0.0     0.0     0.0     0.0     0.0     0.0     0.0     1.0     0.0     0.0     0.0     0.0     0.0     0.0     0.0    24.0     0.0     0.0     0.0     0.0     1.0     0.0     0.0     0.0     0.0     0.0     0.0     0.0   │57 \n",
       "     0.0     0.0     0.0     0.0     0.0     0.0     0.0     0.0     0.0     0.0     0.0     0.0     0.0     0.0     1.0     0.0     0.0     0.0     0.0     0.0     0.0     0.0     0.0     0.0     0.0     0.0     0.0     0.0     0.0     0.0     0.0     0.0     1.0     0.0     0.0     0.0     0.0     0.0     0.0     0.0     0.0     0.0     0.0     0.0     0.0     0.0     2.0     0.0     3.0     0.0     0.0     0.0     0.0     0.0     0.0     0.0     0.0    27.0     0.0     0.0     0.0     0.0     0.0     0.0     0.0     0.0     0.0     0.0     0.0   │58 \n",
       "     0.0     1.0     0.0     0.0     0.0     1.0     0.0     0.0     0.0     0.0     0.0     0.0     0.0     0.0     0.0     0.0     0.0     0.0     0.0     4.0     0.0     0.0     0.0     0.0     0.0     1.0     0.0     0.0     0.0     0.0     0.0     1.0     0.0     3.0     1.0     0.0     1.0     3.0     0.0     0.0     0.0     1.0     0.0     0.0     0.0     1.0     1.0     0.0     0.0     2.0     0.0     0.0     0.0     1.0     0.0     2.0     0.0     0.0    18.0     0.0     0.0     0.0     0.0     0.0     0.0     1.0     0.0     4.0     2.0   │59 \n",
       "     0.0     1.0     2.0     0.0     0.0     0.0     0.0     0.0     0.0     0.0     0.0     0.0     0.0     0.0     0.0     0.0     0.0     0.0     0.0     0.0     0.0     0.0     0.0     0.0     0.0     0.0     0.0     0.0     0.0     0.0     0.0     0.0     1.0     1.0     0.0     2.0     0.0     1.0     0.0     1.0     1.0     0.0     1.0     2.0     0.0     0.0     0.0     0.0     0.0     0.0     1.0     0.0     1.0     3.0     5.0     0.0     0.0     0.0     0.0    52.0     0.0     0.0     0.0     0.0     0.0     1.0     0.0     0.0     0.0   │60 \n",
       "     0.0     0.0     0.0     0.0     0.0     0.0     0.0     0.0     0.0     0.0     0.0     0.0     0.0     0.0     0.0     0.0     0.0     0.0     0.0     0.0     0.0     0.0     0.0     0.0     0.0     0.0     0.0     0.0     0.0     0.0     0.0     0.0     0.0     0.0     1.0     1.0     0.0     1.0     1.0     0.0     0.0     0.0     0.0     0.0     0.0     1.0     2.0     5.0     0.0     1.0     0.0     0.0     0.0     0.0     0.0     0.0     0.0     0.0     0.0     0.0    25.0     0.0     0.0     0.0     0.0     1.0     0.0     2.0     1.0   │61 \n",
       "     0.0     0.0     0.0     3.0     0.0     0.0     1.0     0.0     0.0     1.0     0.0     0.0     0.0     0.0     0.0     0.0     0.0     0.0     0.0     0.0     0.0     0.0     0.0     0.0     2.0     2.0     0.0     1.0     0.0     0.0     1.0     0.0     0.0     1.0     0.0     0.0     0.0     0.0     0.0     0.0     0.0     1.0     0.0     0.0     0.0     0.0     0.0     0.0     0.0     0.0     0.0     0.0     0.0     0.0     0.0     0.0     0.0     0.0     0.0     0.0     0.0    42.0     0.0     0.0     2.0     1.0     0.0     0.0     0.0   │62 \n",
       "     0.0     0.0     0.0     0.0     0.0     0.0     0.0     0.0     0.0     0.0     0.0     0.0     0.0     0.0     0.0     0.0     0.0     0.0     0.0     0.0     0.0     0.0     0.0     0.0     0.0     0.0     0.0     0.0     0.0     0.0     0.0     1.0     0.0     0.0     0.0     0.0     0.0     0.0     0.0     1.0     0.0     0.0     1.0     1.0     0.0     3.0     1.0     4.0     0.0     1.0     0.0     0.0     1.0     0.0     0.0     0.0     0.0     1.0     1.0     0.0     1.0     0.0    20.0     1.0     0.0     0.0     1.0     2.0     0.0   │63 \n",
       "     0.0     0.0     0.0     0.0     0.0     0.0     1.0     0.0     0.0     0.0     0.0     0.0     0.0     0.0     0.0     0.0     0.0     0.0     0.0     0.0     0.0     0.0     0.0     0.0     0.0     0.0     0.0     0.0     0.0     0.0     0.0     0.0     0.0     0.0     0.0     0.0     0.0     0.0     0.0     0.0     0.0     0.0     0.0     2.0     1.0     1.0     0.0     2.0     0.0     0.0     1.0     0.0     2.0     0.0     0.0     0.0     0.0     1.0     0.0     1.0     2.0     0.0     3.0    31.0     0.0     0.0     0.0     0.0     0.0   │64 \n",
       "     1.0     0.0     0.0     0.0     0.0     0.0     0.0     0.0     0.0     0.0     0.0     0.0     0.0     0.0     0.0     0.0     0.0     1.0     0.0     0.0     1.0     0.0     0.0     0.0     0.0     0.0     0.0     0.0     1.0     0.0     0.0     2.0     0.0     1.0     0.0     0.0     0.0     1.0     0.0     0.0     0.0     0.0     0.0     0.0     0.0     0.0     0.0     0.0     0.0     0.0     1.0     0.0     0.0     0.0     0.0     3.0     0.0     0.0     0.0     0.0     0.0     0.0     0.0     0.0    13.0     0.0     0.0     3.0     0.0   │65 \n",
       "     1.0     2.0     0.0     2.0     0.0     1.0     0.0     0.0     1.0     0.0     0.0     0.0     0.0     0.0     0.0     0.0     0.0     0.0     0.0     0.0     0.0     0.0     0.0     0.0     2.0     0.0     0.0     0.0     0.0     0.0     0.0     0.0     3.0     1.0     0.0     0.0     2.0     0.0     0.0     1.0     0.0     0.0     0.0     0.0     5.0     0.0     1.0     0.0     0.0     0.0     0.0     0.0     0.0     0.0     0.0     0.0     0.0     0.0     2.0     0.0     0.0     0.0     0.0     0.0     0.0    32.0     0.0     0.0     5.0   │66 \n",
       "     0.0     1.0     0.0     0.0     1.0     1.0     3.0     0.0     0.0     0.0     0.0     0.0     1.0     0.0     0.0     0.0     0.0     0.0     0.0     0.0     0.0     0.0     0.0     0.0     1.0     0.0     0.0     0.0     0.0     0.0     0.0     1.0     3.0     0.0     0.0     0.0     0.0     0.0     2.0     1.0     0.0     0.0     1.0     0.0     0.0     0.0     0.0     0.0     0.0     1.0     0.0     0.0     0.0     0.0     0.0     0.0     0.0     0.0     0.0     0.0     1.0     0.0     0.0     0.0     3.0     0.0    34.0     0.0     0.0   │67 \n",
       "     0.0     0.0     0.0     0.0     0.0     0.0     1.0     0.0     0.0     0.0     0.0     0.0     0.0     0.0     0.0     0.0     0.0     0.0     0.0     0.0     1.0     0.0     0.0     0.0     0.0     0.0     0.0     0.0     0.0     0.0     0.0     1.0     0.0     0.0     0.0     1.0     0.0     0.0     1.0     0.0     0.0     0.0     0.0     0.0     0.0     0.0     2.0     0.0     0.0     0.0     0.0     0.0     0.0     0.0     0.0     0.0     0.0     0.0     4.0     0.0     0.0     0.0     2.0     0.0     1.0     0.0     0.0    25.0     1.0   │68 \n",
       "     2.0     1.0     0.0     0.0     0.0     1.0     2.0     0.0     0.0     0.0     0.0     0.0     0.0     0.0     0.0     0.0     0.0     0.0     0.0     0.0     0.0     0.0     0.0     0.0     1.0     6.0     0.0     0.0     0.0     1.0     1.0     0.0     0.0     1.0     0.0     0.0     1.0     2.0     3.0     1.0     0.0     0.0     0.0     0.0     0.0     0.0     0.0     0.0     0.0     3.0     0.0     0.0     0.0     0.0     0.0     1.0     0.0     0.0     5.0     0.0     1.0     2.0     0.0     0.0     1.0     3.0     0.0     0.0    37.0   │69 \n"
      ]
     },
     "execution_count": 6,
     "metadata": {},
     "output_type": "execute_result"
    }
   ],
   "source": [
    "p1,p2,p3,p4 = confusion_params(convert(Array{Number},cms))\n",
    "cm_  = confusion_matrix(p1,p2,p3,p4, cms, collect(1:69), \"warn\")"
   ]
  },
  {
   "cell_type": "code",
   "execution_count": 7,
   "metadata": {
    "scrolled": true
   },
   "outputs": [],
   "source": [
    "using Plots: gr, savefig, histogram, bar\n",
    "gr()\n",
    "savefig(visualize(cm_), \"asd3.png\")\n"
   ]
  },
  {
   "cell_type": "code",
   "execution_count": 9,
   "metadata": {},
   "outputs": [
    {
     "data": {
      "text/plain": [
       "0.018927623456790117"
      ]
     },
     "execution_count": 9,
     "metadata": {},
     "output_type": "execute_result"
    }
   ],
   "source": [
    "accuracy_score(cm_)"
   ]
  },
  {
   "cell_type": "code",
   "execution_count": 8,
   "metadata": {
    "scrolled": true
   },
   "outputs": [],
   "source": [
    "using LinearAlgebra\n",
    "accsc = [(cms[k,k])./(sum(cms[k, :]) + sum(cms[:, k]) - cms[k, k]) for k in 1:69]\n",
    "savefig(bar(accsc;xlabel=\"Material Type\", ylabel = \"Accuracy\", label = \"\"), \"bar2.png\")"
   ]
  },
  {
   "cell_type": "code",
   "execution_count": 35,
   "metadata": {},
   "outputs": [],
   "source": [
    "@everywhere using Network: accuracy4"
   ]
  },
  {
   "cell_type": "code",
   "execution_count": 40,
   "metadata": {},
   "outputs": [
    {
     "data": {
      "text/plain": [
       "0.6125"
      ]
     },
     "execution_count": 40,
     "metadata": {},
     "output_type": "execute_result"
    }
   ],
   "source": [
    "accuracy4(hn3.model; data = dtst3)"
   ]
  },
  {
   "cell_type": "code",
   "execution_count": 12,
   "metadata": {},
   "outputs": [
    {
     "ename": "LoadError",
     "evalue": "UndefVarError: dtrn not defined",
     "output_type": "error",
     "traceback": [
      "UndefVarError: dtrn not defined",
      "",
      "Stacktrace:",
      " [1] top-level scope at ./In[12]:1",
      " [2] include_string(::Function, ::Module, ::String, ::String) at ./loading.jl:1091"
     ]
    }
   ],
   "source": [
    "for (x, y) in dtrn\n",
    "    @show _predict4(hn.model(x))\n",
    "end"
   ]
  },
  {
   "cell_type": "code",
   "execution_count": 13,
   "metadata": {},
   "outputs": [
    {
     "ename": "LoadError",
     "evalue": "UndefVarError: dtrn not defined",
     "output_type": "error",
     "traceback": [
      "UndefVarError: dtrn not defined",
      "",
      "Stacktrace:",
      " [1] top-level scope at In[13]:1",
      " [2] include_string(::Function, ::Module, ::String, ::String) at ./loading.jl:1091"
     ]
    }
   ],
   "source": [
    "predict4(hn.model; data = dtrn)"
   ]
  },
  {
   "cell_type": "code",
   "execution_count": 14,
   "metadata": {},
   "outputs": [
    {
     "ename": "LoadError",
     "evalue": "UndefVarError: dtrn not defined",
     "output_type": "error",
     "traceback": [
      "UndefVarError: dtrn not defined",
      "",
      "Stacktrace:",
      " [1] top-level scope at In[14]:1",
      " [2] include_string(::Function, ::Module, ::String, ::String) at ./loading.jl:1091"
     ]
    }
   ],
   "source": [
    "accuracy4(hn.model, data = dtrn)"
   ]
  },
  {
   "cell_type": "code",
   "execution_count": null,
   "metadata": {},
   "outputs": [],
   "source": []
  },
  {
   "cell_type": "code",
   "execution_count": null,
   "metadata": {},
   "outputs": [],
   "source": []
  }
 ],
 "metadata": {
  "kernelspec": {
   "display_name": "Julia 1.5.2",
   "language": "julia",
   "name": "julia-1.5"
  },
  "language_info": {
   "file_extension": ".jl",
   "mimetype": "application/julia",
   "name": "julia",
   "version": "1.5.2"
  }
 },
 "nbformat": 4,
 "nbformat_minor": 2
}
