{
 "cells": [
  {
   "cell_type": "code",
   "execution_count": 1,
   "metadata": {
    "scrolled": true
   },
   "outputs": [],
   "source": [
    "#=\n",
    "using Pkg; \n",
    "packages = [\"Knet\", \"AutoGrad\", \"Random\", \"Test\", \"MLDatasets\", \"CUDA\", \"Plots\", \"GR\",\"Statistics\",\n",
    "            \"IterTools\", \"StatsBase\", \"DSP\", \"Images\", \"DelimitedFiles\", \"MultivariateStats\", \"PyPlot\", \"PyCall\"];\n",
    "Pkg.add(packages);\n",
    "=#"
   ]
  },
  {
   "cell_type": "code",
   "execution_count": 1,
   "metadata": {},
   "outputs": [],
   "source": [
    "include(\"../src/modules/TUM69.jl\")\n",
    "include(\"../src/modules/Preprocess.jl\")\n",
    "include(\"../src/modules/Network.jl\")\n",
    "include(\"../src/modules/Utils.jl\")\n",
    "\n",
    "## Third party packages\n",
    "using Knet: KnetArray, adam, relu, minibatch\n",
    "using AutoGrad, Knet, CUDA\n",
    "\n",
    "\n",
    "## Handwritten modules\n",
    "using .TUM69: load_image_data   # Data reading\n",
    "using .Preprocess: process_image # Preprocessing on the data\n",
    "using .Network: GCN, train_summarize!, accuracy4, nll4, GenericMLP # Construction of custom network\n",
    "using .Utils: notify"
   ]
  },
  {
   "cell_type": "code",
   "execution_count": 2,
   "metadata": {},
   "outputs": [
    {
     "data": {
      "text/plain": [
       "default_gc (generic function with 1 method)"
      ]
     },
     "execution_count": 2,
     "metadata": {},
     "output_type": "execute_result"
    }
   ],
   "source": [
    "AutoGrad.set_gc_function(AutoGrad.default_gc)"
   ]
  },
  {
   "cell_type": "code",
   "execution_count": 3,
   "metadata": {},
   "outputs": [],
   "source": [
    "# Trick from Deniz Hoca to deal with this issue: https://github.com/denizyuret/Knet.jl/issues/524\n",
    "#=\n",
    "using Knet\n",
    "function Knet.KnetArray(x::CuArray{T,N}) where {T,N}\n",
    "    p = Base.bitcast(Knet.Cptr, pointer(x))\n",
    "    k = Knet.KnetPtr(p, sizeof(x), Int(CUDA.device().handle), x)\n",
    "    KnetArray{T,N}(k, size(x))\n",
    "end\n",
    "=#"
   ]
  },
  {
   "cell_type": "code",
   "execution_count": 4,
   "metadata": {},
   "outputs": [
    {
     "data": {
      "text/plain": [
       "a_type (generic function with 1 method)"
      ]
     },
     "execution_count": 4,
     "metadata": {},
     "output_type": "execute_result"
    }
   ],
   "source": [
    "# Array type setting for GPU usage\n",
    "a_type() = (CUDA.functional() ? KnetArray{Float32} : Array{Float32})"
   ]
  },
  {
   "cell_type": "code",
   "execution_count": 5,
   "metadata": {},
   "outputs": [
    {
     "ename": "LoadError",
     "evalue": "CUDA.jl did not successfully initialize, and is not usable.\nIf you did not see any other error message, try again in a new session\nwith the JULIA_DEBUG environment variable set to 'CUDA'.",
     "output_type": "error",
     "traceback": [
      "CUDA.jl did not successfully initialize, and is not usable.\nIf you did not see any other error message, try again in a new session\nwith the JULIA_DEBUG environment variable set to 'CUDA'.",
      "",
      "Stacktrace:",
      " [1] error(::String) at .\\error.jl:33",
      " [2] libcuda() at C:\\Users\\volkan\\.julia\\packages\\CUDA\\YeS8q\\src\\initialization.jl:51",
      " [3] (::CUDA.var\"#690#cache_fptr!#9\")() at C:\\Users\\volkan\\.julia\\packages\\CUDA\\YeS8q\\lib\\utils\\call.jl:31",
      " [4] macro expansion at C:\\Users\\volkan\\.julia\\packages\\CUDA\\YeS8q\\lib\\utils\\call.jl:39 [inlined]",
      " [5] macro expansion at C:\\Users\\volkan\\.julia\\packages\\CUDA\\YeS8q\\lib\\cudadrv\\libcuda.jl:29 [inlined]",
      " [6] macro expansion at C:\\Users\\volkan\\.julia\\packages\\CUDA\\YeS8q\\lib\\cudadrv\\error.jl:102 [inlined]",
      " [7] cuDeviceGet(::Base.RefValue{Int32}, ::Int64) at C:\\Users\\volkan\\.julia\\packages\\CUDA\\YeS8q\\lib\\utils\\call.jl:93",
      " [8] CuDevice(::Int64) at C:\\Users\\volkan\\.julia\\packages\\CUDA\\YeS8q\\lib\\cudadrv\\devices.jl:25",
      " [9] initialize_thread(::Int64) at C:\\Users\\volkan\\.julia\\packages\\CUDA\\YeS8q\\src\\state.jl:121",
      " [10] prepare_cuda_call() at C:\\Users\\volkan\\.julia\\packages\\CUDA\\YeS8q\\src\\state.jl:80",
      " [11] device() at C:\\Users\\volkan\\.julia\\packages\\CUDA\\YeS8q\\src\\state.jl:227",
      " [12] top-level scope at In[5]:3",
      " [13] include_string(::Function, ::Module, ::String, ::String) at .\\loading.jl:1091"
     ]
    }
   ],
   "source": [
    "# CUDA information\n",
    "GC.gc(true)\n",
    "CUDA.device()"
   ]
  },
  {
   "cell_type": "code",
   "execution_count": 6,
   "metadata": {},
   "outputs": [
    {
     "data": {
      "text/plain": [
       "\"./../data/trial\""
      ]
     },
     "execution_count": 6,
     "metadata": {},
     "output_type": "execute_result"
    }
   ],
   "source": [
    "path = CUDA.functional() ? \"/userfiles/vaydingul20/data/new\" : \"./../data/trial\" # path of the main data\n",
    "DATA_PATH = isdir(path) && path"
   ]
  },
  {
   "cell_type": "code",
   "execution_count": 10,
   "metadata": {},
   "outputs": [
    {
     "name": "stdout",
     "output_type": "stream",
     "text": [
      "Train image data is being loaded!\n",
      "Test image data is being loaded!\n",
      "  2.738184 seconds (2.42 k allocations: 411.631 MiB)\n"
     ]
    }
   ],
   "source": [
    "X_train, y_train,\n",
    "X_test, y_test, \n",
    "material_dict = @time load_image_data(DATA_PATH; mode = \"baseline\");  # Data loading routine"
   ]
  },
  {
   "cell_type": "code",
   "execution_count": 11,
   "metadata": {},
   "outputs": [
    {
     "name": "stdout",
     "output_type": "stream",
     "text": [
      "X_train = 3-element Array{Array{ColorTypes.RGB{FixedPointNumbers.Normed{UInt8,8}},2},1}\n",
      "y_train = 3-element Array{Int8,1}\n",
      "X_test  = 3-element Array{Array{ColorTypes.RGB{FixedPointNumbers.Normed{UInt8,8}},2},1}\n",
      "y_test  = 3-element Array{Int8,1}\n",
      "material_dict = Dict{String,Int8} with 3 entries\n"
     ]
    }
   ],
   "source": [
    "println(\"X_train = \", summary(X_train))\n",
    "println(\"y_train = \", summary(y_train))\n",
    "println(\"X_test  = \", summary(X_test))\n",
    "println(\"y_test  = \", summary(y_test))\n",
    "println(\"material_dict = \", summary(material_dict))"
   ]
  },
  {
   "cell_type": "code",
   "execution_count": 12,
   "metadata": {
    "scrolled": true
   },
   "outputs": [
    {
     "name": "stdout",
     "output_type": "stream",
     "text": [
      "  2.526414 seconds (5.89 k allocations: 1.248 GiB, 17.28% gc time)\n",
      "  1.905475 seconds (5.89 k allocations: 1.248 GiB, 2.76% gc time)\n"
     ]
    }
   ],
   "source": [
    "#Preprocessing on the acceleration data\n",
    "@time X_train_modified, y_train_modified = process_image(X_train, y_train);\n",
    "@time X_test_modified, y_test_modified = process_image(X_test, y_test);"
   ]
  },
  {
   "cell_type": "code",
   "execution_count": 13,
   "metadata": {
    "scrolled": false
   },
   "outputs": [
    {
     "name": "stdout",
     "output_type": "stream",
     "text": [
      "X_train = 384×384×3×144 Array{Float32,4}\n",
      "y_train = 144-element Array{Int8,1}\n",
      "X_test  = 384×384×3×144 Array{Float32,4}\n",
      "y_test  = 144-element Array{Int8,1}\n",
      "material_dict = Dict{String,Int8} with 3 entries\n"
     ]
    }
   ],
   "source": [
    "println(\"X_train = \", summary(X_train_modified))\n",
    "println(\"y_train = \", summary(y_train_modified))\n",
    "println(\"X_test  = \", summary(X_test_modified))\n",
    "println(\"y_test  = \", summary(y_test_modified))\n",
    "println(\"material_dict = \", summary(material_dict))"
   ]
  },
  {
   "cell_type": "code",
   "execution_count": 15,
   "metadata": {},
   "outputs": [],
   "source": [
    "# Some constants that will be used in the network model\n",
    "MINIBATCH_SIZE = 2\n",
    "INPUT_SIZE = size(X_test_modified)[1:3]\n",
    "OUTPUT_SIZE = size(collect(keys(material_dict)))[1];"
   ]
  },
  {
   "cell_type": "code",
   "execution_count": 16,
   "metadata": {},
   "outputs": [],
   "source": [
    "# Minibatching\n",
    "dtrn = minibatch(X_train_modified, y_train_modified, MINIBATCH_SIZE; xtype = a_type(), shuffle = true)\n",
    "dtst = minibatch(X_test_modified, y_test_modified, MINIBATCH_SIZE; xtype = a_type(), shuffle = true);"
   ]
  },
  {
   "cell_type": "code",
   "execution_count": 17,
   "metadata": {
    "scrolled": true
   },
   "outputs": [
    {
     "data": {
      "text/plain": [
       "GCN((Main.Network.Conv(P(Array{Float32,4}(3,3,3,50)), P(Array{Float32,4}(1,1,50,1)), Knet.Ops20.relu, 0, (1, 1), (1, 1), (2, 2), true, Array{Float32,N} where N), Main.Network.Conv(P(Array{Float32,4}(3,3,50,100)), P(Array{Float32,4}(1,1,100,1)), Knet.Ops20.relu, 0, (1, 1), (1, 1), (2, 2), false, Array{Float32,N} where N), Main.Network.Conv(P(Array{Float32,4}(3,3,100,150)), P(Array{Float32,4}(1,1,150,1)), Knet.Ops20.relu, 0, (1, 1), (1, 1), (2, 2), false, Array{Float32,N} where N), Main.Network.Conv(P(Array{Float32,4}(3,3,150,200)), P(Array{Float32,4}(1,1,200,1)), Knet.Ops20.relu, 0, (1, 1), (1, 1), (2, 2), false, Array{Float32,N} where N), Main.Network.Conv(P(Array{Float32,4}(4,12,200,400)), P(Array{Float32,4}(1,1,400,1)), Knet.Ops20.relu, 0, (1, 0), (1, 1), (1, 1), false, Array{Float32,N} where N), Main.Network.Conv(P(Array{Float32,4}(1,1,400,250)), P(Array{Float32,4}(1,1,250,1)), Knet.Ops20.relu, 0, (0, 0), (1, 1), (1, 1), false, Array{Float32,N} where N), Main.Network.Conv(P(Array{Float32,4}(1,1,250,3)), P(Array{Float32,4}(1,1,3,1)), Knet.Ops20.relu, 0, (0, 0), (1, 1), (1, 1), false, Array{Float32,N} where N)), Knet.Train20.adam, 0.0001, Main.Network.nll4, Main.Network.accuracy4, 0.0, 0.0005)"
      ]
     },
     "execution_count": 17,
     "metadata": {},
     "output_type": "execute_result"
    }
   ],
   "source": [
    "\n",
    "model = GCN(INPUT_SIZE, OUTPUT_SIZE, \n",
    "       [(3, 3, 50 , relu, 0.0, (1, 1), (1, 1), (2, 2), true),\n",
    "        (3, 3, 100, relu, 0.0, (1, 1), (1, 1), (2, 2), false),\n",
    "        (3, 3, 150, relu, 0.0, (1, 1), (1, 1), (2, 2), false),\n",
    "        (3, 3, 200, relu, 0.0, (1, 1), (1, 1), (2, 2), false),\n",
    "        (4, 12,400, relu, 0.5, (1, 0), (1, 1), (1, 1), false),\n",
    "        (1, 1, 250, relu, 0.5, (0, 0), (1, 1), (1, 1), false),\n",
    "        (1, 1, OUTPUT_SIZE , relu, 0.5, (0, 0), (1, 1), (1, 1), false)\n",
    "        ]; \n",
    "    hidden=[], optimizer_type = adam, lr = 1e-4, loss_fnc=nll4, accuracy_fnc = accuracy4, atype=a_type())\n",
    "\n"
   ]
  },
  {
   "cell_type": "code",
   "execution_count": 19,
   "metadata": {
    "scrolled": true
   },
   "outputs": [
    {
     "name": "stderr",
     "output_type": "stream",
     "text": [
      "┣███████████████████▉┫ [100.00%, 72/72, 10:57/10:57, 9.13s/i] \n"
     ]
    },
    {
     "data": {
      "image/svg+xml": [
       "<?xml version=\"1.0\" encoding=\"utf-8\"?>\n",
       "<svg xmlns=\"http://www.w3.org/2000/svg\" xmlns:xlink=\"http://www.w3.org/1999/xlink\" width=\"600\" height=\"400\" viewBox=\"0 0 2400 1600\">\n",
       "<defs>\n",
       "  <clipPath id=\"clip230\">\n",
       "    <rect x=\"0\" y=\"0\" width=\"2400\" height=\"1600\"/>\n",
       "  </clipPath>\n",
       "</defs>\n",
       "<path clip-path=\"url(#clip230)\" d=\"\n",
       "M0 1600 L2400 1600 L2400 0 L0 0  Z\n",
       "  \" fill=\"#ffffff\" fill-rule=\"evenodd\" fill-opacity=\"1\"/>\n",
       "<defs>\n",
       "  <clipPath id=\"clip231\">\n",
       "    <rect x=\"480\" y=\"0\" width=\"1681\" height=\"1600\"/>\n",
       "  </clipPath>\n",
       "</defs>\n",
       "<path clip-path=\"url(#clip230)\" d=\"\n",
       "M145.904 1423.18 L2352.76 1423.18 L2352.76 123.472 L145.904 123.472  Z\n",
       "  \" fill=\"#ffffff\" fill-rule=\"evenodd\" fill-opacity=\"1\"/>\n",
       "<defs>\n",
       "  <clipPath id=\"clip232\">\n",
       "    <rect x=\"145\" y=\"123\" width=\"2208\" height=\"1301\"/>\n",
       "  </clipPath>\n",
       "</defs>\n",
       "<polyline clip-path=\"url(#clip232)\" style=\"stroke:#000000; stroke-width:2; stroke-opacity:0.1; fill:none\" points=\"\n",
       "  208.362,1423.18 208.362,123.472 \n",
       "  \"/>\n",
       "<polyline clip-path=\"url(#clip232)\" style=\"stroke:#000000; stroke-width:2; stroke-opacity:0.1; fill:none\" points=\"\n",
       "  728.846,1423.18 728.846,123.472 \n",
       "  \"/>\n",
       "<polyline clip-path=\"url(#clip232)\" style=\"stroke:#000000; stroke-width:2; stroke-opacity:0.1; fill:none\" points=\"\n",
       "  1249.33,1423.18 1249.33,123.472 \n",
       "  \"/>\n",
       "<polyline clip-path=\"url(#clip232)\" style=\"stroke:#000000; stroke-width:2; stroke-opacity:0.1; fill:none\" points=\"\n",
       "  1769.81,1423.18 1769.81,123.472 \n",
       "  \"/>\n",
       "<polyline clip-path=\"url(#clip232)\" style=\"stroke:#000000; stroke-width:2; stroke-opacity:0.1; fill:none\" points=\"\n",
       "  2290.3,1423.18 2290.3,123.472 \n",
       "  \"/>\n",
       "<polyline clip-path=\"url(#clip230)\" style=\"stroke:#000000; stroke-width:4; stroke-opacity:1; fill:none\" points=\"\n",
       "  145.904,1423.18 2352.76,1423.18 \n",
       "  \"/>\n",
       "<polyline clip-path=\"url(#clip230)\" style=\"stroke:#000000; stroke-width:4; stroke-opacity:1; fill:none\" points=\"\n",
       "  208.362,1423.18 208.362,1407.58 \n",
       "  \"/>\n",
       "<polyline clip-path=\"url(#clip230)\" style=\"stroke:#000000; stroke-width:4; stroke-opacity:1; fill:none\" points=\"\n",
       "  728.846,1423.18 728.846,1407.58 \n",
       "  \"/>\n",
       "<polyline clip-path=\"url(#clip230)\" style=\"stroke:#000000; stroke-width:4; stroke-opacity:1; fill:none\" points=\"\n",
       "  1249.33,1423.18 1249.33,1407.58 \n",
       "  \"/>\n",
       "<polyline clip-path=\"url(#clip230)\" style=\"stroke:#000000; stroke-width:4; stroke-opacity:1; fill:none\" points=\"\n",
       "  1769.81,1423.18 1769.81,1407.58 \n",
       "  \"/>\n",
       "<polyline clip-path=\"url(#clip230)\" style=\"stroke:#000000; stroke-width:4; stroke-opacity:1; fill:none\" points=\"\n",
       "  2290.3,1423.18 2290.3,1407.58 \n",
       "  \"/>\n",
       "<path clip-path=\"url(#clip230)\" d=\"M 0 0 M166.753 1479.92 L174.392 1479.92 L174.392 1453.55 L166.082 1455.22 L166.082 1450.96 L174.346 1449.29 L179.022 1449.29 L179.022 1479.92 L186.661 1479.92 L186.661 1483.85 L166.753 1483.85 L166.753 1479.92 Z\" fill=\"#000000\" fill-rule=\"evenodd\" fill-opacity=\"1\" /><path clip-path=\"url(#clip230)\" d=\"M 0 0 M191.73 1477.97 L196.614 1477.97 L196.614 1483.85 L191.73 1483.85 L191.73 1477.97 Z\" fill=\"#000000\" fill-rule=\"evenodd\" fill-opacity=\"1\" /><path clip-path=\"url(#clip230)\" d=\"M 0 0 M211.684 1452.37 Q208.073 1452.37 206.244 1455.94 Q204.438 1459.48 204.438 1466.61 Q204.438 1473.71 206.244 1477.28 Q208.073 1480.82 211.684 1480.82 Q215.318 1480.82 217.123 1477.28 Q218.952 1473.71 218.952 1466.61 Q218.952 1459.48 217.123 1455.94 Q215.318 1452.37 211.684 1452.37 M211.684 1448.67 Q217.494 1448.67 220.549 1453.27 Q223.628 1457.86 223.628 1466.61 Q223.628 1475.33 220.549 1479.94 Q217.494 1484.52 211.684 1484.52 Q205.874 1484.52 202.795 1479.94 Q199.739 1475.33 199.739 1466.61 Q199.739 1457.86 202.795 1453.27 Q205.874 1448.67 211.684 1448.67 Z\" fill=\"#000000\" fill-rule=\"evenodd\" fill-opacity=\"1\" /><path clip-path=\"url(#clip230)\" d=\"M 0 0 M238.697 1452.37 Q235.086 1452.37 233.258 1455.94 Q231.452 1459.48 231.452 1466.61 Q231.452 1473.71 233.258 1477.28 Q235.086 1480.82 238.697 1480.82 Q242.332 1480.82 244.137 1477.28 Q245.966 1473.71 245.966 1466.61 Q245.966 1459.48 244.137 1455.94 Q242.332 1452.37 238.697 1452.37 M238.697 1448.67 Q244.508 1448.67 247.563 1453.27 Q250.642 1457.86 250.642 1466.61 Q250.642 1475.33 247.563 1479.94 Q244.508 1484.52 238.697 1484.52 Q232.887 1484.52 229.809 1479.94 Q226.753 1475.33 226.753 1466.61 Q226.753 1457.86 229.809 1453.27 Q232.887 1448.67 238.697 1448.67 Z\" fill=\"#000000\" fill-rule=\"evenodd\" fill-opacity=\"1\" /><path clip-path=\"url(#clip230)\" d=\"M 0 0 M688.534 1479.92 L696.172 1479.92 L696.172 1453.55 L687.862 1455.22 L687.862 1450.96 L696.126 1449.29 L700.802 1449.29 L700.802 1479.92 L708.441 1479.92 L708.441 1483.85 L688.534 1483.85 L688.534 1479.92 Z\" fill=\"#000000\" fill-rule=\"evenodd\" fill-opacity=\"1\" /><path clip-path=\"url(#clip230)\" d=\"M 0 0 M713.51 1477.97 L718.395 1477.97 L718.395 1483.85 L713.51 1483.85 L713.51 1477.97 Z\" fill=\"#000000\" fill-rule=\"evenodd\" fill-opacity=\"1\" /><path clip-path=\"url(#clip230)\" d=\"M 0 0 M727.492 1479.92 L743.811 1479.92 L743.811 1483.85 L721.867 1483.85 L721.867 1479.92 Q724.529 1477.16 729.112 1472.53 Q733.719 1467.88 734.899 1466.54 Q737.144 1464.01 738.024 1462.28 Q738.927 1460.52 738.927 1458.83 Q738.927 1456.07 736.982 1454.34 Q735.061 1452.6 731.959 1452.6 Q729.76 1452.6 727.307 1453.37 Q724.876 1454.13 722.098 1455.68 L722.098 1450.96 Q724.922 1449.82 727.376 1449.25 Q729.83 1448.67 731.867 1448.67 Q737.237 1448.67 740.431 1451.35 Q743.626 1454.04 743.626 1458.53 Q743.626 1460.66 742.816 1462.58 Q742.029 1464.48 739.922 1467.07 Q739.344 1467.74 736.242 1470.96 Q733.14 1474.15 727.492 1479.92 Z\" fill=\"#000000\" fill-rule=\"evenodd\" fill-opacity=\"1\" /><path clip-path=\"url(#clip230)\" d=\"M 0 0 M748.927 1449.29 L767.283 1449.29 L767.283 1453.23 L753.209 1453.23 L753.209 1461.7 Q754.228 1461.35 755.246 1461.19 Q756.265 1461 757.283 1461 Q763.07 1461 766.45 1464.18 Q769.829 1467.35 769.829 1472.76 Q769.829 1478.34 766.357 1481.44 Q762.885 1484.52 756.566 1484.52 Q754.39 1484.52 752.121 1484.15 Q749.876 1483.78 747.468 1483.04 L747.468 1478.34 Q749.552 1479.48 751.774 1480.03 Q753.996 1480.59 756.473 1480.59 Q760.478 1480.59 762.816 1478.48 Q765.154 1476.38 765.154 1472.76 Q765.154 1469.15 762.816 1467.05 Q760.478 1464.94 756.473 1464.94 Q754.598 1464.94 752.723 1465.36 Q750.871 1465.77 748.927 1466.65 L748.927 1449.29 Z\" fill=\"#000000\" fill-rule=\"evenodd\" fill-opacity=\"1\" /><path clip-path=\"url(#clip230)\" d=\"M 0 0 M1208.22 1479.92 L1215.86 1479.92 L1215.86 1453.55 L1207.55 1455.22 L1207.55 1450.96 L1215.81 1449.29 L1220.49 1449.29 L1220.49 1479.92 L1228.13 1479.92 L1228.13 1483.85 L1208.22 1483.85 L1208.22 1479.92 Z\" fill=\"#000000\" fill-rule=\"evenodd\" fill-opacity=\"1\" /><path clip-path=\"url(#clip230)\" d=\"M 0 0 M1233.2 1477.97 L1238.08 1477.97 L1238.08 1483.85 L1233.2 1483.85 L1233.2 1477.97 Z\" fill=\"#000000\" fill-rule=\"evenodd\" fill-opacity=\"1\" /><path clip-path=\"url(#clip230)\" d=\"M 0 0 M1243.2 1449.29 L1261.55 1449.29 L1261.55 1453.23 L1247.48 1453.23 L1247.48 1461.7 Q1248.5 1461.35 1249.52 1461.19 Q1250.53 1461 1251.55 1461 Q1257.34 1461 1260.72 1464.18 Q1264.1 1467.35 1264.1 1472.76 Q1264.1 1478.34 1260.63 1481.44 Q1257.15 1484.52 1250.83 1484.52 Q1248.66 1484.52 1246.39 1484.15 Q1244.14 1483.78 1241.74 1483.04 L1241.74 1478.34 Q1243.82 1479.48 1246.04 1480.03 Q1248.27 1480.59 1250.74 1480.59 Q1254.75 1480.59 1257.08 1478.48 Q1259.42 1476.38 1259.42 1472.76 Q1259.42 1469.15 1257.08 1467.05 Q1254.75 1464.94 1250.74 1464.94 Q1248.87 1464.94 1246.99 1465.36 Q1245.14 1465.77 1243.2 1466.65 L1243.2 1449.29 Z\" fill=\"#000000\" fill-rule=\"evenodd\" fill-opacity=\"1\" /><path clip-path=\"url(#clip230)\" d=\"M 0 0 M1279.17 1452.37 Q1275.56 1452.37 1273.73 1455.94 Q1271.92 1459.48 1271.92 1466.61 Q1271.92 1473.71 1273.73 1477.28 Q1275.56 1480.82 1279.17 1480.82 Q1282.8 1480.82 1284.61 1477.28 Q1286.44 1473.71 1286.44 1466.61 Q1286.44 1459.48 1284.61 1455.94 Q1282.8 1452.37 1279.17 1452.37 M1279.17 1448.67 Q1284.98 1448.67 1288.03 1453.27 Q1291.11 1457.86 1291.11 1466.61 Q1291.11 1475.33 1288.03 1479.94 Q1284.98 1484.52 1279.17 1484.52 Q1273.36 1484.52 1270.28 1479.94 Q1267.22 1475.33 1267.22 1466.61 Q1267.22 1457.86 1270.28 1453.27 Q1273.36 1448.67 1279.17 1448.67 Z\" fill=\"#000000\" fill-rule=\"evenodd\" fill-opacity=\"1\" /><path clip-path=\"url(#clip230)\" d=\"M 0 0 M1729.15 1479.92 L1736.79 1479.92 L1736.79 1453.55 L1728.48 1455.22 L1728.48 1450.96 L1736.75 1449.29 L1741.42 1449.29 L1741.42 1479.92 L1749.06 1479.92 L1749.06 1483.85 L1729.15 1483.85 L1729.15 1479.92 Z\" fill=\"#000000\" fill-rule=\"evenodd\" fill-opacity=\"1\" /><path clip-path=\"url(#clip230)\" d=\"M 0 0 M1754.13 1477.97 L1759.02 1477.97 L1759.02 1483.85 L1754.13 1483.85 L1754.13 1477.97 Z\" fill=\"#000000\" fill-rule=\"evenodd\" fill-opacity=\"1\" /><path clip-path=\"url(#clip230)\" d=\"M 0 0 M1762.9 1449.29 L1785.13 1449.29 L1785.13 1451.28 L1772.58 1483.85 L1767.7 1483.85 L1779.5 1453.23 L1762.9 1453.23 L1762.9 1449.29 Z\" fill=\"#000000\" fill-rule=\"evenodd\" fill-opacity=\"1\" /><path clip-path=\"url(#clip230)\" d=\"M 0 0 M1790.24 1449.29 L1808.6 1449.29 L1808.6 1453.23 L1794.52 1453.23 L1794.52 1461.7 Q1795.54 1461.35 1796.56 1461.19 Q1797.58 1461 1798.6 1461 Q1804.39 1461 1807.77 1464.18 Q1811.14 1467.35 1811.14 1472.76 Q1811.14 1478.34 1807.67 1481.44 Q1804.2 1484.52 1797.88 1484.52 Q1795.7 1484.52 1793.44 1484.15 Q1791.19 1483.78 1788.78 1483.04 L1788.78 1478.34 Q1790.87 1479.48 1793.09 1480.03 Q1795.31 1480.59 1797.79 1480.59 Q1801.79 1480.59 1804.13 1478.48 Q1806.47 1476.38 1806.47 1472.76 Q1806.47 1469.15 1804.13 1467.05 Q1801.79 1464.94 1797.79 1464.94 Q1795.91 1464.94 1794.04 1465.36 Q1792.19 1465.77 1790.24 1466.65 L1790.24 1449.29 Z\" fill=\"#000000\" fill-rule=\"evenodd\" fill-opacity=\"1\" /><path clip-path=\"url(#clip230)\" d=\"M 0 0 M2252.96 1479.92 L2269.28 1479.92 L2269.28 1483.85 L2247.34 1483.85 L2247.34 1479.92 Q2250 1477.16 2254.58 1472.53 Q2259.19 1467.88 2260.37 1466.54 Q2262.61 1464.01 2263.49 1462.28 Q2264.4 1460.52 2264.4 1458.83 Q2264.4 1456.07 2262.45 1454.34 Q2260.53 1452.6 2257.43 1452.6 Q2255.23 1452.6 2252.77 1453.37 Q2250.34 1454.13 2247.57 1455.68 L2247.57 1450.96 Q2250.39 1449.82 2252.84 1449.25 Q2255.3 1448.67 2257.34 1448.67 Q2262.71 1448.67 2265.9 1451.35 Q2269.09 1454.04 2269.09 1458.53 Q2269.09 1460.66 2268.28 1462.58 Q2267.5 1464.48 2265.39 1467.07 Q2264.81 1467.74 2261.71 1470.96 Q2258.61 1474.15 2252.96 1479.92 Z\" fill=\"#000000\" fill-rule=\"evenodd\" fill-opacity=\"1\" /><path clip-path=\"url(#clip230)\" d=\"M 0 0 M2274.35 1477.97 L2279.23 1477.97 L2279.23 1483.85 L2274.35 1483.85 L2274.35 1477.97 Z\" fill=\"#000000\" fill-rule=\"evenodd\" fill-opacity=\"1\" /><path clip-path=\"url(#clip230)\" d=\"M 0 0 M2294.3 1452.37 Q2290.69 1452.37 2288.86 1455.94 Q2287.06 1459.48 2287.06 1466.61 Q2287.06 1473.71 2288.86 1477.28 Q2290.69 1480.82 2294.3 1480.82 Q2297.94 1480.82 2299.74 1477.28 Q2301.57 1473.71 2301.57 1466.61 Q2301.57 1459.48 2299.74 1455.94 Q2297.94 1452.37 2294.3 1452.37 M2294.3 1448.67 Q2300.11 1448.67 2303.17 1453.27 Q2306.25 1457.86 2306.25 1466.61 Q2306.25 1475.33 2303.17 1479.94 Q2300.11 1484.52 2294.3 1484.52 Q2288.49 1484.52 2285.41 1479.94 Q2282.36 1475.33 2282.36 1466.61 Q2282.36 1457.86 2285.41 1453.27 Q2288.49 1448.67 2294.3 1448.67 Z\" fill=\"#000000\" fill-rule=\"evenodd\" fill-opacity=\"1\" /><path clip-path=\"url(#clip230)\" d=\"M 0 0 M2321.32 1452.37 Q2317.71 1452.37 2315.88 1455.94 Q2314.07 1459.48 2314.07 1466.61 Q2314.07 1473.71 2315.88 1477.28 Q2317.71 1480.82 2321.32 1480.82 Q2324.95 1480.82 2326.76 1477.28 Q2328.58 1473.71 2328.58 1466.61 Q2328.58 1459.48 2326.76 1455.94 Q2324.95 1452.37 2321.32 1452.37 M2321.32 1448.67 Q2327.13 1448.67 2330.18 1453.27 Q2333.26 1457.86 2333.26 1466.61 Q2333.26 1475.33 2330.18 1479.94 Q2327.13 1484.52 2321.32 1484.52 Q2315.51 1484.52 2312.43 1479.94 Q2309.37 1475.33 2309.37 1466.61 Q2309.37 1457.86 2312.43 1453.27 Q2315.51 1448.67 2321.32 1448.67 Z\" fill=\"#000000\" fill-rule=\"evenodd\" fill-opacity=\"1\" /><path clip-path=\"url(#clip230)\" d=\"M 0 0 M1163.17 1508.52 L1193.22 1508.52 L1193.22 1513.93 L1169.6 1513.93 L1169.6 1528 L1192.23 1528 L1192.23 1533.41 L1169.6 1533.41 L1169.6 1550.63 L1193.79 1550.63 L1193.79 1556.04 L1163.17 1556.04 L1163.17 1508.52 Z\" fill=\"#000000\" fill-rule=\"evenodd\" fill-opacity=\"1\" /><path clip-path=\"url(#clip230)\" d=\"M 0 0 M1205.6 1550.7 L1205.6 1569.6 L1199.71 1569.6 L1199.71 1520.4 L1205.6 1520.4 L1205.6 1525.81 Q1207.44 1522.62 1210.24 1521.1 Q1213.08 1519.54 1216.99 1519.54 Q1223.49 1519.54 1227.53 1524.69 Q1231.6 1529.85 1231.6 1538.25 Q1231.6 1546.65 1227.53 1551.81 Q1223.49 1556.97 1216.99 1556.97 Q1213.08 1556.97 1210.24 1555.44 Q1207.44 1553.88 1205.6 1550.7 M1225.52 1538.25 Q1225.52 1531.79 1222.85 1528.13 Q1220.21 1524.44 1215.56 1524.44 Q1210.91 1524.44 1208.24 1528.13 Q1205.6 1531.79 1205.6 1538.25 Q1205.6 1544.71 1208.24 1548.4 Q1210.91 1552.07 1215.56 1552.07 Q1220.21 1552.07 1222.85 1548.4 Q1225.52 1544.71 1225.52 1538.25 Z\" fill=\"#000000\" fill-rule=\"evenodd\" fill-opacity=\"1\" /><path clip-path=\"url(#clip230)\" d=\"M 0 0 M1251.56 1524.5 Q1246.85 1524.5 1244.11 1528.19 Q1241.37 1531.85 1241.37 1538.25 Q1241.37 1544.65 1244.08 1548.34 Q1246.82 1552 1251.56 1552 Q1256.24 1552 1258.97 1548.31 Q1261.71 1544.62 1261.71 1538.25 Q1261.71 1531.92 1258.97 1528.23 Q1256.24 1524.5 1251.56 1524.5 M1251.56 1519.54 Q1259.2 1519.54 1263.56 1524.5 Q1267.92 1529.47 1267.92 1538.25 Q1267.92 1547 1263.56 1552 Q1259.2 1556.97 1251.56 1556.97 Q1243.89 1556.97 1239.53 1552 Q1235.2 1547 1235.2 1538.25 Q1235.2 1529.47 1239.53 1524.5 Q1243.89 1519.54 1251.56 1519.54 Z\" fill=\"#000000\" fill-rule=\"evenodd\" fill-opacity=\"1\" /><path clip-path=\"url(#clip230)\" d=\"M 0 0 M1299.71 1521.76 L1299.71 1527.24 Q1297.23 1525.87 1294.72 1525.2 Q1292.23 1524.5 1289.69 1524.5 Q1283.99 1524.5 1280.84 1528.13 Q1277.69 1531.73 1277.69 1538.25 Q1277.69 1544.78 1280.84 1548.4 Q1283.99 1552 1289.69 1552 Q1292.23 1552 1294.72 1551.33 Q1297.23 1550.63 1299.71 1549.26 L1299.71 1554.68 Q1297.26 1555.82 1294.62 1556.39 Q1292.01 1556.97 1289.05 1556.97 Q1281 1556.97 1276.26 1551.91 Q1271.51 1546.85 1271.51 1538.25 Q1271.51 1529.53 1276.29 1524.53 Q1281.09 1519.54 1289.43 1519.54 Q1292.14 1519.54 1294.72 1520.11 Q1297.3 1520.65 1299.71 1521.76 Z\" fill=\"#000000\" fill-rule=\"evenodd\" fill-opacity=\"1\" /><path clip-path=\"url(#clip230)\" d=\"M 0 0 M1335.49 1534.53 L1335.49 1556.04 L1329.63 1556.04 L1329.63 1534.72 Q1329.63 1529.66 1327.66 1527.14 Q1325.69 1524.63 1321.74 1524.63 Q1317 1524.63 1314.26 1527.65 Q1311.52 1530.68 1311.52 1535.9 L1311.52 1556.04 L1305.63 1556.04 L1305.63 1506.52 L1311.52 1506.52 L1311.52 1525.93 Q1313.62 1522.72 1316.46 1521.13 Q1319.32 1519.54 1323.04 1519.54 Q1329.19 1519.54 1332.34 1523.36 Q1335.49 1527.14 1335.49 1534.53 Z\" fill=\"#000000\" fill-rule=\"evenodd\" fill-opacity=\"1\" /><polyline clip-path=\"url(#clip232)\" style=\"stroke:#000000; stroke-width:2; stroke-opacity:0.1; fill:none\" points=\"\n",
       "  145.904,1262.08 2352.76,1262.08 \n",
       "  \"/>\n",
       "<polyline clip-path=\"url(#clip232)\" style=\"stroke:#000000; stroke-width:2; stroke-opacity:0.1; fill:none\" points=\"\n",
       "  145.904,1016.85 2352.76,1016.85 \n",
       "  \"/>\n",
       "<polyline clip-path=\"url(#clip232)\" style=\"stroke:#000000; stroke-width:2; stroke-opacity:0.1; fill:none\" points=\"\n",
       "  145.904,771.625 2352.76,771.625 \n",
       "  \"/>\n",
       "<polyline clip-path=\"url(#clip232)\" style=\"stroke:#000000; stroke-width:2; stroke-opacity:0.1; fill:none\" points=\"\n",
       "  145.904,526.397 2352.76,526.397 \n",
       "  \"/>\n",
       "<polyline clip-path=\"url(#clip232)\" style=\"stroke:#000000; stroke-width:2; stroke-opacity:0.1; fill:none\" points=\"\n",
       "  145.904,281.169 2352.76,281.169 \n",
       "  \"/>\n",
       "<polyline clip-path=\"url(#clip230)\" style=\"stroke:#000000; stroke-width:4; stroke-opacity:1; fill:none\" points=\"\n",
       "  145.904,1423.18 145.904,123.472 \n",
       "  \"/>\n",
       "<polyline clip-path=\"url(#clip230)\" style=\"stroke:#000000; stroke-width:4; stroke-opacity:1; fill:none\" points=\"\n",
       "  145.904,1262.08 172.386,1262.08 \n",
       "  \"/>\n",
       "<polyline clip-path=\"url(#clip230)\" style=\"stroke:#000000; stroke-width:4; stroke-opacity:1; fill:none\" points=\"\n",
       "  145.904,1016.85 172.386,1016.85 \n",
       "  \"/>\n",
       "<polyline clip-path=\"url(#clip230)\" style=\"stroke:#000000; stroke-width:4; stroke-opacity:1; fill:none\" points=\"\n",
       "  145.904,771.625 172.386,771.625 \n",
       "  \"/>\n",
       "<polyline clip-path=\"url(#clip230)\" style=\"stroke:#000000; stroke-width:4; stroke-opacity:1; fill:none\" points=\"\n",
       "  145.904,526.397 172.386,526.397 \n",
       "  \"/>\n",
       "<polyline clip-path=\"url(#clip230)\" style=\"stroke:#000000; stroke-width:4; stroke-opacity:1; fill:none\" points=\"\n",
       "  145.904,281.169 172.386,281.169 \n",
       "  \"/>\n",
       "<path clip-path=\"url(#clip230)\" d=\"M 0 0 M54.6264 1275.43 L62.2652 1275.43 L62.2652 1249.06 L53.9551 1250.73 L53.9551 1246.47 L62.2189 1244.8 L66.8948 1244.8 L66.8948 1275.43 L74.5337 1275.43 L74.5337 1279.36 L54.6264 1279.36 L54.6264 1275.43 Z\" fill=\"#000000\" fill-rule=\"evenodd\" fill-opacity=\"1\" /><path clip-path=\"url(#clip230)\" d=\"M 0 0 M79.6031 1273.48 L84.4873 1273.48 L84.4873 1279.36 L79.6031 1279.36 L79.6031 1273.48 Z\" fill=\"#000000\" fill-rule=\"evenodd\" fill-opacity=\"1\" /><path clip-path=\"url(#clip230)\" d=\"M 0 0 M93.5845 1275.43 L109.904 1275.43 L109.904 1279.36 L87.9595 1279.36 L87.9595 1275.43 Q90.6215 1272.67 95.2049 1268.04 Q99.8113 1263.39 100.992 1262.05 Q103.237 1259.52 104.117 1257.79 Q105.02 1256.03 105.02 1254.34 Q105.02 1251.58 103.075 1249.85 Q101.154 1248.11 98.0521 1248.11 Q95.853 1248.11 93.3993 1248.87 Q90.9688 1249.64 88.191 1251.19 L88.191 1246.47 Q91.0151 1245.33 93.4688 1244.75 Q95.9224 1244.18 97.9595 1244.18 Q103.33 1244.18 106.524 1246.86 Q109.719 1249.55 109.719 1254.04 Q109.719 1256.17 108.908 1258.09 Q108.121 1259.99 106.015 1262.58 Q105.436 1263.25 102.334 1266.47 Q99.2326 1269.66 93.5845 1275.43 Z\" fill=\"#000000\" fill-rule=\"evenodd\" fill-opacity=\"1\" /><path clip-path=\"url(#clip230)\" d=\"M 0 0 M52.543 1030.2 L60.1819 1030.2 L60.1819 1003.83 L51.8718 1005.5 L51.8718 1001.24 L60.1356 999.572 L64.8115 999.572 L64.8115 1030.2 L72.4503 1030.2 L72.4503 1034.13 L52.543 1034.13 L52.543 1030.2 Z\" fill=\"#000000\" fill-rule=\"evenodd\" fill-opacity=\"1\" /><path clip-path=\"url(#clip230)\" d=\"M 0 0 M77.5198 1028.25 L82.404 1028.25 L82.404 1034.13 L77.5198 1034.13 L77.5198 1028.25 Z\" fill=\"#000000\" fill-rule=\"evenodd\" fill-opacity=\"1\" /><path clip-path=\"url(#clip230)\" d=\"M 0 0 M100.321 1003.65 L88.5151 1022.1 L100.321 1022.1 L100.321 1003.65 M99.0937 999.572 L104.973 999.572 L104.973 1022.1 L109.904 1022.1 L109.904 1025.98 L104.973 1025.98 L104.973 1034.13 L100.321 1034.13 L100.321 1025.98 L84.7188 1025.98 L84.7188 1021.47 L99.0937 999.572 Z\" fill=\"#000000\" fill-rule=\"evenodd\" fill-opacity=\"1\" /><path clip-path=\"url(#clip230)\" d=\"M 0 0 M52.8671 784.969 L60.506 784.969 L60.506 758.604 L52.1958 760.271 L52.1958 756.011 L60.4597 754.345 L65.1356 754.345 L65.1356 784.969 L72.7744 784.969 L72.7744 788.905 L52.8671 788.905 L52.8671 784.969 Z\" fill=\"#000000\" fill-rule=\"evenodd\" fill-opacity=\"1\" /><path clip-path=\"url(#clip230)\" d=\"M 0 0 M77.8438 783.025 L82.7281 783.025 L82.7281 788.905 L77.8438 788.905 L77.8438 783.025 Z\" fill=\"#000000\" fill-rule=\"evenodd\" fill-opacity=\"1\" /><path clip-path=\"url(#clip230)\" d=\"M 0 0 M98.3761 769.761 Q95.228 769.761 93.3762 771.914 Q91.5475 774.067 91.5475 777.817 Q91.5475 781.544 93.3762 783.719 Q95.228 785.872 98.3761 785.872 Q101.524 785.872 103.353 783.719 Q105.205 781.544 105.205 777.817 Q105.205 774.067 103.353 771.914 Q101.524 769.761 98.3761 769.761 M107.658 755.109 L107.658 759.368 Q105.899 758.534 104.094 758.095 Q102.311 757.655 100.552 757.655 Q95.9224 757.655 93.4688 760.78 Q91.0382 763.905 90.691 770.224 Q92.0567 768.21 94.1169 767.145 Q96.1771 766.058 98.6539 766.058 Q103.862 766.058 106.871 769.229 Q109.904 772.377 109.904 777.817 Q109.904 783.141 106.756 786.358 Q103.608 789.576 98.3761 789.576 Q92.3808 789.576 89.2095 784.993 Q86.0382 780.386 86.0382 771.659 Q86.0382 763.465 89.9271 758.604 Q93.816 753.72 100.367 753.72 Q102.126 753.72 103.909 754.067 Q105.714 754.414 107.658 755.109 Z\" fill=\"#000000\" fill-rule=\"evenodd\" fill-opacity=\"1\" /><path clip-path=\"url(#clip230)\" d=\"M 0 0 M53.1217 539.742 L60.7606 539.742 L60.7606 513.376 L52.4505 515.043 L52.4505 510.783 L60.7143 509.117 L65.3902 509.117 L65.3902 539.742 L73.029 539.742 L73.029 543.677 L53.1217 543.677 L53.1217 539.742 Z\" fill=\"#000000\" fill-rule=\"evenodd\" fill-opacity=\"1\" /><path clip-path=\"url(#clip230)\" d=\"M 0 0 M78.0985 537.797 L82.9827 537.797 L82.9827 543.677 L78.0985 543.677 L78.0985 537.797 Z\" fill=\"#000000\" fill-rule=\"evenodd\" fill-opacity=\"1\" /><path clip-path=\"url(#clip230)\" d=\"M 0 0 M98.0521 527.265 Q94.7187 527.265 92.7975 529.047 Q90.8993 530.83 90.8993 533.955 Q90.8993 537.08 92.7975 538.862 Q94.7187 540.644 98.0521 540.644 Q101.385 540.644 103.307 538.862 Q105.228 537.056 105.228 533.955 Q105.228 530.83 103.307 529.047 Q101.409 527.265 98.0521 527.265 M93.3762 525.274 Q90.3669 524.533 88.6771 522.473 Q87.0105 520.413 87.0105 517.45 Q87.0105 513.307 89.9503 510.899 Q92.9132 508.492 98.0521 508.492 Q103.214 508.492 106.154 510.899 Q109.094 513.307 109.094 517.45 Q109.094 520.413 107.404 522.473 Q105.737 524.533 102.751 525.274 Q106.131 526.061 108.006 528.353 Q109.904 530.644 109.904 533.955 Q109.904 538.978 106.825 541.663 Q103.77 544.348 98.0521 544.348 Q92.3345 544.348 89.2558 541.663 Q86.2003 538.978 86.2003 533.955 Q86.2003 530.644 88.0984 528.353 Q89.9965 526.061 93.3762 525.274 M91.6632 517.89 Q91.6632 520.575 93.3299 522.08 Q95.0197 523.584 98.0521 523.584 Q101.061 523.584 102.751 522.08 Q104.464 520.575 104.464 517.89 Q104.464 515.205 102.751 513.7 Q101.061 512.195 98.0521 512.195 Q95.0197 512.195 93.3299 513.7 Q91.6632 515.205 91.6632 517.89 Z\" fill=\"#000000\" fill-rule=\"evenodd\" fill-opacity=\"1\" /><path clip-path=\"url(#clip230)\" d=\"M 0 0 M56.6171 294.514 L72.9365 294.514 L72.9365 298.449 L50.9921 298.449 L50.9921 294.514 Q53.6541 291.759 58.2375 287.13 Q62.8439 282.477 64.0245 281.134 Q66.2698 278.611 67.1494 276.875 Q68.0522 275.116 68.0522 273.426 Q68.0522 270.671 66.1078 268.935 Q64.1865 267.199 61.0847 267.199 Q58.8856 267.199 56.4319 267.963 Q54.0014 268.727 51.2236 270.278 L51.2236 265.556 Q54.0477 264.421 56.5014 263.843 Q58.955 263.264 60.9921 263.264 Q66.3624 263.264 69.5568 265.949 Q72.7513 268.634 72.7513 273.125 Q72.7513 275.255 71.9411 277.176 Q71.1541 279.074 69.0476 281.667 Q68.4689 282.338 65.367 285.555 Q62.2652 288.75 56.6171 294.514 Z\" fill=\"#000000\" fill-rule=\"evenodd\" fill-opacity=\"1\" /><path clip-path=\"url(#clip230)\" d=\"M 0 0 M78.0059 292.569 L82.8901 292.569 L82.8901 298.449 L78.0059 298.449 L78.0059 292.569 Z\" fill=\"#000000\" fill-rule=\"evenodd\" fill-opacity=\"1\" /><path clip-path=\"url(#clip230)\" d=\"M 0 0 M97.9595 266.968 Q94.3484 266.968 92.5197 270.532 Q90.7141 274.074 90.7141 281.204 Q90.7141 288.31 92.5197 291.875 Q94.3484 295.416 97.9595 295.416 Q101.594 295.416 103.399 291.875 Q105.228 288.31 105.228 281.204 Q105.228 274.074 103.399 270.532 Q101.594 266.968 97.9595 266.968 M97.9595 263.264 Q103.77 263.264 106.825 267.87 Q109.904 272.454 109.904 281.204 Q109.904 289.93 106.825 294.537 Q103.77 299.12 97.9595 299.12 Q92.1493 299.12 89.0706 294.537 Q86.0151 289.93 86.0151 281.204 Q86.0151 272.454 89.0706 267.87 Q92.1493 263.264 97.9595 263.264 Z\" fill=\"#000000\" fill-rule=\"evenodd\" fill-opacity=\"1\" /><path clip-path=\"url(#clip230)\" d=\"M 0 0 M1168.96 12.096 L1177.14 12.096 L1177.14 65.6895 L1206.59 65.6895 L1206.59 72.576 L1168.96 72.576 L1168.96 12.096 Z\" fill=\"#000000\" fill-rule=\"evenodd\" fill-opacity=\"1\" /><path clip-path=\"url(#clip230)\" d=\"M 0 0 M1230.53 32.4315 Q1224.54 32.4315 1221.05 37.1306 Q1217.57 41.7891 1217.57 49.9314 Q1217.57 58.0738 1221.01 62.7728 Q1224.5 67.4314 1230.53 67.4314 Q1236.49 67.4314 1239.97 62.7323 Q1243.46 58.0333 1243.46 49.9314 Q1243.46 41.8701 1239.97 37.1711 Q1236.49 32.4315 1230.53 32.4315 M1230.53 26.1121 Q1240.26 26.1121 1245.81 32.4315 Q1251.36 38.7509 1251.36 49.9314 Q1251.36 61.0714 1245.81 67.4314 Q1240.26 73.7508 1230.53 73.7508 Q1220.77 73.7508 1215.22 67.4314 Q1209.71 61.0714 1209.71 49.9314 Q1209.71 38.7509 1215.22 32.4315 Q1220.77 26.1121 1230.53 26.1121 Z\" fill=\"#000000\" fill-rule=\"evenodd\" fill-opacity=\"1\" /><path clip-path=\"url(#clip230)\" d=\"M 0 0 M1288.1 28.5427 L1288.1 35.5912 Q1284.94 33.9709 1281.53 33.1607 Q1278.13 32.3505 1274.49 32.3505 Q1268.94 32.3505 1266.14 34.0519 Q1263.39 35.7533 1263.39 39.156 Q1263.39 41.7486 1265.37 43.2475 Q1267.36 44.7058 1273.35 46.0426 L1275.9 46.6097 Q1283.84 48.3111 1287.17 51.4303 Q1290.53 54.509 1290.53 60.0587 Q1290.53 66.3781 1285.5 70.0644 Q1280.52 73.7508 1271.77 73.7508 Q1268.13 73.7508 1264.16 73.0216 Q1260.23 72.3329 1255.85 70.9151 L1255.85 63.2184 Q1259.98 65.3654 1263.99 66.4591 Q1268 67.5124 1271.93 67.5124 Q1277.2 67.5124 1280.04 65.73 Q1282.87 63.9071 1282.87 60.6258 Q1282.87 57.5877 1280.81 55.9673 Q1278.78 54.3469 1271.85 52.8481 L1269.26 52.2405 Q1262.33 50.7821 1259.25 47.7845 Q1256.18 44.7463 1256.18 39.4801 Q1256.18 33.0797 1260.71 29.5959 Q1265.25 26.1121 1273.59 26.1121 Q1277.73 26.1121 1281.37 26.7198 Q1285.02 27.3274 1288.1 28.5427 Z\" fill=\"#000000\" fill-rule=\"evenodd\" fill-opacity=\"1\" /><path clip-path=\"url(#clip230)\" d=\"M 0 0 M1327.27 28.5427 L1327.27 35.5912 Q1324.11 33.9709 1320.71 33.1607 Q1317.3 32.3505 1313.66 32.3505 Q1308.11 32.3505 1305.31 34.0519 Q1302.56 35.7533 1302.56 39.156 Q1302.56 41.7486 1304.54 43.2475 Q1306.53 44.7058 1312.52 46.0426 L1315.08 46.6097 Q1323.02 48.3111 1326.34 51.4303 Q1329.7 54.509 1329.7 60.0587 Q1329.7 66.3781 1324.68 70.0644 Q1319.69 73.7508 1310.94 73.7508 Q1307.3 73.7508 1303.33 73.0216 Q1299.4 72.3329 1295.02 70.9151 L1295.02 63.2184 Q1299.16 65.3654 1303.17 66.4591 Q1307.18 67.5124 1311.11 67.5124 Q1316.37 67.5124 1319.21 65.73 Q1322.04 63.9071 1322.04 60.6258 Q1322.04 57.5877 1319.98 55.9673 Q1317.95 54.3469 1311.03 52.8481 L1308.43 52.2405 Q1301.51 50.7821 1298.43 47.7845 Q1295.35 44.7463 1295.35 39.4801 Q1295.35 33.0797 1299.89 29.5959 Q1304.42 26.1121 1312.77 26.1121 Q1316.9 26.1121 1320.54 26.7198 Q1324.19 27.3274 1327.27 28.5427 Z\" fill=\"#000000\" fill-rule=\"evenodd\" fill-opacity=\"1\" /><path clip-path=\"url(#clip230)\" d=\"\n",
       "M1821.17 348.236 L2279.19 348.236 L2279.19 166.796 L1821.17 166.796  Z\n",
       "  \" fill=\"#ffffff\" fill-rule=\"evenodd\" fill-opacity=\"1\"/>\n",
       "<polyline clip-path=\"url(#clip230)\" style=\"stroke:#000000; stroke-width:4; stroke-opacity:1; fill:none\" points=\"\n",
       "  1821.17,348.236 2279.19,348.236 2279.19,166.796 1821.17,166.796 1821.17,348.236 \n",
       "  \"/>\n",
       "<polyline clip-path=\"url(#clip230)\" style=\"stroke:#009af9; stroke-width:4; stroke-opacity:1; fill:none\" points=\"\n",
       "  1845.69,227.276 1992.81,227.276 \n",
       "  \"/>\n",
       "<path clip-path=\"url(#clip230)\" d=\"M 0 0 M2017.33 209.996 L2046.57 209.996 L2046.57 213.931 L2034.3 213.931 L2034.3 244.556 L2029.6 244.556 L2029.6 213.931 L2017.33 213.931 L2017.33 209.996 Z\" fill=\"#000000\" fill-rule=\"evenodd\" fill-opacity=\"1\" /><path clip-path=\"url(#clip230)\" d=\"M 0 0 M2059.09 222.611 Q2058.37 222.195 2057.52 222.01 Q2056.68 221.801 2055.66 221.801 Q2052.05 221.801 2050.11 224.162 Q2048.19 226.5 2048.19 230.898 L2048.19 244.556 L2043.9 244.556 L2043.9 218.63 L2048.19 218.63 L2048.19 222.658 Q2049.53 220.297 2051.68 219.162 Q2053.83 218.005 2056.91 218.005 Q2057.35 218.005 2057.89 218.074 Q2058.42 218.121 2059.07 218.236 L2059.09 222.611 Z\" fill=\"#000000\" fill-rule=\"evenodd\" fill-opacity=\"1\" /><path clip-path=\"url(#clip230)\" d=\"M 0 0 M2075.34 231.523 Q2070.18 231.523 2068.19 232.704 Q2066.2 233.884 2066.2 236.732 Q2066.2 239 2067.68 240.343 Q2069.18 241.662 2071.75 241.662 Q2075.29 241.662 2077.42 239.162 Q2079.58 236.639 2079.58 232.472 L2079.58 231.523 L2075.34 231.523 M2083.83 229.764 L2083.83 244.556 L2079.58 244.556 L2079.58 240.621 Q2078.12 242.982 2075.94 244.116 Q2073.76 245.227 2070.62 245.227 Q2066.64 245.227 2064.27 243.005 Q2061.94 240.759 2061.94 237.009 Q2061.94 232.634 2064.85 230.412 Q2067.79 228.19 2073.6 228.19 L2079.58 228.19 L2079.58 227.773 Q2079.58 224.834 2077.63 223.236 Q2075.71 221.616 2072.21 221.616 Q2069.99 221.616 2067.89 222.148 Q2065.78 222.681 2063.83 223.746 L2063.83 219.81 Q2066.17 218.908 2068.37 218.468 Q2070.57 218.005 2072.65 218.005 Q2078.28 218.005 2081.06 220.922 Q2083.83 223.838 2083.83 229.764 Z\" fill=\"#000000\" fill-rule=\"evenodd\" fill-opacity=\"1\" /><path clip-path=\"url(#clip230)\" d=\"M 0 0 M2088.3 218.63 L2092.56 218.63 L2092.56 244.556 L2088.3 244.556 L2088.3 218.63 M2088.3 208.537 L2092.56 208.537 L2092.56 213.931 L2088.3 213.931 L2088.3 208.537 Z\" fill=\"#000000\" fill-rule=\"evenodd\" fill-opacity=\"1\" /><path clip-path=\"url(#clip230)\" d=\"M 0 0 M2118.58 228.908 L2118.58 244.556 L2114.32 244.556 L2114.32 229.047 Q2114.32 225.366 2112.89 223.537 Q2111.45 221.709 2108.58 221.709 Q2105.13 221.709 2103.14 223.908 Q2101.15 226.107 2101.15 229.903 L2101.15 244.556 L2096.87 244.556 L2096.87 218.63 L2101.15 218.63 L2101.15 222.658 Q2102.68 220.32 2104.74 219.162 Q2106.82 218.005 2109.53 218.005 Q2114 218.005 2116.29 220.783 Q2118.58 223.537 2118.58 228.908 Z\" fill=\"#000000\" fill-rule=\"evenodd\" fill-opacity=\"1\" /><path clip-path=\"url(#clip230)\" d=\"M 0 0 M2138.3 209.996 L2142.98 209.996 L2142.98 240.621 L2159.81 240.621 L2159.81 244.556 L2138.3 244.556 L2138.3 209.996 Z\" fill=\"#000000\" fill-rule=\"evenodd\" fill-opacity=\"1\" /><path clip-path=\"url(#clip230)\" d=\"M 0 0 M2173.49 221.616 Q2170.06 221.616 2168.07 224.301 Q2166.08 226.963 2166.08 231.616 Q2166.08 236.269 2168.05 238.954 Q2170.04 241.616 2173.49 241.616 Q2176.89 241.616 2178.88 238.931 Q2180.87 236.246 2180.87 231.616 Q2180.87 227.01 2178.88 224.324 Q2176.89 221.616 2173.49 221.616 M2173.49 218.005 Q2179.04 218.005 2182.21 221.616 Q2185.38 225.227 2185.38 231.616 Q2185.38 237.982 2182.21 241.616 Q2179.04 245.227 2173.49 245.227 Q2167.91 245.227 2164.74 241.616 Q2161.59 237.982 2161.59 231.616 Q2161.59 225.227 2164.74 221.616 Q2167.91 218.005 2173.49 218.005 Z\" fill=\"#000000\" fill-rule=\"evenodd\" fill-opacity=\"1\" /><path clip-path=\"url(#clip230)\" d=\"M 0 0 M2206.38 219.394 L2206.38 223.422 Q2204.57 222.496 2202.63 222.033 Q2200.69 221.57 2198.6 221.57 Q2195.43 221.57 2193.83 222.542 Q2192.26 223.514 2192.26 225.459 Q2192.26 226.94 2193.39 227.797 Q2194.53 228.63 2197.95 229.394 L2199.41 229.718 Q2203.95 230.69 2205.85 232.472 Q2207.77 234.232 2207.77 237.403 Q2207.77 241.014 2204.9 243.121 Q2202.05 245.227 2197.05 245.227 Q2194.97 245.227 2192.7 244.81 Q2190.45 244.417 2187.95 243.607 L2187.95 239.209 Q2190.32 240.435 2192.61 241.06 Q2194.9 241.662 2197.14 241.662 Q2200.15 241.662 2201.77 240.644 Q2203.39 239.602 2203.39 237.727 Q2203.39 235.991 2202.21 235.065 Q2201.06 234.139 2197.1 233.283 L2195.62 232.935 Q2191.66 232.102 2189.9 230.389 Q2188.14 228.653 2188.14 225.644 Q2188.14 221.986 2190.73 219.996 Q2193.32 218.005 2198.09 218.005 Q2200.45 218.005 2202.54 218.352 Q2204.62 218.699 2206.38 219.394 Z\" fill=\"#000000\" fill-rule=\"evenodd\" fill-opacity=\"1\" /><path clip-path=\"url(#clip230)\" d=\"M 0 0 M2228.76 219.394 L2228.76 223.422 Q2226.96 222.496 2225.01 222.033 Q2223.07 221.57 2220.99 221.57 Q2217.82 221.57 2216.22 222.542 Q2214.64 223.514 2214.64 225.459 Q2214.64 226.94 2215.78 227.797 Q2216.91 228.63 2220.34 229.394 L2221.8 229.718 Q2226.33 230.69 2228.23 232.472 Q2230.15 234.232 2230.15 237.403 Q2230.15 241.014 2227.28 243.121 Q2224.44 245.227 2219.44 245.227 Q2217.35 245.227 2215.08 244.81 Q2212.84 244.417 2210.34 243.607 L2210.34 239.209 Q2212.7 240.435 2214.99 241.06 Q2217.28 241.662 2219.53 241.662 Q2222.54 241.662 2224.16 240.644 Q2225.78 239.602 2225.78 237.727 Q2225.78 235.991 2224.6 235.065 Q2223.44 234.139 2219.48 233.283 L2218 232.935 Q2214.04 232.102 2212.28 230.389 Q2210.52 228.653 2210.52 225.644 Q2210.52 221.986 2213.12 219.996 Q2215.71 218.005 2220.48 218.005 Q2222.84 218.005 2224.92 218.352 Q2227 218.699 2228.76 219.394 Z\" fill=\"#000000\" fill-rule=\"evenodd\" fill-opacity=\"1\" /><polyline clip-path=\"url(#clip230)\" style=\"stroke:#e26f46; stroke-width:4; stroke-opacity:1; fill:none\" points=\"\n",
       "  1845.69,287.756 1992.81,287.756 \n",
       "  \"/>\n",
       "<path clip-path=\"url(#clip230)\" d=\"M 0 0 M2017.33 270.476 L2046.57 270.476 L2046.57 274.411 L2034.3 274.411 L2034.3 305.036 L2029.6 305.036 L2029.6 274.411 L2017.33 274.411 L2017.33 270.476 Z\" fill=\"#000000\" fill-rule=\"evenodd\" fill-opacity=\"1\" /><path clip-path=\"url(#clip230)\" d=\"M 0 0 M2065.15 291.008 L2065.15 293.091 L2045.57 293.091 Q2045.85 297.489 2048.21 299.804 Q2050.59 302.096 2054.83 302.096 Q2057.28 302.096 2059.58 301.494 Q2061.89 300.892 2064.16 299.689 L2064.16 303.716 Q2061.87 304.688 2059.46 305.198 Q2057.05 305.707 2054.58 305.707 Q2048.37 305.707 2044.74 302.096 Q2041.13 298.485 2041.13 292.327 Q2041.13 285.962 2044.55 282.235 Q2048 278.485 2053.83 278.485 Q2059.07 278.485 2062.1 281.865 Q2065.15 285.221 2065.15 291.008 M2060.89 289.758 Q2060.85 286.263 2058.93 284.179 Q2057.03 282.096 2053.88 282.096 Q2050.32 282.096 2048.16 284.11 Q2046.03 286.124 2045.71 289.781 L2060.89 289.758 Z\" fill=\"#000000\" fill-rule=\"evenodd\" fill-opacity=\"1\" /><path clip-path=\"url(#clip230)\" d=\"M 0 0 M2086.15 279.874 L2086.15 283.902 Q2084.34 282.976 2082.4 282.513 Q2080.45 282.05 2078.37 282.05 Q2075.2 282.05 2073.6 283.022 Q2072.03 283.994 2072.03 285.939 Q2072.03 287.42 2073.16 288.277 Q2074.3 289.11 2077.72 289.874 L2079.18 290.198 Q2083.72 291.17 2085.62 292.952 Q2087.54 294.712 2087.54 297.883 Q2087.54 301.494 2084.67 303.601 Q2081.82 305.707 2076.82 305.707 Q2074.74 305.707 2072.47 305.29 Q2070.22 304.897 2067.72 304.087 L2067.72 299.689 Q2070.08 300.915 2072.38 301.54 Q2074.67 302.142 2076.91 302.142 Q2079.92 302.142 2081.54 301.124 Q2083.16 300.082 2083.16 298.207 Q2083.16 296.471 2081.98 295.545 Q2080.83 294.619 2076.87 293.763 L2075.39 293.415 Q2071.43 292.582 2069.67 290.869 Q2067.91 289.133 2067.91 286.124 Q2067.91 282.466 2070.5 280.476 Q2073.09 278.485 2077.86 278.485 Q2080.22 278.485 2082.31 278.832 Q2084.39 279.179 2086.15 279.874 Z\" fill=\"#000000\" fill-rule=\"evenodd\" fill-opacity=\"1\" /><path clip-path=\"url(#clip230)\" d=\"M 0 0 M2096.22 271.749 L2096.22 279.11 L2104.99 279.11 L2104.99 282.42 L2096.22 282.42 L2096.22 296.494 Q2096.22 299.665 2097.08 300.568 Q2097.95 301.471 2100.62 301.471 L2104.99 301.471 L2104.99 305.036 L2100.62 305.036 Q2095.69 305.036 2093.81 303.207 Q2091.94 301.355 2091.94 296.494 L2091.94 282.42 L2088.81 282.42 L2088.81 279.11 L2091.94 279.11 L2091.94 271.749 L2096.22 271.749 Z\" fill=\"#000000\" fill-rule=\"evenodd\" fill-opacity=\"1\" /><path clip-path=\"url(#clip230)\" d=\"M 0 0 M2124.71 270.476 L2129.39 270.476 L2129.39 301.101 L2146.22 301.101 L2146.22 305.036 L2124.71 305.036 L2124.71 270.476 Z\" fill=\"#000000\" fill-rule=\"evenodd\" fill-opacity=\"1\" /><path clip-path=\"url(#clip230)\" d=\"M 0 0 M2159.9 282.096 Q2156.47 282.096 2154.48 284.781 Q2152.49 287.443 2152.49 292.096 Q2152.49 296.749 2154.46 299.434 Q2156.45 302.096 2159.9 302.096 Q2163.3 302.096 2165.29 299.411 Q2167.28 296.726 2167.28 292.096 Q2167.28 287.49 2165.29 284.804 Q2163.3 282.096 2159.9 282.096 M2159.9 278.485 Q2165.45 278.485 2168.63 282.096 Q2171.8 285.707 2171.8 292.096 Q2171.8 298.462 2168.63 302.096 Q2165.45 305.707 2159.9 305.707 Q2154.32 305.707 2151.15 302.096 Q2148 298.462 2148 292.096 Q2148 285.707 2151.15 282.096 Q2154.32 278.485 2159.9 278.485 Z\" fill=\"#000000\" fill-rule=\"evenodd\" fill-opacity=\"1\" /><path clip-path=\"url(#clip230)\" d=\"M 0 0 M2192.79 279.874 L2192.79 283.902 Q2190.99 282.976 2189.04 282.513 Q2187.1 282.05 2185.01 282.05 Q2181.84 282.05 2180.25 283.022 Q2178.67 283.994 2178.67 285.939 Q2178.67 287.42 2179.81 288.277 Q2180.94 289.11 2184.37 289.874 L2185.82 290.198 Q2190.36 291.17 2192.26 292.952 Q2194.18 294.712 2194.18 297.883 Q2194.18 301.494 2191.31 303.601 Q2188.46 305.707 2183.46 305.707 Q2181.38 305.707 2179.11 305.29 Q2176.87 304.897 2174.37 304.087 L2174.37 299.689 Q2176.73 300.915 2179.02 301.54 Q2181.31 302.142 2183.56 302.142 Q2186.57 302.142 2188.19 301.124 Q2189.81 300.082 2189.81 298.207 Q2189.81 296.471 2188.63 295.545 Q2187.47 294.619 2183.51 293.763 L2182.03 293.415 Q2178.07 292.582 2176.31 290.869 Q2174.55 289.133 2174.55 286.124 Q2174.55 282.466 2177.14 280.476 Q2179.74 278.485 2184.51 278.485 Q2186.87 278.485 2188.95 278.832 Q2191.03 279.179 2192.79 279.874 Z\" fill=\"#000000\" fill-rule=\"evenodd\" fill-opacity=\"1\" /><path clip-path=\"url(#clip230)\" d=\"M 0 0 M2215.18 279.874 L2215.18 283.902 Q2213.37 282.976 2211.43 282.513 Q2209.48 282.05 2207.4 282.05 Q2204.23 282.05 2202.63 283.022 Q2201.06 283.994 2201.06 285.939 Q2201.06 287.42 2202.19 288.277 Q2203.32 289.11 2206.75 289.874 L2208.21 290.198 Q2212.75 291.17 2214.64 292.952 Q2216.57 294.712 2216.57 297.883 Q2216.57 301.494 2213.69 303.601 Q2210.85 305.707 2205.85 305.707 Q2203.76 305.707 2201.5 305.29 Q2199.25 304.897 2196.75 304.087 L2196.75 299.689 Q2199.11 300.915 2201.4 301.54 Q2203.69 302.142 2205.94 302.142 Q2208.95 302.142 2210.57 301.124 Q2212.19 300.082 2212.19 298.207 Q2212.19 296.471 2211.01 295.545 Q2209.85 294.619 2205.89 293.763 L2204.41 293.415 Q2200.45 292.582 2198.69 290.869 Q2196.94 289.133 2196.94 286.124 Q2196.94 282.466 2199.53 280.476 Q2202.12 278.485 2206.89 278.485 Q2209.25 278.485 2211.33 278.832 Q2213.42 279.179 2215.18 279.874 Z\" fill=\"#000000\" fill-rule=\"evenodd\" fill-opacity=\"1\" /></svg>\n"
      ]
     },
     "metadata": {},
     "output_type": "display_data"
    },
    {
     "data": {
      "image/svg+xml": [
       "<?xml version=\"1.0\" encoding=\"utf-8\"?>\n",
       "<svg xmlns=\"http://www.w3.org/2000/svg\" xmlns:xlink=\"http://www.w3.org/1999/xlink\" width=\"600\" height=\"400\" viewBox=\"0 0 2400 1600\">\n",
       "<defs>\n",
       "  <clipPath id=\"clip270\">\n",
       "    <rect x=\"0\" y=\"0\" width=\"2400\" height=\"1600\"/>\n",
       "  </clipPath>\n",
       "</defs>\n",
       "<path clip-path=\"url(#clip270)\" d=\"\n",
       "M0 1600 L2400 1600 L2400 0 L0 0  Z\n",
       "  \" fill=\"#ffffff\" fill-rule=\"evenodd\" fill-opacity=\"1\"/>\n",
       "<defs>\n",
       "  <clipPath id=\"clip271\">\n",
       "    <rect x=\"480\" y=\"0\" width=\"1681\" height=\"1600\"/>\n",
       "  </clipPath>\n",
       "</defs>\n",
       "<path clip-path=\"url(#clip270)\" d=\"\n",
       "M147.756 1423.18 L2352.76 1423.18 L2352.76 123.472 L147.756 123.472  Z\n",
       "  \" fill=\"#ffffff\" fill-rule=\"evenodd\" fill-opacity=\"1\"/>\n",
       "<defs>\n",
       "  <clipPath id=\"clip272\">\n",
       "    <rect x=\"147\" y=\"123\" width=\"2206\" height=\"1301\"/>\n",
       "  </clipPath>\n",
       "</defs>\n",
       "<polyline clip-path=\"url(#clip272)\" style=\"stroke:#000000; stroke-width:2; stroke-opacity:0.1; fill:none\" points=\"\n",
       "  210.161,1423.18 210.161,123.472 \n",
       "  \"/>\n",
       "<polyline clip-path=\"url(#clip272)\" style=\"stroke:#000000; stroke-width:2; stroke-opacity:0.1; fill:none\" points=\"\n",
       "  730.209,1423.18 730.209,123.472 \n",
       "  \"/>\n",
       "<polyline clip-path=\"url(#clip272)\" style=\"stroke:#000000; stroke-width:2; stroke-opacity:0.1; fill:none\" points=\"\n",
       "  1250.26,1423.18 1250.26,123.472 \n",
       "  \"/>\n",
       "<polyline clip-path=\"url(#clip272)\" style=\"stroke:#000000; stroke-width:2; stroke-opacity:0.1; fill:none\" points=\"\n",
       "  1770.3,1423.18 1770.3,123.472 \n",
       "  \"/>\n",
       "<polyline clip-path=\"url(#clip272)\" style=\"stroke:#000000; stroke-width:2; stroke-opacity:0.1; fill:none\" points=\"\n",
       "  2290.35,1423.18 2290.35,123.472 \n",
       "  \"/>\n",
       "<polyline clip-path=\"url(#clip270)\" style=\"stroke:#000000; stroke-width:4; stroke-opacity:1; fill:none\" points=\"\n",
       "  147.756,1423.18 2352.76,1423.18 \n",
       "  \"/>\n",
       "<polyline clip-path=\"url(#clip270)\" style=\"stroke:#000000; stroke-width:4; stroke-opacity:1; fill:none\" points=\"\n",
       "  210.161,1423.18 210.161,1407.58 \n",
       "  \"/>\n",
       "<polyline clip-path=\"url(#clip270)\" style=\"stroke:#000000; stroke-width:4; stroke-opacity:1; fill:none\" points=\"\n",
       "  730.209,1423.18 730.209,1407.58 \n",
       "  \"/>\n",
       "<polyline clip-path=\"url(#clip270)\" style=\"stroke:#000000; stroke-width:4; stroke-opacity:1; fill:none\" points=\"\n",
       "  1250.26,1423.18 1250.26,1407.58 \n",
       "  \"/>\n",
       "<polyline clip-path=\"url(#clip270)\" style=\"stroke:#000000; stroke-width:4; stroke-opacity:1; fill:none\" points=\"\n",
       "  1770.3,1423.18 1770.3,1407.58 \n",
       "  \"/>\n",
       "<polyline clip-path=\"url(#clip270)\" style=\"stroke:#000000; stroke-width:4; stroke-opacity:1; fill:none\" points=\"\n",
       "  2290.35,1423.18 2290.35,1407.58 \n",
       "  \"/>\n",
       "<path clip-path=\"url(#clip270)\" d=\"M 0 0 M168.553 1479.92 L176.192 1479.92 L176.192 1453.55 L167.881 1455.22 L167.881 1450.96 L176.145 1449.29 L180.821 1449.29 L180.821 1479.92 L188.46 1479.92 L188.46 1483.85 L168.553 1483.85 L168.553 1479.92 Z\" fill=\"#000000\" fill-rule=\"evenodd\" fill-opacity=\"1\" /><path clip-path=\"url(#clip270)\" d=\"M 0 0 M193.53 1477.97 L198.414 1477.97 L198.414 1483.85 L193.53 1483.85 L193.53 1477.97 Z\" fill=\"#000000\" fill-rule=\"evenodd\" fill-opacity=\"1\" /><path clip-path=\"url(#clip270)\" d=\"M 0 0 M213.483 1452.37 Q209.872 1452.37 208.043 1455.94 Q206.238 1459.48 206.238 1466.61 Q206.238 1473.71 208.043 1477.28 Q209.872 1480.82 213.483 1480.82 Q217.117 1480.82 218.923 1477.28 Q220.752 1473.71 220.752 1466.61 Q220.752 1459.48 218.923 1455.94 Q217.117 1452.37 213.483 1452.37 M213.483 1448.67 Q219.293 1448.67 222.349 1453.27 Q225.427 1457.86 225.427 1466.61 Q225.427 1475.33 222.349 1479.94 Q219.293 1484.52 213.483 1484.52 Q207.673 1484.52 204.594 1479.94 Q201.539 1475.33 201.539 1466.61 Q201.539 1457.86 204.594 1453.27 Q207.673 1448.67 213.483 1448.67 Z\" fill=\"#000000\" fill-rule=\"evenodd\" fill-opacity=\"1\" /><path clip-path=\"url(#clip270)\" d=\"M 0 0 M240.497 1452.37 Q236.886 1452.37 235.057 1455.94 Q233.252 1459.48 233.252 1466.61 Q233.252 1473.71 235.057 1477.28 Q236.886 1480.82 240.497 1480.82 Q244.131 1480.82 245.937 1477.28 Q247.765 1473.71 247.765 1466.61 Q247.765 1459.48 245.937 1455.94 Q244.131 1452.37 240.497 1452.37 M240.497 1448.67 Q246.307 1448.67 249.363 1453.27 Q252.441 1457.86 252.441 1466.61 Q252.441 1475.33 249.363 1479.94 Q246.307 1484.52 240.497 1484.52 Q234.687 1484.52 231.608 1479.94 Q228.552 1475.33 228.552 1466.61 Q228.552 1457.86 231.608 1453.27 Q234.687 1448.67 240.497 1448.67 Z\" fill=\"#000000\" fill-rule=\"evenodd\" fill-opacity=\"1\" /><path clip-path=\"url(#clip270)\" d=\"M 0 0 M689.896 1479.92 L697.535 1479.92 L697.535 1453.55 L689.225 1455.22 L689.225 1450.96 L697.489 1449.29 L702.165 1449.29 L702.165 1479.92 L709.804 1479.92 L709.804 1483.85 L689.896 1483.85 L689.896 1479.92 Z\" fill=\"#000000\" fill-rule=\"evenodd\" fill-opacity=\"1\" /><path clip-path=\"url(#clip270)\" d=\"M 0 0 M714.873 1477.97 L719.757 1477.97 L719.757 1483.85 L714.873 1483.85 L714.873 1477.97 Z\" fill=\"#000000\" fill-rule=\"evenodd\" fill-opacity=\"1\" /><path clip-path=\"url(#clip270)\" d=\"M 0 0 M728.854 1479.92 L745.174 1479.92 L745.174 1483.85 L723.229 1483.85 L723.229 1479.92 Q725.891 1477.16 730.475 1472.53 Q735.081 1467.88 736.262 1466.54 Q738.507 1464.01 739.387 1462.28 Q740.29 1460.52 740.29 1458.83 Q740.29 1456.07 738.345 1454.34 Q736.424 1452.6 733.322 1452.6 Q731.123 1452.6 728.669 1453.37 Q726.239 1454.13 723.461 1455.68 L723.461 1450.96 Q726.285 1449.82 728.739 1449.25 Q731.192 1448.67 733.229 1448.67 Q738.6 1448.67 741.794 1451.35 Q744.989 1454.04 744.989 1458.53 Q744.989 1460.66 744.178 1462.58 Q743.391 1464.48 741.285 1467.07 Q740.706 1467.74 737.604 1470.96 Q734.503 1474.15 728.854 1479.92 Z\" fill=\"#000000\" fill-rule=\"evenodd\" fill-opacity=\"1\" /><path clip-path=\"url(#clip270)\" d=\"M 0 0 M750.289 1449.29 L768.646 1449.29 L768.646 1453.23 L754.572 1453.23 L754.572 1461.7 Q755.59 1461.35 756.609 1461.19 Q757.627 1461 758.646 1461 Q764.433 1461 767.813 1464.18 Q771.192 1467.35 771.192 1472.76 Q771.192 1478.34 767.72 1481.44 Q764.248 1484.52 757.928 1484.52 Q755.752 1484.52 753.484 1484.15 Q751.239 1483.78 748.831 1483.04 L748.831 1478.34 Q750.914 1479.48 753.137 1480.03 Q755.359 1480.59 757.836 1480.59 Q761.84 1480.59 764.178 1478.48 Q766.516 1476.38 766.516 1472.76 Q766.516 1469.15 764.178 1467.05 Q761.84 1464.94 757.836 1464.94 Q755.961 1464.94 754.086 1465.36 Q752.234 1465.77 750.289 1466.65 L750.289 1449.29 Z\" fill=\"#000000\" fill-rule=\"evenodd\" fill-opacity=\"1\" /><path clip-path=\"url(#clip270)\" d=\"M 0 0 M1209.14 1479.92 L1216.78 1479.92 L1216.78 1453.55 L1208.47 1455.22 L1208.47 1450.96 L1216.74 1449.29 L1221.41 1449.29 L1221.41 1479.92 L1229.05 1479.92 L1229.05 1483.85 L1209.14 1483.85 L1209.14 1479.92 Z\" fill=\"#000000\" fill-rule=\"evenodd\" fill-opacity=\"1\" /><path clip-path=\"url(#clip270)\" d=\"M 0 0 M1234.12 1477.97 L1239.01 1477.97 L1239.01 1483.85 L1234.12 1483.85 L1234.12 1477.97 Z\" fill=\"#000000\" fill-rule=\"evenodd\" fill-opacity=\"1\" /><path clip-path=\"url(#clip270)\" d=\"M 0 0 M1244.12 1449.29 L1262.48 1449.29 L1262.48 1453.23 L1248.4 1453.23 L1248.4 1461.7 Q1249.42 1461.35 1250.44 1461.19 Q1251.46 1461 1252.48 1461 Q1258.27 1461 1261.64 1464.18 Q1265.02 1467.35 1265.02 1472.76 Q1265.02 1478.34 1261.55 1481.44 Q1258.08 1484.52 1251.76 1484.52 Q1249.58 1484.52 1247.32 1484.15 Q1245.07 1483.78 1242.66 1483.04 L1242.66 1478.34 Q1244.75 1479.48 1246.97 1480.03 Q1249.19 1480.59 1251.67 1480.59 Q1255.67 1480.59 1258.01 1478.48 Q1260.35 1476.38 1260.35 1472.76 Q1260.35 1469.15 1258.01 1467.05 Q1255.67 1464.94 1251.67 1464.94 Q1249.79 1464.94 1247.92 1465.36 Q1246.07 1465.77 1244.12 1466.65 L1244.12 1449.29 Z\" fill=\"#000000\" fill-rule=\"evenodd\" fill-opacity=\"1\" /><path clip-path=\"url(#clip270)\" d=\"M 0 0 M1280.09 1452.37 Q1276.48 1452.37 1274.65 1455.94 Q1272.85 1459.48 1272.85 1466.61 Q1272.85 1473.71 1274.65 1477.28 Q1276.48 1480.82 1280.09 1480.82 Q1283.73 1480.82 1285.53 1477.28 Q1287.36 1473.71 1287.36 1466.61 Q1287.36 1459.48 1285.53 1455.94 Q1283.73 1452.37 1280.09 1452.37 M1280.09 1448.67 Q1285.9 1448.67 1288.96 1453.27 Q1292.04 1457.86 1292.04 1466.61 Q1292.04 1475.33 1288.96 1479.94 Q1285.9 1484.52 1280.09 1484.52 Q1274.28 1484.52 1271.2 1479.94 Q1268.15 1475.33 1268.15 1466.61 Q1268.15 1457.86 1271.2 1453.27 Q1274.28 1448.67 1280.09 1448.67 Z\" fill=\"#000000\" fill-rule=\"evenodd\" fill-opacity=\"1\" /><path clip-path=\"url(#clip270)\" d=\"M 0 0 M1729.64 1479.92 L1737.28 1479.92 L1737.28 1453.55 L1728.97 1455.22 L1728.97 1450.96 L1737.24 1449.29 L1741.91 1449.29 L1741.91 1479.92 L1749.55 1479.92 L1749.55 1483.85 L1729.64 1483.85 L1729.64 1479.92 Z\" fill=\"#000000\" fill-rule=\"evenodd\" fill-opacity=\"1\" /><path clip-path=\"url(#clip270)\" d=\"M 0 0 M1754.62 1477.97 L1759.5 1477.97 L1759.5 1483.85 L1754.62 1483.85 L1754.62 1477.97 Z\" fill=\"#000000\" fill-rule=\"evenodd\" fill-opacity=\"1\" /><path clip-path=\"url(#clip270)\" d=\"M 0 0 M1763.39 1449.29 L1785.62 1449.29 L1785.62 1451.28 L1773.07 1483.85 L1768.18 1483.85 L1779.99 1453.23 L1763.39 1453.23 L1763.39 1449.29 Z\" fill=\"#000000\" fill-rule=\"evenodd\" fill-opacity=\"1\" /><path clip-path=\"url(#clip270)\" d=\"M 0 0 M1790.73 1449.29 L1809.09 1449.29 L1809.09 1453.23 L1795.01 1453.23 L1795.01 1461.7 Q1796.03 1461.35 1797.05 1461.19 Q1798.07 1461 1799.09 1461 Q1804.87 1461 1808.25 1464.18 Q1811.63 1467.35 1811.63 1472.76 Q1811.63 1478.34 1808.16 1481.44 Q1804.69 1484.52 1798.37 1484.52 Q1796.19 1484.52 1793.93 1484.15 Q1791.68 1483.78 1789.27 1483.04 L1789.27 1478.34 Q1791.36 1479.48 1793.58 1480.03 Q1795.8 1480.59 1798.28 1480.59 Q1802.28 1480.59 1804.62 1478.48 Q1806.96 1476.38 1806.96 1472.76 Q1806.96 1469.15 1804.62 1467.05 Q1802.28 1464.94 1798.28 1464.94 Q1796.4 1464.94 1794.53 1465.36 Q1792.68 1465.77 1790.73 1466.65 L1790.73 1449.29 Z\" fill=\"#000000\" fill-rule=\"evenodd\" fill-opacity=\"1\" /><path clip-path=\"url(#clip270)\" d=\"M 0 0 M2253.01 1479.92 L2269.33 1479.92 L2269.33 1483.85 L2247.39 1483.85 L2247.39 1479.92 Q2250.05 1477.16 2254.63 1472.53 Q2259.24 1467.88 2260.42 1466.54 Q2262.67 1464.01 2263.54 1462.28 Q2264.45 1460.52 2264.45 1458.83 Q2264.45 1456.07 2262.5 1454.34 Q2260.58 1452.6 2257.48 1452.6 Q2255.28 1452.6 2252.83 1453.37 Q2250.4 1454.13 2247.62 1455.68 L2247.62 1450.96 Q2250.44 1449.82 2252.9 1449.25 Q2255.35 1448.67 2257.39 1448.67 Q2262.76 1448.67 2265.95 1451.35 Q2269.15 1454.04 2269.15 1458.53 Q2269.15 1460.66 2268.34 1462.58 Q2267.55 1464.48 2265.44 1467.07 Q2264.86 1467.74 2261.76 1470.96 Q2258.66 1474.15 2253.01 1479.92 Z\" fill=\"#000000\" fill-rule=\"evenodd\" fill-opacity=\"1\" /><path clip-path=\"url(#clip270)\" d=\"M 0 0 M2274.4 1477.97 L2279.29 1477.97 L2279.29 1483.85 L2274.4 1483.85 L2274.4 1477.97 Z\" fill=\"#000000\" fill-rule=\"evenodd\" fill-opacity=\"1\" /><path clip-path=\"url(#clip270)\" d=\"M 0 0 M2294.35 1452.37 Q2290.74 1452.37 2288.92 1455.94 Q2287.11 1459.48 2287.11 1466.61 Q2287.11 1473.71 2288.92 1477.28 Q2290.74 1480.82 2294.35 1480.82 Q2297.99 1480.82 2299.79 1477.28 Q2301.62 1473.71 2301.62 1466.61 Q2301.62 1459.48 2299.79 1455.94 Q2297.99 1452.37 2294.35 1452.37 M2294.35 1448.67 Q2300.17 1448.67 2303.22 1453.27 Q2306.3 1457.86 2306.3 1466.61 Q2306.3 1475.33 2303.22 1479.94 Q2300.17 1484.52 2294.35 1484.52 Q2288.54 1484.52 2285.47 1479.94 Q2282.41 1475.33 2282.41 1466.61 Q2282.41 1457.86 2285.47 1453.27 Q2288.54 1448.67 2294.35 1448.67 Z\" fill=\"#000000\" fill-rule=\"evenodd\" fill-opacity=\"1\" /><path clip-path=\"url(#clip270)\" d=\"M 0 0 M2321.37 1452.37 Q2317.76 1452.37 2315.93 1455.94 Q2314.12 1459.48 2314.12 1466.61 Q2314.12 1473.71 2315.93 1477.28 Q2317.76 1480.82 2321.37 1480.82 Q2325 1480.82 2326.81 1477.28 Q2328.64 1473.71 2328.64 1466.61 Q2328.64 1459.48 2326.81 1455.94 Q2325 1452.37 2321.37 1452.37 M2321.37 1448.67 Q2327.18 1448.67 2330.23 1453.27 Q2333.31 1457.86 2333.31 1466.61 Q2333.31 1475.33 2330.23 1479.94 Q2327.18 1484.52 2321.37 1484.52 Q2315.56 1484.52 2312.48 1479.94 Q2309.42 1475.33 2309.42 1466.61 Q2309.42 1457.86 2312.48 1453.27 Q2315.56 1448.67 2321.37 1448.67 Z\" fill=\"#000000\" fill-rule=\"evenodd\" fill-opacity=\"1\" /><path clip-path=\"url(#clip270)\" d=\"M 0 0 M1164.1 1508.52 L1194.14 1508.52 L1194.14 1513.93 L1170.53 1513.93 L1170.53 1528 L1193.16 1528 L1193.16 1533.41 L1170.53 1533.41 L1170.53 1550.63 L1194.72 1550.63 L1194.72 1556.04 L1164.1 1556.04 L1164.1 1508.52 Z\" fill=\"#000000\" fill-rule=\"evenodd\" fill-opacity=\"1\" /><path clip-path=\"url(#clip270)\" d=\"M 0 0 M1206.52 1550.7 L1206.52 1569.6 L1200.64 1569.6 L1200.64 1520.4 L1206.52 1520.4 L1206.52 1525.81 Q1208.37 1522.62 1211.17 1521.1 Q1214 1519.54 1217.92 1519.54 Q1224.41 1519.54 1228.45 1524.69 Q1232.53 1529.85 1232.53 1538.25 Q1232.53 1546.65 1228.45 1551.81 Q1224.41 1556.97 1217.92 1556.97 Q1214 1556.97 1211.17 1555.44 Q1208.37 1553.88 1206.52 1550.7 M1226.45 1538.25 Q1226.45 1531.79 1223.77 1528.13 Q1221.13 1524.44 1216.49 1524.44 Q1211.84 1524.44 1209.17 1528.13 Q1206.52 1531.79 1206.52 1538.25 Q1206.52 1544.71 1209.17 1548.4 Q1211.84 1552.07 1216.49 1552.07 Q1221.13 1552.07 1223.77 1548.4 Q1226.45 1544.71 1226.45 1538.25 Z\" fill=\"#000000\" fill-rule=\"evenodd\" fill-opacity=\"1\" /><path clip-path=\"url(#clip270)\" d=\"M 0 0 M1252.48 1524.5 Q1247.77 1524.5 1245.04 1528.19 Q1242.3 1531.85 1242.3 1538.25 Q1242.3 1544.65 1245 1548.34 Q1247.74 1552 1252.48 1552 Q1257.16 1552 1259.9 1548.31 Q1262.64 1544.62 1262.64 1538.25 Q1262.64 1531.92 1259.9 1528.23 Q1257.16 1524.5 1252.48 1524.5 M1252.48 1519.54 Q1260.12 1519.54 1264.48 1524.5 Q1268.84 1529.47 1268.84 1538.25 Q1268.84 1547 1264.48 1552 Q1260.12 1556.97 1252.48 1556.97 Q1244.81 1556.97 1240.45 1552 Q1236.12 1547 1236.12 1538.25 Q1236.12 1529.47 1240.45 1524.5 Q1244.81 1519.54 1252.48 1519.54 Z\" fill=\"#000000\" fill-rule=\"evenodd\" fill-opacity=\"1\" /><path clip-path=\"url(#clip270)\" d=\"M 0 0 M1300.64 1521.76 L1300.64 1527.24 Q1298.16 1525.87 1295.64 1525.2 Q1293.16 1524.5 1290.61 1524.5 Q1284.92 1524.5 1281.77 1528.13 Q1278.62 1531.73 1278.62 1538.25 Q1278.62 1544.78 1281.77 1548.4 Q1284.92 1552 1290.61 1552 Q1293.16 1552 1295.64 1551.33 Q1298.16 1550.63 1300.64 1549.26 L1300.64 1554.68 Q1298.19 1555.82 1295.55 1556.39 Q1292.94 1556.97 1289.98 1556.97 Q1281.93 1556.97 1277.18 1551.91 Q1272.44 1546.85 1272.44 1538.25 Q1272.44 1529.53 1277.21 1524.53 Q1282.02 1519.54 1290.36 1519.54 Q1293.07 1519.54 1295.64 1520.11 Q1298.22 1520.65 1300.64 1521.76 Z\" fill=\"#000000\" fill-rule=\"evenodd\" fill-opacity=\"1\" /><path clip-path=\"url(#clip270)\" d=\"M 0 0 M1336.42 1534.53 L1336.42 1556.04 L1330.56 1556.04 L1330.56 1534.72 Q1330.56 1529.66 1328.59 1527.14 Q1326.61 1524.63 1322.67 1524.63 Q1317.92 1524.63 1315.19 1527.65 Q1312.45 1530.68 1312.45 1535.9 L1312.45 1556.04 L1306.56 1556.04 L1306.56 1506.52 L1312.45 1506.52 L1312.45 1525.93 Q1314.55 1522.72 1317.38 1521.13 Q1320.25 1519.54 1323.97 1519.54 Q1330.11 1519.54 1333.26 1523.36 Q1336.42 1527.14 1336.42 1534.53 Z\" fill=\"#000000\" fill-rule=\"evenodd\" fill-opacity=\"1\" /><polyline clip-path=\"url(#clip272)\" style=\"stroke:#000000; stroke-width:2; stroke-opacity:0.1; fill:none\" points=\"\n",
       "  147.756,1222.91 2352.76,1222.91 \n",
       "  \"/>\n",
       "<polyline clip-path=\"url(#clip272)\" style=\"stroke:#000000; stroke-width:2; stroke-opacity:0.1; fill:none\" points=\"\n",
       "  147.756,977.683 2352.76,977.683 \n",
       "  \"/>\n",
       "<polyline clip-path=\"url(#clip272)\" style=\"stroke:#000000; stroke-width:2; stroke-opacity:0.1; fill:none\" points=\"\n",
       "  147.756,732.455 2352.76,732.455 \n",
       "  \"/>\n",
       "<polyline clip-path=\"url(#clip272)\" style=\"stroke:#000000; stroke-width:2; stroke-opacity:0.1; fill:none\" points=\"\n",
       "  147.756,487.227 2352.76,487.227 \n",
       "  \"/>\n",
       "<polyline clip-path=\"url(#clip272)\" style=\"stroke:#000000; stroke-width:2; stroke-opacity:0.1; fill:none\" points=\"\n",
       "  147.756,241.999 2352.76,241.999 \n",
       "  \"/>\n",
       "<polyline clip-path=\"url(#clip270)\" style=\"stroke:#000000; stroke-width:4; stroke-opacity:1; fill:none\" points=\"\n",
       "  147.756,1423.18 147.756,123.472 \n",
       "  \"/>\n",
       "<polyline clip-path=\"url(#clip270)\" style=\"stroke:#000000; stroke-width:4; stroke-opacity:1; fill:none\" points=\"\n",
       "  147.756,1222.91 174.216,1222.91 \n",
       "  \"/>\n",
       "<polyline clip-path=\"url(#clip270)\" style=\"stroke:#000000; stroke-width:4; stroke-opacity:1; fill:none\" points=\"\n",
       "  147.756,977.683 174.216,977.683 \n",
       "  \"/>\n",
       "<polyline clip-path=\"url(#clip270)\" style=\"stroke:#000000; stroke-width:4; stroke-opacity:1; fill:none\" points=\"\n",
       "  147.756,732.455 174.216,732.455 \n",
       "  \"/>\n",
       "<polyline clip-path=\"url(#clip270)\" style=\"stroke:#000000; stroke-width:4; stroke-opacity:1; fill:none\" points=\"\n",
       "  147.756,487.227 174.216,487.227 \n",
       "  \"/>\n",
       "<polyline clip-path=\"url(#clip270)\" style=\"stroke:#000000; stroke-width:4; stroke-opacity:1; fill:none\" points=\"\n",
       "  147.756,241.999 174.216,241.999 \n",
       "  \"/>\n",
       "<path clip-path=\"url(#clip270)\" d=\"M 0 0 M62.9365 1208.71 Q59.3254 1208.71 57.4967 1212.27 Q55.6912 1215.82 55.6912 1222.95 Q55.6912 1230.05 57.4967 1233.62 Q59.3254 1237.16 62.9365 1237.16 Q66.5707 1237.16 68.3763 1233.62 Q70.205 1230.05 70.205 1222.95 Q70.205 1215.82 68.3763 1212.27 Q66.5707 1208.71 62.9365 1208.71 M62.9365 1205.01 Q68.7467 1205.01 71.8022 1209.61 Q74.8809 1214.2 74.8809 1222.95 Q74.8809 1231.67 71.8022 1236.28 Q68.7467 1240.86 62.9365 1240.86 Q57.1264 1240.86 54.0477 1236.28 Q50.9921 1231.67 50.9921 1222.95 Q50.9921 1214.2 54.0477 1209.61 Q57.1264 1205.01 62.9365 1205.01 Z\" fill=\"#000000\" fill-rule=\"evenodd\" fill-opacity=\"1\" /><path clip-path=\"url(#clip270)\" d=\"M 0 0 M79.9503 1234.31 L84.8345 1234.31 L84.8345 1240.19 L79.9503 1240.19 L79.9503 1234.31 Z\" fill=\"#000000\" fill-rule=\"evenodd\" fill-opacity=\"1\" /><path clip-path=\"url(#clip270)\" d=\"M 0 0 M99.9039 1223.78 Q96.5706 1223.78 94.6493 1225.56 Q92.7512 1227.34 92.7512 1230.47 Q92.7512 1233.59 94.6493 1235.38 Q96.5706 1237.16 99.9039 1237.16 Q103.237 1237.16 105.159 1235.38 Q107.08 1233.57 107.08 1230.47 Q107.08 1227.34 105.159 1225.56 Q103.26 1223.78 99.9039 1223.78 M95.228 1221.79 Q92.2188 1221.05 90.529 1218.99 Q88.8623 1216.93 88.8623 1213.96 Q88.8623 1209.82 91.8021 1207.41 Q94.765 1205.01 99.9039 1205.01 Q105.066 1205.01 108.006 1207.41 Q110.946 1209.82 110.946 1213.96 Q110.946 1216.93 109.256 1218.99 Q107.589 1221.05 104.603 1221.79 Q107.983 1222.57 109.858 1224.87 Q111.756 1227.16 111.756 1230.47 Q111.756 1235.49 108.677 1238.18 Q105.621 1240.86 99.9039 1240.86 Q94.1863 1240.86 91.1077 1238.18 Q88.0521 1235.49 88.0521 1230.47 Q88.0521 1227.16 89.9503 1224.87 Q91.8484 1222.57 95.228 1221.79 M93.515 1214.4 Q93.515 1217.09 95.1817 1218.59 Q96.8715 1220.1 99.9039 1220.1 Q102.913 1220.1 104.603 1218.59 Q106.316 1217.09 106.316 1214.4 Q106.316 1211.72 104.603 1210.21 Q102.913 1208.71 99.9039 1208.71 Q96.8715 1208.71 95.1817 1210.21 Q93.515 1211.72 93.515 1214.4 Z\" fill=\"#000000\" fill-rule=\"evenodd\" fill-opacity=\"1\" /><path clip-path=\"url(#clip270)\" d=\"M 0 0 M54.881 991.027 L62.5198 991.027 L62.5198 964.662 L54.2097 966.328 L54.2097 962.069 L62.4735 960.403 L67.1494 960.403 L67.1494 991.027 L74.7883 991.027 L74.7883 994.963 L54.881 994.963 L54.881 991.027 Z\" fill=\"#000000\" fill-rule=\"evenodd\" fill-opacity=\"1\" /><path clip-path=\"url(#clip270)\" d=\"M 0 0 M79.8577 989.083 L84.7419 989.083 L84.7419 994.963 L79.8577 994.963 L79.8577 989.083 Z\" fill=\"#000000\" fill-rule=\"evenodd\" fill-opacity=\"1\" /><path clip-path=\"url(#clip270)\" d=\"M 0 0 M99.8113 963.481 Q96.2002 963.481 94.3715 967.046 Q92.566 970.588 92.566 977.717 Q92.566 984.824 94.3715 988.389 Q96.2002 991.93 99.8113 991.93 Q103.446 991.93 105.251 988.389 Q107.08 984.824 107.08 977.717 Q107.08 970.588 105.251 967.046 Q103.446 963.481 99.8113 963.481 M99.8113 959.778 Q105.621 959.778 108.677 964.384 Q111.756 968.967 111.756 977.717 Q111.756 986.444 108.677 991.051 Q105.621 995.634 99.8113 995.634 Q94.0012 995.634 90.9225 991.051 Q87.8669 986.444 87.8669 977.717 Q87.8669 968.967 90.9225 964.384 Q94.0012 959.778 99.8113 959.778 Z\" fill=\"#000000\" fill-rule=\"evenodd\" fill-opacity=\"1\" /><path clip-path=\"url(#clip270)\" d=\"M 0 0 M56.4782 745.8 L64.1171 745.8 L64.1171 719.434 L55.8069 721.101 L55.8069 716.841 L64.0708 715.175 L68.7467 715.175 L68.7467 745.8 L76.3855 745.8 L76.3855 749.735 L56.4782 749.735 L56.4782 745.8 Z\" fill=\"#000000\" fill-rule=\"evenodd\" fill-opacity=\"1\" /><path clip-path=\"url(#clip270)\" d=\"M 0 0 M81.4549 743.855 L86.3392 743.855 L86.3392 749.735 L81.4549 749.735 L81.4549 743.855 Z\" fill=\"#000000\" fill-rule=\"evenodd\" fill-opacity=\"1\" /><path clip-path=\"url(#clip270)\" d=\"M 0 0 M95.4363 745.8 L111.756 745.8 L111.756 749.735 L89.8114 749.735 L89.8114 745.8 Q92.4734 743.045 97.0567 738.415 Q101.663 733.763 102.844 732.42 Q105.089 729.897 105.969 728.161 Q106.871 726.401 106.871 724.712 Q106.871 721.957 104.927 720.221 Q103.006 718.485 99.9039 718.485 Q97.7048 718.485 95.2511 719.249 Q92.8206 720.013 90.0428 721.564 L90.0428 716.841 Q92.8669 715.707 95.3206 715.128 Q97.7743 714.55 99.8113 714.55 Q105.182 714.55 108.376 717.235 Q111.571 719.92 111.571 724.411 Q111.571 726.54 110.76 728.462 Q109.973 730.36 107.867 732.952 Q107.288 733.624 104.186 736.841 Q101.084 740.036 95.4363 745.8 Z\" fill=\"#000000\" fill-rule=\"evenodd\" fill-opacity=\"1\" /><path clip-path=\"url(#clip270)\" d=\"M 0 0 M54.3949 500.572 L62.0337 500.572 L62.0337 474.206 L53.7236 475.873 L53.7236 471.613 L61.9874 469.947 L66.6633 469.947 L66.6633 500.572 L74.3022 500.572 L74.3022 504.507 L54.3949 504.507 L54.3949 500.572 Z\" fill=\"#000000\" fill-rule=\"evenodd\" fill-opacity=\"1\" /><path clip-path=\"url(#clip270)\" d=\"M 0 0 M79.3716 498.627 L84.2558 498.627 L84.2558 504.507 L79.3716 504.507 L79.3716 498.627 Z\" fill=\"#000000\" fill-rule=\"evenodd\" fill-opacity=\"1\" /><path clip-path=\"url(#clip270)\" d=\"M 0 0 M102.172 474.021 L90.3669 492.47 L102.172 492.47 L102.172 474.021 M100.946 469.947 L106.825 469.947 L106.825 492.47 L111.756 492.47 L111.756 496.359 L106.825 496.359 L106.825 504.507 L102.172 504.507 L102.172 496.359 L86.5706 496.359 L86.5706 491.845 L100.946 469.947 Z\" fill=\"#000000\" fill-rule=\"evenodd\" fill-opacity=\"1\" /><path clip-path=\"url(#clip270)\" d=\"M 0 0 M54.719 255.344 L62.3578 255.344 L62.3578 228.978 L54.0477 230.645 L54.0477 226.386 L62.3115 224.719 L66.9874 224.719 L66.9874 255.344 L74.6263 255.344 L74.6263 259.279 L54.719 259.279 L54.719 255.344 Z\" fill=\"#000000\" fill-rule=\"evenodd\" fill-opacity=\"1\" /><path clip-path=\"url(#clip270)\" d=\"M 0 0 M79.6957 253.399 L84.5799 253.399 L84.5799 259.279 L79.6957 259.279 L79.6957 253.399 Z\" fill=\"#000000\" fill-rule=\"evenodd\" fill-opacity=\"1\" /><path clip-path=\"url(#clip270)\" d=\"M 0 0 M100.228 240.136 Q97.0798 240.136 95.228 242.288 Q93.3993 244.441 93.3993 248.191 Q93.3993 251.918 95.228 254.094 Q97.0798 256.247 100.228 256.247 Q103.376 256.247 105.205 254.094 Q107.057 251.918 107.057 248.191 Q107.057 244.441 105.205 242.288 Q103.376 240.136 100.228 240.136 M109.51 225.483 L109.51 229.742 Q107.751 228.909 105.946 228.469 Q104.163 228.029 102.404 228.029 Q97.7743 228.029 95.3206 231.154 Q92.89 234.279 92.5428 240.598 Q93.9086 238.585 95.9687 237.52 Q98.0289 236.432 100.506 236.432 Q105.714 236.432 108.723 239.603 Q111.756 242.751 111.756 248.191 Q111.756 253.515 108.608 256.733 Q105.459 259.95 100.228 259.95 Q94.2326 259.95 91.0614 255.367 Q87.8901 250.76 87.8901 242.034 Q87.8901 233.839 91.7789 228.978 Q95.6678 224.094 102.219 224.094 Q103.978 224.094 105.76 224.441 Q107.566 224.788 109.51 225.483 Z\" fill=\"#000000\" fill-rule=\"evenodd\" fill-opacity=\"1\" /><path clip-path=\"url(#clip270)\" d=\"M 0 0 M855.961 12.096 L868.154 12.096 L883.588 53.2532 L899.103 12.096 L911.296 12.096 L911.296 72.576 L903.316 72.576 L903.316 19.4686 L887.72 60.9499 L879.497 60.9499 L863.901 19.4686 L863.901 72.576 L855.961 72.576 L855.961 12.096 Z\" fill=\"#000000\" fill-rule=\"evenodd\" fill-opacity=\"1\" /><path clip-path=\"url(#clip270)\" d=\"M 0 0 M919.115 27.2059 L926.568 27.2059 L926.568 72.576 L919.115 72.576 L919.115 27.2059 M919.115 9.54393 L926.568 9.54393 L926.568 18.9825 L919.115 18.9825 L919.115 9.54393 Z\" fill=\"#000000\" fill-rule=\"evenodd\" fill-opacity=\"1\" /><path clip-path=\"url(#clip270)\" d=\"M 0 0 M963.31 28.5427 L963.31 35.5912 Q960.15 33.9709 956.748 33.1607 Q953.345 32.3505 949.699 32.3505 Q944.149 32.3505 941.354 34.0519 Q938.599 35.7533 938.599 39.156 Q938.599 41.7486 940.584 43.2475 Q942.569 44.7058 948.565 46.0426 L951.117 46.6097 Q959.057 48.3111 962.378 51.4303 Q965.741 54.509 965.741 60.0587 Q965.741 66.3781 960.717 70.0644 Q955.735 73.7508 946.985 73.7508 Q943.339 73.7508 939.369 73.0216 Q935.44 72.3329 931.065 70.9151 L931.065 63.2184 Q935.197 65.3654 939.207 66.4591 Q943.218 67.5124 947.147 67.5124 Q952.413 67.5124 955.249 65.73 Q958.084 63.9071 958.084 60.6258 Q958.084 57.5877 956.018 55.9673 Q953.993 54.3469 947.066 52.8481 L944.473 52.2405 Q937.546 50.7821 934.468 47.7845 Q931.389 44.7463 931.389 39.4801 Q931.389 33.0797 935.926 29.5959 Q940.463 26.1121 948.808 26.1121 Q952.94 26.1121 956.585 26.7198 Q960.231 27.3274 963.31 28.5427 Z\" fill=\"#000000\" fill-rule=\"evenodd\" fill-opacity=\"1\" /><path clip-path=\"url(#clip270)\" d=\"M 0 0 M1006.21 28.9478 L1006.21 35.9153 Q1003.05 34.1734 999.849 33.3227 Q996.689 32.4315 993.449 32.4315 Q986.198 32.4315 982.187 37.0496 Q978.177 41.6271 978.177 49.9314 Q978.177 58.2358 982.187 62.8538 Q986.198 67.4314 993.449 67.4314 Q996.689 67.4314 999.849 66.5807 Q1003.05 65.6895 1006.21 63.9476 L1006.21 70.8341 Q1003.09 72.2924 999.728 73.0216 Q996.406 73.7508 992.639 73.7508 Q982.39 73.7508 976.354 67.3098 Q970.318 60.8689 970.318 49.9314 Q970.318 38.832 976.394 32.472 Q982.511 26.1121 993.125 26.1121 Q996.568 26.1121 999.849 26.8413 Q1003.13 27.5299 1006.21 28.9478 Z\" fill=\"#000000\" fill-rule=\"evenodd\" fill-opacity=\"1\" /><path clip-path=\"url(#clip270)\" d=\"M 0 0 M1014.03 9.54393 L1021.48 9.54393 L1021.48 72.576 L1014.03 72.576 L1014.03 9.54393 Z\" fill=\"#000000\" fill-rule=\"evenodd\" fill-opacity=\"1\" /><path clip-path=\"url(#clip270)\" d=\"M 0 0 M1049.92 49.7694 Q1040.88 49.7694 1037.4 51.8354 Q1033.92 53.9013 1033.92 58.8839 Q1033.92 62.8538 1036.51 65.2034 Q1039.14 67.5124 1043.64 67.5124 Q1049.84 67.5124 1053.56 63.1374 Q1057.33 58.7219 1057.33 51.4303 L1057.33 49.7694 L1049.92 49.7694 M1064.79 46.6907 L1064.79 72.576 L1057.33 72.576 L1057.33 65.6895 Q1054.78 69.8214 1050.97 71.8063 Q1047.16 73.7508 1041.65 73.7508 Q1034.69 73.7508 1030.56 69.8619 Q1026.46 65.9325 1026.46 59.3701 Q1026.46 51.7138 1031.57 47.825 Q1036.71 43.9361 1046.88 43.9361 L1057.33 43.9361 L1057.33 43.2069 Q1057.33 38.0623 1053.93 35.2672 Q1050.57 32.4315 1044.45 32.4315 Q1040.56 32.4315 1036.87 33.3632 Q1033.19 34.295 1029.79 36.1584 L1029.79 29.2718 Q1033.88 27.692 1037.73 26.9223 Q1041.57 26.1121 1045.22 26.1121 Q1055.06 26.1121 1059.92 31.2163 Q1064.79 36.3204 1064.79 46.6907 Z\" fill=\"#000000\" fill-rule=\"evenodd\" fill-opacity=\"1\" /><path clip-path=\"url(#clip270)\" d=\"M 0 0 M1101.53 28.5427 L1101.53 35.5912 Q1098.37 33.9709 1094.96 33.1607 Q1091.56 32.3505 1087.92 32.3505 Q1082.37 32.3505 1079.57 34.0519 Q1076.82 35.7533 1076.82 39.156 Q1076.82 41.7486 1078.8 43.2475 Q1080.79 44.7058 1086.78 46.0426 L1089.33 46.6097 Q1097.27 48.3111 1100.6 51.4303 Q1103.96 54.509 1103.96 60.0587 Q1103.96 66.3781 1098.93 70.0644 Q1093.95 73.7508 1085.2 73.7508 Q1081.56 73.7508 1077.59 73.0216 Q1073.66 72.3329 1069.28 70.9151 L1069.28 63.2184 Q1073.41 65.3654 1077.42 66.4591 Q1081.43 67.5124 1085.36 67.5124 Q1090.63 67.5124 1093.47 65.73 Q1096.3 63.9071 1096.3 60.6258 Q1096.3 57.5877 1094.24 55.9673 Q1092.21 54.3469 1085.28 52.8481 L1082.69 52.2405 Q1075.76 50.7821 1072.68 47.7845 Q1069.61 44.7463 1069.61 39.4801 Q1069.61 33.0797 1074.14 29.5959 Q1078.68 26.1121 1087.02 26.1121 Q1091.16 26.1121 1094.8 26.7198 Q1098.45 27.3274 1101.53 28.5427 Z\" fill=\"#000000\" fill-rule=\"evenodd\" fill-opacity=\"1\" /><path clip-path=\"url(#clip270)\" d=\"M 0 0 M1140.7 28.5427 L1140.7 35.5912 Q1137.54 33.9709 1134.14 33.1607 Q1130.73 32.3505 1127.09 32.3505 Q1121.54 32.3505 1118.74 34.0519 Q1115.99 35.7533 1115.99 39.156 Q1115.99 41.7486 1117.97 43.2475 Q1119.96 44.7058 1125.95 46.0426 L1128.51 46.6097 Q1136.45 48.3111 1139.77 51.4303 Q1143.13 54.509 1143.13 60.0587 Q1143.13 66.3781 1138.11 70.0644 Q1133.12 73.7508 1124.37 73.7508 Q1120.73 73.7508 1116.76 73.0216 Q1112.83 72.3329 1108.45 70.9151 L1108.45 63.2184 Q1112.59 65.3654 1116.6 66.4591 Q1120.61 67.5124 1124.54 67.5124 Q1129.8 67.5124 1132.64 65.73 Q1135.47 63.9071 1135.47 60.6258 Q1135.47 57.5877 1133.41 55.9673 Q1131.38 54.3469 1124.45 52.8481 L1121.86 52.2405 Q1114.94 50.7821 1111.86 47.7845 Q1108.78 44.7463 1108.78 39.4801 Q1108.78 33.0797 1113.31 29.5959 Q1117.85 26.1121 1126.2 26.1121 Q1130.33 26.1121 1133.97 26.7198 Q1137.62 27.3274 1140.7 28.5427 Z\" fill=\"#000000\" fill-rule=\"evenodd\" fill-opacity=\"1\" /><path clip-path=\"url(#clip270)\" d=\"M 0 0 M1150.95 27.2059 L1158.4 27.2059 L1158.4 72.576 L1150.95 72.576 L1150.95 27.2059 M1150.95 9.54393 L1158.4 9.54393 L1158.4 18.9825 L1150.95 18.9825 L1150.95 9.54393 Z\" fill=\"#000000\" fill-rule=\"evenodd\" fill-opacity=\"1\" /><path clip-path=\"url(#clip270)\" d=\"M 0 0 M1189.19 9.54393 L1189.19 15.7418 L1182.06 15.7418 Q1178.05 15.7418 1176.47 17.3622 Q1174.93 18.9825 1174.93 23.1955 L1174.93 27.2059 L1187.2 27.2059 L1187.2 32.9987 L1174.93 32.9987 L1174.93 72.576 L1167.44 72.576 L1167.44 32.9987 L1160.31 32.9987 L1160.31 27.2059 L1167.44 27.2059 L1167.44 24.0462 Q1167.44 16.471 1170.96 13.0277 Q1174.48 9.54393 1182.14 9.54393 L1189.19 9.54393 Z\" fill=\"#000000\" fill-rule=\"evenodd\" fill-opacity=\"1\" /><path clip-path=\"url(#clip270)\" d=\"M 0 0 M1197.01 27.2059 L1204.46 27.2059 L1204.46 72.576 L1197.01 72.576 L1197.01 27.2059 M1197.01 9.54393 L1204.46 9.54393 L1204.46 18.9825 L1197.01 18.9825 L1197.01 9.54393 Z\" fill=\"#000000\" fill-rule=\"evenodd\" fill-opacity=\"1\" /><path clip-path=\"url(#clip270)\" d=\"M 0 0 M1244.93 28.9478 L1244.93 35.9153 Q1241.77 34.1734 1238.57 33.3227 Q1235.41 32.4315 1232.17 32.4315 Q1224.92 32.4315 1220.91 37.0496 Q1216.9 41.6271 1216.9 49.9314 Q1216.9 58.2358 1220.91 62.8538 Q1224.92 67.4314 1232.17 67.4314 Q1235.41 67.4314 1238.57 66.5807 Q1241.77 65.6895 1244.93 63.9476 L1244.93 70.8341 Q1241.81 72.2924 1238.45 73.0216 Q1235.13 73.7508 1231.36 73.7508 Q1221.11 73.7508 1215.07 67.3098 Q1209.04 60.8689 1209.04 49.9314 Q1209.04 38.832 1215.11 32.472 Q1221.23 26.1121 1231.84 26.1121 Q1235.29 26.1121 1238.57 26.8413 Q1241.85 27.5299 1244.93 28.9478 Z\" fill=\"#000000\" fill-rule=\"evenodd\" fill-opacity=\"1\" /><path clip-path=\"url(#clip270)\" d=\"M 0 0 M1273.37 49.7694 Q1264.33 49.7694 1260.85 51.8354 Q1257.37 53.9013 1257.37 58.8839 Q1257.37 62.8538 1259.96 65.2034 Q1262.59 67.5124 1267.09 67.5124 Q1273.29 67.5124 1277.01 63.1374 Q1280.78 58.7219 1280.78 51.4303 L1280.78 49.7694 L1273.37 49.7694 M1288.23 46.6907 L1288.23 72.576 L1280.78 72.576 L1280.78 65.6895 Q1278.23 69.8214 1274.42 71.8063 Q1270.61 73.7508 1265.1 73.7508 Q1258.13 73.7508 1254 69.8619 Q1249.91 65.9325 1249.91 59.3701 Q1249.91 51.7138 1255.02 47.825 Q1260.16 43.9361 1270.33 43.9361 L1280.78 43.9361 L1280.78 43.2069 Q1280.78 38.0623 1277.38 35.2672 Q1274.01 32.4315 1267.9 32.4315 Q1264.01 32.4315 1260.32 33.3632 Q1256.64 34.295 1253.23 36.1584 L1253.23 29.2718 Q1257.32 27.692 1261.17 26.9223 Q1265.02 26.1121 1268.67 26.1121 Q1278.51 26.1121 1283.37 31.2163 Q1288.23 36.3204 1288.23 46.6907 Z\" fill=\"#000000\" fill-rule=\"evenodd\" fill-opacity=\"1\" /><path clip-path=\"url(#clip270)\" d=\"M 0 0 M1303.42 14.324 L1303.42 27.2059 L1318.78 27.2059 L1318.78 32.9987 L1303.42 32.9987 L1303.42 57.6282 Q1303.42 63.1779 1304.92 64.7578 Q1306.46 66.3376 1311.12 66.3376 L1318.78 66.3376 L1318.78 72.576 L1311.12 72.576 Q1302.49 72.576 1299.21 69.3758 Q1295.93 66.1351 1295.93 57.6282 L1295.93 32.9987 L1290.46 32.9987 L1290.46 27.2059 L1295.93 27.2059 L1295.93 14.324 L1303.42 14.324 Z\" fill=\"#000000\" fill-rule=\"evenodd\" fill-opacity=\"1\" /><path clip-path=\"url(#clip270)\" d=\"M 0 0 M1326.6 27.2059 L1334.05 27.2059 L1334.05 72.576 L1326.6 72.576 L1326.6 27.2059 M1326.6 9.54393 L1334.05 9.54393 L1334.05 18.9825 L1326.6 18.9825 L1326.6 9.54393 Z\" fill=\"#000000\" fill-rule=\"evenodd\" fill-opacity=\"1\" /><path clip-path=\"url(#clip270)\" d=\"M 0 0 M1359.45 32.4315 Q1353.45 32.4315 1349.97 37.1306 Q1346.49 41.7891 1346.49 49.9314 Q1346.49 58.0738 1349.93 62.7728 Q1353.41 67.4314 1359.45 67.4314 Q1365.4 67.4314 1368.89 62.7323 Q1372.37 58.0333 1372.37 49.9314 Q1372.37 41.8701 1368.89 37.1711 Q1365.4 32.4315 1359.45 32.4315 M1359.45 26.1121 Q1369.17 26.1121 1374.72 32.4315 Q1380.27 38.7509 1380.27 49.9314 Q1380.27 61.0714 1374.72 67.4314 Q1369.17 73.7508 1359.45 73.7508 Q1349.69 73.7508 1344.14 67.4314 Q1338.63 61.0714 1338.63 49.9314 Q1338.63 38.7509 1344.14 32.4315 Q1349.69 26.1121 1359.45 26.1121 Z\" fill=\"#000000\" fill-rule=\"evenodd\" fill-opacity=\"1\" /><path clip-path=\"url(#clip270)\" d=\"M 0 0 M1425.8 45.1919 L1425.8 72.576 L1418.35 72.576 L1418.35 45.4349 Q1418.35 38.994 1415.84 35.7938 Q1413.32 32.5936 1408.3 32.5936 Q1402.27 32.5936 1398.78 36.4419 Q1395.3 40.2903 1395.3 46.9338 L1395.3 72.576 L1387.8 72.576 L1387.8 27.2059 L1395.3 27.2059 L1395.3 34.2544 Q1397.97 30.163 1401.58 28.1376 Q1405.22 26.1121 1409.96 26.1121 Q1417.78 26.1121 1421.79 30.9732 Q1425.8 35.7938 1425.8 45.1919 Z\" fill=\"#000000\" fill-rule=\"evenodd\" fill-opacity=\"1\" /><path clip-path=\"url(#clip270)\" d=\"M 0 0 M1460.32 12.096 L1498.56 12.096 L1498.56 18.9825 L1468.5 18.9825 L1468.5 36.8875 L1497.3 36.8875 L1497.3 43.7741 L1468.5 43.7741 L1468.5 65.6895 L1499.29 65.6895 L1499.29 72.576 L1460.32 72.576 L1460.32 12.096 Z\" fill=\"#000000\" fill-rule=\"evenodd\" fill-opacity=\"1\" /><path clip-path=\"url(#clip270)\" d=\"M 0 0 M1533.39 34.1734 Q1532.14 33.4443 1530.64 33.1202 Q1529.18 32.7556 1527.4 32.7556 Q1521.08 32.7556 1517.68 36.8875 Q1514.31 40.9789 1514.31 48.6757 L1514.31 72.576 L1506.82 72.576 L1506.82 27.2059 L1514.31 27.2059 L1514.31 34.2544 Q1516.66 30.1225 1520.43 28.1376 Q1524.2 26.1121 1529.59 26.1121 Q1530.36 26.1121 1531.29 26.2337 Q1532.22 26.3147 1533.35 26.5172 L1533.39 34.1734 Z\" fill=\"#000000\" fill-rule=\"evenodd\" fill-opacity=\"1\" /><path clip-path=\"url(#clip270)\" d=\"M 0 0 M1566.04 34.1734 Q1564.79 33.4443 1563.29 33.1202 Q1561.83 32.7556 1560.05 32.7556 Q1553.73 32.7556 1550.33 36.8875 Q1546.96 40.9789 1546.96 48.6757 L1546.96 72.576 L1539.47 72.576 L1539.47 27.2059 L1546.96 27.2059 L1546.96 34.2544 Q1549.31 30.1225 1553.08 28.1376 Q1556.85 26.1121 1562.24 26.1121 Q1563.01 26.1121 1563.94 26.2337 Q1564.87 26.3147 1566 26.5172 L1566.04 34.1734 Z\" fill=\"#000000\" fill-rule=\"evenodd\" fill-opacity=\"1\" /><path clip-path=\"url(#clip270)\" d=\"M 0 0 M1589.62 32.4315 Q1583.62 32.4315 1580.14 37.1306 Q1576.66 41.7891 1576.66 49.9314 Q1576.66 58.0738 1580.1 62.7728 Q1583.58 67.4314 1589.62 67.4314 Q1595.58 67.4314 1599.06 62.7323 Q1602.54 58.0333 1602.54 49.9314 Q1602.54 41.8701 1599.06 37.1711 Q1595.58 32.4315 1589.62 32.4315 M1589.62 26.1121 Q1599.34 26.1121 1604.89 32.4315 Q1610.44 38.7509 1610.44 49.9314 Q1610.44 61.0714 1604.89 67.4314 Q1599.34 73.7508 1589.62 73.7508 Q1579.86 73.7508 1574.31 67.4314 Q1568.8 61.0714 1568.8 49.9314 Q1568.8 38.7509 1574.31 32.4315 Q1579.86 26.1121 1589.62 26.1121 Z\" fill=\"#000000\" fill-rule=\"evenodd\" fill-opacity=\"1\" /><path clip-path=\"url(#clip270)\" d=\"M 0 0 M1644.55 34.1734 Q1643.29 33.4443 1641.8 33.1202 Q1640.34 32.7556 1638.56 32.7556 Q1632.24 32.7556 1628.83 36.8875 Q1625.47 40.9789 1625.47 48.6757 L1625.47 72.576 L1617.98 72.576 L1617.98 27.2059 L1625.47 27.2059 L1625.47 34.2544 Q1627.82 30.1225 1631.59 28.1376 Q1635.36 26.1121 1640.74 26.1121 Q1641.51 26.1121 1642.44 26.2337 Q1643.38 26.3147 1644.51 26.5172 L1644.55 34.1734 Z\" fill=\"#000000\" fill-rule=\"evenodd\" fill-opacity=\"1\" /><path clip-path=\"url(#clip270)\" d=\"\n",
       "M1462.66 348.236 L2279.26 348.236 L2279.26 166.796 L1462.66 166.796  Z\n",
       "  \" fill=\"#ffffff\" fill-rule=\"evenodd\" fill-opacity=\"1\"/>\n",
       "<polyline clip-path=\"url(#clip270)\" style=\"stroke:#000000; stroke-width:4; stroke-opacity:1; fill:none\" points=\"\n",
       "  1462.66,348.236 2279.26,348.236 2279.26,166.796 1462.66,166.796 1462.66,348.236 \n",
       "  \"/>\n",
       "<polyline clip-path=\"url(#clip270)\" style=\"stroke:#009af9; stroke-width:4; stroke-opacity:1; fill:none\" points=\"\n",
       "  1487.16,227.276 1634.16,227.276 \n",
       "  \"/>\n",
       "<path clip-path=\"url(#clip270)\" d=\"M 0 0 M1658.66 209.996 L1687.9 209.996 L1687.9 213.931 L1675.63 213.931 L1675.63 244.556 L1670.93 244.556 L1670.93 213.931 L1658.66 213.931 L1658.66 209.996 Z\" fill=\"#000000\" fill-rule=\"evenodd\" fill-opacity=\"1\" /><path clip-path=\"url(#clip270)\" d=\"M 0 0 M1700.42 222.611 Q1699.7 222.195 1698.85 222.01 Q1698.01 221.801 1696.99 221.801 Q1693.38 221.801 1691.44 224.162 Q1689.52 226.5 1689.52 230.898 L1689.52 244.556 L1685.24 244.556 L1685.24 218.63 L1689.52 218.63 L1689.52 222.658 Q1690.86 220.297 1693.01 219.162 Q1695.17 218.005 1698.24 218.005 Q1698.68 218.005 1699.22 218.074 Q1699.75 218.121 1700.4 218.236 L1700.42 222.611 Z\" fill=\"#000000\" fill-rule=\"evenodd\" fill-opacity=\"1\" /><path clip-path=\"url(#clip270)\" d=\"M 0 0 M1716.67 231.523 Q1711.51 231.523 1709.52 232.704 Q1707.53 233.884 1707.53 236.732 Q1707.53 239 1709.01 240.343 Q1710.51 241.662 1713.08 241.662 Q1716.62 241.662 1718.75 239.162 Q1720.91 236.639 1720.91 232.472 L1720.91 231.523 L1716.67 231.523 M1725.17 229.764 L1725.17 244.556 L1720.91 244.556 L1720.91 240.621 Q1719.45 242.982 1717.27 244.116 Q1715.1 245.227 1711.95 245.227 Q1707.97 245.227 1705.61 243.005 Q1703.27 240.759 1703.27 237.009 Q1703.27 232.634 1706.18 230.412 Q1709.12 228.19 1714.93 228.19 L1720.91 228.19 L1720.91 227.773 Q1720.91 224.834 1718.96 223.236 Q1717.04 221.616 1713.55 221.616 Q1711.32 221.616 1709.22 222.148 Q1707.11 222.681 1705.17 223.746 L1705.17 219.81 Q1707.5 218.908 1709.7 218.468 Q1711.9 218.005 1713.99 218.005 Q1719.61 218.005 1722.39 220.922 Q1725.17 223.838 1725.17 229.764 Z\" fill=\"#000000\" fill-rule=\"evenodd\" fill-opacity=\"1\" /><path clip-path=\"url(#clip270)\" d=\"M 0 0 M1729.63 218.63 L1733.89 218.63 L1733.89 244.556 L1729.63 244.556 L1729.63 218.63 M1729.63 208.537 L1733.89 208.537 L1733.89 213.931 L1729.63 213.931 L1729.63 208.537 Z\" fill=\"#000000\" fill-rule=\"evenodd\" fill-opacity=\"1\" /><path clip-path=\"url(#clip270)\" d=\"M 0 0 M1759.91 228.908 L1759.91 244.556 L1755.65 244.556 L1755.65 229.047 Q1755.65 225.366 1754.22 223.537 Q1752.78 221.709 1749.91 221.709 Q1746.46 221.709 1744.47 223.908 Q1742.48 226.107 1742.48 229.903 L1742.48 244.556 L1738.2 244.556 L1738.2 218.63 L1742.48 218.63 L1742.48 222.658 Q1744.01 220.32 1746.07 219.162 Q1748.15 218.005 1750.86 218.005 Q1755.33 218.005 1757.62 220.783 Q1759.91 223.537 1759.91 228.908 Z\" fill=\"#000000\" fill-rule=\"evenodd\" fill-opacity=\"1\" /><path clip-path=\"url(#clip270)\" d=\"M 0 0 M1779.63 209.996 L1786.6 209.996 L1795.42 233.514 L1804.29 209.996 L1811.25 209.996 L1811.25 244.556 L1806.69 244.556 L1806.69 214.209 L1797.78 237.912 L1793.08 237.912 L1784.17 214.209 L1784.17 244.556 L1779.63 244.556 L1779.63 209.996 Z\" fill=\"#000000\" fill-rule=\"evenodd\" fill-opacity=\"1\" /><path clip-path=\"url(#clip270)\" d=\"M 0 0 M1815.72 218.63 L1819.98 218.63 L1819.98 244.556 L1815.72 244.556 L1815.72 218.63 M1815.72 208.537 L1819.98 208.537 L1819.98 213.931 L1815.72 213.931 L1815.72 208.537 Z\" fill=\"#000000\" fill-rule=\"evenodd\" fill-opacity=\"1\" /><path clip-path=\"url(#clip270)\" d=\"M 0 0 M1840.98 219.394 L1840.98 223.422 Q1839.17 222.496 1837.23 222.033 Q1835.28 221.57 1833.2 221.57 Q1830.03 221.57 1828.43 222.542 Q1826.86 223.514 1826.86 225.459 Q1826.86 226.94 1827.99 227.797 Q1829.12 228.63 1832.55 229.394 L1834.01 229.718 Q1838.55 230.69 1840.44 232.472 Q1842.36 234.232 1842.36 237.403 Q1842.36 241.014 1839.49 243.121 Q1836.65 245.227 1831.65 245.227 Q1829.56 245.227 1827.3 244.81 Q1825.05 244.417 1822.55 243.607 L1822.55 239.209 Q1824.91 240.435 1827.2 241.06 Q1829.49 241.662 1831.74 241.662 Q1834.75 241.662 1836.37 240.644 Q1837.99 239.602 1837.99 237.727 Q1837.99 235.991 1836.81 235.065 Q1835.65 234.139 1831.69 233.283 L1830.21 232.935 Q1826.25 232.102 1824.49 230.389 Q1822.73 228.653 1822.73 225.644 Q1822.73 221.986 1825.33 219.996 Q1827.92 218.005 1832.69 218.005 Q1835.05 218.005 1837.13 218.352 Q1839.22 218.699 1840.98 219.394 Z\" fill=\"#000000\" fill-rule=\"evenodd\" fill-opacity=\"1\" /><path clip-path=\"url(#clip270)\" d=\"M 0 0 M1865.49 219.625 L1865.49 223.607 Q1863.68 222.611 1861.86 222.125 Q1860.05 221.616 1858.2 221.616 Q1854.05 221.616 1851.76 224.255 Q1849.47 226.871 1849.47 231.616 Q1849.47 236.361 1851.76 239 Q1854.05 241.616 1858.2 241.616 Q1860.05 241.616 1861.86 241.13 Q1863.68 240.621 1865.49 239.625 L1865.49 243.56 Q1863.71 244.394 1861.79 244.81 Q1859.89 245.227 1857.73 245.227 Q1851.88 245.227 1848.43 241.546 Q1844.98 237.866 1844.98 231.616 Q1844.98 225.273 1848.45 221.639 Q1851.95 218.005 1858.01 218.005 Q1859.98 218.005 1861.86 218.422 Q1863.73 218.815 1865.49 219.625 Z\" fill=\"#000000\" fill-rule=\"evenodd\" fill-opacity=\"1\" /><path clip-path=\"url(#clip270)\" d=\"M 0 0 M1869.96 208.537 L1874.22 208.537 L1874.22 244.556 L1869.96 244.556 L1869.96 208.537 Z\" fill=\"#000000\" fill-rule=\"evenodd\" fill-opacity=\"1\" /><path clip-path=\"url(#clip270)\" d=\"M 0 0 M1890.47 231.523 Q1885.3 231.523 1883.31 232.704 Q1881.32 233.884 1881.32 236.732 Q1881.32 239 1882.8 240.343 Q1884.31 241.662 1886.88 241.662 Q1890.42 241.662 1892.55 239.162 Q1894.7 236.639 1894.7 232.472 L1894.7 231.523 L1890.47 231.523 M1898.96 229.764 L1898.96 244.556 L1894.7 244.556 L1894.7 240.621 Q1893.24 242.982 1891.07 244.116 Q1888.89 245.227 1885.74 245.227 Q1881.76 245.227 1879.4 243.005 Q1877.06 240.759 1877.06 237.009 Q1877.06 232.634 1879.98 230.412 Q1882.92 228.19 1888.73 228.19 L1894.7 228.19 L1894.7 227.773 Q1894.7 224.834 1892.76 223.236 Q1890.84 221.616 1887.34 221.616 Q1885.12 221.616 1883.01 222.148 Q1880.91 222.681 1878.96 223.746 L1878.96 219.81 Q1881.3 218.908 1883.5 218.468 Q1885.7 218.005 1887.78 218.005 Q1893.41 218.005 1896.18 220.922 Q1898.96 223.838 1898.96 229.764 Z\" fill=\"#000000\" fill-rule=\"evenodd\" fill-opacity=\"1\" /><path clip-path=\"url(#clip270)\" d=\"M 0 0 M1919.96 219.394 L1919.96 223.422 Q1918.15 222.496 1916.21 222.033 Q1914.26 221.57 1912.18 221.57 Q1909.01 221.57 1907.41 222.542 Q1905.84 223.514 1905.84 225.459 Q1905.84 226.94 1906.97 227.797 Q1908.1 228.63 1911.53 229.394 L1912.99 229.718 Q1917.53 230.69 1919.42 232.472 Q1921.35 234.232 1921.35 237.403 Q1921.35 241.014 1918.48 243.121 Q1915.63 245.227 1910.63 245.227 Q1908.54 245.227 1906.28 244.81 Q1904.03 244.417 1901.53 243.607 L1901.53 239.209 Q1903.89 240.435 1906.18 241.06 Q1908.48 241.662 1910.72 241.662 Q1913.73 241.662 1915.35 240.644 Q1916.97 239.602 1916.97 237.727 Q1916.97 235.991 1915.79 235.065 Q1914.63 234.139 1910.67 233.283 L1909.19 232.935 Q1905.23 232.102 1903.48 230.389 Q1901.72 228.653 1901.72 225.644 Q1901.72 221.986 1904.31 219.996 Q1906.9 218.005 1911.67 218.005 Q1914.03 218.005 1916.11 218.352 Q1918.2 218.699 1919.96 219.394 Z\" fill=\"#000000\" fill-rule=\"evenodd\" fill-opacity=\"1\" /><path clip-path=\"url(#clip270)\" d=\"M 0 0 M1942.34 219.394 L1942.34 223.422 Q1940.54 222.496 1938.59 222.033 Q1936.65 221.57 1934.56 221.57 Q1931.39 221.57 1929.79 222.542 Q1928.22 223.514 1928.22 225.459 Q1928.22 226.94 1929.35 227.797 Q1930.49 228.63 1933.91 229.394 L1935.37 229.718 Q1939.91 230.69 1941.81 232.472 Q1943.73 234.232 1943.73 237.403 Q1943.73 241.014 1940.86 243.121 Q1938.01 245.227 1933.01 245.227 Q1930.93 245.227 1928.66 244.81 Q1926.41 244.417 1923.91 243.607 L1923.91 239.209 Q1926.28 240.435 1928.57 241.06 Q1930.86 241.662 1933.1 241.662 Q1936.11 241.662 1937.73 240.644 Q1939.35 239.602 1939.35 237.727 Q1939.35 235.991 1938.17 235.065 Q1937.02 234.139 1933.06 233.283 L1931.58 232.935 Q1927.62 232.102 1925.86 230.389 Q1924.1 228.653 1924.1 225.644 Q1924.1 221.986 1926.69 219.996 Q1929.29 218.005 1934.05 218.005 Q1936.41 218.005 1938.5 218.352 Q1940.58 218.699 1942.34 219.394 Z\" fill=\"#000000\" fill-rule=\"evenodd\" fill-opacity=\"1\" /><path clip-path=\"url(#clip270)\" d=\"M 0 0 M1948.2 218.63 L1952.46 218.63 L1952.46 244.556 L1948.2 244.556 L1948.2 218.63 M1948.2 208.537 L1952.46 208.537 L1952.46 213.931 L1948.2 213.931 L1948.2 208.537 Z\" fill=\"#000000\" fill-rule=\"evenodd\" fill-opacity=\"1\" /><path clip-path=\"url(#clip270)\" d=\"M 0 0 M1970.05 208.537 L1970.05 212.079 L1965.97 212.079 Q1963.68 212.079 1962.78 213.005 Q1961.9 213.931 1961.9 216.338 L1961.9 218.63 L1968.91 218.63 L1968.91 221.94 L1961.9 221.94 L1961.9 244.556 L1957.62 244.556 L1957.62 221.94 L1953.54 221.94 L1953.54 218.63 L1957.62 218.63 L1957.62 216.824 Q1957.62 212.496 1959.63 210.528 Q1961.65 208.537 1966.02 208.537 L1970.05 208.537 Z\" fill=\"#000000\" fill-rule=\"evenodd\" fill-opacity=\"1\" /><path clip-path=\"url(#clip270)\" d=\"M 0 0 M1974.52 218.63 L1978.78 218.63 L1978.78 244.556 L1974.52 244.556 L1974.52 218.63 M1974.52 208.537 L1978.78 208.537 L1978.78 213.931 L1974.52 213.931 L1974.52 208.537 Z\" fill=\"#000000\" fill-rule=\"evenodd\" fill-opacity=\"1\" /><path clip-path=\"url(#clip270)\" d=\"M 0 0 M2001.9 219.625 L2001.9 223.607 Q2000.1 222.611 1998.27 222.125 Q1996.46 221.616 1994.61 221.616 Q1990.47 221.616 1988.17 224.255 Q1985.88 226.871 1985.88 231.616 Q1985.88 236.361 1988.17 239 Q1990.47 241.616 1994.61 241.616 Q1996.46 241.616 1998.27 241.13 Q2000.1 240.621 2001.9 239.625 L2001.9 243.56 Q2000.12 244.394 1998.2 244.81 Q1996.3 245.227 1994.15 245.227 Q1988.29 245.227 1984.84 241.546 Q1981.39 237.866 1981.39 231.616 Q1981.39 225.273 1984.86 221.639 Q1988.36 218.005 1994.42 218.005 Q1996.39 218.005 1998.27 218.422 Q2000.14 218.815 2001.9 219.625 Z\" fill=\"#000000\" fill-rule=\"evenodd\" fill-opacity=\"1\" /><path clip-path=\"url(#clip270)\" d=\"M 0 0 M2018.15 231.523 Q2012.99 231.523 2011 232.704 Q2009.01 233.884 2009.01 236.732 Q2009.01 239 2010.49 240.343 Q2011.99 241.662 2014.56 241.662 Q2018.1 241.662 2020.23 239.162 Q2022.39 236.639 2022.39 232.472 L2022.39 231.523 L2018.15 231.523 M2026.65 229.764 L2026.65 244.556 L2022.39 244.556 L2022.39 240.621 Q2020.93 242.982 2018.75 244.116 Q2016.58 245.227 2013.43 245.227 Q2009.45 245.227 2007.09 243.005 Q2004.75 240.759 2004.75 237.009 Q2004.75 232.634 2007.66 230.412 Q2010.6 228.19 2016.41 228.19 L2022.39 228.19 L2022.39 227.773 Q2022.39 224.834 2020.44 223.236 Q2018.52 221.616 2015.03 221.616 Q2012.8 221.616 2010.7 222.148 Q2008.59 222.681 2006.65 223.746 L2006.65 219.81 Q2008.98 218.908 2011.18 218.468 Q2013.38 218.005 2015.47 218.005 Q2021.09 218.005 2023.87 220.922 Q2026.65 223.838 2026.65 229.764 Z\" fill=\"#000000\" fill-rule=\"evenodd\" fill-opacity=\"1\" /><path clip-path=\"url(#clip270)\" d=\"M 0 0 M2035.33 211.269 L2035.33 218.63 L2044.1 218.63 L2044.1 221.94 L2035.33 221.94 L2035.33 236.014 Q2035.33 239.185 2036.18 240.088 Q2037.06 240.991 2039.72 240.991 L2044.1 240.991 L2044.1 244.556 L2039.72 244.556 Q2034.79 244.556 2032.92 242.727 Q2031.04 240.875 2031.04 236.014 L2031.04 221.94 L2027.92 221.94 L2027.92 218.63 L2031.04 218.63 L2031.04 211.269 L2035.33 211.269 Z\" fill=\"#000000\" fill-rule=\"evenodd\" fill-opacity=\"1\" /><path clip-path=\"url(#clip270)\" d=\"M 0 0 M2048.57 218.63 L2052.83 218.63 L2052.83 244.556 L2048.57 244.556 L2048.57 218.63 M2048.57 208.537 L2052.83 208.537 L2052.83 213.931 L2048.57 213.931 L2048.57 208.537 Z\" fill=\"#000000\" fill-rule=\"evenodd\" fill-opacity=\"1\" /><path clip-path=\"url(#clip270)\" d=\"M 0 0 M2067.34 221.616 Q2063.91 221.616 2061.92 224.301 Q2059.93 226.963 2059.93 231.616 Q2059.93 236.269 2061.9 238.954 Q2063.89 241.616 2067.34 241.616 Q2070.74 241.616 2072.73 238.931 Q2074.72 236.246 2074.72 231.616 Q2074.72 227.01 2072.73 224.324 Q2070.74 221.616 2067.34 221.616 M2067.34 218.005 Q2072.9 218.005 2076.07 221.616 Q2079.24 225.227 2079.24 231.616 Q2079.24 237.982 2076.07 241.616 Q2072.9 245.227 2067.34 245.227 Q2061.76 245.227 2058.59 241.616 Q2055.44 237.982 2055.44 231.616 Q2055.44 225.227 2058.59 221.616 Q2061.76 218.005 2067.34 218.005 Z\" fill=\"#000000\" fill-rule=\"evenodd\" fill-opacity=\"1\" /><path clip-path=\"url(#clip270)\" d=\"M 0 0 M2105.26 228.908 L2105.26 244.556 L2101 244.556 L2101 229.047 Q2101 225.366 2099.56 223.537 Q2098.13 221.709 2095.26 221.709 Q2091.81 221.709 2089.82 223.908 Q2087.83 226.107 2087.83 229.903 L2087.83 244.556 L2083.54 244.556 L2083.54 218.63 L2087.83 218.63 L2087.83 222.658 Q2089.35 220.32 2091.41 219.162 Q2093.5 218.005 2096.21 218.005 Q2100.67 218.005 2102.96 220.783 Q2105.26 223.537 2105.26 228.908 Z\" fill=\"#000000\" fill-rule=\"evenodd\" fill-opacity=\"1\" /><path clip-path=\"url(#clip270)\" d=\"M 0 0 M2124.98 209.996 L2146.83 209.996 L2146.83 213.931 L2129.65 213.931 L2129.65 224.162 L2146.11 224.162 L2146.11 228.097 L2129.65 228.097 L2129.65 240.621 L2147.25 240.621 L2147.25 244.556 L2124.98 244.556 L2124.98 209.996 Z\" fill=\"#000000\" fill-rule=\"evenodd\" fill-opacity=\"1\" /><path clip-path=\"url(#clip270)\" d=\"M 0 0 M2166.74 222.611 Q2166.02 222.195 2165.16 222.01 Q2164.33 221.801 2163.31 221.801 Q2159.7 221.801 2157.76 224.162 Q2155.83 226.5 2155.83 230.898 L2155.83 244.556 L2151.55 244.556 L2151.55 218.63 L2155.83 218.63 L2155.83 222.658 Q2157.18 220.297 2159.33 219.162 Q2161.48 218.005 2164.56 218.005 Q2165 218.005 2165.53 218.074 Q2166.07 218.121 2166.71 218.236 L2166.74 222.611 Z\" fill=\"#000000\" fill-rule=\"evenodd\" fill-opacity=\"1\" /><path clip-path=\"url(#clip270)\" d=\"M 0 0 M2185.4 222.611 Q2184.68 222.195 2183.82 222.01 Q2182.99 221.801 2181.97 221.801 Q2178.36 221.801 2176.41 224.162 Q2174.49 226.5 2174.49 230.898 L2174.49 244.556 L2170.21 244.556 L2170.21 218.63 L2174.49 218.63 L2174.49 222.658 Q2175.83 220.297 2177.99 219.162 Q2180.14 218.005 2183.22 218.005 Q2183.66 218.005 2184.19 218.074 Q2184.72 218.121 2185.37 218.236 L2185.4 222.611 Z\" fill=\"#000000\" fill-rule=\"evenodd\" fill-opacity=\"1\" /><path clip-path=\"url(#clip270)\" d=\"M 0 0 M2198.87 221.616 Q2195.44 221.616 2193.45 224.301 Q2191.46 226.963 2191.46 231.616 Q2191.46 236.269 2193.43 238.954 Q2195.42 241.616 2198.87 241.616 Q2202.27 241.616 2204.26 238.931 Q2206.25 236.246 2206.25 231.616 Q2206.25 227.01 2204.26 224.324 Q2202.27 221.616 2198.87 221.616 M2198.87 218.005 Q2204.42 218.005 2207.59 221.616 Q2210.77 225.227 2210.77 231.616 Q2210.77 237.982 2207.59 241.616 Q2204.42 245.227 2198.87 245.227 Q2193.29 245.227 2190.12 241.616 Q2186.97 237.982 2186.97 231.616 Q2186.97 225.227 2190.12 221.616 Q2193.29 218.005 2198.87 218.005 Z\" fill=\"#000000\" fill-rule=\"evenodd\" fill-opacity=\"1\" /><path clip-path=\"url(#clip270)\" d=\"M 0 0 M2230.26 222.611 Q2229.54 222.195 2228.68 222.01 Q2227.85 221.801 2226.83 221.801 Q2223.22 221.801 2221.27 224.162 Q2219.35 226.5 2219.35 230.898 L2219.35 244.556 L2215.07 244.556 L2215.07 218.63 L2219.35 218.63 L2219.35 222.658 Q2220.7 220.297 2222.85 219.162 Q2225 218.005 2228.08 218.005 Q2228.52 218.005 2229.05 218.074 Q2229.58 218.121 2230.23 218.236 L2230.26 222.611 Z\" fill=\"#000000\" fill-rule=\"evenodd\" fill-opacity=\"1\" /><polyline clip-path=\"url(#clip270)\" style=\"stroke:#e26f46; stroke-width:4; stroke-opacity:1; fill:none\" points=\"\n",
       "  1487.16,287.756 1634.16,287.756 \n",
       "  \"/>\n",
       "<path clip-path=\"url(#clip270)\" d=\"M 0 0 M1658.66 270.476 L1687.9 270.476 L1687.9 274.411 L1675.63 274.411 L1675.63 305.036 L1670.93 305.036 L1670.93 274.411 L1658.66 274.411 L1658.66 270.476 Z\" fill=\"#000000\" fill-rule=\"evenodd\" fill-opacity=\"1\" /><path clip-path=\"url(#clip270)\" d=\"M 0 0 M1706.49 291.008 L1706.49 293.091 L1686.9 293.091 Q1687.18 297.489 1689.54 299.804 Q1691.93 302.096 1696.16 302.096 Q1698.62 302.096 1700.91 301.494 Q1703.22 300.892 1705.49 299.689 L1705.49 303.716 Q1703.2 304.688 1700.79 305.198 Q1698.38 305.707 1695.91 305.707 Q1689.7 305.707 1686.07 302.096 Q1682.46 298.485 1682.46 292.327 Q1682.46 285.962 1685.88 282.235 Q1689.33 278.485 1695.17 278.485 Q1700.4 278.485 1703.43 281.865 Q1706.49 285.221 1706.49 291.008 M1702.23 289.758 Q1702.18 286.263 1700.26 284.179 Q1698.36 282.096 1695.21 282.096 Q1691.65 282.096 1689.49 284.11 Q1687.37 286.124 1687.04 289.781 L1702.23 289.758 Z\" fill=\"#000000\" fill-rule=\"evenodd\" fill-opacity=\"1\" /><path clip-path=\"url(#clip270)\" d=\"M 0 0 M1727.48 279.874 L1727.48 283.902 Q1725.68 282.976 1723.73 282.513 Q1721.79 282.05 1719.7 282.05 Q1716.53 282.05 1714.93 283.022 Q1713.36 283.994 1713.36 285.939 Q1713.36 287.42 1714.49 288.277 Q1715.63 289.11 1719.05 289.874 L1720.51 290.198 Q1725.05 291.17 1726.95 292.952 Q1728.87 294.712 1728.87 297.883 Q1728.87 301.494 1726 303.601 Q1723.15 305.707 1718.15 305.707 Q1716.07 305.707 1713.8 305.29 Q1711.55 304.897 1709.05 304.087 L1709.05 299.689 Q1711.42 300.915 1713.71 301.54 Q1716 302.142 1718.24 302.142 Q1721.25 302.142 1722.87 301.124 Q1724.49 300.082 1724.49 298.207 Q1724.49 296.471 1723.31 295.545 Q1722.16 294.619 1718.2 293.763 L1716.72 293.415 Q1712.76 292.582 1711 290.869 Q1709.24 289.133 1709.24 286.124 Q1709.24 282.466 1711.83 280.476 Q1714.43 278.485 1719.19 278.485 Q1721.55 278.485 1723.64 278.832 Q1725.72 279.179 1727.48 279.874 Z\" fill=\"#000000\" fill-rule=\"evenodd\" fill-opacity=\"1\" /><path clip-path=\"url(#clip270)\" d=\"M 0 0 M1737.55 271.749 L1737.55 279.11 L1746.32 279.11 L1746.32 282.42 L1737.55 282.42 L1737.55 296.494 Q1737.55 299.665 1738.41 300.568 Q1739.29 301.471 1741.95 301.471 L1746.32 301.471 L1746.32 305.036 L1741.95 305.036 Q1737.02 305.036 1735.14 303.207 Q1733.27 301.355 1733.27 296.494 L1733.27 282.42 L1730.14 282.42 L1730.14 279.11 L1733.27 279.11 L1733.27 271.749 L1737.55 271.749 Z\" fill=\"#000000\" fill-rule=\"evenodd\" fill-opacity=\"1\" /><path clip-path=\"url(#clip270)\" d=\"M 0 0 M1766.05 270.476 L1773.01 270.476 L1781.83 293.994 L1790.7 270.476 L1797.67 270.476 L1797.67 305.036 L1793.11 305.036 L1793.11 274.689 L1784.19 298.392 L1779.49 298.392 L1770.58 274.689 L1770.58 305.036 L1766.05 305.036 L1766.05 270.476 Z\" fill=\"#000000\" fill-rule=\"evenodd\" fill-opacity=\"1\" /><path clip-path=\"url(#clip270)\" d=\"M 0 0 M1802.13 279.11 L1806.39 279.11 L1806.39 305.036 L1802.13 305.036 L1802.13 279.11 M1802.13 269.017 L1806.39 269.017 L1806.39 274.411 L1802.13 274.411 L1802.13 269.017 Z\" fill=\"#000000\" fill-rule=\"evenodd\" fill-opacity=\"1\" /><path clip-path=\"url(#clip270)\" d=\"M 0 0 M1827.39 279.874 L1827.39 283.902 Q1825.58 282.976 1823.64 282.513 Q1821.69 282.05 1819.61 282.05 Q1816.44 282.05 1814.84 283.022 Q1813.27 283.994 1813.27 285.939 Q1813.27 287.42 1814.4 288.277 Q1815.54 289.11 1818.96 289.874 L1820.42 290.198 Q1824.96 291.17 1826.86 292.952 Q1828.78 294.712 1828.78 297.883 Q1828.78 301.494 1825.91 303.601 Q1823.06 305.707 1818.06 305.707 Q1815.98 305.707 1813.71 305.29 Q1811.46 304.897 1808.96 304.087 L1808.96 299.689 Q1811.32 300.915 1813.61 301.54 Q1815.91 302.142 1818.15 302.142 Q1821.16 302.142 1822.78 301.124 Q1824.4 300.082 1824.4 298.207 Q1824.4 296.471 1823.22 295.545 Q1822.06 294.619 1818.11 293.763 L1816.62 293.415 Q1812.67 292.582 1810.91 290.869 Q1809.15 289.133 1809.15 286.124 Q1809.15 282.466 1811.74 280.476 Q1814.33 278.485 1819.1 278.485 Q1821.46 278.485 1823.55 278.832 Q1825.63 279.179 1827.39 279.874 Z\" fill=\"#000000\" fill-rule=\"evenodd\" fill-opacity=\"1\" /><path clip-path=\"url(#clip270)\" d=\"M 0 0 M1851.9 280.105 L1851.9 284.087 Q1850.1 283.091 1848.27 282.605 Q1846.46 282.096 1844.61 282.096 Q1840.47 282.096 1838.17 284.735 Q1835.88 287.351 1835.88 292.096 Q1835.88 296.841 1838.17 299.48 Q1840.47 302.096 1844.61 302.096 Q1846.46 302.096 1848.27 301.61 Q1850.1 301.101 1851.9 300.105 L1851.9 304.04 Q1850.12 304.874 1848.2 305.29 Q1846.3 305.707 1844.15 305.707 Q1838.29 305.707 1834.84 302.026 Q1831.39 298.346 1831.39 292.096 Q1831.39 285.753 1834.86 282.119 Q1838.36 278.485 1844.42 278.485 Q1846.39 278.485 1848.27 278.902 Q1850.14 279.295 1851.9 280.105 Z\" fill=\"#000000\" fill-rule=\"evenodd\" fill-opacity=\"1\" /><path clip-path=\"url(#clip270)\" d=\"M 0 0 M1856.37 269.017 L1860.63 269.017 L1860.63 305.036 L1856.37 305.036 L1856.37 269.017 Z\" fill=\"#000000\" fill-rule=\"evenodd\" fill-opacity=\"1\" /><path clip-path=\"url(#clip270)\" d=\"M 0 0 M1876.88 292.003 Q1871.72 292.003 1869.73 293.184 Q1867.73 294.364 1867.73 297.212 Q1867.73 299.48 1869.22 300.823 Q1870.72 302.142 1873.29 302.142 Q1876.83 302.142 1878.96 299.642 Q1881.11 297.119 1881.11 292.952 L1881.11 292.003 L1876.88 292.003 M1885.37 290.244 L1885.37 305.036 L1881.11 305.036 L1881.11 301.101 Q1879.66 303.462 1877.48 304.596 Q1875.3 305.707 1872.16 305.707 Q1868.17 305.707 1865.81 303.485 Q1863.48 301.239 1863.48 297.489 Q1863.48 293.114 1866.39 290.892 Q1869.33 288.67 1875.14 288.67 L1881.11 288.67 L1881.11 288.253 Q1881.11 285.314 1879.17 283.716 Q1877.25 282.096 1873.75 282.096 Q1871.53 282.096 1869.42 282.628 Q1867.32 283.161 1865.37 284.226 L1865.37 280.29 Q1867.71 279.388 1869.91 278.948 Q1872.11 278.485 1874.19 278.485 Q1879.82 278.485 1882.6 281.402 Q1885.37 284.318 1885.37 290.244 Z\" fill=\"#000000\" fill-rule=\"evenodd\" fill-opacity=\"1\" /><path clip-path=\"url(#clip270)\" d=\"M 0 0 M1906.37 279.874 L1906.37 283.902 Q1904.56 282.976 1902.62 282.513 Q1900.67 282.05 1898.59 282.05 Q1895.42 282.05 1893.82 283.022 Q1892.25 283.994 1892.25 285.939 Q1892.25 287.42 1893.38 288.277 Q1894.52 289.11 1897.94 289.874 L1899.4 290.198 Q1903.94 291.17 1905.84 292.952 Q1907.76 294.712 1907.76 297.883 Q1907.76 301.494 1904.89 303.601 Q1902.04 305.707 1897.04 305.707 Q1894.96 305.707 1892.69 305.29 Q1890.44 304.897 1887.94 304.087 L1887.94 299.689 Q1890.3 300.915 1892.6 301.54 Q1894.89 302.142 1897.13 302.142 Q1900.14 302.142 1901.76 301.124 Q1903.38 300.082 1903.38 298.207 Q1903.38 296.471 1902.2 295.545 Q1901.04 294.619 1897.09 293.763 L1895.6 293.415 Q1891.65 292.582 1889.89 290.869 Q1888.13 289.133 1888.13 286.124 Q1888.13 282.466 1890.72 280.476 Q1893.31 278.485 1898.08 278.485 Q1900.44 278.485 1902.53 278.832 Q1904.61 279.179 1906.37 279.874 Z\" fill=\"#000000\" fill-rule=\"evenodd\" fill-opacity=\"1\" /><path clip-path=\"url(#clip270)\" d=\"M 0 0 M1928.75 279.874 L1928.75 283.902 Q1926.95 282.976 1925 282.513 Q1923.06 282.05 1920.98 282.05 Q1917.8 282.05 1916.21 283.022 Q1914.63 283.994 1914.63 285.939 Q1914.63 287.42 1915.77 288.277 Q1916.9 289.11 1920.33 289.874 L1921.79 290.198 Q1926.32 291.17 1928.22 292.952 Q1930.14 294.712 1930.14 297.883 Q1930.14 301.494 1927.27 303.601 Q1924.42 305.707 1919.42 305.707 Q1917.34 305.707 1915.07 305.29 Q1912.83 304.897 1910.33 304.087 L1910.33 299.689 Q1912.69 300.915 1914.98 301.54 Q1917.27 302.142 1919.52 302.142 Q1922.53 302.142 1924.15 301.124 Q1925.77 300.082 1925.77 298.207 Q1925.77 296.471 1924.59 295.545 Q1923.43 294.619 1919.47 293.763 L1917.99 293.415 Q1914.03 292.582 1912.27 290.869 Q1910.51 289.133 1910.51 286.124 Q1910.51 282.466 1913.1 280.476 Q1915.7 278.485 1920.47 278.485 Q1922.83 278.485 1924.91 278.832 Q1926.99 279.179 1928.75 279.874 Z\" fill=\"#000000\" fill-rule=\"evenodd\" fill-opacity=\"1\" /><path clip-path=\"url(#clip270)\" d=\"M 0 0 M1934.61 279.11 L1938.87 279.11 L1938.87 305.036 L1934.61 305.036 L1934.61 279.11 M1934.61 269.017 L1938.87 269.017 L1938.87 274.411 L1934.61 274.411 L1934.61 269.017 Z\" fill=\"#000000\" fill-rule=\"evenodd\" fill-opacity=\"1\" /><path clip-path=\"url(#clip270)\" d=\"M 0 0 M1956.46 269.017 L1956.46 272.559 L1952.39 272.559 Q1950.1 272.559 1949.19 273.485 Q1948.31 274.411 1948.31 276.818 L1948.31 279.11 L1955.33 279.11 L1955.33 282.42 L1948.31 282.42 L1948.31 305.036 L1944.03 305.036 L1944.03 282.42 L1939.96 282.42 L1939.96 279.11 L1944.03 279.11 L1944.03 277.304 Q1944.03 272.976 1946.04 271.008 Q1948.06 269.017 1952.43 269.017 L1956.46 269.017 Z\" fill=\"#000000\" fill-rule=\"evenodd\" fill-opacity=\"1\" /><path clip-path=\"url(#clip270)\" d=\"M 0 0 M1960.93 279.11 L1965.19 279.11 L1965.19 305.036 L1960.93 305.036 L1960.93 279.11 M1960.93 269.017 L1965.19 269.017 L1965.19 274.411 L1960.93 274.411 L1960.93 269.017 Z\" fill=\"#000000\" fill-rule=\"evenodd\" fill-opacity=\"1\" /><path clip-path=\"url(#clip270)\" d=\"M 0 0 M1988.31 280.105 L1988.31 284.087 Q1986.51 283.091 1984.68 282.605 Q1982.87 282.096 1981.02 282.096 Q1976.88 282.096 1974.59 284.735 Q1972.29 287.351 1972.29 292.096 Q1972.29 296.841 1974.59 299.48 Q1976.88 302.096 1981.02 302.096 Q1982.87 302.096 1984.68 301.61 Q1986.51 301.101 1988.31 300.105 L1988.31 304.04 Q1986.53 304.874 1984.61 305.29 Q1982.71 305.707 1980.56 305.707 Q1974.7 305.707 1971.25 302.026 Q1967.8 298.346 1967.8 292.096 Q1967.8 285.753 1971.28 282.119 Q1974.77 278.485 1980.84 278.485 Q1982.8 278.485 1984.68 278.902 Q1986.55 279.295 1988.31 280.105 Z\" fill=\"#000000\" fill-rule=\"evenodd\" fill-opacity=\"1\" /><path clip-path=\"url(#clip270)\" d=\"M 0 0 M2004.56 292.003 Q1999.4 292.003 1997.41 293.184 Q1995.42 294.364 1995.42 297.212 Q1995.42 299.48 1996.9 300.823 Q1998.41 302.142 2000.97 302.142 Q2004.52 302.142 2006.65 299.642 Q2008.8 297.119 2008.8 292.952 L2008.8 292.003 L2004.56 292.003 M2013.06 290.244 L2013.06 305.036 L2008.8 305.036 L2008.8 301.101 Q2007.34 303.462 2005.16 304.596 Q2002.99 305.707 1999.84 305.707 Q1995.86 305.707 1993.5 303.485 Q1991.16 301.239 1991.16 297.489 Q1991.16 293.114 1994.08 290.892 Q1997.02 288.67 2002.83 288.67 L2008.8 288.67 L2008.8 288.253 Q2008.8 285.314 2006.85 283.716 Q2004.93 282.096 2001.44 282.096 Q1999.22 282.096 1997.11 282.628 Q1995 283.161 1993.06 284.226 L1993.06 280.29 Q1995.4 279.388 1997.6 278.948 Q1999.79 278.485 2001.88 278.485 Q2007.5 278.485 2010.28 281.402 Q2013.06 284.318 2013.06 290.244 Z\" fill=\"#000000\" fill-rule=\"evenodd\" fill-opacity=\"1\" /><path clip-path=\"url(#clip270)\" d=\"M 0 0 M2021.74 271.749 L2021.74 279.11 L2030.51 279.11 L2030.51 282.42 L2021.74 282.42 L2021.74 296.494 Q2021.74 299.665 2022.59 300.568 Q2023.47 301.471 2026.14 301.471 L2030.51 301.471 L2030.51 305.036 L2026.14 305.036 Q2021.21 305.036 2019.33 303.207 Q2017.46 301.355 2017.46 296.494 L2017.46 282.42 L2014.33 282.42 L2014.33 279.11 L2017.46 279.11 L2017.46 271.749 L2021.74 271.749 Z\" fill=\"#000000\" fill-rule=\"evenodd\" fill-opacity=\"1\" /><path clip-path=\"url(#clip270)\" d=\"M 0 0 M2034.98 279.11 L2039.24 279.11 L2039.24 305.036 L2034.98 305.036 L2034.98 279.11 M2034.98 269.017 L2039.24 269.017 L2039.24 274.411 L2034.98 274.411 L2034.98 269.017 Z\" fill=\"#000000\" fill-rule=\"evenodd\" fill-opacity=\"1\" /><path clip-path=\"url(#clip270)\" d=\"M 0 0 M2053.75 282.096 Q2050.33 282.096 2048.34 284.781 Q2046.34 287.443 2046.34 292.096 Q2046.34 296.749 2048.31 299.434 Q2050.3 302.096 2053.75 302.096 Q2057.15 302.096 2059.15 299.411 Q2061.14 296.726 2061.14 292.096 Q2061.14 287.49 2059.15 284.804 Q2057.15 282.096 2053.75 282.096 M2053.75 278.485 Q2059.31 278.485 2062.48 282.096 Q2065.65 285.707 2065.65 292.096 Q2065.65 298.462 2062.48 302.096 Q2059.31 305.707 2053.75 305.707 Q2048.17 305.707 2045 302.096 Q2041.85 298.462 2041.85 292.096 Q2041.85 285.707 2045 282.096 Q2048.17 278.485 2053.75 278.485 Z\" fill=\"#000000\" fill-rule=\"evenodd\" fill-opacity=\"1\" /><path clip-path=\"url(#clip270)\" d=\"M 0 0 M2091.67 289.388 L2091.67 305.036 L2087.41 305.036 L2087.41 289.527 Q2087.41 285.846 2085.97 284.017 Q2084.54 282.189 2081.67 282.189 Q2078.22 282.189 2076.23 284.388 Q2074.24 286.587 2074.24 290.383 L2074.24 305.036 L2069.96 305.036 L2069.96 279.11 L2074.24 279.11 L2074.24 283.138 Q2075.77 280.8 2077.83 279.642 Q2079.91 278.485 2082.62 278.485 Q2087.09 278.485 2089.38 281.263 Q2091.67 284.017 2091.67 289.388 Z\" fill=\"#000000\" fill-rule=\"evenodd\" fill-opacity=\"1\" /><path clip-path=\"url(#clip270)\" d=\"M 0 0 M2111.39 270.476 L2133.24 270.476 L2133.24 274.411 L2116.07 274.411 L2116.07 284.642 L2132.52 284.642 L2132.52 288.577 L2116.07 288.577 L2116.07 301.101 L2133.66 301.101 L2133.66 305.036 L2111.39 305.036 L2111.39 270.476 Z\" fill=\"#000000\" fill-rule=\"evenodd\" fill-opacity=\"1\" /><path clip-path=\"url(#clip270)\" d=\"M 0 0 M2153.15 283.091 Q2152.43 282.675 2151.58 282.49 Q2150.74 282.281 2149.72 282.281 Q2146.11 282.281 2144.17 284.642 Q2142.25 286.98 2142.25 291.378 L2142.25 305.036 L2137.96 305.036 L2137.96 279.11 L2142.25 279.11 L2142.25 283.138 Q2143.59 280.777 2145.74 279.642 Q2147.9 278.485 2150.97 278.485 Q2151.41 278.485 2151.95 278.554 Q2152.48 278.601 2153.13 278.716 L2153.15 283.091 Z\" fill=\"#000000\" fill-rule=\"evenodd\" fill-opacity=\"1\" /><path clip-path=\"url(#clip270)\" d=\"M 0 0 M2171.81 283.091 Q2171.09 282.675 2170.23 282.49 Q2169.4 282.281 2168.38 282.281 Q2164.77 282.281 2162.83 284.642 Q2160.9 286.98 2160.9 291.378 L2160.9 305.036 L2156.62 305.036 L2156.62 279.11 L2160.9 279.11 L2160.9 283.138 Q2162.25 280.777 2164.4 279.642 Q2166.55 278.485 2169.63 278.485 Q2170.07 278.485 2170.6 278.554 Q2171.14 278.601 2171.78 278.716 L2171.81 283.091 Z\" fill=\"#000000\" fill-rule=\"evenodd\" fill-opacity=\"1\" /><path clip-path=\"url(#clip270)\" d=\"M 0 0 M2185.28 282.096 Q2181.85 282.096 2179.86 284.781 Q2177.87 287.443 2177.87 292.096 Q2177.87 296.749 2179.84 299.434 Q2181.83 302.096 2185.28 302.096 Q2188.68 302.096 2190.67 299.411 Q2192.66 296.726 2192.66 292.096 Q2192.66 287.49 2190.67 284.804 Q2188.68 282.096 2185.28 282.096 M2185.28 278.485 Q2190.83 278.485 2194.01 282.096 Q2197.18 285.707 2197.18 292.096 Q2197.18 298.462 2194.01 302.096 Q2190.83 305.707 2185.28 305.707 Q2179.7 305.707 2176.53 302.096 Q2173.38 298.462 2173.38 292.096 Q2173.38 285.707 2176.53 282.096 Q2179.7 278.485 2185.28 278.485 Z\" fill=\"#000000\" fill-rule=\"evenodd\" fill-opacity=\"1\" /><path clip-path=\"url(#clip270)\" d=\"M 0 0 M2216.67 283.091 Q2215.95 282.675 2215.09 282.49 Q2214.26 282.281 2213.24 282.281 Q2209.63 282.281 2207.69 284.642 Q2205.77 286.98 2205.77 291.378 L2205.77 305.036 L2201.48 305.036 L2201.48 279.11 L2205.77 279.11 L2205.77 283.138 Q2207.11 280.777 2209.26 279.642 Q2211.41 278.485 2214.49 278.485 Q2214.93 278.485 2215.46 278.554 Q2216 278.601 2216.64 278.716 L2216.67 283.091 Z\" fill=\"#000000\" fill-rule=\"evenodd\" fill-opacity=\"1\" /></svg>\n"
      ]
     },
     "metadata": {},
     "output_type": "display_data"
    },
    {
     "name": "stdout",
     "output_type": "stream",
     "text": [
      "TRAINING PARAMETERS\n",
      "\n",
      "\n",
      "Activation Function = relu\n",
      "Optimizer Type = adam\n",
      "Learning Rate = 0.0001\n",
      "====================================================\n",
      "LAYERS:\n",
      "\n",
      "\n",
      "Main.Network.Conv ==> W = (3, 3, 3, 50)   b = (1, 1, 50, 1)\n",
      "Main.Network.Conv ==> W = (3, 3, 50, 100)   b = (1, 1, 100, 1)\n",
      "Main.Network.Conv ==> W = (3, 3, 100, 150)   b = (1, 1, 150, 1)\n",
      "Main.Network.Conv ==> W = (3, 3, 150, 200)   b = (1, 1, 200, 1)\n",
      "Main.Network.Conv ==> W = (4, 12, 200, 400)   b = (1, 1, 400, 1)\n",
      "Main.Network.Conv ==> W = (1, 1, 400, 250)   b = (1, 1, 250, 1)\n",
      "Main.Network.Conv ==> W = (1, 1, 250, 3)   b = (1, 1, 3, 1)\n",
      "====================================================\n",
      "In this network configuration,\n",
      "there are total 4393253 parameters.\n",
      "====================================================\n",
      "Final Loss\n",
      "Train Loss = 1.0986124\n",
      "Test Loss = 1.0986124\n",
      "\n",
      "\n",
      "Final Misclassification Error\n",
      "Train Misclassification Error = 0.6666667\n",
      "Test Misclassification Error = 0.6666667\n",
      "\n",
      "\n",
      "Test Accuracy = 0.3333333333333333\n",
      "====================================================\n"
     ]
    },
    {
     "data": {
      "text/plain": [
       "4×1 Array{Float32,2}:\n",
       " 1.0986124\n",
       " 1.0986124\n",
       " 0.6666667\n",
       " 0.6666667"
      ]
     },
     "execution_count": 19,
     "metadata": {},
     "output_type": "execute_result"
    }
   ],
   "source": [
    "# Training routine\n",
    "# Currently, the model is not working due to the issue mentioned in: https://github.com/denizyuret/Knet.jl/issues/624#\n",
    "# As soon as it is solved, I hope the model will be accurately working.\n",
    "res = train_summarize!(model, dtrn, dtst; \n",
    "                       train_type = \"epoch\", progress_bar = true ,fig = true, info = true, \n",
    "                       epoch = 1, conv_epoch = 50, max_conv_cycle = 20)"
   ]
  },
  {
   "cell_type": "code",
   "execution_count": null,
   "metadata": {
    "scrolled": false
   },
   "outputs": [],
   "source": [
    "notify(\"OK!\")"
   ]
  },
  {
   "cell_type": "code",
   "execution_count": null,
   "metadata": {},
   "outputs": [],
   "source": []
  }
 ],
 "metadata": {
  "@webio": {
   "lastCommId": null,
   "lastKernelId": null
  },
  "kernelspec": {
   "display_name": "Julia 1.5.2",
   "language": "julia",
   "name": "julia-1.5"
  },
  "language_info": {
   "file_extension": ".jl",
   "mimetype": "application/julia",
   "name": "julia",
   "version": "1.5.2"
  }
 },
 "nbformat": 4,
 "nbformat_minor": 4
}
