{
 "cells": [
  {
   "cell_type": "code",
   "execution_count": null,
   "metadata": {},
   "outputs": [],
   "source": [
    "using Distributed\n",
    "# @everywhere used for the implementation of the modules across multiple workers\n",
    "# Without it, the code does not run\n",
    "\n",
    "# Add the modules to the ´read´ path of the Julia\n",
    "@everywhere push!(LOAD_PATH, \"/scratch/users/vaydingul20/workfolder/COMP541_Project/src/modules/\")\n",
    "# Custom modules\n",
    "@everywhere using Model: HapticNet, VisualNet, train_epoch!, save_as_jld2\n",
    "@everywhere using TUM69: load_accel_data, load_image_data\n",
    "@everywhere using Preprocess: process_accel_signal, process_image, augment_image\n",
    "@everywhere using Utils: kfold, notify!, a_type\n",
    "# Ready-to-use modules \n",
    "using JLD2, Random\n",
    "using CUDA"
   ]
  },
  {
   "cell_type": "code",
   "execution_count": null,
   "metadata": {},
   "outputs": [],
   "source": [
    "# Set path\n",
    "path = CUDA.functional() ? \"/userfiles/vaydingul20/data/new\" : \"data/new\" \n",
    "DATA_PATH = isdir(path) && path"
   ]
  },
  {
   "cell_type": "code",
   "execution_count": null,
   "metadata": {},
   "outputs": [],
   "source": [
    "# Load data\n",
    "X_train, y_train, _, _, material_dict = @time load_accel_data(DATA_PATH; mode = \"normal\")"
   ]
  },
  {
   "cell_type": "code",
   "execution_count": null,
   "metadata": {},
   "outputs": [],
   "source": [
    "# Apply preprocessing on the accelaration data\n",
    "X_train, y_train = process_accel_signal(X_train, y_train)\n",
    "# Seperate into 3 folds for training\n",
    "kf = kfold(X_train, y_train; fold = 3, atype = a_type(Float32))"
   ]
  },
  {
   "cell_type": "code",
   "execution_count": null,
   "metadata": {},
   "outputs": [],
   "source": [
    "# Initialization of the results vector that will be saved at the end of the training\n",
    "results = []\n",
    "# For each fold run training subroutine\n",
    "for (ix, (dtrn, dtst)) in enumerate(kf.folds)\n",
    "\n",
    "    # Reset model\n",
    "    hn = HapticNet(; atype = a_type(Float32), lrn = false)\n",
    "\n",
    "    # Train 3000 epochs in total, but take snapshot at every 1000 epochs\n",
    "    for k in 1:3\n",
    "        # Training routine\n",
    "        res = train_epoch!(hn, dtrn, dtst; progress_bar = true, fig = true, info = true, epoch = 10)\n",
    "        # Save model\n",
    "        save_as_jld2(hn, \"hn-$ix-$k.jld2\")\n",
    "        # Add results to the ´results´vector\n",
    "        push!(results, res)\n",
    "    end\n",
    "end"
   ]
  },
  {
   "cell_type": "code",
   "execution_count": null,
   "metadata": {},
   "outputs": [],
   "source": [
    "# Save results\n",
    "JLD2.@save \"results_hn.jld2\" results = results"
   ]
  },
  {
   "cell_type": "code",
   "execution_count": null,
   "metadata": {},
   "outputs": [],
   "source": []
  }
 ],
 "metadata": {
  "kernelspec": {
   "display_name": "Julia 1.5.2",
   "language": "julia",
   "name": "julia-1.5"
  },
  "language_info": {
   "file_extension": ".jl",
   "mimetype": "application/julia",
   "name": "julia",
   "version": "1.5.2"
  }
 },
 "nbformat": 4,
 "nbformat_minor": 4
}
