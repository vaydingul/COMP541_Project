{
 "cells": [
  {
   "cell_type": "code",
   "execution_count": 1,
   "metadata": {},
   "outputs": [
    {
     "name": "stderr",
     "output_type": "stream",
     "text": [
      "┌ Info: Precompiling TUM69 [top-level]\n",
      "└ @ Base loading.jl:1278\n"
     ]
    }
   ],
   "source": [
    "# @everywhere used for the implementation of the modules across multiple workers\n",
    "# Without it, the code does not run\n",
    "\n",
    "# Add the modules to the ´read´ path of the Julia\n",
    "push!(LOAD_PATH, \"/scratch/users/vaydingul20/workfolder/COMP541_Project/src/modules/\")\n",
    "\n",
    "\n",
    "# Custom modules\n",
    "using Network: HapticNet, VisualNet, train_epoch!, save_as_jld2\n",
    "using TUM69: NetworkData, kfold\n",
    "using Utils: a_type, notify!\n",
    "# Ready-to-use modules\n",
    "using JLD2, Random\n",
    "using CUDA\n"
   ]
  },
  {
   "cell_type": "code",
   "execution_count": 19,
   "metadata": {},
   "outputs": [
    {
     "data": {
      "text/plain": [
       "\"/scratch/users/vaydingul20/workfolder/COMP541_Project/alexnet.mat\""
      ]
     },
     "execution_count": 19,
     "metadata": {},
     "output_type": "execute_result"
    }
   ],
   "source": [
    "# Set path\n",
    "path = CUDA.functional() ? \"/userfiles/vaydingul20/data/new\" : \"data/new\" # path of the main data\n",
    "DATA_PATH = isdir(path) && path\n",
    "# Set pretrained network path\n",
    "alexnet_PATH = \"/scratch/users/vaydingul20/workfolder/COMP541_Project/alexnet.mat\""
   ]
  },
  {
   "cell_type": "code",
   "execution_count": 40,
   "metadata": {
    "scrolled": false
   },
   "outputs": [
    {
     "name": "stdout",
     "output_type": "stream",
     "text": [
      "Train accel data is being loaded!\n",
      "Test accel data is being loaded!\n"
     ]
    },
    {
     "data": {
      "text/plain": [
       "NetworkData(Tuple{String,Int8}[(\"/userfiles/vaydingul20/data/new/train/accel/G1EpoxyRasterPlate/G1EpoxyRasterPlate_query0.txt\", 1), (\"/userfiles/vaydingul20/data/new/train/accel/G1EpoxyRasterPlate/G1EpoxyRasterPlate_query1.txt\", 1), (\"/userfiles/vaydingul20/data/new/train/accel/G1EpoxyRasterPlate/G1EpoxyRasterPlate_query2.txt\", 1), (\"/userfiles/vaydingul20/data/new/train/accel/G1EpoxyRasterPlate/G1EpoxyRasterPlate_query3.txt\", 1), (\"/userfiles/vaydingul20/data/new/train/accel/G1EpoxyRasterPlate/G1EpoxyRasterPlate_query4.txt\", 1), (\"/userfiles/vaydingul20/data/new/train/accel/G1EpoxyRasterPlate/G1EpoxyRasterPlate_query5.txt\", 1), (\"/userfiles/vaydingul20/data/new/train/accel/G1EpoxyRasterPlate/G1EpoxyRasterPlate_query6.txt\", 1), (\"/userfiles/vaydingul20/data/new/train/accel/G1EpoxyRasterPlate/G1EpoxyRasterPlate_query7.txt\", 1), (\"/userfiles/vaydingul20/data/new/train/accel/G1EpoxyRasterPlate/G1EpoxyRasterPlate_query8.txt\", 1), (\"/userfiles/vaydingul20/data/new/train/accel/G1EpoxyRasterPlate/G1EpoxyRasterPlate_query9.txt\", 1)  …  (\"/userfiles/vaydingul20/data/new/train/accel/G9TextileVersion3/G9TextileVersion3_query0.txt\", 69), (\"/userfiles/vaydingul20/data/new/train/accel/G9TextileVersion3/G9TextileVersion3_query1.txt\", 69), (\"/userfiles/vaydingul20/data/new/train/accel/G9TextileVersion3/G9TextileVersion3_query2.txt\", 69), (\"/userfiles/vaydingul20/data/new/train/accel/G9TextileVersion3/G9TextileVersion3_query3.txt\", 69), (\"/userfiles/vaydingul20/data/new/train/accel/G9TextileVersion3/G9TextileVersion3_query4.txt\", 69), (\"/userfiles/vaydingul20/data/new/train/accel/G9TextileVersion3/G9TextileVersion3_query5.txt\", 69), (\"/userfiles/vaydingul20/data/new/train/accel/G9TextileVersion3/G9TextileVersion3_query6.txt\", 69), (\"/userfiles/vaydingul20/data/new/train/accel/G9TextileVersion3/G9TextileVersion3_query7.txt\", 69), (\"/userfiles/vaydingul20/data/new/train/accel/G9TextileVersion3/G9TextileVersion3_query8.txt\", 69), (\"/userfiles/vaydingul20/data/new/train/accel/G9TextileVersion3/G9TextileVersion3_query9.txt\", 69)], nothing, nothing, \"accel\", Dict{Int8,String}(68 => \"G9TextileVersion2\",2 => \"G1IsolatingFoilMesh\",11 => \"G2Marble\",39 => \"G6FineArtificialGrass\",46 => \"G7FineFoamVersion1\",25 => \"G4CompressedWoodVersion2\",55 => \"G8Cardboard\",42 => \"G6SteelWool\",66 => \"G9TableClothVersion2\",58 => \"G8PlasticFoilVersion2\"…), true, 1.0, 690, 500, KnetArray{Float32,N} where N)"
      ]
     },
     "execution_count": 40,
     "metadata": {},
     "output_type": "execute_result"
    }
   ],
   "source": [
    "nd = NetworkData(DATA_PATH, \"accel\"; data_type=\"train\", read_type=\"normal\",shuffle=true, read_rate=1.0,  batchsize=500, atype=a_type(Float32))"
   ]
  },
  {
   "cell_type": "code",
   "execution_count": 21,
   "metadata": {
    "scrolled": true
   },
   "outputs": [
    {
     "data": {
      "text/plain": [
       "Any[]"
      ]
     },
     "execution_count": 21,
     "metadata": {},
     "output_type": "execute_result"
    }
   ],
   "source": [
    "# Seperate into 3 folds for training\n",
    "kf = kfold(nd; fold=10)\n",
    "results = []"
   ]
  },
  {
   "cell_type": "code",
   "execution_count": 22,
   "metadata": {
    "scrolled": true
   },
   "outputs": [
    {
     "name": "stdout",
     "output_type": "stream",
     "text": [
      "  0.075049 seconds (34.71 k allocations: 1.808 MiB)\n"
     ]
    }
   ],
   "source": [
    "for (ix, (dtrn, dtst)) in enumerate(kf.folds[1:1])\n",
    "    \n",
    "\n",
    "    #Reset the model\n",
    "    hn = HapticNet(;atype=a_type(Float32))\n",
    "\n",
    "        # Training routine\n",
    "        res = @time train_epoch!(hn, dtrn, dtst; progress_bar=true, fig=false, info=false, epoch=1)\n",
    "        # Save model \n",
    "        # Add results to the ´results´vector\n",
    "        push!(results, res)\n",
    "\n",
    "    \n",
    "    save_as_jld2(hn, \"hn-$ix.jld2\")\n",
    "\n",
    "end"
   ]
  },
  {
   "cell_type": "code",
   "execution_count": null,
   "metadata": {},
   "outputs": [],
   "source": [
    "# Save accumulated results\n",
    "JLD2.@save \"results_hn.jld2\" results = results"
   ]
  },
  {
   "cell_type": "code",
   "execution_count": 41,
   "metadata": {
    "scrolled": true
   },
   "outputs": [
    {
     "data": {
      "text/plain": [
       "HapticNet(Network.GCN((Network.Conv(P(KnetArray{Float32,4}(3,3,1,50)), P(KnetArray{Float32,4}(1,1,50,1)), Knet.Ops20.relu, 0, (1, 1), (1, 1), (2, 2), (2, 2), true, KnetArray{Float32,N} where N), Network.Conv(P(KnetArray{Float32,4}(3,3,50,100)), P(KnetArray{Float32,4}(1,1,100,1)), Knet.Ops20.relu, 0, (1, 1), (1, 1), (2, 2), (2, 2), false, KnetArray{Float32,N} where N), Network.Conv(P(KnetArray{Float32,4}(3,3,100,150)), P(KnetArray{Float32,4}(1,1,150,1)), Knet.Ops20.relu, 0, (1, 1), (1, 1), (2, 2), (2, 2), false, KnetArray{Float32,N} where N), Network.Conv(P(KnetArray{Float32,4}(3,3,150,200)), P(KnetArray{Float32,4}(1,1,200,1)), Knet.Ops20.relu, 0, (1, 1), (1, 1), (2, 2), (2, 2), false, KnetArray{Float32,N} where N), Network.Conv(P(KnetArray{Float32,4}(4,12,200,400)), P(KnetArray{Float32,4}(1,1,400,1)), Knet.Ops20.relu, 0, (1, 0), (1, 1), (1, 1), (1, 1), false, KnetArray{Float32,N} where N), Network.Conv(P(KnetArray{Float32,4}(1,1,400,250)), P(KnetArray{Float32,4}(1,1,250,1)), Knet.Ops20.relu, 0, (0, 0), (1, 1), (1, 1), (1, 1), false, KnetArray{Float32,N} where N), Network.Conv(P(KnetArray{Float32,4}(1,1,250,69)), P(KnetArray{Float32,4}(1,1,69,1)), Knet.Ops20.relu, 0, (0, 0), (1, 1), (1, 1), (1, 1), false, KnetArray{Float32,N} where N)), Knet.Train20.adam, 0.0001, Network.nll4, Network.accuracy4, 0.0, 0.0005))"
      ]
     },
     "execution_count": 41,
     "metadata": {},
     "output_type": "execute_result"
    }
   ],
   "source": [
    "hn = HapticNet(; atype = a_type(Float32))"
   ]
  },
  {
   "cell_type": "code",
   "execution_count": 42,
   "metadata": {},
   "outputs": [],
   "source": [
    "using Knet"
   ]
  },
  {
   "cell_type": "code",
   "execution_count": 43,
   "metadata": {
    "scrolled": true
   },
   "outputs": [
    {
     "name": "stdout",
     "output_type": "stream",
     "text": [
      "Data reading...\n",
      "(0, 0, true)\n",
      "(690, 500, false)\n",
      "4489\n",
      "(690, 500, false)\n",
      "(690, 1000, false)\n",
      "4489\n",
      "(690, 1000, false)\n",
      "(690, 1500, false)\n",
      "4489\n",
      "(690, 1500, false)\n",
      "(690, 2000, false)\n",
      "4489\n",
      "(690, 2000, false)\n",
      "(690, 2500, false)\n",
      "4489\n",
      "(690, 2500, false)\n",
      "(690, 3000, false)\n",
      "4489\n",
      "(690, 3000, false)\n",
      "(690, 3500, false)\n",
      "4489\n",
      "(690, 3500, false)\n",
      "(690, 4000, false)\n",
      "4489\n",
      "(690, 4000, false)\n",
      "(690, 4489, true)\n",
      "4489\n",
      " 75.926643 seconds (451.17 M allocations: 27.122 GiB, 5.76% gc time)\n"
     ]
    }
   ],
   "source": [
    "@time adam!(hn.model, nd);"
   ]
  },
  {
   "cell_type": "code",
   "execution_count": null,
   "metadata": {},
   "outputs": [],
   "source": [
    "hn.model.layers[1].b[:,:,:,:]"
   ]
  },
  {
   "cell_type": "code",
   "execution_count": null,
   "metadata": {},
   "outputs": [],
   "source": []
  }
 ],
 "metadata": {
  "kernelspec": {
   "display_name": "Julia 1.5.2",
   "language": "julia",
   "name": "julia-1.5"
  },
  "language_info": {
   "file_extension": ".jl",
   "mimetype": "application/julia",
   "name": "julia",
   "version": "1.5.2"
  }
 },
 "nbformat": 4,
 "nbformat_minor": 4
}
