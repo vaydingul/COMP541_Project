{
 "cells": [
  {
   "cell_type": "code",
   "execution_count": 1,
   "metadata": {},
   "outputs": [
    {
     "name": "stderr",
     "output_type": "stream",
     "text": [
      "┌ Info: Precompiling Preprocess [top-level]\n",
      "└ @ Base loading.jl:1278\n"
     ]
    }
   ],
   "source": [
    "using Distributed\n",
    "# @everywhere used for the implementation of the modules across multiple workers\n",
    "# Without it, the code does not run\n",
    "\n",
    "# Add the modules to the ´read´ path of the Julia\n",
    "@everywhere push!(LOAD_PATH, \"/scratch/users/vaydingul20/workfolder/COMP541_Project/src/modules/\")\n",
    "\n",
    "\n",
    "# Custom modules\n",
    "@everywhere using Model: HapticNet, VisualNet, train_epoch!, save_as_jld2\n",
    "@everywhere using TUM69: load_accel_data, load_image_data\n",
    "@everywhere using Preprocess: process_accel_signal, process_image, augment_image\n",
    "@everywhere using Utils: kfold, notify!, a_type\n",
    "# Ready-to-use modules\n",
    "using JLD2, Random\n",
    "using CUDA\n",
    "using Augmentor: FlipX, FlipY"
   ]
  },
  {
   "cell_type": "code",
   "execution_count": 2,
   "metadata": {},
   "outputs": [
    {
     "data": {
      "text/plain": [
       "\"/scratch/users/vaydingul20/workfolder/COMP541_Project/alexnet.mat\""
      ]
     },
     "execution_count": 2,
     "metadata": {},
     "output_type": "execute_result"
    }
   ],
   "source": [
    "# Set path\n",
    "path = CUDA.functional() ? \"/userfiles/vaydingul20/data/new\" : \"data/new\" # path of the main data\n",
    "DATA_PATH = isdir(path) && path\n",
    "# Set pretrained network path\n",
    "alexnet_PATH = \"/scratch/users/vaydingul20/workfolder/COMP541_Project/alexnet.mat\""
   ]
  },
  {
   "cell_type": "code",
   "execution_count": 5,
   "metadata": {},
   "outputs": [
    {
     "name": "stdout",
     "output_type": "stream",
     "text": [
      "Train image data is being loaded!\n",
      "Test image data is being loaded!\n",
      "495.914231 seconds (286.47 k allocations: 92.438 GiB, 3.00% gc time)\n"
     ]
    }
   ],
   "source": [
    "# Load image data\n",
    "X_train, y_train, _, _, material_dict = @time load_image_data(DATA_PATH; mode=\"normal\");"
   ]
  },
  {
   "cell_type": "code",
   "execution_count": 6,
   "metadata": {},
   "outputs": [
    {
     "name": "stdout",
     "output_type": "stream",
     "text": [
      "393.140817 seconds (1.26 M allocations: 46.275 GiB, 1.46% gc time)\n"
     ]
    }
   ],
   "source": [
    "# Augmentation pipeline\n",
    "p1 = FlipX()\n",
    "p2 = FlipY()\n",
    "p3 = FlipX() |> FlipY()\n",
    "X_train, y_train = @time augment_image(X_train, y_train, p1, p2, p3);"
   ]
  },
  {
   "cell_type": "code",
   "execution_count": null,
   "metadata": {},
   "outputs": [],
   "source": [
    "# Apply preprocessing on the images\n",
    "# Here is where the code explodes\n",
    "X_train, y_train = @time process_image(X_train, y_train);"
   ]
  },
  {
   "cell_type": "code",
   "execution_count": null,
   "metadata": {},
   "outputs": [],
   "source": [
    "# Seperate into 3 folds for training\n",
    "kf = kfold(X_train, y_train; fold=3, minibatch_size = 10, atype=a_type(Float32))\n",
    "results = []"
   ]
  },
  {
   "cell_type": "code",
   "execution_count": 21,
   "metadata": {},
   "outputs": [
    {
     "name": "stderr",
     "output_type": "stream",
     "text": [
      "┣████████████████████┫ [100.00%, 4800/4800, 03:37/03:37, 22.10i/s] \n"
     ]
    },
    {
     "name": "stdout",
     "output_type": "stream",
     "text": [
      "TRAINING PARAMETERS\n",
      "\n",
      "\n",
      "Activation Function = relu\n",
      "Optimizer Type = adam\n",
      "Learning Rate = 0.0001\n",
      "====================================================\n",
      "LAYERS:\n",
      "\n",
      "\n",
      "Model.Conv ==> W = (11, 11, 3, 48)   b = (1, 1, 48, 1)\n",
      "Model.Conv ==> W = (5, 5, 48, 256)   b = (1, 1, 256, 1)\n",
      "Model.Conv ==> W = (3, 3, 256, 192)   b = (1, 1, 192, 1)\n",
      "Model.Conv ==> W = (3, 3, 192, 192)   b = (1, 1, 192, 1)\n",
      "Model.Conv ==> W = (3, 3, 192, 256)   b = (1, 1, 256, 1)\n",
      "Model.Conv ==> W = (6, 6, 256, 300)   b = (1, 1, 300, 1)\n",
      "Model.Conv ==> W = (1, 1, 300, 250)   b = (1, 1, 250, 1)\n",
      "Model.Conv ==> W = (1, 1, 250, 69)   b = (1, 1, 69, 1)\n",
      "====================================================\n",
      "In this network configuration,\n",
      "there are total 4399749 parameters.\n",
      "====================================================\n",
      "Final Loss\n",
      "Train Loss = 0.00023503655\n",
      "Test Loss = 0.0010540287\n",
      "\n",
      "\n",
      "Final Misclassification Error\n",
      "Train Misclassification Error = 0.0\n",
      "Test Misclassification Error = 0.0\n",
      "\n",
      "\n",
      "Test Accuracy = 1.0\n",
      "====================================================\n"
     ]
    }
   ],
   "source": [
    "for (ix, (dtrn, dtst)) in enumerate(kf.folds[1:1])\n",
    "    \n",
    "\n",
    "    #Reset the model\n",
    "    vn = VisualNet(alexnet_PATH; atype=a_type(Float32))\n",
    "\n",
    "    for k in 1:1\n",
    "        # Training routine\n",
    "        res = train_epoch!(vn, dtrn, dtst; progress_bar=true, fig=false, info=true, epoch=100)\n",
    "        # Save model \n",
    "        # Add results to the ´results´vector\n",
    "        push!(results, res)\n",
    "\n",
    "    end\n",
    "    save_as_jld2(vn, \"vn-$ix.jld2\")\n",
    "\n",
    "end"
   ]
  },
  {
   "cell_type": "code",
   "execution_count": 11,
   "metadata": {},
   "outputs": [],
   "source": [
    "# Save accumulated results\n",
    "JLD2.@save \"results_vn.jld2\" results = results"
   ]
  },
  {
   "cell_type": "code",
   "execution_count": null,
   "metadata": {},
   "outputs": [],
   "source": []
  }
 ],
 "metadata": {
  "kernelspec": {
   "display_name": "Julia 1.5.2",
   "language": "julia",
   "name": "julia-1.5"
  },
  "language_info": {
   "file_extension": ".jl",
   "mimetype": "application/julia",
   "name": "julia",
   "version": "1.5.2"
  }
 },
 "nbformat": 4,
 "nbformat_minor": 4
}
