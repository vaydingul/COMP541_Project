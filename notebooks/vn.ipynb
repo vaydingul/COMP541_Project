{
 "cells": [
  {
   "cell_type": "code",
   "execution_count": 1,
   "metadata": {},
   "outputs": [
    {
     "name": "stderr",
     "output_type": "stream",
     "text": [
      "┌ Info: Precompiling Preprocess [top-level]\n",
      "└ @ Base loading.jl:1278\n"
     ]
    }
   ],
   "source": [
    "using Distributed\n",
    "# @everywhere used for the implementation of the modules across multiple workers\n",
    "# Without it, the code does not run\n",
    "\n",
    "# Add the modules to the ´read´ path of the Julia\n",
    "@everywhere push!(LOAD_PATH, \"/scratch/users/vaydingul20/workfolder/COMP541_Project/src/modules/\")\n",
    "\n",
    "\n",
    "# Custom modules\n",
    "@everywhere using Model: HapticNet, VisualNet, train_epoch!, save_as_jld2\n",
    "@everywhere using TUM69: load_accel_data, load_image_data\n",
    "@everywhere using Preprocess: process_accel_signal, process_image, augment_image\n",
    "@everywhere using Utils: kfold, notify!, a_type\n",
    "# Ready-to-use modules\n",
    "using JLD2, Random\n",
    "using CUDA\n",
    "using Augmentor: FlipX, FlipY"
   ]
  },
  {
   "cell_type": "code",
   "execution_count": 2,
   "metadata": {},
   "outputs": [
    {
     "data": {
      "text/plain": [
       "\"/scratch/users/vaydingul20/workfolder/COMP541_Project/alexnet.mat\""
      ]
     },
     "execution_count": 2,
     "metadata": {},
     "output_type": "execute_result"
    }
   ],
   "source": [
    "# Set path\n",
    "path = CUDA.functional() ? \"/userfiles/vaydingul20/data/new\" : \"data/new\" # path of the main data\n",
    "DATA_PATH = isdir(path) && path\n",
    "# Set pretrained network path\n",
    "alexnet_PATH = \"/scratch/users/vaydingul20/workfolder/COMP541_Project/alexnet.mat\""
   ]
  },
  {
   "cell_type": "code",
   "execution_count": 3,
   "metadata": {},
   "outputs": [
    {
     "name": "stdout",
     "output_type": "stream",
     "text": [
      "Train image data is being loaded!\n",
      "Test image data is being loaded!\n",
      "479.786710 seconds (5.03 M allocations: 92.677 GiB, 2.03% gc time)\n"
     ]
    }
   ],
   "source": [
    "# Load image data\n",
    "X_train, y_train, _, _, material_dict = @time load_image_data(DATA_PATH; mode=\"normal\");"
   ]
  },
  {
   "cell_type": "code",
   "execution_count": 5,
   "metadata": {},
   "outputs": [
    {
     "ename": "LoadError",
     "evalue": "MethodError: no method matching toaffinemap(::Augmentor.NoOp, ::SubArray{Float32,3,Array{Float32,4},Tuple{Base.Slice{Base.OneTo{Int64}},Base.Slice{Base.OneTo{Int64}},Base.Slice{Base.OneTo{Int64}},Int64},true})\nClosest candidates are:\n  toaffinemap(::Augmentor.Operation, ::Any, !Matched::Any) at /kuacc/users/vaydingul20/.julia/packages/Augmentor/FMjHq/src/operation.jl:48\n  toaffinemap(::Augmentor.NoOp, !Matched::AbstractArray{T,2} where T) at /kuacc/users/vaydingul20/.julia/packages/Augmentor/FMjHq/src/operations/noop.jl:17\n  toaffinemap(!Matched::Augmentor.Either, ::Any, !Matched::Any) at /kuacc/users/vaydingul20/.julia/packages/Augmentor/FMjHq/src/operations/either.jl:170",
     "output_type": "error",
     "traceback": [
      "MethodError: no method matching toaffinemap(::Augmentor.NoOp, ::SubArray{Float32,3,Array{Float32,4},Tuple{Base.Slice{Base.OneTo{Int64}},Base.Slice{Base.OneTo{Int64}},Base.Slice{Base.OneTo{Int64}},Int64},true})\nClosest candidates are:\n  toaffinemap(::Augmentor.Operation, ::Any, !Matched::Any) at /kuacc/users/vaydingul20/.julia/packages/Augmentor/FMjHq/src/operation.jl:48\n  toaffinemap(::Augmentor.NoOp, !Matched::AbstractArray{T,2} where T) at /kuacc/users/vaydingul20/.julia/packages/Augmentor/FMjHq/src/operations/noop.jl:17\n  toaffinemap(!Matched::Augmentor.Either, ::Any, !Matched::Any) at /kuacc/users/vaydingul20/.julia/packages/Augmentor/FMjHq/src/operations/either.jl:170",
      "",
      "Stacktrace:",
      " [1] prepareaffine(::SubArray{Float32,3,Array{Float32,4},Tuple{Base.Slice{Base.OneTo{Int64}},Base.Slice{Base.OneTo{Int64}},Base.Slice{Base.OneTo{Int64}},Int64},true}) at /kuacc/users/vaydingul20/.julia/packages/Augmentor/FMjHq/src/operation.jl:34",
      " [2] applylazy_fallback(::FlipX, ::SubArray{Float32,3,Array{Float32,4},Tuple{Base.Slice{Base.OneTo{Int64}},Base.Slice{Base.OneTo{Int64}},Base.Slice{Base.OneTo{Int64}},Int64},true}, ::Nothing) at /kuacc/users/vaydingul20/.julia/packages/Augmentor/FMjHq/src/operation.jl:108",
      " [3] _applylazy(::FlipX, ::SubArray{Float32,3,Array{Float32,4},Tuple{Base.Slice{Base.OneTo{Int64}},Base.Slice{Base.OneTo{Int64}},Base.Slice{Base.OneTo{Int64}},Int64},true}, ::Nothing) at /kuacc/users/vaydingul20/.julia/packages/Augmentor/FMjHq/src/operation.jl:100",
      " [4] applylazy(::FlipX, ::SubArray{Float32,3,Array{Float32,4},Tuple{Base.Slice{Base.OneTo{Int64}},Base.Slice{Base.OneTo{Int64}},Base.Slice{Base.OneTo{Int64}},Int64},true}, ::Nothing) at /kuacc/users/vaydingul20/.julia/packages/Augmentor/FMjHq/src/operation.jl:85",
      " [5] applylazy at /kuacc/users/vaydingul20/.julia/packages/Augmentor/FMjHq/src/operation.jl:60 [inlined]",
      " [6] macro expansion at /kuacc/users/vaydingul20/.julia/packages/Augmentor/FMjHq/src/codegen.jl:76 [inlined]",
      " [7] macro expansion at /kuacc/users/vaydingul20/.julia/packages/Augmentor/FMjHq/src/augment.jl:129 [inlined]",
      " [8] _augment_avoid_eager at /kuacc/users/vaydingul20/.julia/packages/Augmentor/FMjHq/src/augment.jl:129 [inlined]",
      " [9] _augment_avoid_eager at /kuacc/users/vaydingul20/.julia/packages/Augmentor/FMjHq/src/augment.jl:126 [inlined]",
      " [10] augment!(::SubArray{Float32,3,Array{Float32,4},Tuple{Base.Slice{Base.OneTo{Int64}},Base.Slice{Base.OneTo{Int64}},Base.Slice{Base.OneTo{Int64}},Int64},true}, ::SubArray{Float32,3,Array{Float32,4},Tuple{Base.Slice{Base.OneTo{Int64}},Base.Slice{Base.OneTo{Int64}},Base.Slice{Base.OneTo{Int64}},Int64},true}, ::Tuple{FlipX}) at /kuacc/users/vaydingul20/.julia/packages/Augmentor/FMjHq/src/augment.jl:112",
      " [11] augment!(::SubArray{Float32,3,Array{Float32,4},Tuple{Base.Slice{Base.OneTo{Int64}},Base.Slice{Base.OneTo{Int64}},Base.Slice{Base.OneTo{Int64}},Int64},true}, ::SubArray{Float32,3,Array{Float32,4},Tuple{Base.Slice{Base.OneTo{Int64}},Base.Slice{Base.OneTo{Int64}},Base.Slice{Base.OneTo{Int64}},Int64},true}, ::FlipX) at /kuacc/users/vaydingul20/.julia/packages/Augmentor/FMjHq/src/augment.jl:109",
      " [12] augmentbatch! at /kuacc/users/vaydingul20/.julia/packages/Augmentor/FMjHq/src/augmentbatch.jl:105 [inlined]",
      " [13] augmentbatch! at /kuacc/users/vaydingul20/.julia/packages/Augmentor/FMjHq/src/augmentbatch.jl:94 [inlined] (repeats 2 times)",
      " [14] augmentbatch!(::Array{Float32,4}, ::Array{Float32,4}, ::FlipX) at /kuacc/users/vaydingul20/.julia/packages/Augmentor/FMjHq/src/augmentbatch.jl:85",
      " [15] augment_image(::Array{Float32,4}, ::Array{Int8,1}, ::FlipX, ::Vararg{Any,N} where N) at /scratch/users/vaydingul20/workfolder/COMP541_Project/src/modules/preprocess/preprocess_ops.jl:111",
      " [16] top-level scope at ./timing.jl:174 [inlined]",
      " [17] top-level scope at ./In[5]:0",
      " [18] include_string(::Function, ::Module, ::String, ::String) at ./loading.jl:1091"
     ]
    }
   ],
   "source": [
    "# Augmentation pipeline\n",
    "p1 = FlipX()\n",
    "p2 = FlipY()\n",
    "p3 = FlipX() |> FlipY()\n",
    "X_train, y_train = @time augment_image(X_train, y_train, p1, p2, p3);"
   ]
  },
  {
   "cell_type": "code",
   "execution_count": 4,
   "metadata": {},
   "outputs": [
    {
     "name": "stdout",
     "output_type": "stream",
     "text": [
      "204.316427 seconds (12.28 M allocations: 11.306 GiB, 7.91% gc time)\n"
     ]
    }
   ],
   "source": [
    "# Apply preprocessing on the images\n",
    "# Here is where the code explodes\n",
    "X_train, y_train = @time process_image(X_train, y_train);"
   ]
  },
  {
   "cell_type": "code",
   "execution_count": null,
   "metadata": {},
   "outputs": [],
   "source": [
    "# Seperate into 3 folds for training\n",
    "kf = kfold(X_train, y_train; fold=3, minibatch_size = 10, atype=a_type(Float32))\n",
    "results = []"
   ]
  },
  {
   "cell_type": "code",
   "execution_count": null,
   "metadata": {},
   "outputs": [],
   "source": [
    "for (ix, (dtrn, dtst)) in enumerate(kf.folds[1:1])\n",
    "    \n",
    "\n",
    "    #Reset the model\n",
    "    vn = VisualNet(alexnet_PATH; atype=a_type(Float32))\n",
    "\n",
    "    for k in 1:1\n",
    "        # Training routine\n",
    "        res = train_epoch!(vn, dtrn, dtst; progress_bar=true, fig=false, info=true, epoch=100)\n",
    "        # Save model \n",
    "        # Add results to the ´results´vector\n",
    "        push!(results, res)\n",
    "\n",
    "    end\n",
    "    save_as_jld2(vn, \"vn-$ix.jld2\")\n",
    "\n",
    "end"
   ]
  },
  {
   "cell_type": "code",
   "execution_count": null,
   "metadata": {},
   "outputs": [],
   "source": [
    "# Save accumulated results\n",
    "JLD2.@save \"results_vn.jld2\" results = results"
   ]
  },
  {
   "cell_type": "code",
   "execution_count": null,
   "metadata": {},
   "outputs": [],
   "source": []
  }
 ],
 "metadata": {
  "kernelspec": {
   "display_name": "Julia 1.5.2",
   "language": "julia",
   "name": "julia-1.5"
  },
  "language_info": {
   "file_extension": ".jl",
   "mimetype": "application/julia",
   "name": "julia",
   "version": "1.5.2"
  }
 },
 "nbformat": 4,
 "nbformat_minor": 4
}
