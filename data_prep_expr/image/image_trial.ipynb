{
 "cells": [
  {
   "cell_type": "code",
   "execution_count": 4,
   "metadata": {},
   "outputs": [
    {
     "name": "stderr",
     "output_type": "stream",
     "text": [
      "WARNING: ignoring conflicting import of ImageView.imshow into Main\n"
     ]
    }
   ],
   "source": [
    "using DelimitedFiles: readdlm\n",
    "using Plots\n",
    "using PyPlot\n",
    "using Images\n",
    "using ImageView: imshow\n",
    "using ImageMagick\n",
    "using PyCall"
   ]
  },
  {
   "cell_type": "code",
   "execution_count": 2,
   "metadata": {},
   "outputs": [
    {
     "data": {
      "text/latex": [
       "\\begin{itemize}\n",
       "\\item \\texttt{load(filename)} loads the contents of a formatted file, trying to infer\n",
       "\n",
       "\\end{itemize}\n",
       "the format from \\texttt{filename} and/or magic bytes in the file.\n",
       "\n",
       "\\begin{itemize}\n",
       "\\item \\texttt{load(strm)} loads from an \\texttt{IOStream} or similar object. In this case,\n",
       "\n",
       "\\end{itemize}\n",
       "there is no filename extension, so we rely on the magic bytes for format identification.\n",
       "\n",
       "\\begin{itemize}\n",
       "\\item \\texttt{load(File(format\"PNG\", filename))} specifies the format directly, and bypasses inference.\n",
       "\n",
       "\n",
       "\\item \\texttt{load(Stream(format\"PNG\", io))} specifies the format directly, and bypasses inference.\n",
       "\n",
       "\n",
       "\\item \\texttt{load(f; options...)} passes keyword arguments on to the loader.\n",
       "\n",
       "\\end{itemize}\n"
      ],
      "text/markdown": [
       "  * `load(filename)` loads the contents of a formatted file, trying to infer\n",
       "\n",
       "the format from `filename` and/or magic bytes in the file.\n",
       "\n",
       "  * `load(strm)` loads from an `IOStream` or similar object. In this case,\n",
       "\n",
       "there is no filename extension, so we rely on the magic bytes for format identification.\n",
       "\n",
       "  * `load(File(format\"PNG\", filename))` specifies the format directly, and bypasses inference.\n",
       "  * `load(Stream(format\"PNG\", io))` specifies the format directly, and bypasses inference.\n",
       "  * `load(f; options...)` passes keyword arguments on to the loader.\n"
      ],
      "text/plain": [
       "    •    \u001b[36mload(filename)\u001b[39m loads the contents of a formatted file, trying to\n",
       "        infer\n",
       "\n",
       "  the format from \u001b[36mfilename\u001b[39m and/or magic bytes in the file.\n",
       "\n",
       "    •    \u001b[36mload(strm)\u001b[39m loads from an \u001b[36mIOStream\u001b[39m or similar object. In this case,\n",
       "\n",
       "  there is no filename extension, so we rely on the magic bytes for format\n",
       "  identification.\n",
       "\n",
       "    •    \u001b[36mload(File(format\"PNG\", filename))\u001b[39m specifies the format directly,\n",
       "        and bypasses inference.\n",
       "\n",
       "    •    \u001b[36mload(Stream(format\"PNG\", io))\u001b[39m specifies the format directly, and\n",
       "        bypasses inference.\n",
       "\n",
       "    •    \u001b[36mload(f; options...)\u001b[39m passes keyword arguments on to the loader."
      ]
     },
     "execution_count": 2,
     "metadata": {},
     "output_type": "execute_result"
    }
   ],
   "source": [
    "@doc Images.load"
   ]
  },
  {
   "cell_type": "code",
   "execution_count": 6,
   "metadata": {
    "scrolled": true
   },
   "outputs": [
    {
     "data": {
      "text/latex": [
       "\\begin{verbatim}\n",
       "imresize(img, sz) -> imgr\n",
       "imresize(img, inds) -> imgr\n",
       "imresize(img; ratio) -> imgr\n",
       "\\end{verbatim}\n",
       "Change \\texttt{img} to be of size \\texttt{sz} (or to have indices \\texttt{inds}). If \\texttt{ratio} is used, then \\texttt{sz = ceil(Int, size(img).*ratio)}. This interpolates the values at sub-pixel locations. If you are shrinking the image, you risk aliasing unless you low-pass filter \\texttt{img} first.\n",
       "\n",
       "\\section{Examples}\n",
       "\\begin{verbatim}\n",
       "julia> img = testimage(\"lena_gray_256\") # 256*256\n",
       "julia> imresize(img, 128, 128) # 128*128\n",
       "julia> imresize(img, 1:128, 1:128) # 128*128\n",
       "julia> imresize(img, (128, 128)) # 128*128\n",
       "julia> imresize(img, (1:128, 1:128)) # 128*128\n",
       "julia> imresize(img, (1:128, )) # 128*256\n",
       "julia> imresize(img, 128) # 128*256\n",
       "julia> imresize(img, ratio = 0.5) # \n",
       "julia> imresize(img, ratio = (2, 1)) # 256*128\n",
       "\n",
       "σ = map((o,n)->0.75*o/n, size(img), sz)\n",
       "kern = KernelFactors.gaussian(σ)   # from ImageFiltering\n",
       "imgr = imresize(imfilter(img, kern, NA()), sz)\n",
       "\\end{verbatim}\n",
       "See also \\href{@ref}{\\texttt{restrict}}.\n",
       "\n"
      ],
      "text/markdown": [
       "```\n",
       "imresize(img, sz) -> imgr\n",
       "imresize(img, inds) -> imgr\n",
       "imresize(img; ratio) -> imgr\n",
       "```\n",
       "\n",
       "Change `img` to be of size `sz` (or to have indices `inds`). If `ratio` is used, then `sz = ceil(Int, size(img).*ratio)`. This interpolates the values at sub-pixel locations. If you are shrinking the image, you risk aliasing unless you low-pass filter `img` first.\n",
       "\n",
       "# Examples\n",
       "\n",
       "```julia\n",
       "julia> img = testimage(\"lena_gray_256\") # 256*256\n",
       "julia> imresize(img, 128, 128) # 128*128\n",
       "julia> imresize(img, 1:128, 1:128) # 128*128\n",
       "julia> imresize(img, (128, 128)) # 128*128\n",
       "julia> imresize(img, (1:128, 1:128)) # 128*128\n",
       "julia> imresize(img, (1:128, )) # 128*256\n",
       "julia> imresize(img, 128) # 128*256\n",
       "julia> imresize(img, ratio = 0.5) # \n",
       "julia> imresize(img, ratio = (2, 1)) # 256*128\n",
       "\n",
       "σ = map((o,n)->0.75*o/n, size(img), sz)\n",
       "kern = KernelFactors.gaussian(σ)   # from ImageFiltering\n",
       "imgr = imresize(imfilter(img, kern, NA()), sz)\n",
       "```\n",
       "\n",
       "See also [`restrict`](@ref).\n"
      ],
      "text/plain": [
       "\u001b[36m  imresize(img, sz) -> imgr\u001b[39m\n",
       "\u001b[36m  imresize(img, inds) -> imgr\u001b[39m\n",
       "\u001b[36m  imresize(img; ratio) -> imgr\u001b[39m\n",
       "\n",
       "  Change \u001b[36mimg\u001b[39m to be of size \u001b[36msz\u001b[39m (or to have indices \u001b[36minds\u001b[39m). If \u001b[36mratio\u001b[39m is used,\n",
       "  then \u001b[36msz = ceil(Int, size(img).*ratio)\u001b[39m. This interpolates the values at\n",
       "  sub-pixel locations. If you are shrinking the image, you risk aliasing\n",
       "  unless you low-pass filter \u001b[36mimg\u001b[39m first.\n",
       "\n",
       "\u001b[1m  Examples\u001b[22m\n",
       "\u001b[1m  ≡≡≡≡≡≡≡≡≡≡\u001b[22m\n",
       "\n",
       "\u001b[36m  julia> img = testimage(\"lena_gray_256\") # 256*256\u001b[39m\n",
       "\u001b[36m  julia> imresize(img, 128, 128) # 128*128\u001b[39m\n",
       "\u001b[36m  julia> imresize(img, 1:128, 1:128) # 128*128\u001b[39m\n",
       "\u001b[36m  julia> imresize(img, (128, 128)) # 128*128\u001b[39m\n",
       "\u001b[36m  julia> imresize(img, (1:128, 1:128)) # 128*128\u001b[39m\n",
       "\u001b[36m  julia> imresize(img, (1:128, )) # 128*256\u001b[39m\n",
       "\u001b[36m  julia> imresize(img, 128) # 128*256\u001b[39m\n",
       "\u001b[36m  julia> imresize(img, ratio = 0.5) # \u001b[39m\n",
       "\u001b[36m  julia> imresize(img, ratio = (2, 1)) # 256*128\u001b[39m\n",
       "\u001b[36m  \u001b[39m\n",
       "\u001b[36m  σ = map((o,n)->0.75*o/n, size(img), sz)\u001b[39m\n",
       "\u001b[36m  kern = KernelFactors.gaussian(σ)   # from ImageFiltering\u001b[39m\n",
       "\u001b[36m  imgr = imresize(imfilter(img, kern, NA()), sz)\u001b[39m\n",
       "\n",
       "  See also \u001b[36mrestrict\u001b[39m."
      ]
     },
     "execution_count": 6,
     "metadata": {},
     "output_type": "execute_result"
    }
   ],
   "source": [
    "@doc Images.imresize"
   ]
  },
  {
   "cell_type": "code",
   "execution_count": 14,
   "metadata": {},
   "outputs": [
    {
     "data": {
      "text/latex": [
       "\\begin{verbatim}\n",
       "imshow()\n",
       "\\end{verbatim}\n",
       "Choose an image to display via a file dialog.\n",
       "\n",
       "\\begin{verbatim}\n",
       "imshow(img; axes=(1,2), name=\"ImageView\") -> guidict\n",
       "imshow(img, clim; axes=(1,2), name=\"ImageView\") -> guidict\n",
       "imshow(img, clim, zoomregion, slicedata, annotations; axes=(1,2), name=\"ImageView\") -> guidict\n",
       "\\end{verbatim}\n",
       "Display the image \\texttt{img} in a new window titled with \\texttt{name}, returning a dictionary \\texttt{guidict} containing any Reactive signals or GtkReactive widgets. If the image is 3 or 4 dimensional, GUI controls will be added for slicing along \"extra\" axes. By default the two-dimensional slice containing axes 1 and 2 are shown, but that can be changed by passing a different setting for \\texttt{axes}.\n",
       "\n",
       "If the image is grayscale, by default contrast is set by a \\texttt{scaleminmax} object whose end-points can be modified by right-clicking on the image. If \\texttt{clim == nothing}, the image's own native contrast is used (\\texttt{clamp01nan}).  You may also pass a custom contrast function.\n",
       "\n",
       "Finally, you may specify \\href{@ref}{\\texttt{GtkReactive.ZoomRegion}} and \\href{@ref}{\\texttt{SliceData}} signals. See also \\href{@ref}{\\texttt{roi}}, as well as any \\texttt{annotations} that you wish to apply.\n",
       "\n",
       "\\begin{verbatim}\n",
       "imshow(canvas, imgsig::Signal) -> guidict\n",
       "imshow(canvas, imgsig::Signal, zr::Signal{ZoomRegion}) -> guidict\n",
       "imshow(frame::Frame, canvas, imgsig::Signal, zr::Signal{ZoomRegion}) -> guidict\n",
       "\\end{verbatim}\n",
       "Display \\texttt{imgsig} (a \\texttt{Signal} of an image) in \\texttt{canvas}, setting up panning and zooming. Optionally include a \\texttt{frame} for preserving aspect ratio. \\texttt{imgsig} must be two-dimensional (but can be a Signal-view of a higher-dimensional object).\n",
       "\n",
       "\\section{Example}\n",
       "\\begin{verbatim}\n",
       "using ImageView, TestImages, Gtk\n",
       "mri = testimage(\"mri\");\n",
       "# Create a canvas `c`. There are other approaches, like stealing one from a previous call\n",
       "# to `imshow`, or using GtkReactive directly.\n",
       "guidict = imshow_gui((300, 300))\n",
       "c = guidict[\"canvas\"];\n",
       "# To see anything you have to call `showall` on the window (once)\n",
       "Gtk.showall(guidict[\"window\"])\n",
       "# Create the image Signal\n",
       "imgsig = Signal(mri[:,:,1]);\n",
       "# Show it\n",
       "imshow(c, imgsig)\n",
       "# Now anytime you want to update, just push! a new image\n",
       "push!(imgsig, mri[:,:,8])\n",
       "\\end{verbatim}\n"
      ],
      "text/markdown": [
       "```\n",
       "imshow()\n",
       "```\n",
       "\n",
       "Choose an image to display via a file dialog.\n",
       "\n",
       "```\n",
       "imshow(img; axes=(1,2), name=\"ImageView\") -> guidict\n",
       "imshow(img, clim; axes=(1,2), name=\"ImageView\") -> guidict\n",
       "imshow(img, clim, zoomregion, slicedata, annotations; axes=(1,2), name=\"ImageView\") -> guidict\n",
       "```\n",
       "\n",
       "Display the image `img` in a new window titled with `name`, returning a dictionary `guidict` containing any Reactive signals or GtkReactive widgets. If the image is 3 or 4 dimensional, GUI controls will be added for slicing along \"extra\" axes. By default the two-dimensional slice containing axes 1 and 2 are shown, but that can be changed by passing a different setting for `axes`.\n",
       "\n",
       "If the image is grayscale, by default contrast is set by a `scaleminmax` object whose end-points can be modified by right-clicking on the image. If `clim == nothing`, the image's own native contrast is used (`clamp01nan`).  You may also pass a custom contrast function.\n",
       "\n",
       "Finally, you may specify [`GtkReactive.ZoomRegion`](@ref) and [`SliceData`](@ref) signals. See also [`roi`](@ref), as well as any `annotations` that you wish to apply.\n",
       "\n",
       "```\n",
       "imshow(canvas, imgsig::Signal) -> guidict\n",
       "imshow(canvas, imgsig::Signal, zr::Signal{ZoomRegion}) -> guidict\n",
       "imshow(frame::Frame, canvas, imgsig::Signal, zr::Signal{ZoomRegion}) -> guidict\n",
       "```\n",
       "\n",
       "Display `imgsig` (a `Signal` of an image) in `canvas`, setting up panning and zooming. Optionally include a `frame` for preserving aspect ratio. `imgsig` must be two-dimensional (but can be a Signal-view of a higher-dimensional object).\n",
       "\n",
       "# Example\n",
       "\n",
       "```julia\n",
       "using ImageView, TestImages, Gtk\n",
       "mri = testimage(\"mri\");\n",
       "# Create a canvas `c`. There are other approaches, like stealing one from a previous call\n",
       "# to `imshow`, or using GtkReactive directly.\n",
       "guidict = imshow_gui((300, 300))\n",
       "c = guidict[\"canvas\"];\n",
       "# To see anything you have to call `showall` on the window (once)\n",
       "Gtk.showall(guidict[\"window\"])\n",
       "# Create the image Signal\n",
       "imgsig = Signal(mri[:,:,1]);\n",
       "# Show it\n",
       "imshow(c, imgsig)\n",
       "# Now anytime you want to update, just push! a new image\n",
       "push!(imgsig, mri[:,:,8])\n",
       "```\n"
      ],
      "text/plain": [
       "\u001b[36m  imshow()\u001b[39m\n",
       "\n",
       "  Choose an image to display via a file dialog.\n",
       "\n",
       "\u001b[36m  imshow(img; axes=(1,2), name=\"ImageView\") -> guidict\u001b[39m\n",
       "\u001b[36m  imshow(img, clim; axes=(1,2), name=\"ImageView\") -> guidict\u001b[39m\n",
       "\u001b[36m  imshow(img, clim, zoomregion, slicedata, annotations; axes=(1,2), name=\"ImageView\") -> guidict\u001b[39m\n",
       "\n",
       "  Display the image \u001b[36mimg\u001b[39m in a new window titled with \u001b[36mname\u001b[39m, returning a\n",
       "  dictionary \u001b[36mguidict\u001b[39m containing any Reactive signals or GtkReactive widgets.\n",
       "  If the image is 3 or 4 dimensional, GUI controls will be added for slicing\n",
       "  along \"extra\" axes. By default the two-dimensional slice containing axes 1\n",
       "  and 2 are shown, but that can be changed by passing a different setting for\n",
       "  \u001b[36maxes\u001b[39m.\n",
       "\n",
       "  If the image is grayscale, by default contrast is set by a \u001b[36mscaleminmax\u001b[39m\n",
       "  object whose end-points can be modified by right-clicking on the image. If\n",
       "  \u001b[36mclim == nothing\u001b[39m, the image's own native contrast is used (\u001b[36mclamp01nan\u001b[39m). You\n",
       "  may also pass a custom contrast function.\n",
       "\n",
       "  Finally, you may specify \u001b[36mGtkReactive.ZoomRegion\u001b[39m and \u001b[36mSliceData\u001b[39m signals. See\n",
       "  also \u001b[36mroi\u001b[39m, as well as any \u001b[36mannotations\u001b[39m that you wish to apply.\n",
       "\n",
       "\u001b[36m  imshow(canvas, imgsig::Signal) -> guidict\u001b[39m\n",
       "\u001b[36m  imshow(canvas, imgsig::Signal, zr::Signal{ZoomRegion}) -> guidict\u001b[39m\n",
       "\u001b[36m  imshow(frame::Frame, canvas, imgsig::Signal, zr::Signal{ZoomRegion}) -> guidict\u001b[39m\n",
       "\n",
       "  Display \u001b[36mimgsig\u001b[39m (a \u001b[36mSignal\u001b[39m of an image) in \u001b[36mcanvas\u001b[39m, setting up panning and\n",
       "  zooming. Optionally include a \u001b[36mframe\u001b[39m for preserving aspect ratio. \u001b[36mimgsig\u001b[39m must\n",
       "  be two-dimensional (but can be a Signal-view of a higher-dimensional\n",
       "  object).\n",
       "\n",
       "\u001b[1m  Example\u001b[22m\n",
       "\u001b[1m  ≡≡≡≡≡≡≡≡≡\u001b[22m\n",
       "\n",
       "\u001b[36m  using ImageView, TestImages, Gtk\u001b[39m\n",
       "\u001b[36m  mri = testimage(\"mri\");\u001b[39m\n",
       "\u001b[36m  # Create a canvas `c`. There are other approaches, like stealing one from a previous call\u001b[39m\n",
       "\u001b[36m  # to `imshow`, or using GtkReactive directly.\u001b[39m\n",
       "\u001b[36m  guidict = imshow_gui((300, 300))\u001b[39m\n",
       "\u001b[36m  c = guidict[\"canvas\"];\u001b[39m\n",
       "\u001b[36m  # To see anything you have to call `showall` on the window (once)\u001b[39m\n",
       "\u001b[36m  Gtk.showall(guidict[\"window\"])\u001b[39m\n",
       "\u001b[36m  # Create the image Signal\u001b[39m\n",
       "\u001b[36m  imgsig = Signal(mri[:,:,1]);\u001b[39m\n",
       "\u001b[36m  # Show it\u001b[39m\n",
       "\u001b[36m  imshow(c, imgsig)\u001b[39m\n",
       "\u001b[36m  # Now anytime you want to update, just push! a new image\u001b[39m\n",
       "\u001b[36m  push!(imgsig, mri[:,:,8])\u001b[39m"
      ]
     },
     "execution_count": 14,
     "metadata": {},
     "output_type": "execute_result"
    }
   ],
   "source": [
    "@doc ImageView.imshow"
   ]
  },
  {
   "cell_type": "code",
   "execution_count": 20,
   "metadata": {},
   "outputs": [
    {
     "name": "stdout",
     "output_type": "stream",
     "text": [
      "size(img) = (3264, 2448)\n"
     ]
    },
    {
     "data": {
      "text/plain": [
       "(3264, 2448)"
      ]
     },
     "execution_count": 20,
     "metadata": {},
     "output_type": "execute_result"
    }
   ],
   "source": [
    "img = load(\"IMG_5529.jpg\")\n",
    "@show size(img)"
   ]
  },
  {
   "cell_type": "code",
   "execution_count": 22,
   "metadata": {
    "scrolled": false
   },
   "outputs": [
    {
     "name": "stdout",
     "output_type": "stream",
     "text": [
      "size(img_resized) = (1632, 1224)\n"
     ]
    },
    {
     "data": {
      "text/plain": [
       "(1632, 1224)"
      ]
     },
     "execution_count": 22,
     "metadata": {},
     "output_type": "execute_result"
    }
   ],
   "source": [
    "img_resized = Images.imresize(img, ratio = 0.5)\n",
    "@show size(img_resized)"
   ]
  },
  {
   "cell_type": "code",
   "execution_count": null,
   "metadata": {},
   "outputs": [],
   "source": []
  },
  {
   "cell_type": "code",
   "execution_count": null,
   "metadata": {},
   "outputs": [],
   "source": []
  }
 ],
 "metadata": {
  "kernelspec": {
   "display_name": "Julia 1.5.2",
   "language": "julia",
   "name": "julia-1.5"
  },
  "language_info": {
   "file_extension": ".jl",
   "mimetype": "application/julia",
   "name": "julia",
   "version": "1.5.2"
  }
 },
 "nbformat": 4,
 "nbformat_minor": 4
}
