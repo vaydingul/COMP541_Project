{
 "cells": [
  {
   "cell_type": "code",
   "execution_count": null,
   "metadata": {},
   "outputs": [],
   "source": [
    "using DelimitedFiles: readdlm\n",
    "using Plots\n",
    "using PyPlot\n",
    "using Images\n",
    "using ImageView: imshow\n",
    "using ImageMagick\n",
    "using PyCall"
   ]
  },
  {
   "cell_type": "code",
   "execution_count": null,
   "metadata": {},
   "outputs": [],
   "source": [
    "@doc Images.load"
   ]
  },
  {
   "cell_type": "code",
   "execution_count": null,
   "metadata": {},
   "outputs": [],
   "source": [
    "img = load(\"IMG_5529.jpg\"); @show size(img)"
   ]
  },
  {
   "cell_type": "code",
   "execution_count": 19,
   "metadata": {},
   "outputs": [
    {
     "data": {
      "text/plain": [
       "3×3264×2448 reinterpret(N0f8, ::Array{RGB{N0f8},3}):\n",
       "[:, :, 1] =\n",
       " 0.733  0.737  0.765  0.737  0.714  …  0.627  0.592  0.561  0.545  0.549\n",
       " 0.655  0.659  0.678  0.651  0.627     0.549  0.541  0.525  0.522  0.529\n",
       " 0.408  0.412  0.443  0.416  0.4       0.353  0.333  0.31   0.294  0.302\n",
       "\n",
       "[:, :, 2] =\n",
       " 0.733  0.725  0.741  0.718  0.702  …  0.631  0.592  0.557  0.545  0.553\n",
       " 0.655  0.647  0.655  0.631  0.616     0.553  0.541  0.522  0.518  0.533\n",
       " 0.408  0.4    0.42   0.396  0.388     0.357  0.337  0.306  0.302  0.306\n",
       "\n",
       "[:, :, 3] =\n",
       " 0.753  0.729  0.714  0.682  0.682  …  0.639  0.604  0.557  0.537  0.541\n",
       " 0.675  0.651  0.627  0.596  0.596     0.557  0.541  0.51   0.51   0.522\n",
       " 0.427  0.404  0.392  0.361  0.369     0.373  0.349  0.306  0.298  0.302\n",
       "\n",
       "...\n",
       "\n",
       "[:, :, 2446] =\n",
       " 0.867  0.867  0.859  0.863  0.863  …  0.8    0.8    0.8    0.812  0.816\n",
       " 0.831  0.831  0.827  0.831  0.831     0.714  0.698  0.698  0.698  0.702\n",
       " 0.537  0.537  0.533  0.537  0.545     0.553  0.553  0.561  0.58   0.584\n",
       "\n",
       "[:, :, 2447] =\n",
       " 0.863  0.859  0.847  0.847  0.851  …  0.804  0.8    0.796  0.808  0.82\n",
       " 0.824  0.82   0.816  0.816  0.824     0.718  0.698  0.694  0.694  0.698\n",
       " 0.541  0.537  0.529  0.529  0.541     0.557  0.553  0.557  0.576  0.584\n",
       "\n",
       "[:, :, 2448] =\n",
       " 0.863  0.851  0.835  0.835  0.839  …  0.804  0.796  0.788  0.812  0.824\n",
       " 0.824  0.812  0.804  0.804  0.812     0.718  0.694  0.686  0.69   0.702\n",
       " 0.541  0.529  0.518  0.518  0.529     0.557  0.549  0.549  0.576  0.588"
      ]
     },
     "execution_count": 19,
     "metadata": {},
     "output_type": "execute_result"
    }
   ],
   "source": [
    "img_channelds = channelview(img)"
   ]
  },
  {
   "cell_type": "code",
   "execution_count": 1,
   "metadata": {
    "scrolled": true
   },
   "outputs": [
    {
     "ename": "LoadError",
     "evalue": "UndefVarError: img_channelds not defined",
     "output_type": "error",
     "traceback": [
      "UndefVarError: img_channelds not defined",
      "",
      "Stacktrace:",
      " [1] top-level scope at In[1]:1",
      " [2] include_string(::Function, ::Module, ::String, ::String) at .\\loading.jl:1091",
      " [3] execute_code(::String, ::String) at C:\\Users\\volkan\\.julia\\packages\\IJulia\\rWZ9e\\src\\execute_request.jl:27",
      " [4] execute_request(::ZMQ.Socket, ::IJulia.Msg) at C:\\Users\\volkan\\.julia\\packages\\IJulia\\rWZ9e\\src\\execute_request.jl:86",
      " [5] #invokelatest#1 at .\\essentials.jl:710 [inlined]",
      " [6] invokelatest at .\\essentials.jl:709 [inlined]",
      " [7] eventloop(::ZMQ.Socket) at C:\\Users\\volkan\\.julia\\packages\\IJulia\\rWZ9e\\src\\eventloop.jl:8",
      " [8] (::IJulia.var\"#15#18\")() at .\\task.jl:356"
     ]
    }
   ],
   "source": [
    "imshow(img_channelds[1,:,:])"
   ]
  },
  {
   "cell_type": "code",
   "execution_count": null,
   "metadata": {},
   "outputs": [],
   "source": []
  },
  {
   "cell_type": "code",
   "execution_count": null,
   "metadata": {},
   "outputs": [],
   "source": []
  }
 ],
 "metadata": {
  "kernelspec": {
   "display_name": "Julia 1.5.2",
   "language": "julia",
   "name": "julia-1.5"
  },
  "language_info": {
   "file_extension": ".jl",
   "mimetype": "application/julia",
   "name": "julia",
   "version": "1.5.2"
  }
 },
 "nbformat": 4,
 "nbformat_minor": 4
}
