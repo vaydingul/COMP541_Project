{
 "cells": [
  {
   "cell_type": "code",
   "execution_count": null,
   "metadata": {},
   "outputs": [],
   "source": [
    "include(\"../src/modules/TUM69.jl\")\n",
    "include(\"../src/modules/Preprocess.jl\")\n",
    "include(\"../src/modules/Network.jl\")\n",
    "\n",
    "\n",
    "using .TUM69: loaddata\n",
    "using .Preprocess: process_accel_signal, process_image\n",
    "using .Network: Conv, Dense, Chain\n",
    "\n",
    "data_path = \"./../data/trial\""
   ]
  },
  {
   "cell_type": "code",
   "execution_count": null,
   "metadata": {},
   "outputs": [],
   "source": [
    "X_accel_train, y_accel_train,\n",
    "X_accel_test, y_accel_test, \n",
    "X_image_train, y_image_train, \n",
    "X_image_test,y_image_test,\n",
    "material_dict = loaddata(data_path);"
   ]
  },
  {
   "cell_type": "code",
   "execution_count": null,
   "metadata": {},
   "outputs": [],
   "source": [
    "print(summary.([X_accel_train, y_accel_train,\n",
    "X_accel_test, y_accel_test, \n",
    "X_image_train, y_image_train, \n",
    "X_image_test,y_image_test,\n",
    "material_dict]))"
   ]
  },
  {
   "cell_type": "code",
   "execution_count": null,
   "metadata": {},
   "outputs": [],
   "source": [
    "X_image_train = process_image.(X_image_train);\n",
    "X_image_test = process_image.(X_image_test);"
   ]
  },
  {
   "cell_type": "code",
   "execution_count": null,
   "metadata": {},
   "outputs": [],
   "source": [
    "X_accel_train = process_accel_signal.(X_accel_train);\n",
    "X_accel_test = process_accel_signal.(X_accel_test);"
   ]
  },
  {
   "cell_type": "code",
   "execution_count": 6,
   "metadata": {
    "scrolled": true
   },
   "outputs": [
    {
     "data": {
      "text/plain": [
       "4-element Array{String,1}:\n",
       " \"3-element Array{Array{Float32,4},1}\"\n",
       " \"3-element Array{Array{Float32,4},1}\"\n",
       " \"3-element Array{Array{Float32,4},1}\"\n",
       " \"3-element Array{Array{Float32,4},1}\""
      ]
     },
     "execution_count": 6,
     "metadata": {},
     "output_type": "execute_result"
    }
   ],
   "source": [
    "summary.([X_image_train, X_image_test, X_accel_train, X_accel_test])"
   ]
  },
  {
   "cell_type": "code",
   "execution_count": 7,
   "metadata": {},
   "outputs": [
    {
     "data": {
      "text/plain": [
       "50×1000×1×3 Array{Float32,4}:\n",
       "[:, :, 1, 1] =\n",
       " 0.0356948   0.00692317   0.00887707   …  0.000283171  0.000279846\n",
       " 0.0539781   0.127044     0.165998        0.000111877  0.000150084\n",
       " 0.00137857  0.124593     0.283194        0.00108145   0.00175219\n",
       " 0.0911402   0.268394     0.17906         0.000291093  0.00332525\n",
       " 0.164543    0.476259     0.333772        0.0050966    0.011493\n",
       " 0.229269    0.595246     0.382577     …  0.0133045    0.0227468\n",
       " 0.361411    0.431866     0.113471        0.0312856    0.0220928\n",
       " 0.343777    0.236194     0.0318476       0.0703094    0.0277909\n",
       " 0.245294    0.107691     0.00759238      0.0734381    0.0720713\n",
       " 0.18114     0.0683794    0.0037518       0.00577673   0.0216414\n",
       " 0.145763    0.0518789    0.00164785   …  0.0103301    0.00534355\n",
       " 0.107842    0.0380791    0.00325904      0.0120455    0.00114417\n",
       " 0.0835922   0.0212936    0.000127918     0.0179891    0.0221741\n",
       " ⋮                                     ⋱               \n",
       " 0.00471811  0.00106497   8.4447f-5       0.000193516  0.0013686\n",
       " 0.00476147  0.00123415   8.41252f-5      0.000378888  0.00104117\n",
       " 0.00415058  0.00091375   5.15864f-5   …  0.00021407   0.000177317\n",
       " 0.00414855  0.000988368  2.57357f-5      0.000834656  0.000648741\n",
       " 0.00392188  0.00110211   0.000149811     0.000636113  0.000310728\n",
       " 0.00352081  0.000719439  5.21417f-5      0.000204154  9.71762f-5\n",
       " 0.00366341  0.000980329  8.82819f-5      0.000651636  0.000398737\n",
       " 0.00318422  0.000726384  4.23155f-5   …  0.000934568  0.000559611\n",
       " 0.00319155  0.000740169  1.14752f-5      0.000235806  0.000228185\n",
       " 0.00307578  0.000900967  0.000137732     0.000243464  0.000140376\n",
       " 0.00271999  0.000507077  2.79028f-5      0.000200069  0.000180534\n",
       " 0.00287313  0.000804654  8.23258f-5      1.69296f-5   3.4781f-5\n",
       "\n",
       "[:, :, 1, 2] =\n",
       " 0.0600022   0.0118747    0.0145252    …  0.0023492    0.00156738\n",
       " 0.090237    0.212577     0.277791        0.00665617   2.79877f-5\n",
       " 0.0023169   0.207948     0.473086        0.0320982    0.0399725\n",
       " 0.152641    0.447752     0.295435        0.0216825    0.0321191\n",
       " 0.275931    0.7974       0.55962         0.0197372    0.00917029\n",
       " 0.385092    1.0          0.643076     …  0.00743944   0.0193011\n",
       " 0.606786    0.725751     0.191051        0.00123551   0.00640581\n",
       " 0.576962    0.396158     0.0533304       0.00320518   0.00841906\n",
       " 0.411853    0.181134     0.0129142       0.00394231   0.00255978\n",
       " 0.30421     0.11489      0.00626156      0.00193575   0.00136298\n",
       " 0.244514    0.087177     0.00285373   …  0.000261675  0.00118985\n",
       " 0.180524    0.0635915    0.00538978      0.000413691  0.000263149\n",
       " 0.1401      0.0356605    0.000210926     0.000191847  0.000112226\n",
       " ⋮                                     ⋱               \n",
       " 0.00786115  0.00175761   0.000142543     0.000215058  2.95921f-5\n",
       " 0.00797869  0.0020771    0.000149027     0.00014297   0.000154399\n",
       " 0.00698503  0.00152728   8.42036f-5   …  3.835f-6     9.67299f-5\n",
       " 0.00700764  0.00169716   4.61707f-5      1.70765f-5   4.5491f-5\n",
       " 0.00658975  0.00182911   0.000229978     9.21691f-6   1.10909f-5\n",
       " 0.00592202  0.00121243   7.95973f-5      7.68678f-6   2.47982f-5\n",
       " 0.00617988  0.00166427   0.000148049     7.35619f-6   3.49486f-5\n",
       " 0.00536422  0.00120812   6.30644f-5   …  1.87688f-7   7.31962f-5\n",
       " 0.00538092  0.0012758    2.46254f-5      0.000123654  0.000113045\n",
       " 0.00515698  0.00147433   0.00019918      4.32007f-5   3.66543f-5\n",
       " 0.00458709  0.000874654  4.02557f-5      5.15852f-5   3.09027f-5\n",
       " 0.00483094  0.00133773   0.000133807     0.000165154  0.000119042\n",
       "\n",
       "[:, :, 1, 3] =\n",
       " 0.0130315    0.00260249   0.00313138   …  2.60452f-7   1.09736f-5\n",
       " 0.0195674    0.0459156    0.059799        5.57774f-5   2.28063f-5\n",
       " 0.000494168  0.0447472    0.101178        0.000147893  2.11025f-5\n",
       " 0.0330883    0.0968833    0.0638131       0.000224835  4.80397f-5\n",
       " 0.0599728    0.17392      0.122858        8.87989f-5   5.73278f-6\n",
       " 0.0837831    0.218076     0.140833     …  0.00016364   9.82397f-5\n",
       " 0.13184      0.157631     0.0413947       0.00022581   4.89394f-6\n",
       " 0.125163     0.0857771    0.0115446       0.000237222  0.000115757\n",
       " 0.0893749    0.0392325    0.00276076      1.83621f-5   5.59476f-5\n",
       " 0.0661197    0.0250366    0.00137509      4.55584f-5   6.3979f-6\n",
       " 0.0530846    0.0188713    0.000626971  …  2.38447f-6   2.22846f-6\n",
       " 0.0393069    0.0138702    0.00114741      8.10661f-6   5.13656f-6\n",
       " 0.0304689    0.00776041   3.17716f-5      2.69857f-5   1.82737f-5\n",
       " ⋮                                      ⋱               \n",
       " 0.00171189   0.000383826  3.12191f-5      5.27231f-7   7.98752f-7\n",
       " 0.00173308   0.00045141   3.27378f-5      2.4016f-6    2.48868f-7\n",
       " 0.00151426   0.000332125  1.84171f-5   …  1.37825f-6   6.39828f-8\n",
       " 0.00151514   0.000363515  8.84434f-6      2.70016f-6   7.02546f-7\n",
       " 0.00142845   0.000398767  5.06202f-5      4.61949f-6   3.6213f-7\n",
       " 0.00128169   0.000262514  1.69215f-5      1.96715f-6   1.41417f-8\n",
       " 0.00132785   0.000354189  3.13059f-5      1.43545f-6   5.52234f-7\n",
       " 0.00115213   0.000262301  1.55528f-5   …  2.45245f-7   4.40411f-7\n",
       " 0.00115374   0.000267442  5.02445f-6      7.55329f-7   1.92578f-7\n",
       " 0.00111312   0.000323721  4.8171f-5       4.46989f-7   5.06714f-8\n",
       " 0.000989948  0.000187372  1.07754f-5      1.22282f-6   2.0754f-7\n",
       " 0.00104328   0.000288939  2.97328f-5      2.63411f-7   4.12285f-7"
      ]
     },
     "execution_count": 7,
     "metadata": {},
     "output_type": "execute_result"
    }
   ],
   "source": [
    "X_image_train = cat(X_image_train..., dims = 4);\n",
    "X_image_test = cat(X_image_test..., dims = 4);\n",
    "X_accel_train = cat(X_accel_train..., dims = 4);\n",
    "X_accel_test = cat(X_accel_test..., dims = 4)"
   ]
  },
  {
   "cell_type": "code",
   "execution_count": 8,
   "metadata": {},
   "outputs": [
    {
     "data": {
      "text/plain": [
       "4-element Array{String,1}:\n",
       " \"327×245×3×3 Array{Float32,4}\"\n",
       " \"327×245×3×3 Array{Float32,4}\"\n",
       " \"50×1000×1×3 Array{Float32,4}\"\n",
       " \"50×1000×1×3 Array{Float32,4}\""
      ]
     },
     "execution_count": 8,
     "metadata": {},
     "output_type": "execute_result"
    }
   ],
   "source": [
    "summary.([X_image_train, X_image_test, X_accel_train, X_accel_test])"
   ]
  },
  {
   "cell_type": "code",
   "execution_count": 33,
   "metadata": {},
   "outputs": [
    {
     "data": {
      "text/plain": [
       "2-element Array{String,1}:\n",
       " \"5×5×1×20 AutoGrad.Param{Array{Float32,4}}\"\n",
       " \"10×229080 AutoGrad.Param{Array{Float32,2}}\""
      ]
     },
     "execution_count": 33,
     "metadata": {},
     "output_type": "execute_result"
    }
   ],
   "source": [
    "# CALCULATE REQUIRED NETWORK PARAMETERS\n",
    "lenet =   Chain(Conv(5,5,1,20), \n",
    "                Dense(229080,10,identity,pdrop=0.3))\n",
    "summary.(l.w for l in lenet.layers)"
   ]
  },
  {
   "cell_type": "code",
   "execution_count": 34,
   "metadata": {},
   "outputs": [],
   "source": [
    "using Knet: minibatch"
   ]
  },
  {
   "cell_type": "code",
   "execution_count": 35,
   "metadata": {},
   "outputs": [
    {
     "data": {
      "text/plain": [
       "(50, 1000, 1, 3)"
      ]
     },
     "execution_count": 35,
     "metadata": {},
     "output_type": "execute_result"
    }
   ],
   "source": [
    "size(X_accel_train)"
   ]
  },
  {
   "cell_type": "code",
   "execution_count": 36,
   "metadata": {},
   "outputs": [
    {
     "data": {
      "text/plain": [
       "3-element Knet.Train20.Data{Tuple{Array{Float32,N} where N,Array{Int8,N} where N}}"
      ]
     },
     "execution_count": 36,
     "metadata": {},
     "output_type": "execute_result"
    }
   ],
   "source": [
    "dtrn = minibatch(X_accel_train, y_accel_train, 1)\n",
    "dtst = minibatch(X_accel_test, y_accel_test, 1)\n"
   ]
  },
  {
   "cell_type": "code",
   "execution_count": 37,
   "metadata": {},
   "outputs": [
    {
     "data": {
      "text/plain": [
       "50×1000×1×1 Array{Float32,4}:\n",
       "[:, :, 1, 1] =\n",
       " 0.0130315    0.00260249   0.00313138   …  2.60452f-7   1.09736f-5\n",
       " 0.0195674    0.0459156    0.059799        5.57774f-5   2.28063f-5\n",
       " 0.000494168  0.0447472    0.101178        0.000147893  2.11025f-5\n",
       " 0.0330883    0.0968833    0.0638131       0.000224835  4.80397f-5\n",
       " 0.0599728    0.17392      0.122858        8.87989f-5   5.73278f-6\n",
       " 0.0837831    0.218076     0.140833     …  0.00016364   9.82397f-5\n",
       " 0.13184      0.157631     0.0413947       0.00022581   4.89394f-6\n",
       " 0.125163     0.0857771    0.0115446       0.000237222  0.000115757\n",
       " 0.0893749    0.0392325    0.00276076      1.83621f-5   5.59476f-5\n",
       " 0.0661197    0.0250366    0.00137509      4.55584f-5   6.3979f-6\n",
       " 0.0530846    0.0188713    0.000626971  …  2.38447f-6   2.22846f-6\n",
       " 0.0393069    0.0138702    0.00114741      8.10661f-6   5.13656f-6\n",
       " 0.0304689    0.00776041   3.17716f-5      2.69857f-5   1.82737f-5\n",
       " ⋮                                      ⋱               \n",
       " 0.00171189   0.000383826  3.12191f-5      5.27231f-7   7.98752f-7\n",
       " 0.00173308   0.00045141   3.27378f-5      2.4016f-6    2.48868f-7\n",
       " 0.00151426   0.000332125  1.84171f-5   …  1.37825f-6   6.39828f-8\n",
       " 0.00151514   0.000363515  8.84434f-6      2.70016f-6   7.02546f-7\n",
       " 0.00142845   0.000398767  5.06202f-5      4.61949f-6   3.6213f-7\n",
       " 0.00128169   0.000262514  1.69215f-5      1.96715f-6   1.41417f-8\n",
       " 0.00132785   0.000354189  3.13059f-5      1.43545f-6   5.52234f-7\n",
       " 0.00115213   0.000262301  1.55528f-5   …  2.45245f-7   4.40411f-7\n",
       " 0.00115374   0.000267442  5.02445f-6      7.55329f-7   1.92578f-7\n",
       " 0.00111312   0.000323721  4.8171f-5       4.46989f-7   5.06714f-8\n",
       " 0.000989948  0.000187372  1.07754f-5      1.22282f-6   2.0754f-7\n",
       " 0.00104328   0.000288939  2.97328f-5      2.63411f-7   4.12285f-7"
      ]
     },
     "execution_count": 37,
     "metadata": {},
     "output_type": "execute_result"
    }
   ],
   "source": [
    "collect(dtrn)[3][1]"
   ]
  },
  {
   "cell_type": "code",
   "execution_count": 39,
   "metadata": {
    "scrolled": true
   },
   "outputs": [
    {
     "data": {
      "text/plain": [
       "2.3005495f0"
      ]
     },
     "execution_count": 39,
     "metadata": {},
     "output_type": "execute_result"
    }
   ],
   "source": [
    "lenet(collect(dtrn)[3][1], collect(dtrn)[3][2])"
   ]
  },
  {
   "cell_type": "code",
   "execution_count": null,
   "metadata": {},
   "outputs": [],
   "source": []
  }
 ],
 "metadata": {
  "@webio": {
   "lastCommId": null,
   "lastKernelId": null
  },
  "kernelspec": {
   "display_name": "Julia 1.5.2",
   "language": "julia",
   "name": "julia-1.5"
  },
  "language_info": {
   "file_extension": ".jl",
   "mimetype": "application/julia",
   "name": "julia",
   "version": "1.5.2"
  }
 },
 "nbformat": 4,
 "nbformat_minor": 4
}
