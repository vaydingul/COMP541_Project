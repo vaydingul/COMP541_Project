{
 "cells": [
  {
   "cell_type": "code",
   "execution_count": 1,
   "metadata": {
    "scrolled": true
   },
   "outputs": [
    {
     "name": "stderr",
     "output_type": "stream",
     "text": [
      "\u001b[32m\u001b[1m   Updating\u001b[22m\u001b[39m registry at `C:\\Users\\volkan\\.julia\\registries\\General`\n",
      "\u001b[32m\u001b[1m  Resolving\u001b[22m\u001b[39m package versions...\n",
      "\u001b[32m\u001b[1mNo Changes\u001b[22m\u001b[39m to `C:\\Users\\volkan\\.julia\\environments\\v1.5\\Project.toml`\n",
      "\u001b[32m\u001b[1mNo Changes\u001b[22m\u001b[39m to `C:\\Users\\volkan\\.julia\\environments\\v1.5\\Manifest.toml`\n"
     ]
    }
   ],
   "source": [
    "using Pkg; \n",
    "packages = [\"Knet\", \"AutoGrad\", \"Random\", \"Test\", \"MLDatasets\", \"CUDA\", \"Plots\", \"GR\",\"Statistics\",\n",
    "            \"IterTools\", \"StatsBase\", \"DSP\", \"Images\", \"DelimitedFiles\", \"MultivariateStats\", \"PyPlot\", \"PyCall\"];\n",
    "Pkg.add(packages);"
   ]
  },
  {
   "cell_type": "code",
   "execution_count": 2,
   "metadata": {},
   "outputs": [
    {
     "name": "stderr",
     "output_type": "stream",
     "text": [
      "┌ Info: Precompiling Plots [91a5bcdd-55d7-5caf-9e0b-520d859cae80]\n",
      "└ @ Base loading.jl:1278\n"
     ]
    }
   ],
   "source": [
    "include(\"../src/modules/TUM69.jl\")\n",
    "include(\"../src/modules/Preprocess.jl\")\n",
    "include(\"../src/modules/Network.jl\")\n",
    "include(\"../src/modules/Utils.jl\")\n",
    "\n",
    "## Third party packages\n",
    "using Knet: KnetArray, adam, relu, minibatch\n",
    "using AutoGrad, Knet, CUDA\n",
    "\n",
    "\n",
    "## Handwritten modules\n",
    "using .TUM69: load_accel_data   # Data reading\n",
    "using .Preprocess: process_accel_signal # Preprocessing on the data\n",
    "using .Network: GCN, train_summarize!, accuracy4, nll4, GenericMLP # Construction of custom network\n",
    "using .Utils: notify"
   ]
  },
  {
   "cell_type": "code",
   "execution_count": 3,
   "metadata": {},
   "outputs": [
    {
     "data": {
      "text/plain": [
       "default_gc (generic function with 1 method)"
      ]
     },
     "execution_count": 3,
     "metadata": {},
     "output_type": "execute_result"
    }
   ],
   "source": [
    "AutoGrad.set_gc_function(AutoGrad.default_gc)"
   ]
  },
  {
   "cell_type": "code",
   "execution_count": 4,
   "metadata": {},
   "outputs": [],
   "source": [
    "# Trick from Deniz Hoca to deal with this issue: https://github.com/denizyuret/Knet.jl/issues/524\n",
    "#=\n",
    "using Knet\n",
    "function Knet.KnetArray(x::CuArray{T,N}) where {T,N}\n",
    "    p = Base.bitcast(Knet.Cptr, pointer(x))\n",
    "    k = Knet.KnetPtr(p, sizeof(x), Int(CUDA.device().handle), x)\n",
    "    KnetArray{T,N}(k, size(x))\n",
    "end\n",
    "=#"
   ]
  },
  {
   "cell_type": "code",
   "execution_count": 5,
   "metadata": {},
   "outputs": [
    {
     "data": {
      "text/plain": [
       "a_type (generic function with 1 method)"
      ]
     },
     "execution_count": 5,
     "metadata": {},
     "output_type": "execute_result"
    }
   ],
   "source": [
    "# Array type setting for GPU usage\n",
    "a_type() = (CUDA.functional() ? KnetArray{Float32} : Array{Float32})"
   ]
  },
  {
   "cell_type": "code",
   "execution_count": 6,
   "metadata": {},
   "outputs": [
    {
     "ename": "LoadError",
     "evalue": "CUDA.jl did not successfully initialize, and is not usable.\nIf you did not see any other error message, try again in a new session\nwith the JULIA_DEBUG environment variable set to 'CUDA'.",
     "output_type": "error",
     "traceback": [
      "CUDA.jl did not successfully initialize, and is not usable.\nIf you did not see any other error message, try again in a new session\nwith the JULIA_DEBUG environment variable set to 'CUDA'.",
      "",
      "Stacktrace:",
      " [1] error(::String) at .\\error.jl:33",
      " [2] libcuda() at C:\\Users\\volkan\\.julia\\packages\\CUDA\\YeS8q\\src\\initialization.jl:51",
      " [3] (::CUDA.var\"#690#cache_fptr!#9\")() at C:\\Users\\volkan\\.julia\\packages\\CUDA\\YeS8q\\lib\\utils\\call.jl:31",
      " [4] macro expansion at C:\\Users\\volkan\\.julia\\packages\\CUDA\\YeS8q\\lib\\utils\\call.jl:39 [inlined]",
      " [5] macro expansion at C:\\Users\\volkan\\.julia\\packages\\CUDA\\YeS8q\\lib\\cudadrv\\libcuda.jl:29 [inlined]",
      " [6] macro expansion at C:\\Users\\volkan\\.julia\\packages\\CUDA\\YeS8q\\lib\\cudadrv\\error.jl:102 [inlined]",
      " [7] cuDeviceGet(::Base.RefValue{Int32}, ::Int64) at C:\\Users\\volkan\\.julia\\packages\\CUDA\\YeS8q\\lib\\utils\\call.jl:93",
      " [8] CuDevice(::Int64) at C:\\Users\\volkan\\.julia\\packages\\CUDA\\YeS8q\\lib\\cudadrv\\devices.jl:25",
      " [9] initialize_thread(::Int64) at C:\\Users\\volkan\\.julia\\packages\\CUDA\\YeS8q\\src\\state.jl:121",
      " [10] prepare_cuda_call() at C:\\Users\\volkan\\.julia\\packages\\CUDA\\YeS8q\\src\\state.jl:80",
      " [11] device() at C:\\Users\\volkan\\.julia\\packages\\CUDA\\YeS8q\\src\\state.jl:227",
      " [12] top-level scope at In[6]:3",
      " [13] include_string(::Function, ::Module, ::String, ::String) at .\\loading.jl:1091"
     ]
    }
   ],
   "source": [
    "# CUDA information\n",
    "GC.gc(true)\n",
    "CUDA.device()"
   ]
  },
  {
   "cell_type": "code",
   "execution_count": 22,
   "metadata": {},
   "outputs": [
    {
     "data": {
      "text/plain": [
       "\"./../data/new\""
      ]
     },
     "execution_count": 22,
     "metadata": {},
     "output_type": "execute_result"
    }
   ],
   "source": [
    "path = CUDA.functional() ? \"/userfiles/vaydingul20/data/new\" : \"./../data/new\" # path of the main data\n",
    "DATA_PATH = isdir(path) && path"
   ]
  },
  {
   "cell_type": "code",
   "execution_count": 23,
   "metadata": {},
   "outputs": [
    {
     "name": "stdout",
     "output_type": "stream",
     "text": [
      "Train accel data is being loaded!\n",
      "Test accel data is being loaded!\n",
      " 40.302234 seconds (73.22 M allocations: 2.402 GiB, 1.44% gc time)\n"
     ]
    }
   ],
   "source": [
    "X_train, y_train,\n",
    "X_test, y_test, \n",
    "material_dict = @time load_accel_data(DATA_PATH; mode = \"baseline\");  # Data loading routine"
   ]
  },
  {
   "cell_type": "code",
   "execution_count": 24,
   "metadata": {},
   "outputs": [
    {
     "name": "stdout",
     "output_type": "stream",
     "text": [
      "X_train = 69-element Array{Array{Float32,1},1}\n",
      "y_train = 69-element Array{Int8,1}\n",
      "X_test  = 69-element Array{Array{Float32,1},1}\n",
      "y_test  = 69-element Array{Int8,1}\n",
      "material_dict = Dict{String,Int8} with 69 entries\n"
     ]
    }
   ],
   "source": [
    "println(\"X_train = \", summary(X_train))\n",
    "println(\"y_train = \", summary(y_train))\n",
    "println(\"X_test  = \", summary(X_test))\n",
    "println(\"y_test  = \", summary(y_test))\n",
    "println(\"material_dict = \", summary(material_dict))"
   ]
  },
  {
   "cell_type": "code",
   "execution_count": 25,
   "metadata": {
    "scrolled": true
   },
   "outputs": [
    {
     "name": "stdout",
     "output_type": "stream",
     "text": [
      "  4.315242 seconds (329.85 k allocations: 627.071 MiB, 29.95% gc time)\n",
      "  2.369349 seconds (9.87 k allocations: 396.814 MiB, 2.18% gc time)\n"
     ]
    }
   ],
   "source": [
    "#Preprocessing on the acceleration data\n",
    "@time X_train_modified, y_train_modified = process_accel_signal(X_train, y_train);\n",
    "@time X_test_modified, y_test_modified = process_accel_signal(X_test, y_test);"
   ]
  },
  {
   "cell_type": "code",
   "execution_count": 26,
   "metadata": {
    "scrolled": false
   },
   "outputs": [
    {
     "name": "stdout",
     "output_type": "stream",
     "text": [
      "X_train = 50×300×1×450 Array{Float32,4}\n",
      "y_train = 450-element Array{Int8,1}\n",
      "X_test  = 50×300×1×222 Array{Float32,4}\n",
      "y_test  = 222-element Array{Int8,1}\n",
      "material_dict = Dict{String,Int8} with 69 entries\n"
     ]
    }
   ],
   "source": [
    "println(\"X_train = \", summary(X_train_modified))\n",
    "println(\"y_train = \", summary(y_train_modified))\n",
    "println(\"X_test  = \", summary(X_test_modified))\n",
    "println(\"y_test  = \", summary(y_test_modified))\n",
    "println(\"material_dict = \", summary(material_dict))"
   ]
  },
  {
   "cell_type": "code",
   "execution_count": 42,
   "metadata": {},
   "outputs": [],
   "source": [
    "# Some constants that will be used in the network model\n",
    "MINIBATCH_SIZE = 10\n",
    "INPUT_SIZE = size(X_test_modified)[1:3]\n",
    "OUTPUT_SIZE = size(collect(keys(material_dict)))[1];"
   ]
  },
  {
   "cell_type": "code",
   "execution_count": 43,
   "metadata": {},
   "outputs": [],
   "source": [
    "# Minibatching\n",
    "dtrn = minibatch(X_train_modified, y_train_modified, MINIBATCH_SIZE; xtype = a_type(), shuffle = true)\n",
    "dtst = minibatch(X_test_modified, y_test_modified, MINIBATCH_SIZE; xtype = a_type(), shuffle = true);"
   ]
  },
  {
   "cell_type": "code",
   "execution_count": 44,
   "metadata": {},
   "outputs": [
    {
     "data": {
      "text/plain": [
       "GCN((Main.Network.Conv(P(Array{Float32,4}(25,150,1,1)), P(Array{Float32,4}(1,1,1,1)), Knet.Ops20.relu, 0, (1, 1), (1, 1), (2, 2), false, Array{Float32,N} where N), Main.Network.Dense(P(Array{Float32,2}(10,1064)), P(Array{Float32,1}(10)), Knet.Ops20.relu, 0.0), Main.Network.Dense(P(Array{Float32,2}(69,10)), P(Array{Float32,1}(69)), Knet.Ops20.relu, 0.0)), Knet.Train20.sgd, 0.15, Knet.Ops20.nll, Knet.Ops20.accuracy)"
      ]
     },
     "execution_count": 44,
     "metadata": {},
     "output_type": "execute_result"
    }
   ],
   "source": [
    "model = GCN(INPUT_SIZE, OUTPUT_SIZE, \n",
    "       [(25, 150, 1 , relu, 0.0, (1, 1), (1, 1), (2, 2), false)]; \n",
    "    hidden=[10], optimizer_type = sgd, lr = 0.15, loss_fnc=nll, accuracy_fnc = accuracy, atype=a_type())"
   ]
  },
  {
   "cell_type": "code",
   "execution_count": 45,
   "metadata": {},
   "outputs": [],
   "source": [
    "#=\n",
    "model = GCN(INPUT_SIZE, OUTPUT_SIZE, \n",
    "       [(3, 3, 50 , relu, 0.0, (1, 1), (1, 1), (2, 2), true),\n",
    "        (3, 3, 100, relu, 0.0, (1, 1), (1, 1), (2, 2), false),\n",
    "        (3, 3, 150, relu, 0.0, (1, 1), (1, 1), (2, 2), false),\n",
    "        (3, 3, 200, relu, 0.0, (1, 1), (1, 1), (2, 2), false),\n",
    "        (4, 12,400, relu, 0.5, (1, 0), (1, 1), (1, 1), false),\n",
    "        (1, 1, 250, relu, 0.5, (0, 0), (1, 1), (1, 1), false),\n",
    "        (1, 1, OUTPUT_SIZE , relu, 0.5, (0, 0), (1, 1), (1, 1), false),\n",
    "        ]; \n",
    "    hidden=[10], optimizer_type = adam, lr = 1e-4, loss_fnc=nll, accuracy_fnc = accuracy, atype=a_type())\n",
    "=#"
   ]
  },
  {
   "cell_type": "code",
   "execution_count": 46,
   "metadata": {},
   "outputs": [
    {
     "data": {
      "text/plain": [
       "4.233735f0"
      ]
     },
     "execution_count": 46,
     "metadata": {},
     "output_type": "execute_result"
    }
   ],
   "source": [
    "model(dtst)"
   ]
  },
  {
   "cell_type": "code",
   "execution_count": 47,
   "metadata": {
    "scrolled": true
   },
   "outputs": [
    {
     "name": "stderr",
     "output_type": "stream",
     "text": [
      "┣█▏                  ┫ [5.84%, 263/4500, 11:16/03:12:48, 1.31s/i]  "
     ]
    },
    {
     "ename": "LoadError",
     "evalue": "InterruptException:",
     "output_type": "error",
     "traceback": [
      "InterruptException:",
      "",
      "Stacktrace:",
      " [1] try_yieldto(::typeof(Base.ensure_rescheduled)) at .\\task.jl:656",
      " [2] wait at .\\task.jl:713 [inlined]",
      " [3] uv_write(::Base.PipeEndpoint, ::Ptr{UInt8}, ::UInt64) at .\\stream.jl:933",
      " [4] unsafe_write(::Base.PipeEndpoint, ::Ptr{UInt8}, ::UInt64) at .\\stream.jl:1005",
      " [5] unsafe_write at .\\io.jl:337 [inlined]",
      " [6] write at .\\strings\\io.jl:183 [inlined]",
      " [7] print(::IJulia.IJuliaStdio{Base.PipeEndpoint}, ::String) at .\\strings\\io.jl:185",
      " [8] progressbar(::Knet.Train20.Progress{Knet.Train20.Minimize{IterTools.NCycle{Knet.Train20.Data{Tuple{Array{Float32,N} where N,Array{Int8,N} where N}}}}}, ::Tuple{Float32,Tuple{Int64,Int64}}) at C:\\Users\\volkan\\.julia\\packages\\Knet\\LdQyF\\src\\train20\\progress.jl:117",
      " [9] iterate(::Knet.Train20.Progress{Knet.Train20.Minimize{IterTools.NCycle{Knet.Train20.Data{Tuple{Array{Float32,N} where N,Array{Int8,N} where N}}}}}, ::Tuple{Int64,Int64}) at C:\\Users\\volkan\\.julia\\packages\\Knet\\LdQyF\\src\\train20\\progress.jl:82",
      " [10] iterate(::IterTools.TakeNth{Knet.Train20.Progress{Knet.Train20.Minimize{IterTools.NCycle{Knet.Train20.Data{Tuple{Array{Float32,N} where N,Array{Int8,N} where N}}}}}}, ::Tuple{Int64,Int64}) at C:\\Users\\volkan\\.julia\\packages\\IterTools\\0dYLc\\src\\IterTools.jl:82",
      " [11] iterate at .\\generator.jl:44 [inlined]",
      " [12] iterate(::Base.Iterators.Flatten{Base.Generator{IterTools.TakeNth{Knet.Train20.Progress{Knet.Train20.Minimize{IterTools.NCycle{Knet.Train20.Data{Tuple{Array{Float32,N} where N,Array{Int8,N} where N}}}}}},Main.Network.var\"#22#26\"{GCN,Knet.Train20.Data{Tuple{Array{Float32,N} where N,Array{Int8,N} where N}},Knet.Train20.Data{Tuple{Array{Float32,N} where N,Array{Int8,N} where N}}}}}, ::Tuple{Tuple{Int64,Int64},Tuple{Float32,Float32,Float64,Float64},Int64}) at .\\iterators.jl:1068",
      " [13] _collect(::Type{Float32}, ::Base.Iterators.Flatten{Base.Generator{IterTools.TakeNth{Knet.Train20.Progress{Knet.Train20.Minimize{IterTools.NCycle{Knet.Train20.Data{Tuple{Array{Float32,N} where N,Array{Int8,N} where N}}}}}},Main.Network.var\"#22#26\"{GCN,Knet.Train20.Data{Tuple{Array{Float32,N} where N,Array{Int8,N} where N}},Knet.Train20.Data{Tuple{Array{Float32,N} where N,Array{Int8,N} where N}}}}}, ::Base.SizeUnknown) at .\\array.jl:590",
      " [14] collect(::Type{Float32}, ::Base.Iterators.Flatten{Base.Generator{IterTools.TakeNth{Knet.Train20.Progress{Knet.Train20.Minimize{IterTools.NCycle{Knet.Train20.Data{Tuple{Array{Float32,N} where N,Array{Int8,N} where N}}}}}},Main.Network.var\"#22#26\"{GCN,Knet.Train20.Data{Tuple{Array{Float32,N} where N,Array{Int8,N} where N}},Knet.Train20.Data{Tuple{Array{Float32,N} where N,Array{Int8,N} where N}}}}}) at .\\array.jl:583",
      " [15] train_summarize!(::GCN, ::Knet.Train20.Data{Tuple{Array{Float32,N} where N,Array{Int8,N} where N}}, ::Knet.Train20.Data{Tuple{Array{Float32,N} where N,Array{Int8,N} where N}}; train_type::String, progress_bar::Bool, fig::Bool, info::Bool, epoch::Int64, conv_epoch::Int64, max_conv_cycle::Int64) at C:\\Users\\volkan\\Desktop\\Graduate\\Graduate_Era\\Courses\\COMP_541\\Project\\COMP541_Project\\src\\modules\\Network.jl:472",
      " [16] top-level scope at In[47]:4",
      " [17] include_string(::Function, ::Module, ::String, ::String) at .\\loading.jl:1091"
     ]
    }
   ],
   "source": [
    "# Training routine\n",
    "# Currently, the model is not working due to the issue mentioned in: https://github.com/denizyuret/Knet.jl/issues/624#\n",
    "# As soon as it is solved, I hope the model will be accurately working.\n",
    "res = train_summarize!(model, dtrn, dtst; \n",
    "                       train_type = \"epoch\", progress_bar = true ,fig = true, info = true, \n",
    "                       epoch = 100, conv_epoch = 50, max_conv_cycle = 20)"
   ]
  },
  {
   "cell_type": "code",
   "execution_count": null,
   "metadata": {},
   "outputs": [],
   "source": []
  }
 ],
 "metadata": {
  "@webio": {
   "lastCommId": null,
   "lastKernelId": null
  },
  "kernelspec": {
   "display_name": "Julia 1.5.2",
   "language": "julia",
   "name": "julia-1.5"
  },
  "language_info": {
   "file_extension": ".jl",
   "mimetype": "application/julia",
   "name": "julia",
   "version": "1.5.2"
  }
 },
 "nbformat": 4,
 "nbformat_minor": 4
}
