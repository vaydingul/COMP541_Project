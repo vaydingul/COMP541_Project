{
 "cells": [
  {
   "cell_type": "code",
   "execution_count": null,
   "metadata": {
    "scrolled": true
   },
   "outputs": [],
   "source": [
    "using Pkg; \n",
    "packages = [\"Knet\", \"AutoGrad\", \"Random\", \"Test\", \"MLDatasets\", \"CUDA\", \"Plots\", \"GR\",\"Statistics\",\n",
    "            \"IterTools\", \"StatsBase\", \"DSP\", \"Images\", \"DelimitedFiles\", \"MultivariateStats\", \"PyPlot\", \"PyCall\"];\n",
    "Pkg.add(packages);"
   ]
  },
  {
   "cell_type": "code",
   "execution_count": 1,
   "metadata": {},
   "outputs": [],
   "source": [
    "include(\"../src/modules/TUM69.jl\")\n",
    "include(\"../src/modules/Preprocess.jl\")\n",
    "include(\"../src/modules/Network.jl\")\n",
    "include(\"../src/modules/Utils.jl\")\n",
    "\n",
    "## Third party packages\n",
    "using Knet: KnetArray, adam, relu, minibatch\n",
    "using AutoGrad, Knet, CUDA\n",
    "\n",
    "\n",
    "## Handwritten modules\n",
    "using .TUM69: load_accel_data   # Data reading\n",
    "using .Preprocess: process_accel_signal # Preprocessing on the data\n",
    "using .Network: GCN, train_summarize!, accuracy4, nll4, GenericMLP # Construction of custom network\n",
    "using .Utils: notify"
   ]
  },
  {
   "cell_type": "code",
   "execution_count": 2,
   "metadata": {},
   "outputs": [
    {
     "data": {
      "text/plain": [
       "default_gc (generic function with 1 method)"
      ]
     },
     "execution_count": 2,
     "metadata": {},
     "output_type": "execute_result"
    }
   ],
   "source": [
    "AutoGrad.set_gc_function(AutoGrad.default_gc)"
   ]
  },
  {
   "cell_type": "code",
   "execution_count": 3,
   "metadata": {},
   "outputs": [],
   "source": [
    "# Trick from Deniz Hoca to deal with this issue: https://github.com/denizyuret/Knet.jl/issues/524\n",
    "#=\n",
    "using Knet\n",
    "function Knet.KnetArray(x::CuArray{T,N}) where {T,N}\n",
    "    p = Base.bitcast(Knet.Cptr, pointer(x))\n",
    "    k = Knet.KnetPtr(p, sizeof(x), Int(CUDA.device().handle), x)\n",
    "    KnetArray{T,N}(k, size(x))\n",
    "end\n",
    "=#"
   ]
  },
  {
   "cell_type": "code",
   "execution_count": 4,
   "metadata": {},
   "outputs": [
    {
     "data": {
      "text/plain": [
       "a_type (generic function with 1 method)"
      ]
     },
     "execution_count": 4,
     "metadata": {},
     "output_type": "execute_result"
    }
   ],
   "source": [
    "# Array type setting for GPU usage\n",
    "a_type() = (CUDA.functional() ? KnetArray{Float32} : Array{Float32})"
   ]
  },
  {
   "cell_type": "code",
   "execution_count": 5,
   "metadata": {},
   "outputs": [
    {
     "ename": "LoadError",
     "evalue": "CUDA.jl did not successfully initialize, and is not usable.\nIf you did not see any other error message, try again in a new session\nwith the JULIA_DEBUG environment variable set to 'CUDA'.",
     "output_type": "error",
     "traceback": [
      "CUDA.jl did not successfully initialize, and is not usable.\nIf you did not see any other error message, try again in a new session\nwith the JULIA_DEBUG environment variable set to 'CUDA'.",
      "",
      "Stacktrace:",
      " [1] error(::String) at .\\error.jl:33",
      " [2] libcuda() at C:\\Users\\volkan\\.julia\\packages\\CUDA\\YeS8q\\src\\initialization.jl:51",
      " [3] (::CUDA.var\"#690#cache_fptr!#9\")() at C:\\Users\\volkan\\.julia\\packages\\CUDA\\YeS8q\\lib\\utils\\call.jl:31",
      " [4] macro expansion at C:\\Users\\volkan\\.julia\\packages\\CUDA\\YeS8q\\lib\\utils\\call.jl:39 [inlined]",
      " [5] macro expansion at C:\\Users\\volkan\\.julia\\packages\\CUDA\\YeS8q\\lib\\cudadrv\\libcuda.jl:29 [inlined]",
      " [6] macro expansion at C:\\Users\\volkan\\.julia\\packages\\CUDA\\YeS8q\\lib\\cudadrv\\error.jl:102 [inlined]",
      " [7] cuDeviceGet(::Base.RefValue{Int32}, ::Int64) at C:\\Users\\volkan\\.julia\\packages\\CUDA\\YeS8q\\lib\\utils\\call.jl:93",
      " [8] CuDevice(::Int64) at C:\\Users\\volkan\\.julia\\packages\\CUDA\\YeS8q\\lib\\cudadrv\\devices.jl:25",
      " [9] initialize_thread(::Int64) at C:\\Users\\volkan\\.julia\\packages\\CUDA\\YeS8q\\src\\state.jl:121",
      " [10] prepare_cuda_call() at C:\\Users\\volkan\\.julia\\packages\\CUDA\\YeS8q\\src\\state.jl:80",
      " [11] device() at C:\\Users\\volkan\\.julia\\packages\\CUDA\\YeS8q\\src\\state.jl:227",
      " [12] top-level scope at In[5]:3",
      " [13] include_string(::Function, ::Module, ::String, ::String) at .\\loading.jl:1091"
     ]
    }
   ],
   "source": [
    "# CUDA information\n",
    "GC.gc(true)\n",
    "CUDA.device()"
   ]
  },
  {
   "cell_type": "code",
   "execution_count": 6,
   "metadata": {},
   "outputs": [
    {
     "data": {
      "text/plain": [
       "\"./../data/trial\""
      ]
     },
     "execution_count": 6,
     "metadata": {},
     "output_type": "execute_result"
    }
   ],
   "source": [
    "path = CUDA.functional() ? \"/userfiles/vaydingul20/data/trial\" : \"./../data/trial\" # path of the main data\n",
    "DATA_PATH = isdir(path) && path"
   ]
  },
  {
   "cell_type": "code",
   "execution_count": 7,
   "metadata": {},
   "outputs": [
    {
     "name": "stdout",
     "output_type": "stream",
     "text": [
      "Train accel data is being loaded!\n",
      "Test accel data is being loaded!\n",
      "  2.275172 seconds (4.89 M allocations: 166.861 MiB, 1.90% gc time)\n"
     ]
    }
   ],
   "source": [
    "X_train, y_train,\n",
    "X_test, y_test, \n",
    "material_dict = @time load_accel_data(DATA_PATH; mode = \"baseline\");  # Data loading routine"
   ]
  },
  {
   "cell_type": "code",
   "execution_count": 8,
   "metadata": {},
   "outputs": [
    {
     "name": "stdout",
     "output_type": "stream",
     "text": [
      "X_train = 3-element Array{Array{Float32,1},1}\n",
      "y_train = 3-element Array{Int8,1}\n",
      "X_test  = 3-element Array{Array{Float32,1},1}\n",
      "y_test  = 3-element Array{Int8,1}\n",
      "material_dict = Dict{String,Int8} with 3 entries\n"
     ]
    }
   ],
   "source": [
    "println(\"X_train = \", summary(X_train))\n",
    "println(\"y_train = \", summary(y_train))\n",
    "println(\"X_test  = \", summary(X_test))\n",
    "println(\"y_test  = \", summary(y_test))\n",
    "println(\"material_dict = \", summary(material_dict))"
   ]
  },
  {
   "cell_type": "code",
   "execution_count": 9,
   "metadata": {
    "scrolled": true
   },
   "outputs": [
    {
     "name": "stdout",
     "output_type": "stream",
     "text": [
      "  7.684947 seconds (6.54 M allocations: 351.870 MiB, 3.00% gc time)\n",
      "  0.112722 seconds (346 allocations: 30.347 MiB)\n"
     ]
    }
   ],
   "source": [
    "#Preprocessing on the acceleration data\n",
    "@time X_train_modified, y_train_modified = process_accel_signal(X_train, y_train);\n",
    "@time X_test_modified, y_test_modified = process_accel_signal(X_test, y_test);"
   ]
  },
  {
   "cell_type": "code",
   "execution_count": 10,
   "metadata": {
    "scrolled": true
   },
   "outputs": [
    {
     "name": "stdout",
     "output_type": "stream",
     "text": [
      "X_train = 50×300×1×24 Array{Float32,4}\n",
      "y_train = 24-element Array{Int8,1}\n",
      "X_test  = 50×300×1×24 Array{Float32,4}\n",
      "y_test  = 24-element Array{Int8,1}\n",
      "material_dict = Dict{String,Int8} with 3 entries\n"
     ]
    }
   ],
   "source": [
    "println(\"X_train = \", summary(X_train_modified))\n",
    "println(\"y_train = \", summary(y_train_modified))\n",
    "println(\"X_test  = \", summary(X_test_modified))\n",
    "println(\"y_test  = \", summary(y_test_modified))\n",
    "println(\"material_dict = \", summary(material_dict))"
   ]
  },
  {
   "cell_type": "code",
   "execution_count": 11,
   "metadata": {},
   "outputs": [],
   "source": [
    "# Some constants that will be used in the network model\n",
    "MINIBATCH_SIZE = 2\n",
    "INPUT_SIZE = size(X_test_modified)[1:3]\n",
    "OUTPUT_SIZE = size(collect(keys(material_dict)))[1];"
   ]
  },
  {
   "cell_type": "code",
   "execution_count": 12,
   "metadata": {},
   "outputs": [],
   "source": [
    "# Minibatching\n",
    "dtrn = minibatch(X_train_modified, y_train_modified, MINIBATCH_SIZE; xtype = a_type())\n",
    "dtst = minibatch(X_test_modified, y_test_modified, MINIBATCH_SIZE; xtype = a_type());"
   ]
  },
  {
   "cell_type": "code",
   "execution_count": 22,
   "metadata": {},
   "outputs": [
    {
     "data": {
      "text/plain": [
       "GCN((Main.Network.Conv(P(Array{Float32,4}(3,3,1,50)), P(Array{Float32,4}(1,1,50,1)), Knet.Ops20.relu, 0, (1, 1), (1, 1), (2, 2), true), Main.Network.Conv(P(Array{Float32,4}(3,3,50,100)), P(Array{Float32,4}(1,1,100,1)), Knet.Ops20.relu, 0, (1, 1), (1, 1), (2, 2), false), Main.Network.Conv(P(Array{Float32,4}(3,3,100,150)), P(Array{Float32,4}(1,1,150,1)), Knet.Ops20.relu, 0, (1, 1), (1, 1), (2, 2), false), Main.Network.Conv(P(Array{Float32,4}(3,3,150,200)), P(Array{Float32,4}(1,1,200,1)), Knet.Ops20.relu, 0, (1, 1), (1, 1), (2, 2), false), Main.Network.Conv(P(Array{Float32,4}(4,12,200,400)), P(Array{Float32,4}(1,1,400,1)), Knet.Ops20.relu, 0, (1, 0), (1, 1), (1, 1), false), Main.Network.Conv(P(Array{Float32,4}(1,1,400,250)), P(Array{Float32,4}(1,1,250,1)), Knet.Ops20.relu, 0, (0, 0), (1, 1), (1, 1), false), Main.Network.Conv(P(Array{Float32,4}(1,1,250,3)), P(Array{Float32,4}(1,1,3,1)), Knet.Ops20.relu, 0, (0, 0), (1, 1), (1, 1), false), Main.Network.Dense(P(Array{Float32,2}(69,42)), P(Array{Float32,1}(69)), Knet.Ops20.relu, 0.5), Main.Network.Dense(P(Array{Float32,2}(3,69)), P(Array{Float32,1}(3)), Knet.Ops20.relu, 0.5)), Knet.Train20.adam, 0.0001, Knet.Ops20.nll)"
      ]
     },
     "execution_count": 22,
     "metadata": {},
     "output_type": "execute_result"
    }
   ],
   "source": [
    "model = GCN(INPUT_SIZE, OUTPUT_SIZE, \n",
    "       [(3, 3, 50 , relu, 0.0, (1, 1), (1, 1), (2, 2), true),\n",
    "        (3, 3, 100, relu, 0.0, (1, 1), (1, 1), (2, 2), false),\n",
    "        (3, 3, 150, relu, 0.0, (1, 1), (1, 1), (2, 2), false),\n",
    "        (3, 3, 200, relu, 0.0, (1, 1), (1, 1), (2, 2), false),\n",
    "        (4, 12,400, relu, 0.5, (1, 0), (1, 1), (1, 1), false),\n",
    "        (1, 1, 250, relu, 0.5, (0, 0), (1, 1), (1, 1), false),\n",
    "        (1, 1, OUTPUT_SIZE , relu, 0.5, (0, 0), (1, 1), (1, 1), false),\n",
    "        ]; \n",
    "    hidden=[], optimizer_type = adam, lr = 1e-4, loss_fnc=nll4, atype=a_type())"
   ]
  },
  {
   "cell_type": "code",
   "execution_count": 23,
   "metadata": {},
   "outputs": [
    {
     "data": {
      "text/plain": [
       "1.0981044f0"
      ]
     },
     "execution_count": 23,
     "metadata": {},
     "output_type": "execute_result"
    }
   ],
   "source": [
    "model(dtst)"
   ]
  },
  {
   "cell_type": "code",
   "execution_count": 24,
   "metadata": {},
   "outputs": [
    {
     "ename": "LoadError",
     "evalue": "syntax: incomplete: unterminated multi-line comment #= ... =#",
     "output_type": "error",
     "traceback": [
      "syntax: incomplete: unterminated multi-line comment #= ... =#",
      "",
      "Stacktrace:",
      " [1] top-level scope at In[24]:7",
      " [2] include_string(::Function, ::Module, ::String, ::String) at .\\loading.jl:1091"
     ]
    }
   ],
   "source": [
    "# Generic model construction routine\n",
    "#=\n",
    "hn = GeneriCONV(INPUT_SIZE, 0.0, [(3, 3, 50, true), (3, 3, 100, true), (3, 3, 150, true),\n",
    "            (3, 3, 200, true), (3, 12, 400, false), (1, 1, 250, false), (1, 1, OUTPUT_SIZE, false)];\n",
    "            hidden = [], f = relu, a_type = a_type(), pdrop = 0.5, \n",
    "            optimizer_type = adam, lr = 1e-2);\n",
    "0#"
   ]
  },
  {
   "cell_type": "code",
   "execution_count": 25,
   "metadata": {
    "scrolled": true
   },
   "outputs": [
    {
     "name": "stderr",
     "output_type": "stream",
     "text": [
      "┣▏                   ┫ [0.92%, 11/1200, 00:09/16:38, 3.00i/s] ] "
     ]
    },
    {
     "ename": "LoadError",
     "evalue": "ArgumentError: no valid permutation of dimensions",
     "output_type": "error",
     "traceback": [
      "ArgumentError: no valid permutation of dimensions",
      "",
      "Stacktrace:",
      " [1] permutedims(::Array{Float32,2}, ::NTuple{4,Int64}) at .\\multidimensional.jl:1378",
      " [2] _accuracy4(::Array{Float32,2}, ::Array{Int8,1}; average::Bool) at C:\\Users\\volkan\\Desktop\\Graduate\\Graduate_Era\\Courses\\COMP_541\\Project\\COMP541_Project\\src\\modules\\Network.jl:379",
      " [3] accuracy4(::GCN; data::Knet.Train20.Data{Tuple{Array{Float32,N} where N,Array{Int8,N} where N}}) at C:\\Users\\volkan\\Desktop\\Graduate\\Graduate_Era\\Courses\\COMP_541\\Project\\COMP541_Project\\src\\modules\\Network.jl:409",
      " [4] (::Main.Network.var\"#22#26\"{GCN,Knet.Train20.Data{Tuple{Array{Float32,N} where N,Array{Int8,N} where N}},Knet.Train20.Data{Tuple{Array{Float32,N} where N,Array{Int8,N} where N}}})(::Float32) at .\\none:0",
      " [5] iterate at .\\generator.jl:47 [inlined]",
      " [6] iterate at .\\iterators.jl:1068 [inlined]",
      " [7] iterate at .\\iterators.jl:1064 [inlined]",
      " [8] _collect(::Type{Float32}, ::Base.Iterators.Flatten{Base.Generator{IterTools.TakeNth{Knet.Train20.Progress{Knet.Train20.Minimize{IterTools.NCycle{Knet.Train20.Data{Tuple{Array{Float32,N} where N,Array{Int8,N} where N}}}}}},Main.Network.var\"#22#26\"{GCN,Knet.Train20.Data{Tuple{Array{Float32,N} where N,Array{Int8,N} where N}},Knet.Train20.Data{Tuple{Array{Float32,N} where N,Array{Int8,N} where N}}}}}, ::Base.SizeUnknown) at .\\array.jl:589",
      " [9] collect(::Type{Float32}, ::Base.Iterators.Flatten{Base.Generator{IterTools.TakeNth{Knet.Train20.Progress{Knet.Train20.Minimize{IterTools.NCycle{Knet.Train20.Data{Tuple{Array{Float32,N} where N,Array{Int8,N} where N}}}}}},Main.Network.var\"#22#26\"{GCN,Knet.Train20.Data{Tuple{Array{Float32,N} where N,Array{Int8,N} where N}},Knet.Train20.Data{Tuple{Array{Float32,N} where N,Array{Int8,N} where N}}}}}) at .\\array.jl:583",
      " [10] train_summarize!(::GCN, ::Knet.Train20.Data{Tuple{Array{Float32,N} where N,Array{Int8,N} where N}}, ::Knet.Train20.Data{Tuple{Array{Float32,N} where N,Array{Int8,N} where N}}; train_type::String, progress_bar::Bool, fig::Bool, info::Bool, epoch::Int64, conv_epoch::Int64, max_conv_cycle::Int64) at C:\\Users\\volkan\\Desktop\\Graduate\\Graduate_Era\\Courses\\COMP_541\\Project\\COMP541_Project\\src\\modules\\Network.jl:468",
      " [11] top-level scope at In[25]:4",
      " [12] include_string(::Function, ::Module, ::String, ::String) at .\\loading.jl:1091"
     ]
    }
   ],
   "source": [
    "# Training routine\n",
    "# Currently, the model is not working due to the issue mentioned in: https://github.com/denizyuret/Knet.jl/issues/624#\n",
    "# As soon as it is solved, I hope the model will be accurately working.\n",
    "res = train_summarize!(model, dtrn, dtst; \n",
    "                       train_type = \"epoch\", progress_bar = true ,fig = true, info = true, \n",
    "                       epoch = 100, conv_epoch = 50, max_conv_cycle = 20)"
   ]
  },
  {
   "cell_type": "code",
   "execution_count": null,
   "metadata": {},
   "outputs": [],
   "source": []
  }
 ],
 "metadata": {
  "@webio": {
   "lastCommId": null,
   "lastKernelId": null
  },
  "kernelspec": {
   "display_name": "Julia 1.5.2",
   "language": "julia",
   "name": "julia-1.5"
  },
  "language_info": {
   "file_extension": ".jl",
   "mimetype": "application/julia",
   "name": "julia",
   "version": "1.5.2"
  }
 },
 "nbformat": 4,
 "nbformat_minor": 4
}
