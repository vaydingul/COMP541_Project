{
 "cells": [
  {
   "cell_type": "code",
   "execution_count": 1,
   "metadata": {
    "scrolled": true
   },
   "outputs": [],
   "source": [
    "#=\n",
    "using Pkg; \n",
    "packages = [\"Knet\", \"AutoGrad\", \"Random\", \"Test\", \"MLDatasets\", \"CUDA\", \"Plots\", \"GR\",\"Statistics\",\n",
    "            \"IterTools\", \"StatsBase\", \"DSP\", \"Images\", \"DelimitedFiles\", \"MultivariateStats\", \"PyPlot\", \"PyCall\"];\n",
    "Pkg.add(packages);\n",
    "=#"
   ]
  },
  {
   "cell_type": "code",
   "execution_count": 1,
   "metadata": {},
   "outputs": [],
   "source": [
    "include(\"../src/modules/TUM69.jl\")\n",
    "include(\"../src/modules/Preprocess.jl\")\n",
    "include(\"../src/modules/Network.jl\")\n",
    "include(\"../src/modules/Utils.jl\")\n",
    "\n",
    "## Third party packages\n",
    "using Knet: KnetArray, adam, relu, minibatch\n",
    "using AutoGrad, Knet, CUDA\n",
    "\n",
    "\n",
    "## Handwritten modules\n",
    "using .TUM69: load_accel_data   # Data reading\n",
    "using .Preprocess: process_accel_signal # Preprocessing on the data\n",
    "using .Network: GCN, train_summarize!, accuracy4, nll4, GenericMLP # Construction of custom network\n",
    "using .Utils: notify"
   ]
  },
  {
   "cell_type": "code",
   "execution_count": 2,
   "metadata": {},
   "outputs": [
    {
     "data": {
      "text/plain": [
       "default_gc (generic function with 1 method)"
      ]
     },
     "execution_count": 2,
     "metadata": {},
     "output_type": "execute_result"
    }
   ],
   "source": [
    "AutoGrad.set_gc_function(AutoGrad.default_gc)"
   ]
  },
  {
   "cell_type": "code",
   "execution_count": 3,
   "metadata": {},
   "outputs": [],
   "source": [
    "# Trick from Deniz Hoca to deal with this issue: https://github.com/denizyuret/Knet.jl/issues/524\n",
    "#=\n",
    "using Knet\n",
    "function Knet.KnetArray(x::CuArray{T,N}) where {T,N}\n",
    "    p = Base.bitcast(Knet.Cptr, pointer(x))\n",
    "    k = Knet.KnetPtr(p, sizeof(x), Int(CUDA.device().handle), x)\n",
    "    KnetArray{T,N}(k, size(x))\n",
    "end\n",
    "=#"
   ]
  },
  {
   "cell_type": "code",
   "execution_count": 4,
   "metadata": {},
   "outputs": [
    {
     "data": {
      "text/plain": [
       "a_type (generic function with 1 method)"
      ]
     },
     "execution_count": 4,
     "metadata": {},
     "output_type": "execute_result"
    }
   ],
   "source": [
    "# Array type setting for GPU usage\n",
    "a_type() = (CUDA.functional() ? KnetArray{Float32} : Array{Float32})"
   ]
  },
  {
   "cell_type": "code",
   "execution_count": 5,
   "metadata": {},
   "outputs": [
    {
     "data": {
      "text/plain": [
       "CuDevice(0): Tesla V100-PCIE-32GB"
      ]
     },
     "execution_count": 5,
     "metadata": {},
     "output_type": "execute_result"
    }
   ],
   "source": [
    "# CUDA information\n",
    "GC.gc(true)\n",
    "CUDA.device()"
   ]
  },
  {
   "cell_type": "code",
   "execution_count": 6,
   "metadata": {},
   "outputs": [
    {
     "data": {
      "text/plain": [
       "\"/userfiles/vaydingul20/data/trial\""
      ]
     },
     "execution_count": 6,
     "metadata": {},
     "output_type": "execute_result"
    }
   ],
   "source": [
    "path = CUDA.functional() ? \"/userfiles/vaydingul20/data/trial\" : \"./../data/trial\" # path of the main data\n",
    "DATA_PATH = isdir(path) && path"
   ]
  },
  {
   "cell_type": "code",
   "execution_count": 7,
   "metadata": {},
   "outputs": [
    {
     "name": "stdout",
     "output_type": "stream",
     "text": [
      "Train accel data is being loaded!\n",
      "Test accel data is being loaded!\n",
      "  0.834665 seconds (4.89 M allocations: 167.416 MiB, 4.76% gc time)\n"
     ]
    }
   ],
   "source": [
    "X_train, y_train,\n",
    "X_test, y_test, \n",
    "material_dict = @time load_accel_data(DATA_PATH; mode = \"baseline\");  # Data loading routine"
   ]
  },
  {
   "cell_type": "code",
   "execution_count": 8,
   "metadata": {},
   "outputs": [
    {
     "name": "stdout",
     "output_type": "stream",
     "text": [
      "X_train = 3-element Array{Array{Float32,1},1}\n",
      "y_train = 3-element Array{Int8,1}\n",
      "X_test  = 3-element Array{Array{Float32,1},1}\n",
      "y_test  = 3-element Array{Int8,1}\n",
      "material_dict = Dict{String,Int8} with 3 entries\n"
     ]
    }
   ],
   "source": [
    "println(\"X_train = \", summary(X_train))\n",
    "println(\"y_train = \", summary(y_train))\n",
    "println(\"X_test  = \", summary(X_test))\n",
    "println(\"y_test  = \", summary(y_test))\n",
    "println(\"material_dict = \", summary(material_dict))"
   ]
  },
  {
   "cell_type": "code",
   "execution_count": 9,
   "metadata": {
    "scrolled": true
   },
   "outputs": [
    {
     "name": "stdout",
     "output_type": "stream",
     "text": [
      "  3.488115 seconds (6.87 M allocations: 364.174 MiB, 5.31% gc time)\n",
      "  0.041985 seconds (388 allocations: 30.432 MiB)\n"
     ]
    }
   ],
   "source": [
    "#Preprocessing on the acceleration data\n",
    "@time X_train_modified, y_train_modified = process_accel_signal(X_train, y_train);\n",
    "@time X_test_modified, y_test_modified = process_accel_signal(X_test, y_test);"
   ]
  },
  {
   "cell_type": "code",
   "execution_count": 10,
   "metadata": {
    "scrolled": false
   },
   "outputs": [
    {
     "name": "stdout",
     "output_type": "stream",
     "text": [
      "X_train = 50×300×1×24 Array{Float32,4}\n",
      "y_train = 24-element Array{Int8,1}\n",
      "X_test  = 50×300×1×24 Array{Float32,4}\n",
      "y_test  = 24-element Array{Int8,1}\n",
      "material_dict = Dict{String,Int8} with 3 entries\n"
     ]
    }
   ],
   "source": [
    "println(\"X_train = \", summary(X_train_modified))\n",
    "println(\"y_train = \", summary(y_train_modified))\n",
    "println(\"X_test  = \", summary(X_test_modified))\n",
    "println(\"y_test  = \", summary(y_test_modified))\n",
    "println(\"material_dict = \", summary(material_dict))"
   ]
  },
  {
   "cell_type": "code",
   "execution_count": 11,
   "metadata": {},
   "outputs": [],
   "source": [
    "# Some constants that will be used in the network model\n",
    "MINIBATCH_SIZE = 10\n",
    "INPUT_SIZE = size(X_test_modified)[1:3]\n",
    "OUTPUT_SIZE = size(collect(keys(material_dict)))[1];"
   ]
  },
  {
   "cell_type": "code",
   "execution_count": 12,
   "metadata": {},
   "outputs": [],
   "source": [
    "# Minibatching\n",
    "dtrn = minibatch(X_train_modified, y_train_modified, MINIBATCH_SIZE; xtype = a_type(), shuffle = true)\n",
    "dtst = minibatch(X_test_modified, y_test_modified, MINIBATCH_SIZE; xtype = a_type(), shuffle = true);"
   ]
  },
  {
   "cell_type": "code",
   "execution_count": 13,
   "metadata": {},
   "outputs": [],
   "source": [
    "#=\n",
    "model = GCN(INPUT_SIZE, OUTPUT_SIZE, \n",
    "       [(25, 150, 1 , relu, 0.0, (1, 1), (1, 1), (2, 2), false)]; \n",
    "    hidden=[10], optimizer_type = sgd, lr = 0.15, loss_fnc=nll, accuracy_fnc = accuracy, atype=a_type())\n",
    "=#"
   ]
  },
  {
   "cell_type": "code",
   "execution_count": 14,
   "metadata": {
    "scrolled": true
   },
   "outputs": [
    {
     "data": {
      "text/plain": [
       "GCN((Main.Network.Conv(P(KnetArray{Float32,4}(3,3,1,50)), P(KnetArray{Float32,4}(1,1,50,1)), Knet.Ops20.relu, 0, (1, 1), (1, 1), (2, 2), true, KnetArray{Float32,N} where N), Main.Network.Conv(P(KnetArray{Float32,4}(3,3,50,100)), P(KnetArray{Float32,4}(1,1,100,1)), Knet.Ops20.relu, 0, (1, 1), (1, 1), (2, 2), false, KnetArray{Float32,N} where N), Main.Network.Conv(P(KnetArray{Float32,4}(3,3,100,150)), P(KnetArray{Float32,4}(1,1,150,1)), Knet.Ops20.relu, 0, (1, 1), (1, 1), (2, 2), false, KnetArray{Float32,N} where N), Main.Network.Conv(P(KnetArray{Float32,4}(3,3,150,200)), P(KnetArray{Float32,4}(1,1,200,1)), Knet.Ops20.relu, 0, (1, 1), (1, 1), (2, 2), false, KnetArray{Float32,N} where N), Main.Network.Conv(P(KnetArray{Float32,4}(4,12,200,400)), P(KnetArray{Float32,4}(1,1,400,1)), Knet.Ops20.relu, 0, (1, 0), (1, 1), (1, 1), false, KnetArray{Float32,N} where N), Main.Network.Conv(P(KnetArray{Float32,4}(1,1,400,250)), P(KnetArray{Float32,4}(1,1,250,1)), Knet.Ops20.relu, 0, (0, 0), (1, 1), (1, 1), false, KnetArray{Float32,N} where N), Main.Network.Conv(P(KnetArray{Float32,4}(1,1,250,3)), P(KnetArray{Float32,4}(1,1,3,1)), Knet.Ops20.relu, 0, (0, 0), (1, 1), (1, 1), false, KnetArray{Float32,N} where N)), Knet.Train20.adam, 0.0001, Main.Network.nll4, Main.Network.accuracy4, 0.0, 0.0005)"
      ]
     },
     "execution_count": 14,
     "metadata": {},
     "output_type": "execute_result"
    }
   ],
   "source": [
    "\n",
    "model = GCN(INPUT_SIZE, OUTPUT_SIZE, \n",
    "       [(3, 3, 50 , relu, 0.0, (1, 1), (1, 1), (2, 2), true),\n",
    "        (3, 3, 100, relu, 0.0, (1, 1), (1, 1), (2, 2), false),\n",
    "        (3, 3, 150, relu, 0.0, (1, 1), (1, 1), (2, 2), false),\n",
    "        (3, 3, 200, relu, 0.0, (1, 1), (1, 1), (2, 2), false),\n",
    "        (4, 12,400, relu, 0.5, (1, 0), (1, 1), (1, 1), false),\n",
    "        (1, 1, 250, relu, 0.5, (0, 0), (1, 1), (1, 1), false),\n",
    "        (1, 1, OUTPUT_SIZE , relu, 0.5, (0, 0), (1, 1), (1, 1), false)\n",
    "        ]; \n",
    "    hidden=[], optimizer_type = adam, lr = 1e-4, loss_fnc=nll4, accuracy_fnc = accuracy4, atype=a_type())\n",
    "\n",
    "#=\n",
    "model = GCN(INPUT_SIZE, OUTPUT_SIZE, \n",
    "       [(3, 3, 50 , relu, 0.0, (1, 1), (1, 1), (2, 2), true)\n",
    "        ]; \n",
    "    hidden=[], optimizer_type = adam, lr = 1e-4, loss_fnc=nll4, accuracy_fnc = accuracy4, atype=a_type())\n",
    "=#"
   ]
  },
  {
   "cell_type": "code",
   "execution_count": 15,
   "metadata": {},
   "outputs": [
    {
     "ename": "LoadError",
     "evalue": "MethodError: no method matching NNlib.DenseConvDims(::KnetArray{Float32,4}, ::Array{Float32,4}; stride=(1, 1), padding=(3, 0), dilation=(1, 1), flipkernel=false)\nClosest candidates are:\n  NNlib.DenseConvDims(!Matched::AbstractArray, ::AbstractArray; kwargs...) at /kuacc/users/vaydingul20/.julia/packages/NNlib/2Wxlq/src/dim_helpers/DenseConvDims.jl:48",
     "output_type": "error",
     "traceback": [
      "MethodError: no method matching NNlib.DenseConvDims(::KnetArray{Float32,4}, ::Array{Float32,4}; stride=(1, 1), padding=(3, 0), dilation=(1, 1), flipkernel=false)\nClosest candidates are:\n  NNlib.DenseConvDims(!Matched::AbstractArray, ::AbstractArray; kwargs...) at /kuacc/users/vaydingul20/.julia/packages/NNlib/2Wxlq/src/dim_helpers/DenseConvDims.jl:48",
      "",
      "Stacktrace:",
      " [1] conv4(::Array{Float32,4}, ::KnetArray{Float32,4}; padding::Tuple{Int64,Int64}, stride::Int64, dilation::Int64, mode::Int64, alpha::Int64, group::Int64) at /kuacc/users/vaydingul20/.julia/packages/Knet/LdQyF/src/ops20/conv.jl:39",
      " [2] LR_norm(::KnetArray{Float32,4}; k::Int64, n::Int64, alpha::Float64, beta::Float64, el_type::Type{T} where T) at /scratch/users/vaydingul20/workfolder/COMP541_Project/src/modules/Network.jl:468",
      " [3] LR_norm(::KnetArray{Float32,4}) at /scratch/users/vaydingul20/workfolder/COMP541_Project/src/modules/Network.jl:461",
      " [4] (::Main.Network.Conv)(::KnetArray{Float32,4}) at /scratch/users/vaydingul20/workfolder/COMP541_Project/src/modules/Network.jl:232",
      " [5] top-level scope at In[15]:1",
      " [6] include_string(::Function, ::Module, ::String, ::String) at ./loading.jl:1091"
     ]
    }
   ],
   "source": [
    "model.layers[1](collect(dtrn)[1][1])"
   ]
  },
  {
   "cell_type": "code",
   "execution_count": 23,
   "metadata": {
    "scrolled": false
   },
   "outputs": [
    {
     "name": "stderr",
     "output_type": "stream",
     "text": [
      "┣█▍                  ┫ [7.00%, 14/200, 01:09/16:21, 1.76s/i]  "
     ]
    },
    {
     "ename": "LoadError",
     "evalue": "InterruptException:",
     "output_type": "error",
     "traceback": [
      "InterruptException:",
      "",
      "Stacktrace:",
      " [1] try_yieldto(::typeof(Base.ensure_rescheduled)) at .\\task.jl:656",
      " [2] wait at .\\task.jl:713 [inlined]",
      " [3] wait(::Base.GenericCondition{Base.Threads.SpinLock}) at .\\condition.jl:106",
      " [4] _wait(::Task) at .\\task.jl:238",
      " [5] wait at .\\task.jl:265 [inlined]",
      " [6] threading_run(::Function) at .\\threadingconstructs.jl:34",
      " [7] macro expansion at .\\threadingconstructs.jl:93 [inlined]",
      " [8] conv_im2col!(::Array{Float32,5}, ::Array{Float32,5}, ::Array{Float32,5}, ::NNlib.DenseConvDims{3,(3, 3, 1),100,150,(1, 1, 1),(1, 1, 1, 1, 0, 0),(1, 1, 1),false}; col::Array{Float32,3}, alpha::Float32, beta::Float32) at C:\\Users\\volkan\\.julia\\packages\\NNlib\\2Wxlq\\src\\impl\\conv_im2col.jl:49",
      " [9] conv_im2col! at C:\\Users\\volkan\\.julia\\packages\\NNlib\\2Wxlq\\src\\impl\\conv_im2col.jl:30 [inlined]",
      " [10] #conv!#111 at C:\\Users\\volkan\\.julia\\packages\\NNlib\\2Wxlq\\src\\conv.jl:191 [inlined]",
      " [11] conv!(::Array{Float32,5}, ::Array{Float32,5}, ::Array{Float32,5}, ::NNlib.DenseConvDims{3,(3, 3, 1),100,150,(1, 1, 1),(1, 1, 1, 1, 0, 0),(1, 1, 1),false}) at C:\\Users\\volkan\\.julia\\packages\\NNlib\\2Wxlq\\src\\conv.jl:191",
      " [12] conv!(::Array{Float32,4}, ::Array{Float32,4}, ::Array{Float32,4}, ::NNlib.DenseConvDims{2,(3, 3),100,150,(1, 1),(1, 1, 1, 1),(1, 1),false}; kwargs::Base.Iterators.Pairs{Union{},Union{},Tuple{},NamedTuple{(),Tuple{}}}) at C:\\Users\\volkan\\.julia\\packages\\NNlib\\2Wxlq\\src\\conv.jl:148",
      " [13] conv! at C:\\Users\\volkan\\.julia\\packages\\NNlib\\2Wxlq\\src\\conv.jl:148 [inlined]",
      " [14] conv(::Array{Float32,4}, ::Array{Float32,4}, ::NNlib.DenseConvDims{2,(3, 3),100,150,(1, 1),(1, 1, 1, 1),(1, 1),false}; kwargs::Base.Iterators.Pairs{Union{},Union{},Tuple{},NamedTuple{(),Tuple{}}}) at C:\\Users\\volkan\\.julia\\packages\\NNlib\\2Wxlq\\src\\conv.jl:91",
      " [15] conv(::Array{Float32,4}, ::Array{Float32,4}, ::NNlib.DenseConvDims{2,(3, 3),100,150,(1, 1),(1, 1, 1, 1),(1, 1),false}) at C:\\Users\\volkan\\.julia\\packages\\NNlib\\2Wxlq\\src\\conv.jl:89",
      " [16] conv4(::Array{Float32,4}, ::Array{Float32,4}; padding::Tuple{Int64,Int64}, stride::Tuple{Int64,Int64}, dilation::Int64, mode::Int64, alpha::Int64, group::Int64) at C:\\Users\\volkan\\.julia\\packages\\Knet\\LdQyF\\src\\ops20\\conv.jl:40",
      " [17] forw(::Function, ::Param{Array{Float32,4}}, ::Vararg{Any,N} where N; kwargs::Base.Iterators.Pairs{Symbol,Tuple{Int64,Int64},Tuple{Symbol,Symbol},NamedTuple{(:padding, :stride),Tuple{Tuple{Int64,Int64},Tuple{Int64,Int64}}}}) at C:\\Users\\volkan\\.julia\\packages\\AutoGrad\\VFrAv\\src\\core.jl:66",
      " [18] #conv4#28 at .\\none:0 [inlined]",
      " [19] (::Main.Network.Conv)(::Array{Float32,4}) at C:\\Users\\volkan\\Desktop\\Graduate\\Graduate_Era\\Courses\\COMP_541\\Project\\COMP541_Project\\src\\modules\\Network.jl:236",
      " [20] (::GCN)(::Array{Float32,4}) at C:\\Users\\volkan\\Desktop\\Graduate\\Graduate_Era\\Courses\\COMP_541\\Project\\COMP541_Project\\src\\modules\\Network.jl:305",
      " [21] accuracy4(::GCN; data::Knet.Train20.Data{Tuple{Array{Float32,N} where N,Array{Int8,N} where N}}) at C:\\Users\\volkan\\Desktop\\Graduate\\Graduate_Era\\Courses\\COMP_541\\Project\\COMP541_Project\\src\\modules\\Network.jl:565",
      " [22] (::Main.Network.var\"#27#31\"{GCN,Knet.Train20.Data{Tuple{Array{Float32,N} where N,Array{Int8,N} where N}},Knet.Train20.Data{Tuple{Array{Float32,N} where N,Array{Int8,N} where N}}})(::Float64) at .\\none:0",
      " [23] iterate at .\\generator.jl:47 [inlined]",
      " [24] iterate(::Base.Iterators.Flatten{Base.Generator{IterTools.TakeNth{Knet.Train20.Progress{Knet.Train20.Minimize{IterTools.NCycle{Knet.Train20.Data{Tuple{Array{Float32,N} where N,Array{Int8,N} where N}}}}}},Main.Network.var\"#27#31\"{GCN,Knet.Train20.Data{Tuple{Array{Float32,N} where N,Array{Int8,N} where N}},Knet.Train20.Data{Tuple{Array{Float32,N} where N,Array{Int8,N} where N}}}}}, ::Tuple{Tuple{Int64,Int64},Tuple{Float32,Float32,Float64,Float64},Int64}) at .\\iterators.jl:1068",
      " [25] _collect(::Type{Float32}, ::Base.Iterators.Flatten{Base.Generator{IterTools.TakeNth{Knet.Train20.Progress{Knet.Train20.Minimize{IterTools.NCycle{Knet.Train20.Data{Tuple{Array{Float32,N} where N,Array{Int8,N} where N}}}}}},Main.Network.var\"#27#31\"{GCN,Knet.Train20.Data{Tuple{Array{Float32,N} where N,Array{Int8,N} where N}},Knet.Train20.Data{Tuple{Array{Float32,N} where N,Array{Int8,N} where N}}}}}, ::Base.SizeUnknown) at .\\array.jl:590",
      " [26] collect(::Type{Float32}, ::Base.Iterators.Flatten{Base.Generator{IterTools.TakeNth{Knet.Train20.Progress{Knet.Train20.Minimize{IterTools.NCycle{Knet.Train20.Data{Tuple{Array{Float32,N} where N,Array{Int8,N} where N}}}}}},Main.Network.var\"#27#31\"{GCN,Knet.Train20.Data{Tuple{Array{Float32,N} where N,Array{Int8,N} where N}},Knet.Train20.Data{Tuple{Array{Float32,N} where N,Array{Int8,N} where N}}}}}) at .\\array.jl:583",
      " [27] train_summarize!(::GCN, ::Knet.Train20.Data{Tuple{Array{Float32,N} where N,Array{Int8,N} where N}}, ::Knet.Train20.Data{Tuple{Array{Float32,N} where N,Array{Int8,N} where N}}; train_type::String, progress_bar::Bool, fig::Bool, info::Bool, epoch::Int64, conv_epoch::Int64, max_conv_cycle::Int64) at C:\\Users\\volkan\\Desktop\\Graduate\\Graduate_Era\\Courses\\COMP_541\\Project\\COMP541_Project\\src\\modules\\Network.jl:624",
      " [28] top-level scope at In[23]:4",
      " [29] include_string(::Function, ::Module, ::String, ::String) at .\\loading.jl:1091"
     ]
    }
   ],
   "source": [
    "# Training routine\n",
    "# Currently, the model is not working due to the issue mentioned in: https://github.com/denizyuret/Knet.jl/issues/624#\n",
    "# As soon as it is solved, I hope the model will be accurately working.\n",
    "res = train_summarize!(model, dtrn, dtst; \n",
    "                       train_type = \"epoch\", progress_bar = true ,fig = true, info = true, \n",
    "                       epoch = 100, conv_epoch = 50, max_conv_cycle = 20)"
   ]
  },
  {
   "cell_type": "code",
   "execution_count": 18,
   "metadata": {
    "scrolled": false
   },
   "outputs": [
    {
     "name": "stderr",
     "output_type": "stream",
     "text": [
      "  % Total    % Received % Xferd  Average Speed   Time    Time     Time  Current\n",
      "                                 Dload  Upload   Total   Spent    Left  Speed\n",
      "  0     0    0     0    0     0      0      0 --:--:-- --:--:-- --:--:--     0"
     ]
    },
    {
     "name": "stdout",
     "output_type": "stream",
     "text": [
      "{}"
     ]
    },
    {
     "name": "stderr",
     "output_type": "stream",
     "text": [
      "\r",
      "100     5  100     2  100     3      2      3  0:00:01  0:00:01 --:--:--     2\r",
      "100     5  100     2  100     3      2      3  0:00:01  0:00:01 --:--:--     2\r\n"
     ]
    },
    {
     "data": {
      "text/plain": [
       "Process(`\u001b[4mcurl\u001b[24m \u001b[4mhttps://notify.run/fnx04zT7QmOlLLa6\u001b[24m \u001b[4m-d\u001b[24m \u001b[4mOK!\u001b[24m`, ProcessExited(0))"
      ]
     },
     "execution_count": 18,
     "metadata": {},
     "output_type": "execute_result"
    }
   ],
   "source": [
    "notify(\"OK!\")"
   ]
  },
  {
   "cell_type": "code",
   "execution_count": null,
   "metadata": {},
   "outputs": [],
   "source": []
  }
 ],
 "metadata": {
  "@webio": {
   "lastCommId": null,
   "lastKernelId": null
  },
  "kernelspec": {
   "display_name": "Julia 1.5.2",
   "language": "julia",
   "name": "julia-1.5"
  },
  "language_info": {
   "file_extension": ".jl",
   "mimetype": "application/julia",
   "name": "julia",
   "version": "1.5.2"
  }
 },
 "nbformat": 4,
 "nbformat_minor": 4
}
