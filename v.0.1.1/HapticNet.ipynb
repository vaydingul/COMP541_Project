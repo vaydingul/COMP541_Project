{
 "cells": [
  {
   "cell_type": "code",
   "execution_count": null,
   "metadata": {
    "scrolled": true
   },
   "outputs": [],
   "source": [
    "using Pkg; \n",
    "packages = [\"Knet\", \"AutoGrad\", \"Random\", \"Test\", \"MLDatasets\", \"CUDA\", \"Plots\", \"GR\",\"Statistics\",\n",
    "            \"IterTools\", \"StatsBase\", \"DSP\", \"Images\", \"DelimitedFiles\", \"MultivariateStats\", \"PyPlot\", \"PyCall\"];\n",
    "Pkg.add(packages);"
   ]
  },
  {
   "cell_type": "code",
   "execution_count": 1,
   "metadata": {},
   "outputs": [],
   "source": [
    "include(\"../src/modules/TUM69.jl\")\n",
    "include(\"../src/modules/Preprocess.jl\")\n",
    "include(\"../src/modules/Network.jl\")\n",
    "include(\"../src/modules/Utils.jl\")\n",
    "\n",
    "## Third party packages\n",
    "using Knet: KnetArray, adam, relu, minibatch\n",
    "using AutoGrad, Knet, CUDA\n",
    "\n",
    "\n",
    "## Handwritten modules\n",
    "using .TUM69: load_accel_data   # Data reading\n",
    "using .Preprocess: process_accel_signal # Preprocessing on the data\n",
    "using .Network: GCN, train_summarize!, accuracy4, nll4, GenericMLP # Construction of custom network\n",
    "using .Utils: notify"
   ]
  },
  {
   "cell_type": "code",
   "execution_count": 2,
   "metadata": {},
   "outputs": [
    {
     "data": {
      "text/plain": [
       "default_gc (generic function with 1 method)"
      ]
     },
     "execution_count": 2,
     "metadata": {},
     "output_type": "execute_result"
    }
   ],
   "source": [
    "AutoGrad.set_gc_function(AutoGrad.default_gc)"
   ]
  },
  {
   "cell_type": "code",
   "execution_count": 3,
   "metadata": {},
   "outputs": [],
   "source": [
    "# Trick from Deniz Hoca to deal with this issue: https://github.com/denizyuret/Knet.jl/issues/524\n",
    "#=\n",
    "using Knet\n",
    "function Knet.KnetArray(x::CuArray{T,N}) where {T,N}\n",
    "    p = Base.bitcast(Knet.Cptr, pointer(x))\n",
    "    k = Knet.KnetPtr(p, sizeof(x), Int(CUDA.device().handle), x)\n",
    "    KnetArray{T,N}(k, size(x))\n",
    "end\n",
    "=#"
   ]
  },
  {
   "cell_type": "code",
   "execution_count": 4,
   "metadata": {},
   "outputs": [
    {
     "data": {
      "text/plain": [
       "a_type (generic function with 1 method)"
      ]
     },
     "execution_count": 4,
     "metadata": {},
     "output_type": "execute_result"
    }
   ],
   "source": [
    "# Array type setting for GPU usage\n",
    "a_type() = (CUDA.functional() ? KnetArray{Float32} : Array{Float32})"
   ]
  },
  {
   "cell_type": "code",
   "execution_count": 5,
   "metadata": {},
   "outputs": [
    {
     "data": {
      "text/plain": [
       "CuDevice(0): Tesla T4"
      ]
     },
     "execution_count": 5,
     "metadata": {},
     "output_type": "execute_result"
    }
   ],
   "source": [
    "# CUDA information\n",
    "GC.gc(true)\n",
    "CUDA.device()"
   ]
  },
  {
   "cell_type": "code",
   "execution_count": 6,
   "metadata": {},
   "outputs": [
    {
     "data": {
      "text/plain": [
       "\"/userfiles/vaydingul20/data/new\""
      ]
     },
     "execution_count": 6,
     "metadata": {},
     "output_type": "execute_result"
    }
   ],
   "source": [
    "path = CUDA.functional() ? \"/userfiles/vaydingul20/data/new\" : \"./../data/trial\" # path of the main data\n",
    "DATA_PATH = isdir(path) && path"
   ]
  },
  {
   "cell_type": "code",
   "execution_count": 7,
   "metadata": {},
   "outputs": [
    {
     "name": "stdout",
     "output_type": "stream",
     "text": [
      "Train accel data is being loaded!\n",
      "Test accel data is being loaded!\n",
      " 82.373007 seconds (732.60 M allocations: 24.039 GiB, 2.71% gc time)\n"
     ]
    }
   ],
   "source": [
    "X_train, y_train,\n",
    "X_test, y_test, \n",
    "material_dict = @time load_accel_data(DATA_PATH; mode = \"normal\");  # Data loading routine"
   ]
  },
  {
   "cell_type": "code",
   "execution_count": 8,
   "metadata": {},
   "outputs": [
    {
     "name": "stdout",
     "output_type": "stream",
     "text": [
      "X_train = 690-element Array{Array{Float32,1},1}\n",
      "y_train = 690-element Array{Int8,1}\n",
      "X_test  = 690-element Array{Array{Float32,1},1}\n",
      "y_test  = 690-element Array{Int8,1}\n",
      "material_dict = Dict{String,Int8} with 69 entries\n"
     ]
    }
   ],
   "source": [
    "println(\"X_train = \", summary(X_train))\n",
    "println(\"y_train = \", summary(y_train))\n",
    "println(\"X_test  = \", summary(X_test))\n",
    "println(\"y_test  = \", summary(y_test))\n",
    "println(\"material_dict = \", summary(material_dict))"
   ]
  },
  {
   "cell_type": "code",
   "execution_count": 9,
   "metadata": {
    "scrolled": true
   },
   "outputs": [
    {
     "name": "stdout",
     "output_type": "stream",
     "text": [
      " 10.783185 seconds (6.89 M allocations: 6.301 GiB, 3.60% gc time)\n",
      "  5.160551 seconds (310.55 k allocations: 3.894 GiB, 1.89% gc time)\n"
     ]
    }
   ],
   "source": [
    "#Preprocessing on the acceleration data\n",
    "@time X_train_modified, y_train_modified = process_accel_signal(X_train, y_train);\n",
    "@time X_test_modified, y_test_modified = process_accel_signal(X_test, y_test);"
   ]
  },
  {
   "cell_type": "code",
   "execution_count": 10,
   "metadata": {
    "scrolled": true
   },
   "outputs": [
    {
     "name": "stdout",
     "output_type": "stream",
     "text": [
      "X_train = 50×300×1×4489 Array{Float32,4}\n",
      "y_train = 4489-element Array{Int8,1}\n",
      "X_test  = 50×300×1×2223 Array{Float32,4}\n",
      "y_test  = 2223-element Array{Int8,1}\n",
      "material_dict = Dict{String,Int8} with 69 entries\n"
     ]
    }
   ],
   "source": [
    "println(\"X_train = \", summary(X_train_modified))\n",
    "println(\"y_train = \", summary(y_train_modified))\n",
    "println(\"X_test  = \", summary(X_test_modified))\n",
    "println(\"y_test  = \", summary(y_test_modified))\n",
    "println(\"material_dict = \", summary(material_dict))"
   ]
  },
  {
   "cell_type": "code",
   "execution_count": 11,
   "metadata": {},
   "outputs": [],
   "source": [
    "# Some constants that will be used in the network model\n",
    "MINIBATCH_SIZE = 10\n",
    "INPUT_SIZE = size(X_test_modified)[1:3]\n",
    "OUTPUT_SIZE = size(collect(keys(material_dict)))[1];"
   ]
  },
  {
   "cell_type": "code",
   "execution_count": 12,
   "metadata": {},
   "outputs": [],
   "source": [
    "# Minibatching\n",
    "dtrn = minibatch(X_train_modified, y_train_modified, MINIBATCH_SIZE; xtype = a_type())\n",
    "dtst = minibatch(X_test_modified, y_test_modified, MINIBATCH_SIZE; xtype = a_type());"
   ]
  },
  {
   "cell_type": "code",
   "execution_count": 13,
   "metadata": {},
   "outputs": [
    {
     "data": {
      "text/plain": [
       "GCN((Main.Network.Conv(P(KnetArray{Float32,4}(3,3,1,50)), P(KnetArray{Float32,4}(1,1,50,1)), Knet.Ops20.relu, 0, (1, 1), (1, 1), (2, 2), true, KnetArray{Float32,N} where N), Main.Network.Conv(P(KnetArray{Float32,4}(3,3,50,100)), P(KnetArray{Float32,4}(1,1,100,1)), Knet.Ops20.relu, 0, (1, 1), (1, 1), (2, 2), false, KnetArray{Float32,N} where N), Main.Network.Conv(P(KnetArray{Float32,4}(3,3,100,150)), P(KnetArray{Float32,4}(1,1,150,1)), Knet.Ops20.relu, 0, (1, 1), (1, 1), (2, 2), false, KnetArray{Float32,N} where N), Main.Network.Conv(P(KnetArray{Float32,4}(3,3,150,200)), P(KnetArray{Float32,4}(1,1,200,1)), Knet.Ops20.relu, 0, (1, 1), (1, 1), (2, 2), false, KnetArray{Float32,N} where N), Main.Network.Conv(P(KnetArray{Float32,4}(4,12,200,400)), P(KnetArray{Float32,4}(1,1,400,1)), Knet.Ops20.relu, 0, (1, 0), (1, 1), (1, 1), false, KnetArray{Float32,N} where N), Main.Network.Conv(P(KnetArray{Float32,4}(1,1,400,250)), P(KnetArray{Float32,4}(1,1,250,1)), Knet.Ops20.relu, 0, (0, 0), (1, 1), (1, 1), false, KnetArray{Float32,N} where N), Main.Network.Conv(P(KnetArray{Float32,4}(1,1,250,69)), P(KnetArray{Float32,4}(1,1,69,1)), Knet.Ops20.relu, 0, (0, 0), (1, 1), (1, 1), false, KnetArray{Float32,N} where N), Main.Network.Dense(P(KnetArray{Float32,2}(10,966)), P(KnetArray{Float32,1}(10)), Knet.Ops20.relu, 0.5), Main.Network.Dense(P(KnetArray{Float32,2}(69,10)), P(KnetArray{Float32,1}(69)), Knet.Ops20.relu, 0.5)), Knet.Train20.adam, 0.0001, Knet.Ops20.nll, Knet.Ops20.accuracy)"
      ]
     },
     "execution_count": 13,
     "metadata": {},
     "output_type": "execute_result"
    }
   ],
   "source": [
    "model = GCN(INPUT_SIZE, OUTPUT_SIZE, \n",
    "       [(3, 3, 50 , relu, 0.0, (1, 1), (1, 1), (2, 2), true),\n",
    "        (3, 3, 100, relu, 0.0, (1, 1), (1, 1), (2, 2), false),\n",
    "        (3, 3, 150, relu, 0.0, (1, 1), (1, 1), (2, 2), false),\n",
    "        (3, 3, 200, relu, 0.0, (1, 1), (1, 1), (2, 2), false),\n",
    "        (4, 12,400, relu, 0.5, (1, 0), (1, 1), (1, 1), false),\n",
    "        (1, 1, 250, relu, 0.5, (0, 0), (1, 1), (1, 1), false),\n",
    "        (1, 1, OUTPUT_SIZE , relu, 0.5, (0, 0), (1, 1), (1, 1), false),\n",
    "        ]; \n",
    "    hidden=[10], optimizer_type = adam, lr = 1e-4, loss_fnc=nll, accuracy_fnc = accuracy, atype=a_type())"
   ]
  },
  {
   "cell_type": "code",
   "execution_count": 14,
   "metadata": {},
   "outputs": [
    {
     "data": {
      "text/plain": [
       "4.234109f0"
      ]
     },
     "execution_count": 14,
     "metadata": {},
     "output_type": "execute_result"
    }
   ],
   "source": [
    "model(dtst)"
   ]
  },
  {
   "cell_type": "code",
<<<<<<< Updated upstream
   "execution_count": 15,
=======
   "execution_count": 26,
>>>>>>> Stashed changes
   "metadata": {},
   "outputs": [],
   "source": [
    "# Generic model construction routine\n",
    "#=\n",
    "hn = GeneriCONV(INPUT_SIZE, 0.0, [(3, 3, 50, true), (3, 3, 100, true), (3, 3, 150, true),\n",
    "            (3, 3, 200, true), (3, 12, 400, false), (1, 1, 250, false), (1, 1, OUTPUT_SIZE, false)];\n",
    "            hidden = [], f = relu, a_type = a_type(), pdrop = 0.5, \n",
    "            optimizer_type = adam, lr = 1e-2);\n",
    "=#"
   ]
  },
  {
   "cell_type": "code",
   "execution_count": 16,
   "metadata": {
    "scrolled": true
   },
   "outputs": [
    {
     "name": "stdout",
     "output_type": "stream",
     "text": [
      "\n",
      "Stacktrace:\n",
      " [1] \u001b[1mthrow_api_error\u001b[22m\u001b[1m(\u001b[22m::CUDA.CUDNN.cudnnStatus_t\u001b[1m)\u001b[22m at \u001b[1m/kuacc/users/vaydingul20/.julia/packages/CUDA/YeS8q/lib/cudnn/error.jl:19\u001b[22m\n",
      " [2] \u001b[1mmacro expansion\u001b[22m at \u001b[1m/kuacc/users/vaydingul20/.julia/packages/CUDA/YeS8q/lib/cudnn/error.jl:30\u001b[22m [inlined]\n",
      " [3] \u001b[1mcudnnBatchNormalizationForwardTraining\u001b[22m\u001b[1m(\u001b[22m::Ptr{Nothing}, ::CUDA.CUDNN.cudnnBatchNormMode_t, ::Base.RefValue{Float32}, ::Base.RefValue{Float32}, ::Knet.Ops20_gpu.TD, ::KnetArray{Float32,4}, ::Knet.Ops20_gpu.TD, ::KnetArray{Float32,4}, ::Knet.Ops20_gpu.TD, ::KnetArray{Float32,4}, ::KnetArray{Float32,4}, ::Float32, ::KnetArray{Float32,4}, ::KnetArray{Float32,4}, ::Float64, ::KnetArray{Float32,4}, ::KnetArray{Float32,4}\u001b[1m)\u001b[22m at \u001b[1m/kuacc/users/vaydingul20/.julia/packages/CUDA/YeS8q/lib/utils/call.jl:93\u001b[22m\n",
      " [4] \u001b[1m_batchnorm4\u001b[22m\u001b[1m(\u001b[22m::Type{T} where T, ::KnetArray{Float32,4}, ::KnetArray{Float32,4}, ::KnetArray{Float32,4}; training::Bool, cache::Knet.Ops20.BNCache, moments::Knet.Ops20.BNMoments, eps::Float64, alpha::Int64, beta::Int64, handle::Ptr{Nothing}, cache_verbose::Bool, o::Base.Iterators.Pairs{Union{},Union{},Tuple{},NamedTuple{(),Tuple{}}}\u001b[1m)\u001b[22m at \u001b[1m/kuacc/users/vaydingul20/.julia/packages/Knet/LdQyF/src/ops20_gpu/batchnorm.jl:55\u001b[22m\n",
      " [5] \u001b[1m#batchnorm4#1\u001b[22m at \u001b[1m/kuacc/users/vaydingul20/.julia/packages/Knet/LdQyF/src/ops20_gpu/batchnorm.jl:11\u001b[22m [inlined]\n",
      " [6] \u001b[1mforw\u001b[22m\u001b[1m(\u001b[22m::Function, ::KnetArray{Float32,4}, ::Vararg{Any,N} where N; kwargs::Base.Iterators.Pairs{Symbol,Any,Tuple{Symbol,Symbol,Symbol},NamedTuple{(:moments, :training, :cache),Tuple{Knet.Ops20.BNMoments,Bool,Knet.Ops20.BNCache}}}\u001b[1m)\u001b[22m at \u001b[1m/kuacc/users/vaydingul20/.julia/packages/AutoGrad/VFrAv/src/core.jl:66\u001b[22m\n",
      " [7] \u001b[1m#batchnorm4#207\u001b[22m at \u001b[1m./none:0\u001b[22m [inlined]\n",
      " [8] \u001b[1mbatchnorm\u001b[22m\u001b[1m(\u001b[22m::AutoGrad.Result{KnetArray{Float32,4}}, ::Knet.Ops20.BNMoments, ::KnetArray{Float32,1}; training::Bool, o::Base.Iterators.Pairs{Union{},Union{},Tuple{},NamedTuple{(),Tuple{}}}\u001b[1m)\u001b[22m at \u001b[1m/kuacc/users/vaydingul20/.julia/packages/Knet/LdQyF/src/ops20/batchnorm.jl:70\u001b[22m\n",
      " [9] \u001b[1mbatchnorm\u001b[22m\u001b[1m(\u001b[22m::AutoGrad.Result{KnetArray{Float32,4}}, ::Knet.Ops20.BNMoments, ::KnetArray{Float32,1}\u001b[1m)\u001b[22m at \u001b[1m/kuacc/users/vaydingul20/.julia/packages/Knet/LdQyF/src/ops20/batchnorm.jl:57\u001b[22m\n",
      " [10] \u001b[1m(::Main.Network.Conv)\u001b[22m\u001b[1m(\u001b[22m::KnetArray{Float32,4}\u001b[1m)\u001b[22m at \u001b[1m/scratch/users/vaydingul20/workfolder/COMP541_Project/src/modules/Network.jl:231\u001b[22m\n",
      " [11] \u001b[1m(::GCN)\u001b[22m\u001b[1m(\u001b[22m::KnetArray{Float32,4}\u001b[1m)\u001b[22m at \u001b[1m/scratch/users/vaydingul20/workfolder/COMP541_Project/src/modules/Network.jl:301\u001b[22m\n",
      " [12] \u001b[1m(::GCN)\u001b[22m\u001b[1m(\u001b[22m::KnetArray{Float32,4}, ::Array{Int8,1}\u001b[1m)\u001b[22m at \u001b[1m/scratch/users/vaydingul20/workfolder/COMP541_Project/src/modules/Network.jl:311\u001b[22m\n",
      " [13] \u001b[1m(::Knet.Train20.var\"#27#28\"{Knet.Train20.Minimize{IterTools.NCycle{Knet.Train20.Data{Tuple{KnetArray{Float32,N} where N,Array{Int8,N} where N}}}},Tuple{KnetArray{Float32,4},Array{Int8,1}}})\u001b[22m\u001b[1m(\u001b[22m\u001b[1m)\u001b[22m at \u001b[1m/kuacc/users/vaydingul20/.julia/packages/AutoGrad/VFrAv/src/core.jl:205\u001b[22m\n",
      " [14] \u001b[1mdifferentiate\u001b[22m\u001b[1m(\u001b[22m::Function; o::Base.Iterators.Pairs{Union{},Union{},Tuple{},NamedTuple{(),Tuple{}}}\u001b[1m)\u001b[22m at \u001b[1m/kuacc/users/vaydingul20/.julia/packages/AutoGrad/VFrAv/src/core.jl:144\u001b[22m\n",
      " [15] \u001b[1mdifferentiate\u001b[22m at \u001b[1m/kuacc/users/vaydingul20/.julia/packages/AutoGrad/VFrAv/src/core.jl:135\u001b[22m [inlined]\n",
      " [16] \u001b[1miterate\u001b[22m at \u001b[1m/kuacc/users/vaydingul20/.julia/packages/Knet/LdQyF/src/train20/train.jl:26\u001b[22m [inlined]\n",
      " [17] \u001b[1miterate\u001b[22m\u001b[1m(\u001b[22m::Knet.Train20.Progress{Knet.Train20.Minimize{IterTools.NCycle{Knet.Train20.Data{Tuple{KnetArray{Float32,N} where N,Array{Int8,N} where N}}}}}\u001b[1m)\u001b[22m at \u001b[1m/kuacc/users/vaydingul20/.julia/packages/Knet/LdQyF/src/train20/progress.jl:73\u001b[22m\n",
      " [18] \u001b[1miterate\u001b[22m at \u001b[1m/kuacc/users/vaydingul20/.julia/packages/IterTools/0dYLc/src/IterTools.jl:82\u001b[22m [inlined]\n",
      " [19] \u001b[1miterate\u001b[22m at \u001b[1m./generator.jl:44\u001b[22m [inlined]\n",
      " [20] \u001b[1miterate\u001b[22m at \u001b[1m./iterators.jl:1068\u001b[22m [inlined]\n",
      " [21] \u001b[1miterate\u001b[22m at \u001b[1m./iterators.jl:1064\u001b[22m [inlined]\n",
      " [22] \u001b[1m_collect\u001b[22m\u001b[1m(\u001b[22m::Type{Float32}, ::Base.Iterators.Flatten{Base.Generator{IterTools.TakeNth{Knet.Train20.Progress{Knet.Train20.Minimize{IterTools.NCycle{Knet.Train20.Data{Tuple{KnetArray{Float32,N} where N,Array{Int8,N} where N}}}}}},Main.Network.var\"#22#26\"{GCN,Knet.Train20.Data{Tuple{KnetArray{Float32,N} where N,Array{Int8,N} where N}},Knet.Train20.Data{Tuple{KnetArray{Float32,N} where N,Array{Int8,N} where N}}}}}, ::Base.SizeUnknown\u001b[1m)\u001b[22m at \u001b[1m./array.jl:589\u001b[22m\n",
      " [23] \u001b[1mcollect\u001b[22m\u001b[1m(\u001b[22m::Type{Float32}, ::Base.Iterators.Flatten{Base.Generator{IterTools.TakeNth{Knet.Train20.Progress{Knet.Train20.Minimize{IterTools.NCycle{Knet.Train20.Data{Tuple{KnetArray{Float32,N} where N,Array{Int8,N} where N}}}}}},Main.Network.var\"#22#26\"{GCN,Knet.Train20.Data{Tuple{KnetArray{Float32,N} where N,Array{Int8,N} where N}},Knet.Train20.Data{Tuple{KnetArray{Float32,N} where N,Array{Int8,N} where N}}}}}\u001b[1m)\u001b[22m at \u001b[1m./array.jl:583\u001b[22m\n",
      " [24] \u001b[1mtrain_summarize!\u001b[22m\u001b[1m(\u001b[22m::GCN, ::Knet.Train20.Data{Tuple{KnetArray{Float32,N} where N,Array{Int8,N} where N}}, ::Knet.Train20.Data{Tuple{KnetArray{Float32,N} where N,Array{Int8,N} where N}}; train_type::String, progress_bar::Bool, fig::Bool, info::Bool, epoch::Int64, conv_epoch::Int64, max_conv_cycle::Int64\u001b[1m)\u001b[22m at \u001b[1m/scratch/users/vaydingul20/workfolder/COMP541_Project/src/modules/Network.jl:471\u001b[22m\n",
      " [25] top-level scope at \u001b[1mIn[16]:4\u001b[22m\n",
      " [26] \u001b[1minclude_string\u001b[22m\u001b[1m(\u001b[22m::Function, ::Module, ::String, ::String\u001b[1m)\u001b[22m at \u001b[1m./loading.jl:1091\u001b[22m\n",
      " [27] \u001b[1msoftscope_include_string\u001b[22m\u001b[1m(\u001b[22m::Module, ::String, ::String\u001b[1m)\u001b[22m at \u001b[1m/kuacc/users/vaydingul20/.julia/packages/SoftGlobalScope/u4UzH/src/SoftGlobalScope.jl:65\u001b[22m\n",
      " [28] \u001b[1mexecute_request\u001b[22m\u001b[1m(\u001b[22m::ZMQ.Socket, ::IJulia.Msg\u001b[1m)\u001b[22m at \u001b[1m/kuacc/users/vaydingul20/.julia/packages/IJulia/IDNmS/src/execute_request.jl:67\u001b[22m\n",
      " [29] \u001b[1m#invokelatest#1\u001b[22m at \u001b[1m./essentials.jl:710\u001b[22m [inlined]\n",
      " [30] \u001b[1minvokelatest\u001b[22m at \u001b[1m./essentials.jl:709\u001b[22m [inlined]\n",
      " [31] \u001b[1meventloop\u001b[22m\u001b[1m(\u001b[22m::ZMQ.Socket\u001b[1m)\u001b[22m at \u001b[1m/kuacc/users/vaydingul20/.julia/packages/IJulia/IDNmS/src/eventloop.jl:8\u001b[22m\n",
      " [32] \u001b[1m(::IJulia.var\"#15#18\")\u001b[22m\u001b[1m(\u001b[22m\u001b[1m)\u001b[22m at \u001b[1m./task.jl:356\u001b[22m\n"
     ]
    },
    {
     "ename": "LoadError",
     "evalue": "CUDNNError: CUDNN_STATUS_EXECUTION_FAILED (code 8)",
     "output_type": "error",
     "traceback": [
      "CUDNNError: CUDNN_STATUS_EXECUTION_FAILED (code 8)",
      "",
      "Stacktrace:",
      " [1] differentiate(::Function; o::Base.Iterators.Pairs{Union{},Union{},Tuple{},NamedTuple{(),Tuple{}}}) at /kuacc/users/vaydingul20/.julia/packages/AutoGrad/VFrAv/src/core.jl:148",
      " [2] differentiate at /kuacc/users/vaydingul20/.julia/packages/AutoGrad/VFrAv/src/core.jl:135 [inlined]",
      " [3] iterate at /kuacc/users/vaydingul20/.julia/packages/Knet/LdQyF/src/train20/train.jl:26 [inlined]",
      " [4] iterate(::Knet.Train20.Progress{Knet.Train20.Minimize{IterTools.NCycle{Knet.Train20.Data{Tuple{KnetArray{Float32,N} where N,Array{Int8,N} where N}}}}}) at /kuacc/users/vaydingul20/.julia/packages/Knet/LdQyF/src/train20/progress.jl:73",
      " [5] iterate at /kuacc/users/vaydingul20/.julia/packages/IterTools/0dYLc/src/IterTools.jl:82 [inlined]",
      " [6] iterate at ./generator.jl:44 [inlined]",
      " [7] iterate at ./iterators.jl:1068 [inlined]",
      " [8] iterate at ./iterators.jl:1064 [inlined]",
      " [9] _collect(::Type{Float32}, ::Base.Iterators.Flatten{Base.Generator{IterTools.TakeNth{Knet.Train20.Progress{Knet.Train20.Minimize{IterTools.NCycle{Knet.Train20.Data{Tuple{KnetArray{Float32,N} where N,Array{Int8,N} where N}}}}}},Main.Network.var\"#22#26\"{GCN,Knet.Train20.Data{Tuple{KnetArray{Float32,N} where N,Array{Int8,N} where N}},Knet.Train20.Data{Tuple{KnetArray{Float32,N} where N,Array{Int8,N} where N}}}}}, ::Base.SizeUnknown) at ./array.jl:589",
      " [10] collect(::Type{Float32}, ::Base.Iterators.Flatten{Base.Generator{IterTools.TakeNth{Knet.Train20.Progress{Knet.Train20.Minimize{IterTools.NCycle{Knet.Train20.Data{Tuple{KnetArray{Float32,N} where N,Array{Int8,N} where N}}}}}},Main.Network.var\"#22#26\"{GCN,Knet.Train20.Data{Tuple{KnetArray{Float32,N} where N,Array{Int8,N} where N}},Knet.Train20.Data{Tuple{KnetArray{Float32,N} where N,Array{Int8,N} where N}}}}}) at ./array.jl:583",
      " [11] train_summarize!(::GCN, ::Knet.Train20.Data{Tuple{KnetArray{Float32,N} where N,Array{Int8,N} where N}}, ::Knet.Train20.Data{Tuple{KnetArray{Float32,N} where N,Array{Int8,N} where N}}; train_type::String, progress_bar::Bool, fig::Bool, info::Bool, epoch::Int64, conv_epoch::Int64, max_conv_cycle::Int64) at /scratch/users/vaydingul20/workfolder/COMP541_Project/src/modules/Network.jl:471",
      " [12] top-level scope at In[16]:4",
      " [13] include_string(::Function, ::Module, ::String, ::String) at ./loading.jl:1091"
     ]
    }
   ],
   "source": [
    "# Training routine\n",
    "# Currently, the model is not working due to the issue mentioned in: https://github.com/denizyuret/Knet.jl/issues/624#\n",
    "# As soon as it is solved, I hope the model will be accurately working.\n",
    "res = train_summarize!(model, dtrn, dtst; \n",
    "                       train_type = \"epoch\", progress_bar = true ,fig = true, info = true, \n",
    "                       epoch = 100, conv_epoch = 50, max_conv_cycle = 20)"
   ]
  },
  {
   "cell_type": "code",
   "execution_count": null,
   "metadata": {},
   "outputs": [],
   "source": []
  }
 ],
 "metadata": {
  "@webio": {
   "lastCommId": null,
   "lastKernelId": null
  },
  "kernelspec": {
   "display_name": "Julia 1.5.2",
   "language": "julia",
   "name": "julia-1.5"
  },
  "language_info": {
   "file_extension": ".jl",
   "mimetype": "application/julia",
   "name": "julia",
   "version": "1.5.2"
  }
 },
 "nbformat": 4,
 "nbformat_minor": 4
}
